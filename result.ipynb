{
 "cells": [
  {
   "cell_type": "markdown",
   "metadata": {},
   "source": [
    "# Tools and packages   \n",
    "\n",
    "**Pyhton 3.10.13**   \n",
    "**pandas v1.3.5**   \n",
    "**numpy v1.21.5**   \n",
    "**statistics**   \n",
    "**scipy v1.7.3**   \n",
    "**scikit-learn v.0.22.1**   \n",
    "**statsmodels v.0.13.5**   \n",
    "**matplotlib v3.5.3**   \n",
    "**seaborn v0.12.2**   \n",
    "**plotly v5.17.0**   \n",
    "**biopython v1.78**    \n",
    "   \n",
    "\n",
    "# Resources and References\n",
    "1. [NCBI](https://www.ncbi.nlm.nih.gov/)    \n",
    "2. [cBioPortal](http://www.cbioportal.org/)   \n",
    "3. Cancer Genome Atlas Network. Genomic Classification of Cutaneous Melanoma. Cell. 2015 Jun 18;161(7):1681-96. doi: 10.1016/j.cell.2015.05.044. PMID: 26091043; PMCID: [PMC4580370.](https://www.ncbi.nlm.nih.gov/pmc/articles/PMC4580370/)    \n",
    "4. Gene Expression Profiling–Based Identification of Molecular Subtypes in Stage IV Melanomas with Different Clinical Outcome. Clin Cancer Res (2010) 16 (13): 3356–3367. [doi:/10.1158/1078-0432.CCR-09-2509](https://aacrjournals.org/clincancerres/article/16/13/3356/11021/XSLT_Related_Article_Replace_Href)   \n",
    "5. Piccolo SR, Mecham A, Golightly NP, Johnson JL, Miller DB. The ability to classify patients based on gene-expression data varies by algorithm and performance metric. PLoS Comput Biol. 2022 Mar 11;18(3):e1009926. doi: 10.1371/journal.pcbi.1009926. PMID: 35275931; [PMCID: PMC8942277.](https://www.ncbi.nlm.nih.gov/pmc/articles/PMC8942277/)\n",
    "   \n",
    "     \n",
    "# Imports\n"
   ]
  },
  {
   "cell_type": "code",
   "execution_count": 2,
   "metadata": {
    "tags": []
   },
   "outputs": [],
   "source": [
    "import pandas as pd\n",
    "import numpy as np\n",
    "import os\n",
    "\n",
    "from scipy.stats import median_abs_deviation\n",
    "from scipy.spatial.distance import pdist\n",
    "from scipy.stats import mannwhitneyu\n",
    "from scipy.cluster import hierarchy\n",
    "from scipy.stats import pearsonr \n",
    "from scipy.spatial import distance\n",
    "from statsmodels.stats.multitest import multipletests\n",
    "\n",
    "from sklearn.cluster import AgglomerativeClustering\n",
    "from sklearn.linear_model import LogisticRegression\n",
    "from sklearn import metrics\n",
    "from sklearn.preprocessing import LabelBinarizer\n",
    "from sklearn.metrics import RocCurveDisplay\n",
    "\n",
    "import matplotlib.pyplot as plt\n",
    "import plotly.graph_objs as go\n",
    "import kaplanmeier as km\n",
    "\n",
    "\n",
    "from Bio import Entrez\n",
    "Entrez.email = \"an.eudokimova@yandex.ru\""
   ]
  },
  {
   "cell_type": "markdown",
   "metadata": {},
   "source": [
    "# Some technical functions and settings"
   ]
  },
  {
   "cell_type": "code",
   "execution_count": 13,
   "metadata": {},
   "outputs": [],
   "source": [
    "# set working directory\n",
    "# here there are all input data: clustering_329.xlsx - clustered 329 samples from the first article\n",
    "# and folder skcm_tcga - full data on a cohort of melanoma patients\n",
    "# all results will be saved here\n",
    "os.chdir(\"D:\\\\BostonGene\\\\TEST\\\\\")\n",
    "\n",
    "# display pandas DF\n",
    "pd.set_option(\"display.max_rows\", 5)\n",
    "\n",
    "# display long tables\n",
    "def table(df, columnwidth, title_text):\n",
    "    fig = go.Figure(data=[go.Table(\n",
    "    columnwidth = columnwidth,\n",
    "    header=dict(values=list(df.columns),\n",
    "                align='left'),\n",
    "    cells=dict(values=[df[i] for i in df.columns],           \n",
    "                align='left'))\n",
    "    ])\n",
    "    fig.update_layout(\n",
    "    height=800,\n",
    "    showlegend=False,\n",
    "    title_text=title_text)\n",
    "    return fig"
   ]
  },
  {
   "cell_type": "markdown",
   "metadata": {},
   "source": [
    "# Load and prepare data"
   ]
  },
  {
   "cell_type": "code",
   "execution_count": 113,
   "metadata": {},
   "outputs": [
    {
     "data": {
      "text/html": [
       "<div>\n",
       "<style scoped>\n",
       "    .dataframe tbody tr th:only-of-type {\n",
       "        vertical-align: middle;\n",
       "    }\n",
       "\n",
       "    .dataframe tbody tr th {\n",
       "        vertical-align: top;\n",
       "    }\n",
       "\n",
       "    .dataframe thead th {\n",
       "        text-align: right;\n",
       "    }\n",
       "</style>\n",
       "<table border=\"1\" class=\"dataframe\">\n",
       "  <thead>\n",
       "    <tr style=\"text-align: right;\">\n",
       "      <th></th>\n",
       "      <th>Name</th>\n",
       "      <th>RNASEQ-CLUSTER_CONSENHIER</th>\n",
       "    </tr>\n",
       "  </thead>\n",
       "  <tbody>\n",
       "    <tr>\n",
       "      <th>0</th>\n",
       "      <td>TCGA-BF-A1PU-01</td>\n",
       "      <td>keratin</td>\n",
       "    </tr>\n",
       "    <tr>\n",
       "      <th>1</th>\n",
       "      <td>TCGA-BF-A1PV-01</td>\n",
       "      <td>keratin</td>\n",
       "    </tr>\n",
       "    <tr>\n",
       "      <th>...</th>\n",
       "      <td>...</td>\n",
       "      <td>...</td>\n",
       "    </tr>\n",
       "    <tr>\n",
       "      <th>327</th>\n",
       "      <td>TCGA-HR-A5NC-01</td>\n",
       "      <td>keratin</td>\n",
       "    </tr>\n",
       "    <tr>\n",
       "      <th>328</th>\n",
       "      <td>TCGA-IH-A3EA-01</td>\n",
       "      <td>keratin</td>\n",
       "    </tr>\n",
       "  </tbody>\n",
       "</table>\n",
       "<p>329 rows × 2 columns</p>\n",
       "</div>"
      ],
      "text/plain": [
       "                Name RNASEQ-CLUSTER_CONSENHIER\n",
       "0    TCGA-BF-A1PU-01                   keratin\n",
       "1    TCGA-BF-A1PV-01                   keratin\n",
       "..               ...                       ...\n",
       "327  TCGA-HR-A5NC-01                   keratin\n",
       "328  TCGA-IH-A3EA-01                   keratin\n",
       "\n",
       "[329 rows x 2 columns]"
      ]
     },
     "execution_count": 113,
     "metadata": {},
     "output_type": "execute_result"
    }
   ],
   "source": [
    "# 329 described in the first article ans clustered samples\n",
    "clustering_329 = pd.read_excel('clustering_329.xlsx')\n",
    "clustering_329 = clustering_329.loc[clustering_329['RNASEQ-CLUSTER_CONSENHIER'] != '-'].reset_index().drop('index', axis=1)\n",
    "clustering_329"
   ]
  },
  {
   "cell_type": "code",
   "execution_count": 114,
   "metadata": {},
   "outputs": [
    {
     "data": {
      "text/html": [
       "<div>\n",
       "<style scoped>\n",
       "    .dataframe tbody tr th:only-of-type {\n",
       "        vertical-align: middle;\n",
       "    }\n",
       "\n",
       "    .dataframe tbody tr th {\n",
       "        vertical-align: top;\n",
       "    }\n",
       "\n",
       "    .dataframe thead th {\n",
       "        text-align: right;\n",
       "    }\n",
       "</style>\n",
       "<table border=\"1\" class=\"dataframe\">\n",
       "  <thead>\n",
       "    <tr style=\"text-align: right;\">\n",
       "      <th></th>\n",
       "      <th>Hugo_Symbol</th>\n",
       "      <th>Entrez_Gene_Id</th>\n",
       "      <th>TCGA-3N-A9WB-06</th>\n",
       "      <th>TCGA-3N-A9WC-06</th>\n",
       "      <th>TCGA-3N-A9WD-06</th>\n",
       "      <th>TCGA-BF-A1PU-01</th>\n",
       "      <th>TCGA-BF-A1PV-01</th>\n",
       "      <th>TCGA-BF-A1PX-01</th>\n",
       "      <th>TCGA-BF-A1PZ-01</th>\n",
       "      <th>TCGA-BF-A1Q0-01</th>\n",
       "      <th>...</th>\n",
       "      <th>TCGA-XV-AB01-06</th>\n",
       "      <th>TCGA-YD-A89C-06</th>\n",
       "      <th>TCGA-YD-A9TA-06</th>\n",
       "      <th>TCGA-YD-A9TB-06</th>\n",
       "      <th>TCGA-YG-AA3N-01</th>\n",
       "      <th>TCGA-YG-AA3O-06</th>\n",
       "      <th>TCGA-YG-AA3P-06</th>\n",
       "      <th>TCGA-Z2-A8RT-06</th>\n",
       "      <th>TCGA-Z2-AA3S-06</th>\n",
       "      <th>TCGA-Z2-AA3V-06</th>\n",
       "    </tr>\n",
       "  </thead>\n",
       "  <tbody>\n",
       "    <tr>\n",
       "      <th>0</th>\n",
       "      <td>LOC100130426</td>\n",
       "      <td>100130426</td>\n",
       "      <td>-4.7294</td>\n",
       "      <td>-4.7294</td>\n",
       "      <td>-4.7294</td>\n",
       "      <td>-4.7294</td>\n",
       "      <td>-4.7294</td>\n",
       "      <td>-4.7294</td>\n",
       "      <td>-4.7294</td>\n",
       "      <td>-4.7294</td>\n",
       "      <td>...</td>\n",
       "      <td>-4.7294</td>\n",
       "      <td>-4.7294</td>\n",
       "      <td>-4.7294</td>\n",
       "      <td>-4.7294</td>\n",
       "      <td>1.6457</td>\n",
       "      <td>-4.7294</td>\n",
       "      <td>-4.7294</td>\n",
       "      <td>-4.7294</td>\n",
       "      <td>-4.7294</td>\n",
       "      <td>-4.7294</td>\n",
       "    </tr>\n",
       "    <tr>\n",
       "      <th>1</th>\n",
       "      <td>UBE2Q2P3</td>\n",
       "      <td>100133144</td>\n",
       "      <td>-0.0298</td>\n",
       "      <td>0.1445</td>\n",
       "      <td>0.1639</td>\n",
       "      <td>-1.8924</td>\n",
       "      <td>-0.3805</td>\n",
       "      <td>-1.6986</td>\n",
       "      <td>-1.1376</td>\n",
       "      <td>1.9075</td>\n",
       "      <td>...</td>\n",
       "      <td>-2.2617</td>\n",
       "      <td>1.6347</td>\n",
       "      <td>2.6880</td>\n",
       "      <td>0.1601</td>\n",
       "      <td>-1.6843</td>\n",
       "      <td>1.7471</td>\n",
       "      <td>-1.5872</td>\n",
       "      <td>0.7220</td>\n",
       "      <td>-0.3672</td>\n",
       "      <td>-0.5248</td>\n",
       "    </tr>\n",
       "    <tr>\n",
       "      <th>...</th>\n",
       "      <td>...</td>\n",
       "      <td>...</td>\n",
       "      <td>...</td>\n",
       "      <td>...</td>\n",
       "      <td>...</td>\n",
       "      <td>...</td>\n",
       "      <td>...</td>\n",
       "      <td>...</td>\n",
       "      <td>...</td>\n",
       "      <td>...</td>\n",
       "      <td>...</td>\n",
       "      <td>...</td>\n",
       "      <td>...</td>\n",
       "      <td>...</td>\n",
       "      <td>...</td>\n",
       "      <td>...</td>\n",
       "      <td>...</td>\n",
       "      <td>...</td>\n",
       "      <td>...</td>\n",
       "      <td>...</td>\n",
       "      <td>...</td>\n",
       "    </tr>\n",
       "    <tr>\n",
       "      <th>20529</th>\n",
       "      <td>TPTEP1</td>\n",
       "      <td>387590</td>\n",
       "      <td>-0.9070</td>\n",
       "      <td>-0.5454</td>\n",
       "      <td>2.5005</td>\n",
       "      <td>-0.9604</td>\n",
       "      <td>-1.1788</td>\n",
       "      <td>2.9394</td>\n",
       "      <td>-1.5040</td>\n",
       "      <td>-0.4323</td>\n",
       "      <td>...</td>\n",
       "      <td>0.5895</td>\n",
       "      <td>-1.5267</td>\n",
       "      <td>-0.6127</td>\n",
       "      <td>-0.4737</td>\n",
       "      <td>0.5577</td>\n",
       "      <td>-0.7263</td>\n",
       "      <td>0.0930</td>\n",
       "      <td>-0.4595</td>\n",
       "      <td>-0.8333</td>\n",
       "      <td>0.9540</td>\n",
       "    </tr>\n",
       "    <tr>\n",
       "      <th>20530</th>\n",
       "      <td>AKR1C6P</td>\n",
       "      <td>389932</td>\n",
       "      <td>-2.8387</td>\n",
       "      <td>-0.4852</td>\n",
       "      <td>-2.8387</td>\n",
       "      <td>-2.8387</td>\n",
       "      <td>-2.8387</td>\n",
       "      <td>-2.8387</td>\n",
       "      <td>-2.8387</td>\n",
       "      <td>-2.8387</td>\n",
       "      <td>...</td>\n",
       "      <td>-2.8387</td>\n",
       "      <td>-2.8387</td>\n",
       "      <td>-0.8132</td>\n",
       "      <td>-2.8387</td>\n",
       "      <td>-2.8387</td>\n",
       "      <td>-2.8387</td>\n",
       "      <td>-2.8387</td>\n",
       "      <td>-2.8387</td>\n",
       "      <td>-1.0741</td>\n",
       "      <td>-2.8387</td>\n",
       "    </tr>\n",
       "  </tbody>\n",
       "</table>\n",
       "<p>20531 rows × 474 columns</p>\n",
       "</div>"
      ],
      "text/plain": [
       "        Hugo_Symbol  Entrez_Gene_Id  TCGA-3N-A9WB-06  TCGA-3N-A9WC-06  \\\n",
       "0      LOC100130426       100130426          -4.7294          -4.7294   \n",
       "1          UBE2Q2P3       100133144          -0.0298           0.1445   \n",
       "...             ...             ...              ...              ...   \n",
       "20529        TPTEP1          387590          -0.9070          -0.5454   \n",
       "20530       AKR1C6P          389932          -2.8387          -0.4852   \n",
       "\n",
       "       TCGA-3N-A9WD-06  TCGA-BF-A1PU-01  TCGA-BF-A1PV-01  TCGA-BF-A1PX-01  \\\n",
       "0              -4.7294          -4.7294          -4.7294          -4.7294   \n",
       "1               0.1639          -1.8924          -0.3805          -1.6986   \n",
       "...                ...              ...              ...              ...   \n",
       "20529           2.5005          -0.9604          -1.1788           2.9394   \n",
       "20530          -2.8387          -2.8387          -2.8387          -2.8387   \n",
       "\n",
       "       TCGA-BF-A1PZ-01  TCGA-BF-A1Q0-01  ...  TCGA-XV-AB01-06  \\\n",
       "0              -4.7294          -4.7294  ...          -4.7294   \n",
       "1              -1.1376           1.9075  ...          -2.2617   \n",
       "...                ...              ...  ...              ...   \n",
       "20529          -1.5040          -0.4323  ...           0.5895   \n",
       "20530          -2.8387          -2.8387  ...          -2.8387   \n",
       "\n",
       "       TCGA-YD-A89C-06  TCGA-YD-A9TA-06  TCGA-YD-A9TB-06  TCGA-YG-AA3N-01  \\\n",
       "0              -4.7294          -4.7294          -4.7294           1.6457   \n",
       "1               1.6347           2.6880           0.1601          -1.6843   \n",
       "...                ...              ...              ...              ...   \n",
       "20529          -1.5267          -0.6127          -0.4737           0.5577   \n",
       "20530          -2.8387          -0.8132          -2.8387          -2.8387   \n",
       "\n",
       "       TCGA-YG-AA3O-06  TCGA-YG-AA3P-06  TCGA-Z2-A8RT-06  TCGA-Z2-AA3S-06  \\\n",
       "0              -4.7294          -4.7294          -4.7294          -4.7294   \n",
       "1               1.7471          -1.5872           0.7220          -0.3672   \n",
       "...                ...              ...              ...              ...   \n",
       "20529          -0.7263           0.0930          -0.4595          -0.8333   \n",
       "20530          -2.8387          -2.8387          -2.8387          -1.0741   \n",
       "\n",
       "       TCGA-Z2-AA3V-06  \n",
       "0              -4.7294  \n",
       "1              -0.5248  \n",
       "...                ...  \n",
       "20529           0.9540  \n",
       "20530          -2.8387  \n",
       "\n",
       "[20531 rows x 474 columns]"
      ]
     },
     "execution_count": 114,
     "metadata": {},
     "output_type": "execute_result"
    }
   ],
   "source": [
    "# mRNA Seq upper quartile normalized RSEM, log2 -transformed and median centered across samples data\n",
    "# all samples (472)\n",
    "mrna_zcores = pd.read_csv('skcm_tcga\\data_mrna_seq_v2_rsem_zscores_ref_all_samples.txt', sep='\\t')\n",
    "mrna_zcores"
   ]
  },
  {
   "cell_type": "code",
   "execution_count": 115,
   "metadata": {},
   "outputs": [
    {
     "data": {
      "text/html": [
       "<div>\n",
       "<style scoped>\n",
       "    .dataframe tbody tr th:only-of-type {\n",
       "        vertical-align: middle;\n",
       "    }\n",
       "\n",
       "    .dataframe tbody tr th {\n",
       "        vertical-align: top;\n",
       "    }\n",
       "\n",
       "    .dataframe thead th {\n",
       "        text-align: right;\n",
       "    }\n",
       "</style>\n",
       "<table border=\"1\" class=\"dataframe\">\n",
       "  <thead>\n",
       "    <tr style=\"text-align: right;\">\n",
       "      <th></th>\n",
       "      <th>OTHER_PATIENT_ID</th>\n",
       "      <th>PATIENT_ID</th>\n",
       "      <th>FORM_COMPLETION_DATE</th>\n",
       "      <th>PROSPECTIVE_COLLECTION</th>\n",
       "      <th>RETROSPECTIVE_COLLECTION</th>\n",
       "      <th>SEX</th>\n",
       "      <th>HEIGHT</th>\n",
       "      <th>WEIGHT</th>\n",
       "      <th>RACE</th>\n",
       "      <th>ETHNICITY</th>\n",
       "      <th>...</th>\n",
       "      <th>ICD_O_3_SITE</th>\n",
       "      <th>INFORMED_CONSENT_VERIFIED</th>\n",
       "      <th>PROJECT_CODE</th>\n",
       "      <th>STAGE_OTHER</th>\n",
       "      <th>TISSUE_SOURCE_SITE</th>\n",
       "      <th>TUMOR_TISSUE_SITE_OTHER</th>\n",
       "      <th>OS_STATUS</th>\n",
       "      <th>OS_MONTHS</th>\n",
       "      <th>DFS_STATUS</th>\n",
       "      <th>DFS_MONTHS</th>\n",
       "    </tr>\n",
       "  </thead>\n",
       "  <tbody>\n",
       "    <tr>\n",
       "      <th>0</th>\n",
       "      <td>5564E6A7-2195-4B0D-994E-B0617B58E889</td>\n",
       "      <td>TCGA-3N-A9WB</td>\n",
       "      <td>5/29/14</td>\n",
       "      <td>YES</td>\n",
       "      <td>NO</td>\n",
       "      <td>Male</td>\n",
       "      <td>175</td>\n",
       "      <td>78</td>\n",
       "      <td>WHITE</td>\n",
       "      <td>NOT HISPANIC OR LATINO</td>\n",
       "      <td>...</td>\n",
       "      <td>C44.5</td>\n",
       "      <td>YES</td>\n",
       "      <td>[Not Available]</td>\n",
       "      <td>[Not Available]</td>\n",
       "      <td>3N</td>\n",
       "      <td>[Not Applicable]</td>\n",
       "      <td>1:DECEASED</td>\n",
       "      <td>17.02</td>\n",
       "      <td>1:Recurred/Progressed</td>\n",
       "      <td>16</td>\n",
       "    </tr>\n",
       "    <tr>\n",
       "      <th>1</th>\n",
       "      <td>551E071A-C290-4B48-9000-F64C2A44DFB7</td>\n",
       "      <td>TCGA-3N-A9WC</td>\n",
       "      <td>5/29/14</td>\n",
       "      <td>YES</td>\n",
       "      <td>NO</td>\n",
       "      <td>Male</td>\n",
       "      <td>183</td>\n",
       "      <td>68</td>\n",
       "      <td>WHITE</td>\n",
       "      <td>NOT HISPANIC OR LATINO</td>\n",
       "      <td>...</td>\n",
       "      <td>C77.3</td>\n",
       "      <td>YES</td>\n",
       "      <td>[Not Available]</td>\n",
       "      <td>[Not Available]</td>\n",
       "      <td>3N</td>\n",
       "      <td>[Not Applicable]</td>\n",
       "      <td>0:LIVING</td>\n",
       "      <td>66.43</td>\n",
       "      <td>1:Recurred/Progressed</td>\n",
       "      <td>56.01</td>\n",
       "    </tr>\n",
       "    <tr>\n",
       "      <th>...</th>\n",
       "      <td>...</td>\n",
       "      <td>...</td>\n",
       "      <td>...</td>\n",
       "      <td>...</td>\n",
       "      <td>...</td>\n",
       "      <td>...</td>\n",
       "      <td>...</td>\n",
       "      <td>...</td>\n",
       "      <td>...</td>\n",
       "      <td>...</td>\n",
       "      <td>...</td>\n",
       "      <td>...</td>\n",
       "      <td>...</td>\n",
       "      <td>...</td>\n",
       "      <td>...</td>\n",
       "      <td>...</td>\n",
       "      <td>...</td>\n",
       "      <td>...</td>\n",
       "      <td>...</td>\n",
       "      <td>...</td>\n",
       "      <td>...</td>\n",
       "    </tr>\n",
       "    <tr>\n",
       "      <th>468</th>\n",
       "      <td>71B347AC-6AC6-475D-8E21-754764180948</td>\n",
       "      <td>TCGA-Z2-AA3S</td>\n",
       "      <td>6/30/14</td>\n",
       "      <td>YES</td>\n",
       "      <td>NO</td>\n",
       "      <td>Male</td>\n",
       "      <td>172</td>\n",
       "      <td>78</td>\n",
       "      <td>WHITE</td>\n",
       "      <td>NOT HISPANIC OR LATINO</td>\n",
       "      <td>...</td>\n",
       "      <td>C77.3</td>\n",
       "      <td>YES</td>\n",
       "      <td>[Not Available]</td>\n",
       "      <td>[Not Available]</td>\n",
       "      <td>Z2</td>\n",
       "      <td>[Not Applicable]</td>\n",
       "      <td>0:LIVING</td>\n",
       "      <td>96.91</td>\n",
       "      <td>1:Recurred/Progressed</td>\n",
       "      <td>93.5</td>\n",
       "    </tr>\n",
       "    <tr>\n",
       "      <th>469</th>\n",
       "      <td>5B10234B-6189-449F-8886-D0D44A729CED</td>\n",
       "      <td>TCGA-Z2-AA3V</td>\n",
       "      <td>6/30/14</td>\n",
       "      <td>YES</td>\n",
       "      <td>NO</td>\n",
       "      <td>Female</td>\n",
       "      <td>166</td>\n",
       "      <td>63</td>\n",
       "      <td>WHITE</td>\n",
       "      <td>NOT HISPANIC OR LATINO</td>\n",
       "      <td>...</td>\n",
       "      <td>C77.3</td>\n",
       "      <td>YES</td>\n",
       "      <td>[Not Available]</td>\n",
       "      <td>[Not Available]</td>\n",
       "      <td>Z2</td>\n",
       "      <td>[Not Applicable]</td>\n",
       "      <td>0:LIVING</td>\n",
       "      <td>15.97</td>\n",
       "      <td>0:DiseaseFree</td>\n",
       "      <td>15.97</td>\n",
       "    </tr>\n",
       "  </tbody>\n",
       "</table>\n",
       "<p>470 rows × 60 columns</p>\n",
       "</div>"
      ],
      "text/plain": [
       "                         OTHER_PATIENT_ID    PATIENT_ID FORM_COMPLETION_DATE  \\\n",
       "0    5564E6A7-2195-4B0D-994E-B0617B58E889  TCGA-3N-A9WB              5/29/14   \n",
       "1    551E071A-C290-4B48-9000-F64C2A44DFB7  TCGA-3N-A9WC              5/29/14   \n",
       "..                                    ...           ...                  ...   \n",
       "468  71B347AC-6AC6-475D-8E21-754764180948  TCGA-Z2-AA3S              6/30/14   \n",
       "469  5B10234B-6189-449F-8886-D0D44A729CED  TCGA-Z2-AA3V              6/30/14   \n",
       "\n",
       "    PROSPECTIVE_COLLECTION RETROSPECTIVE_COLLECTION     SEX HEIGHT WEIGHT  \\\n",
       "0                      YES                       NO    Male    175     78   \n",
       "1                      YES                       NO    Male    183     68   \n",
       "..                     ...                      ...     ...    ...    ...   \n",
       "468                    YES                       NO    Male    172     78   \n",
       "469                    YES                       NO  Female    166     63   \n",
       "\n",
       "      RACE               ETHNICITY  ... ICD_O_3_SITE  \\\n",
       "0    WHITE  NOT HISPANIC OR LATINO  ...        C44.5   \n",
       "1    WHITE  NOT HISPANIC OR LATINO  ...        C77.3   \n",
       "..     ...                     ...  ...          ...   \n",
       "468  WHITE  NOT HISPANIC OR LATINO  ...        C77.3   \n",
       "469  WHITE  NOT HISPANIC OR LATINO  ...        C77.3   \n",
       "\n",
       "    INFORMED_CONSENT_VERIFIED     PROJECT_CODE      STAGE_OTHER  \\\n",
       "0                         YES  [Not Available]  [Not Available]   \n",
       "1                         YES  [Not Available]  [Not Available]   \n",
       "..                        ...              ...              ...   \n",
       "468                       YES  [Not Available]  [Not Available]   \n",
       "469                       YES  [Not Available]  [Not Available]   \n",
       "\n",
       "    TISSUE_SOURCE_SITE TUMOR_TISSUE_SITE_OTHER   OS_STATUS OS_MONTHS  \\\n",
       "0                   3N        [Not Applicable]  1:DECEASED     17.02   \n",
       "1                   3N        [Not Applicable]    0:LIVING     66.43   \n",
       "..                 ...                     ...         ...       ...   \n",
       "468                 Z2        [Not Applicable]    0:LIVING     96.91   \n",
       "469                 Z2        [Not Applicable]    0:LIVING     15.97   \n",
       "\n",
       "                DFS_STATUS DFS_MONTHS  \n",
       "0    1:Recurred/Progressed         16  \n",
       "1    1:Recurred/Progressed      56.01  \n",
       "..                     ...        ...  \n",
       "468  1:Recurred/Progressed       93.5  \n",
       "469          0:DiseaseFree      15.97  \n",
       "\n",
       "[470 rows x 60 columns]"
      ]
     },
     "execution_count": 115,
     "metadata": {},
     "output_type": "execute_result"
    }
   ],
   "source": [
    "# information about patients\n",
    "data_clinical_patient = pd.read_csv('skcm_tcga\\data_clinical_patient.txt', sep='\\t', comment='#')\n",
    "data_clinical_patient"
   ]
  },
  {
   "cell_type": "markdown",
   "metadata": {},
   "source": [
    "# Task 1    \n",
    "## Problem: \n",
    "there are [acticle](https://www.ncbi.nlm.nih.gov/pmc/articles/PMC4580370/) that describes the procedure of genomic classification patients with  cutaneous melanoma (329 samples). We have data on new patients and want to classify them too. So, we have two way to do it:   \n",
    "- repeat the clustering procedure from the article again, but for all samples   \n",
    "OR   \n",
    "- use the classification of 329 samples to further classify new ones   \n",
    "   \n",
    "We try both of them   \n",
    "\n",
    "## 1. Repeat prosedure from the article  (for 329 samples)     \n",
    "Firstly, let's try to repeat clusterization from the article for 329 \"old\" samples amd compare results.   \n",
    "We try to devide samples in three group (yes, to be honest, we should assume that we don't know about the number of groups, but it's much more complicagted problem).  \n",
    "Algorithm from the acticle: \n",
    "1. mRNA Seq data   \n",
    "2. RSEM normalization   \n",
    "3. log2 -transformation and median centering across samples   \n",
    "4. selection 1500 most variably expressed genes   \n",
    "5. unsupervised clustering \n",
    "\n",
    "We download data from point 3, select 329 samples, and after that we can start with point 4   \n"
   ]
  },
  {
   "cell_type": "code",
   "execution_count": 116,
   "metadata": {},
   "outputs": [
    {
     "data": {
      "text/html": [
       "<div>\n",
       "<style scoped>\n",
       "    .dataframe tbody tr th:only-of-type {\n",
       "        vertical-align: middle;\n",
       "    }\n",
       "\n",
       "    .dataframe tbody tr th {\n",
       "        vertical-align: top;\n",
       "    }\n",
       "\n",
       "    .dataframe thead th {\n",
       "        text-align: right;\n",
       "    }\n",
       "</style>\n",
       "<table border=\"1\" class=\"dataframe\">\n",
       "  <thead>\n",
       "    <tr style=\"text-align: right;\">\n",
       "      <th></th>\n",
       "      <th>Hugo_Symbol</th>\n",
       "      <th>Entrez_Gene_Id</th>\n",
       "      <th>TCGA-BF-A1PU-01</th>\n",
       "      <th>TCGA-BF-A1PV-01</th>\n",
       "      <th>TCGA-BF-A1PX-01</th>\n",
       "      <th>TCGA-BF-A1PZ-01</th>\n",
       "      <th>TCGA-BF-A1Q0-01</th>\n",
       "      <th>TCGA-BF-A3DJ-01</th>\n",
       "      <th>TCGA-BF-A3DL-01</th>\n",
       "      <th>TCGA-BF-A3DM-01</th>\n",
       "      <th>...</th>\n",
       "      <th>TCGA-GN-A264-06</th>\n",
       "      <th>TCGA-GN-A265-06</th>\n",
       "      <th>TCGA-GN-A266-06</th>\n",
       "      <th>TCGA-GN-A267-06</th>\n",
       "      <th>TCGA-GN-A268-06</th>\n",
       "      <th>TCGA-GN-A26A-06</th>\n",
       "      <th>TCGA-GN-A26C-01</th>\n",
       "      <th>TCGA-GN-A26D-06</th>\n",
       "      <th>TCGA-HR-A5NC-01</th>\n",
       "      <th>TCGA-IH-A3EA-01</th>\n",
       "    </tr>\n",
       "  </thead>\n",
       "  <tbody>\n",
       "    <tr>\n",
       "      <th>0</th>\n",
       "      <td>LOC100130426</td>\n",
       "      <td>100130426</td>\n",
       "      <td>-4.7294</td>\n",
       "      <td>-4.7294</td>\n",
       "      <td>-4.7294</td>\n",
       "      <td>-4.7294</td>\n",
       "      <td>-4.7294</td>\n",
       "      <td>-4.7294</td>\n",
       "      <td>-4.7294</td>\n",
       "      <td>-4.7294</td>\n",
       "      <td>...</td>\n",
       "      <td>-4.7294</td>\n",
       "      <td>-4.7294</td>\n",
       "      <td>-4.7294</td>\n",
       "      <td>-4.7294</td>\n",
       "      <td>-4.7294</td>\n",
       "      <td>-4.7294</td>\n",
       "      <td>-4.7294</td>\n",
       "      <td>-4.7294</td>\n",
       "      <td>-4.7294</td>\n",
       "      <td>-4.7294</td>\n",
       "    </tr>\n",
       "    <tr>\n",
       "      <th>1</th>\n",
       "      <td>UBE2Q2P3</td>\n",
       "      <td>100133144</td>\n",
       "      <td>-1.8924</td>\n",
       "      <td>-0.3805</td>\n",
       "      <td>-1.6986</td>\n",
       "      <td>-1.1376</td>\n",
       "      <td>1.9075</td>\n",
       "      <td>-0.5837</td>\n",
       "      <td>-1.5987</td>\n",
       "      <td>0.0552</td>\n",
       "      <td>...</td>\n",
       "      <td>-0.9677</td>\n",
       "      <td>0.5279</td>\n",
       "      <td>-0.2342</td>\n",
       "      <td>-0.7011</td>\n",
       "      <td>1.3701</td>\n",
       "      <td>-2.2617</td>\n",
       "      <td>1.1338</td>\n",
       "      <td>-0.2261</td>\n",
       "      <td>-0.8385</td>\n",
       "      <td>-2.2617</td>\n",
       "    </tr>\n",
       "    <tr>\n",
       "      <th>...</th>\n",
       "      <td>...</td>\n",
       "      <td>...</td>\n",
       "      <td>...</td>\n",
       "      <td>...</td>\n",
       "      <td>...</td>\n",
       "      <td>...</td>\n",
       "      <td>...</td>\n",
       "      <td>...</td>\n",
       "      <td>...</td>\n",
       "      <td>...</td>\n",
       "      <td>...</td>\n",
       "      <td>...</td>\n",
       "      <td>...</td>\n",
       "      <td>...</td>\n",
       "      <td>...</td>\n",
       "      <td>...</td>\n",
       "      <td>...</td>\n",
       "      <td>...</td>\n",
       "      <td>...</td>\n",
       "      <td>...</td>\n",
       "      <td>...</td>\n",
       "    </tr>\n",
       "    <tr>\n",
       "      <th>20529</th>\n",
       "      <td>TPTEP1</td>\n",
       "      <td>387590</td>\n",
       "      <td>-0.9604</td>\n",
       "      <td>-1.1788</td>\n",
       "      <td>2.9394</td>\n",
       "      <td>-1.5040</td>\n",
       "      <td>-0.4323</td>\n",
       "      <td>-0.5443</td>\n",
       "      <td>-0.2333</td>\n",
       "      <td>-0.8261</td>\n",
       "      <td>...</td>\n",
       "      <td>0.1604</td>\n",
       "      <td>0.9208</td>\n",
       "      <td>0.9611</td>\n",
       "      <td>-0.2901</td>\n",
       "      <td>-1.1494</td>\n",
       "      <td>0.7761</td>\n",
       "      <td>0.6521</td>\n",
       "      <td>-0.7002</td>\n",
       "      <td>2.7166</td>\n",
       "      <td>-1.1176</td>\n",
       "    </tr>\n",
       "    <tr>\n",
       "      <th>20530</th>\n",
       "      <td>AKR1C6P</td>\n",
       "      <td>389932</td>\n",
       "      <td>-2.8387</td>\n",
       "      <td>-2.8387</td>\n",
       "      <td>-2.8387</td>\n",
       "      <td>-2.8387</td>\n",
       "      <td>-2.8387</td>\n",
       "      <td>-0.7742</td>\n",
       "      <td>-2.8387</td>\n",
       "      <td>-2.8387</td>\n",
       "      <td>...</td>\n",
       "      <td>-2.8387</td>\n",
       "      <td>-2.8387</td>\n",
       "      <td>-2.8387</td>\n",
       "      <td>-2.8387</td>\n",
       "      <td>-2.8387</td>\n",
       "      <td>-2.8387</td>\n",
       "      <td>-2.8387</td>\n",
       "      <td>-2.8387</td>\n",
       "      <td>-2.8387</td>\n",
       "      <td>-2.8387</td>\n",
       "    </tr>\n",
       "  </tbody>\n",
       "</table>\n",
       "<p>20184 rows × 331 columns</p>\n",
       "</div>"
      ],
      "text/plain": [
       "        Hugo_Symbol  Entrez_Gene_Id  TCGA-BF-A1PU-01  TCGA-BF-A1PV-01  \\\n",
       "0      LOC100130426       100130426          -4.7294          -4.7294   \n",
       "1          UBE2Q2P3       100133144          -1.8924          -0.3805   \n",
       "...             ...             ...              ...              ...   \n",
       "20529        TPTEP1          387590          -0.9604          -1.1788   \n",
       "20530       AKR1C6P          389932          -2.8387          -2.8387   \n",
       "\n",
       "       TCGA-BF-A1PX-01  TCGA-BF-A1PZ-01  TCGA-BF-A1Q0-01  TCGA-BF-A3DJ-01  \\\n",
       "0              -4.7294          -4.7294          -4.7294          -4.7294   \n",
       "1              -1.6986          -1.1376           1.9075          -0.5837   \n",
       "...                ...              ...              ...              ...   \n",
       "20529           2.9394          -1.5040          -0.4323          -0.5443   \n",
       "20530          -2.8387          -2.8387          -2.8387          -0.7742   \n",
       "\n",
       "       TCGA-BF-A3DL-01  TCGA-BF-A3DM-01  ...  TCGA-GN-A264-06  \\\n",
       "0              -4.7294          -4.7294  ...          -4.7294   \n",
       "1              -1.5987           0.0552  ...          -0.9677   \n",
       "...                ...              ...  ...              ...   \n",
       "20529          -0.2333          -0.8261  ...           0.1604   \n",
       "20530          -2.8387          -2.8387  ...          -2.8387   \n",
       "\n",
       "       TCGA-GN-A265-06  TCGA-GN-A266-06  TCGA-GN-A267-06  TCGA-GN-A268-06  \\\n",
       "0              -4.7294          -4.7294          -4.7294          -4.7294   \n",
       "1               0.5279          -0.2342          -0.7011           1.3701   \n",
       "...                ...              ...              ...              ...   \n",
       "20529           0.9208           0.9611          -0.2901          -1.1494   \n",
       "20530          -2.8387          -2.8387          -2.8387          -2.8387   \n",
       "\n",
       "       TCGA-GN-A26A-06  TCGA-GN-A26C-01  TCGA-GN-A26D-06  TCGA-HR-A5NC-01  \\\n",
       "0              -4.7294          -4.7294          -4.7294          -4.7294   \n",
       "1              -2.2617           1.1338          -0.2261          -0.8385   \n",
       "...                ...              ...              ...              ...   \n",
       "20529           0.7761           0.6521          -0.7002           2.7166   \n",
       "20530          -2.8387          -2.8387          -2.8387          -2.8387   \n",
       "\n",
       "       TCGA-IH-A3EA-01  \n",
       "0              -4.7294  \n",
       "1              -2.2617  \n",
       "...                ...  \n",
       "20529          -1.1176  \n",
       "20530          -2.8387  \n",
       "\n",
       "[20184 rows x 331 columns]"
      ]
     },
     "execution_count": 116,
     "metadata": {},
     "output_type": "execute_result"
    }
   ],
   "source": [
    "# get mRNA Seq data for 329 samples\n",
    "mrna_zcores_329 = pd.concat([mrna_zcores[['Hugo_Symbol', 'Entrez_Gene_Id']], mrna_zcores[clustering_329['Name']]], axis=1)\n",
    "mrna_zcores_329 = mrna_zcores_329.dropna()\n",
    "mrna_zcores_329"
   ]
  },
  {
   "cell_type": "markdown",
   "metadata": {},
   "source": [
    "##### **1.1 Selection of 1500 significant genes**   \n",
    "In the [acticle](https://www.ncbi.nlm.nih.gov/pmc/articles/PMC4580370/) they used 1500 the most variable expressed genes for clustering samples, but they didn't explain how they estimate \"variabulity\". But in a similar [analysis](http://dx.doi.org/10.7908/C1057FCR) the Median Absolute Deviation (MAD) was used. "
   ]
  },
  {
   "cell_type": "code",
   "execution_count": 117,
   "metadata": {},
   "outputs": [
    {
     "data": {
      "text/html": [
       "<div>\n",
       "<style scoped>\n",
       "    .dataframe tbody tr th:only-of-type {\n",
       "        vertical-align: middle;\n",
       "    }\n",
       "\n",
       "    .dataframe tbody tr th {\n",
       "        vertical-align: top;\n",
       "    }\n",
       "\n",
       "    .dataframe thead th {\n",
       "        text-align: right;\n",
       "    }\n",
       "</style>\n",
       "<table border=\"1\" class=\"dataframe\">\n",
       "  <thead>\n",
       "    <tr style=\"text-align: right;\">\n",
       "      <th></th>\n",
       "      <th>TCGA-BF-A1PU-01</th>\n",
       "      <th>TCGA-BF-A1PV-01</th>\n",
       "      <th>TCGA-BF-A1PX-01</th>\n",
       "      <th>TCGA-BF-A1PZ-01</th>\n",
       "      <th>TCGA-BF-A1Q0-01</th>\n",
       "      <th>TCGA-BF-A3DJ-01</th>\n",
       "      <th>TCGA-BF-A3DL-01</th>\n",
       "      <th>TCGA-BF-A3DM-01</th>\n",
       "      <th>TCGA-BF-A3DN-01</th>\n",
       "      <th>TCGA-BF-A5EO-01</th>\n",
       "      <th>...</th>\n",
       "      <th>TCGA-GN-A264-06</th>\n",
       "      <th>TCGA-GN-A265-06</th>\n",
       "      <th>TCGA-GN-A266-06</th>\n",
       "      <th>TCGA-GN-A267-06</th>\n",
       "      <th>TCGA-GN-A268-06</th>\n",
       "      <th>TCGA-GN-A26A-06</th>\n",
       "      <th>TCGA-GN-A26C-01</th>\n",
       "      <th>TCGA-GN-A26D-06</th>\n",
       "      <th>TCGA-HR-A5NC-01</th>\n",
       "      <th>TCGA-IH-A3EA-01</th>\n",
       "    </tr>\n",
       "    <tr>\n",
       "      <th>Hugo_Symbol</th>\n",
       "      <th></th>\n",
       "      <th></th>\n",
       "      <th></th>\n",
       "      <th></th>\n",
       "      <th></th>\n",
       "      <th></th>\n",
       "      <th></th>\n",
       "      <th></th>\n",
       "      <th></th>\n",
       "      <th></th>\n",
       "      <th></th>\n",
       "      <th></th>\n",
       "      <th></th>\n",
       "      <th></th>\n",
       "      <th></th>\n",
       "      <th></th>\n",
       "      <th></th>\n",
       "      <th></th>\n",
       "      <th></th>\n",
       "      <th></th>\n",
       "      <th></th>\n",
       "    </tr>\n",
       "  </thead>\n",
       "  <tbody>\n",
       "    <tr>\n",
       "      <th>TMEM189-UBE2V1</th>\n",
       "      <td>1.3173</td>\n",
       "      <td>-1.1315</td>\n",
       "      <td>-3.8273</td>\n",
       "      <td>-1.0419</td>\n",
       "      <td>3.5824</td>\n",
       "      <td>-3.8273</td>\n",
       "      <td>0.9266</td>\n",
       "      <td>1.0069</td>\n",
       "      <td>-1.1662</td>\n",
       "      <td>-3.8273</td>\n",
       "      <td>...</td>\n",
       "      <td>-0.1300</td>\n",
       "      <td>-3.8273</td>\n",
       "      <td>0.6313</td>\n",
       "      <td>-3.8273</td>\n",
       "      <td>0.5274</td>\n",
       "      <td>-3.8273</td>\n",
       "      <td>-3.8273</td>\n",
       "      <td>-1.2957</td>\n",
       "      <td>-0.1123</td>\n",
       "      <td>-3.8273</td>\n",
       "    </tr>\n",
       "    <tr>\n",
       "      <th>CYorf15B</th>\n",
       "      <td>-2.2316</td>\n",
       "      <td>-2.2316</td>\n",
       "      <td>0.5641</td>\n",
       "      <td>-2.2316</td>\n",
       "      <td>0.2353</td>\n",
       "      <td>-2.2316</td>\n",
       "      <td>-2.2316</td>\n",
       "      <td>0.8000</td>\n",
       "      <td>-2.0918</td>\n",
       "      <td>-0.1006</td>\n",
       "      <td>...</td>\n",
       "      <td>0.8520</td>\n",
       "      <td>0.1948</td>\n",
       "      <td>0.0032</td>\n",
       "      <td>-0.6154</td>\n",
       "      <td>-2.2316</td>\n",
       "      <td>-2.2316</td>\n",
       "      <td>0.5281</td>\n",
       "      <td>-2.2316</td>\n",
       "      <td>-2.2316</td>\n",
       "      <td>-1.6287</td>\n",
       "    </tr>\n",
       "    <tr>\n",
       "      <th>...</th>\n",
       "      <td>...</td>\n",
       "      <td>...</td>\n",
       "      <td>...</td>\n",
       "      <td>...</td>\n",
       "      <td>...</td>\n",
       "      <td>...</td>\n",
       "      <td>...</td>\n",
       "      <td>...</td>\n",
       "      <td>...</td>\n",
       "      <td>...</td>\n",
       "      <td>...</td>\n",
       "      <td>...</td>\n",
       "      <td>...</td>\n",
       "      <td>...</td>\n",
       "      <td>...</td>\n",
       "      <td>...</td>\n",
       "      <td>...</td>\n",
       "      <td>...</td>\n",
       "      <td>...</td>\n",
       "      <td>...</td>\n",
       "      <td>...</td>\n",
       "    </tr>\n",
       "    <tr>\n",
       "      <th>SERTAD4</th>\n",
       "      <td>0.9918</td>\n",
       "      <td>0.6826</td>\n",
       "      <td>1.1860</td>\n",
       "      <td>-0.3027</td>\n",
       "      <td>1.2003</td>\n",
       "      <td>1.3933</td>\n",
       "      <td>0.0014</td>\n",
       "      <td>0.9925</td>\n",
       "      <td>0.5965</td>\n",
       "      <td>-1.4305</td>\n",
       "      <td>...</td>\n",
       "      <td>-0.4893</td>\n",
       "      <td>-0.4973</td>\n",
       "      <td>0.4091</td>\n",
       "      <td>-0.8835</td>\n",
       "      <td>1.5168</td>\n",
       "      <td>1.0256</td>\n",
       "      <td>-1.3169</td>\n",
       "      <td>-1.1854</td>\n",
       "      <td>0.2210</td>\n",
       "      <td>0.2243</td>\n",
       "    </tr>\n",
       "    <tr>\n",
       "      <th>GIMAP4</th>\n",
       "      <td>-1.0059</td>\n",
       "      <td>-1.4986</td>\n",
       "      <td>0.9852</td>\n",
       "      <td>-0.6835</td>\n",
       "      <td>-0.1154</td>\n",
       "      <td>0.1517</td>\n",
       "      <td>-1.0182</td>\n",
       "      <td>-1.2416</td>\n",
       "      <td>-0.4093</td>\n",
       "      <td>-1.0362</td>\n",
       "      <td>...</td>\n",
       "      <td>-0.8567</td>\n",
       "      <td>1.3865</td>\n",
       "      <td>1.1625</td>\n",
       "      <td>0.3741</td>\n",
       "      <td>-1.1848</td>\n",
       "      <td>0.3797</td>\n",
       "      <td>1.3509</td>\n",
       "      <td>-1.1681</td>\n",
       "      <td>-0.6921</td>\n",
       "      <td>-1.4946</td>\n",
       "    </tr>\n",
       "  </tbody>\n",
       "</table>\n",
       "<p>1500 rows × 329 columns</p>\n",
       "</div>"
      ],
      "text/plain": [
       "                TCGA-BF-A1PU-01  TCGA-BF-A1PV-01  TCGA-BF-A1PX-01  \\\n",
       "Hugo_Symbol                                                         \n",
       "TMEM189-UBE2V1           1.3173          -1.1315          -3.8273   \n",
       "CYorf15B                -2.2316          -2.2316           0.5641   \n",
       "...                         ...              ...              ...   \n",
       "SERTAD4                  0.9918           0.6826           1.1860   \n",
       "GIMAP4                  -1.0059          -1.4986           0.9852   \n",
       "\n",
       "                TCGA-BF-A1PZ-01  TCGA-BF-A1Q0-01  TCGA-BF-A3DJ-01  \\\n",
       "Hugo_Symbol                                                         \n",
       "TMEM189-UBE2V1          -1.0419           3.5824          -3.8273   \n",
       "CYorf15B                -2.2316           0.2353          -2.2316   \n",
       "...                         ...              ...              ...   \n",
       "SERTAD4                 -0.3027           1.2003           1.3933   \n",
       "GIMAP4                  -0.6835          -0.1154           0.1517   \n",
       "\n",
       "                TCGA-BF-A3DL-01  TCGA-BF-A3DM-01  TCGA-BF-A3DN-01  \\\n",
       "Hugo_Symbol                                                         \n",
       "TMEM189-UBE2V1           0.9266           1.0069          -1.1662   \n",
       "CYorf15B                -2.2316           0.8000          -2.0918   \n",
       "...                         ...              ...              ...   \n",
       "SERTAD4                  0.0014           0.9925           0.5965   \n",
       "GIMAP4                  -1.0182          -1.2416          -0.4093   \n",
       "\n",
       "                TCGA-BF-A5EO-01  ...  TCGA-GN-A264-06  TCGA-GN-A265-06  \\\n",
       "Hugo_Symbol                      ...                                     \n",
       "TMEM189-UBE2V1          -3.8273  ...          -0.1300          -3.8273   \n",
       "CYorf15B                -0.1006  ...           0.8520           0.1948   \n",
       "...                         ...  ...              ...              ...   \n",
       "SERTAD4                 -1.4305  ...          -0.4893          -0.4973   \n",
       "GIMAP4                  -1.0362  ...          -0.8567           1.3865   \n",
       "\n",
       "                TCGA-GN-A266-06  TCGA-GN-A267-06  TCGA-GN-A268-06  \\\n",
       "Hugo_Symbol                                                         \n",
       "TMEM189-UBE2V1           0.6313          -3.8273           0.5274   \n",
       "CYorf15B                 0.0032          -0.6154          -2.2316   \n",
       "...                         ...              ...              ...   \n",
       "SERTAD4                  0.4091          -0.8835           1.5168   \n",
       "GIMAP4                   1.1625           0.3741          -1.1848   \n",
       "\n",
       "                TCGA-GN-A26A-06  TCGA-GN-A26C-01  TCGA-GN-A26D-06  \\\n",
       "Hugo_Symbol                                                         \n",
       "TMEM189-UBE2V1          -3.8273          -3.8273          -1.2957   \n",
       "CYorf15B                -2.2316           0.5281          -2.2316   \n",
       "...                         ...              ...              ...   \n",
       "SERTAD4                  1.0256          -1.3169          -1.1854   \n",
       "GIMAP4                   0.3797           1.3509          -1.1681   \n",
       "\n",
       "                TCGA-HR-A5NC-01  TCGA-IH-A3EA-01  \n",
       "Hugo_Symbol                                       \n",
       "TMEM189-UBE2V1          -0.1123          -3.8273  \n",
       "CYorf15B                -2.2316          -1.6287  \n",
       "...                         ...              ...  \n",
       "SERTAD4                  0.2210           0.2243  \n",
       "GIMAP4                  -0.6921          -1.4946  \n",
       "\n",
       "[1500 rows x 329 columns]"
      ]
     },
     "execution_count": 117,
     "metadata": {},
     "output_type": "execute_result"
    }
   ],
   "source": [
    "# select 1500 the most variable genes\n",
    "def select_1500_genes(df):\n",
    "    df['MAD'] = df.iloc[:, 2:df.shape[1]].apply(median_abs_deviation, axis=1)\n",
    "    top_1500 = df.sort_values('MAD', ascending=False).iloc[0:1500, :]\n",
    "    top_1500 = top_1500.drop(['Entrez_Gene_Id', 'MAD'], axis=1).set_index('Hugo_Symbol')\n",
    "    return top_1500\n",
    "\n",
    "top_1500 = select_1500_genes(mrna_zcores_329)\n",
    "top_1500"
   ]
  },
  {
   "cell_type": "markdown",
   "metadata": {},
   "source": [
    "##### **1.2 Hierarchical clustering**    \n",
    "In the [acticle](https://www.ncbi.nlm.nih.gov/pmc/articles/PMC4580370/) consensus ```average``` linkage hierarchical clustering was used, but our dendrogram is awful with this parameter. We try ```ward``` linkage hierarchical clustering, which was used in the forementioned [analysis](http://dx.doi.org/10.7908/C1057FCR)     \n",
    "In the dendrogram below we can see, that our samples could be divided into three groups:"
   ]
  },
  {
   "cell_type": "code",
   "execution_count": 118,
   "metadata": {},
   "outputs": [
    {
     "data": {
      "image/png": "[encoded data removed]",
      "text/plain": [
       "<Figure size 1000x500 with 1 Axes>"
      ]
     },
     "metadata": {},
     "output_type": "display_data"
    }
   ],
   "source": [
    "# plot dendrogram\n",
    "def plot_dendrogram(df, color_threshold=200, title='Ward linkage hierarchical clustering dendrogram'):\n",
    "    X = np.array(df.T)\n",
    "    distance_mat = pdist(X)\n",
    "    Z = hierarchy.linkage(distance_mat, 'ward') \n",
    "    plt.figure(figsize=(10, 5))\n",
    "    hierarchy.dendrogram(Z, color_threshold=color_threshold, no_labels=True)\n",
    "    plt.axhline(y=color_threshold, c='grey', lw=1, linestyle='dashed')\n",
    "    plt.title(title)\n",
    "\n",
    "plot_dendrogram(top_1500, title='Ward linkage hierarchical clustering dendrogram (329 samples)')"
   ]
  },
  {
   "cell_type": "markdown",
   "metadata": {},
   "source": [
    "For hierarchical clustering we use Agglomerative Clustering algorithm:"
   ]
  },
  {
   "cell_type": "code",
   "execution_count": 119,
   "metadata": {},
   "outputs": [
    {
     "data": {
      "text/plain": [
       "(124, 109, 96)"
      ]
     },
     "execution_count": 119,
     "metadata": {},
     "output_type": "execute_result"
    }
   ],
   "source": [
    "X = np.array(top_1500.T)\n",
    "clustering = AgglomerativeClustering(linkage='ward',\n",
    "                                     n_clusters=3)\n",
    "labels = list(clustering.fit(X).labels_)\n",
    "\n",
    "# write results\n",
    "cluster_top_1500 = top_1500.T\n",
    "cluster_top_1500.insert(0, 'labels', labels)\n",
    "# look at the numbers of samples in each cluster\n",
    "labels.count(0), labels.count(1), labels.count(2)"
   ]
  },
  {
   "cell_type": "markdown",
   "metadata": {},
   "source": [
    "##### **1.3 Сomparison of sample groups**     \n",
    "Now we should find out, which genes distinguish groups of samples from each other. To do this, we will compare gene expression levels in different groups. In indeal case we should use differential expression gene analisis (by using PyDESeq2). But this tool requires gene expression counts as input, but we only have at our disposal only RSEM normalized data.    \n",
    "Next idea is ANOVA, but I'm not sure if this is acceptable for gene expression data. \n",
    "\n",
    "So, we try to compare groups with **Mann-Whitney U test**.  It is not accurate way, because we will have to do pairwise comparisons of the three groups, but I don't know a better decision\n",
    "\n"
   ]
  },
  {
   "cell_type": "code",
   "execution_count": 120,
   "metadata": {},
   "outputs": [],
   "source": [
    "def Mann_Whitney_test(df, index_list):\n",
    "    # run Mann-Whitney test, write p-value\n",
    "    pvalues12, pvalues13, pvalues23 = mannwhitneyu(df.loc[df.labels == 0].drop('labels', axis=1), \n",
    "                                                df.loc[df.labels == 1].drop('labels', axis=1))[1], \\\n",
    "                                        mannwhitneyu(df.loc[df.labels == 0].drop('labels', axis=1), \\\n",
    "                                                df.loc[df.labels == 2].drop('labels', axis=1))[1], \\\n",
    "                                        mannwhitneyu(df.loc[df.labels == 1].drop('labels', axis=1), \\\n",
    "                                                df.loc[df.labels == 2].drop('labels', axis=1))[1]\n",
    "\n",
    "    # multiple testing correction, use Bonferroni, as the strictest\n",
    "    padj12, padj13, padj23 = multipletests(pvalues12, method='bonferroni')[1], multipletests(pvalues13, method='bonferroni')[1], \\\n",
    "        multipletests(pvalues23, method='bonferroni')[1]\n",
    "\n",
    "    # another Bonferroni correction, because of comparison three groups\n",
    "    padj = pd.DataFrame({'padj12': padj12, 'padj13': padj13, 'padj23': padj23}).set_index(index_list) * 3\n",
    "\n",
    "    # selection of genes, the distribution of expression levels in which is significantly different in each group compared to the rest\n",
    "    # get a list of genes specific to each group\n",
    "    return list(padj.loc[(padj['padj12'] < 0.05) & (padj['padj13'] < 0.05)].index), \\\n",
    "            list(padj.loc[(padj['padj12'] < 0.05) & (padj['padj23'] < 0.05)].index), \\\n",
    "            list(padj.loc[(padj['padj13'] < 0.05) & (padj['padj23'] < 0.05)].index)\n",
    "    \n",
    "    \n",
    "group1, group2, group3 = Mann_Whitney_test(cluster_top_1500, top_1500.index)\n",
    "\n",
    "\n"
   ]
  },
  {
   "cell_type": "markdown",
   "metadata": {},
   "source": [
    "##### **1.4 Get information about selected genes**   \n",
    "Get gene ID, description and summary, then combine into a single table:"
   ]
  },
  {
   "cell_type": "code",
   "execution_count": 121,
   "metadata": {},
   "outputs": [],
   "source": [
    "def get_id(gene):\n",
    "    try:\n",
    "        handle = Entrez.esearch(db=\"gene\",term=f\"Homo[Orgn] AND {gene}[Gene]\")\n",
    "        result = Entrez.read(handle)\n",
    "        to_return = result['IdList'][0]\n",
    "    except:\n",
    "        to_return = np.nan\n",
    "    return to_return\n",
    "\n",
    "def get_summary(ID):\n",
    "    try:\n",
    "        handle = Entrez.epost(\"gene\", id=ID)\n",
    "        result = Entrez.read(handle)\n",
    "        webEnv = result[\"WebEnv\"]\n",
    "        queryKey = result[\"QueryKey\"]\n",
    "        data = Entrez.esummary(db=\"gene\", webenv=webEnv, query_key=queryKey)\n",
    "        result = Entrez.read(data)\n",
    "        to_return = [result['DocumentSummarySet']['DocumentSummary'][0]['Description'],\n",
    "            result['DocumentSummarySet']['DocumentSummary'][0]['Summary']]\n",
    "    except:\n",
    "        to_return = [np.nan, np.nan]\n",
    "    return to_return\n",
    "\n",
    "def get_genes_table(lst):\n",
    "    # create DF with gene names\n",
    "    genes = pd.DataFrame({'GENE_NAME':lst})\n",
    "\n",
    "    # get ID, description and summary of each gene using Entrez\n",
    "    genes['ID'] = genes['GENE_NAME'].apply(get_id)\n",
    "    tmp = pd.DataFrame(list(map(get_summary, genes['ID'])))\n",
    "    tmp.columns = ['DESCRIPTION', 'SUMMARY']\n",
    "    genes = pd.concat([genes, tmp], axis=1)\n",
    "\n",
    "    return genes\n",
    "\n",
    "\n",
    "# group1_genes = get_genes_table(group1)\n",
    "# group2_genes = get_genes_table(group2)\n",
    "# group3_genes = get_genes_table(group3)"
   ]
  },
  {
   "cell_type": "markdown",
   "metadata": {},
   "source": [
    "Look at the genes:"
   ]
  },
  {
   "cell_type": "code",
   "execution_count": 10,
   "metadata": {},
   "outputs": [],
   "source": [
    "group1_genes = pd.read_csv('task1_significant_genes_description_immune_329_samples.csv')"
   ]
  },
  {
   "cell_type": "code",
   "execution_count": 14,
   "metadata": {},
   "outputs": [
    {
     "data": {
      "text/html": [
       "\n",
       "        <iframe\n",
       "            width=\"100%\"\n",
       "            height=\"650\"\n",
       "            src=\"http://127.0.0.1:8050/\"\n",
       "            frameborder=\"0\"\n",
       "            allowfullscreen\n",
       "            \n",
       "        ></iframe>\n",
       "        "
      ],
      "text/plain": [
       "<IPython.lib.display.IFrame at 0x134798acdf0>"
      ]
     },
     "metadata": {},
     "output_type": "display_data"
    }
   ],
   "source": [
    "from dash import Dash, dcc, html\n",
    "\n",
    "app = Dash()\n",
    "app.layout = html.Div([\n",
    "    dcc.Graph(figure=table(group1_genes, [10, 8, 15, 90], 'Genes from group 1'))\n",
    "])\n",
    "\n",
    "app.run_server(debug=True, use_reloader=False)"
   ]
  },
  {
   "cell_type": "code",
   "execution_count": 11,
   "metadata": {},
   "outputs": [
    {
     "data": {
      "application/vnd.plotly.v1+json": {
       "config": {
        "plotlyServerURL": "https://plot.ly"
       },
       "data": [
        {
         "cells": {
          "align": "left",
          "values": [
           [
            0,
            1,
            2,
            3,
            4,
            5,
            6,
            7,
            8,
            9,
            10,
            11,
            12,
            13,
            14,
            15,
            16,
            17,
            18,
            19,
            20,
            21,
            22,
            23,
            24,
            25,
            26,
            27,
            28,
            29,
            30,
            31,
            32,
            33,
            34,
            35,
            36,
            37,
            38,
            39,
            40,
            41,
            42,
            43,
            44,
            45,
            46,
            47,
            48,
            49,
            50,
            51,
            52,
            53,
            54,
            55,
            56,
            57,
            58,
            59,
            60,
            61,
            62,
            63,
            64,
            65,
            66,
            67,
            68,
            69,
            70,
            71,
            72,
            73,
            74,
            75,
            76,
            77,
            78,
            79,
            80,
            81,
            82,
            83,
            84,
            85,
            86,
            87,
            88,
            89,
            90,
            91,
            92,
            93,
            94,
            95,
            96,
            97,
            98,
            99,
            100,
            101,
            102,
            103,
            104,
            105,
            106,
            107,
            108,
            109,
            110,
            111,
            112,
            113,
            114,
            115,
            116,
            117,
            118,
            119,
            120,
            121,
            122,
            123,
            124,
            125,
            126,
            127,
            128,
            129,
            130,
            131,
            132,
            133,
            134,
            135,
            136,
            137,
            138,
            139,
            140,
            141,
            142,
            143,
            144,
            145,
            146,
            147,
            148,
            149,
            150,
            151,
            152,
            153,
            154,
            155,
            156,
            157,
            158,
            159,
            160,
            161,
            162,
            163,
            164,
            165,
            166,
            167,
            168,
            169,
            170,
            171,
            172,
            173,
            174,
            175,
            176,
            177,
            178,
            179,
            180,
            181,
            182,
            183,
            184,
            185,
            186,
            187,
            188,
            189,
            190,
            191,
            192,
            193,
            194,
            195,
            196,
            197,
            198,
            199,
            200,
            201,
            202,
            203,
            204,
            205,
            206,
            207,
            208,
            209,
            210,
            211,
            212,
            213,
            214,
            215,
            216,
            217,
            218,
            219,
            220,
            221,
            222,
            223,
            224,
            225,
            226,
            227,
            228,
            229,
            230,
            231,
            232,
            233,
            234,
            235,
            236,
            237,
            238,
            239,
            240,
            241,
            242,
            243,
            244,
            245,
            246,
            247,
            248,
            249,
            250,
            251,
            252,
            253,
            254,
            255,
            256,
            257,
            258,
            259,
            260,
            261,
            262,
            263,
            264,
            265,
            266,
            267,
            268,
            269,
            270,
            271,
            272,
            273,
            274,
            275,
            276,
            277,
            278,
            279,
            280,
            281,
            282,
            283,
            284,
            285,
            286,
            287,
            288,
            289,
            290
           ],
           [
            "CCL3L3",
            "FCRL5",
            "GDNF",
            "IFNG",
            "KLRC4",
            "TNFRSF17",
            "FFAR4",
            "IKZF3",
            "FDCSP",
            "CCR8",
            "PLA2G2D",
            "CD19",
            "FAM30A",
            "DNAJC5B",
            "CCR3",
            "XCR1",
            "IRX2",
            "GPR174",
            "LGALS2",
            "JAKMIP1",
            "KLRF1",
            "HLA-DPB2",
            "MYBPC3",
            "FCRL3",
            "PNOC",
            "TNIP3",
            "UPK3A",
            "EFHC2",
            "FAM181B",
            "XCL1",
            "TNNI1",
            "TRPM3",
            "SUCNR1",
            "IL12B",
            "TIFAB",
            "RNF175",
            "TMEM156",
            "HSPC062",
            "CD3G",
            "ZNF660",
            "CLECL1",
            "BMS1P20",
            "CXCR2P1",
            "SIGLEC8",
            "GPR141",
            "S100Z",
            "TNFRSF9",
            "GBP1P1",
            "SMPDL3B",
            "SLC6A7",
            "CRTAM",
            "MMP12",
            "LILRA1",
            "JCHAIN",
            "BTNL8",
            "XCL2",
            "NLRC4",
            "THEMIS",
            "SH2D1A",
            "RGS18",
            "KIR3DL2",
            "ZBED2",
            "SLC8A1",
            "MZB1",
            "CD79A",
            "ERAP2",
            "CR1L",
            "CCR4",
            "SCML4",
            "CD1B",
            "NCR1",
            "ACY3",
            "MS4A1",
            "LOC100130355",
            "SKAP1",
            "P2RY10",
            "TMEM52B",
            "IL27",
            "EFNB3",
            "TTBK1",
            "CD1C",
            "POU2AF1",
            "TARP",
            "LAX1",
            "DTHD1",
            "PRAM1",
            "SELP",
            "FOXF2",
            "PTPRCAP",
            "C7",
            "DCANP1",
            "CLEC12A",
            "KCNA3",
            "INSL3",
            "SLC27A2",
            "ADGRE1",
            "MARCO",
            "BHLHA15",
            "PTPN22",
            "MIR155HG",
            "APOL3",
            "FASLG",
            "DFNB42",
            "KAT",
            "TTC24",
            "TBLYM",
            "PCED1B-AS1",
            "ADGRG5",
            "SAMD3",
            "RTP5",
            "P2RY12",
            "FUT7",
            "SLEB2",
            "SP140",
            "CCR2",
            "CD27",
            "KLRD1",
            "IL21R",
            "GPR171",
            "LY9",
            "SLFN12L",
            "SLAMF6",
            "HSH2D",
            "TFEC",
            "PACSIN1",
            "CLEC9A",
            "UBASH3A",
            "LILRB1",
            "HAMP",
            "DAPP1",
            "FCRL6",
            "CCDC88C",
            "CD72",
            "CP",
            "ANKRD22",
            "IL18",
            "ABCD2",
            "FCGR1B",
            "PIK3CG",
            "TNFSF14",
            "OTOF",
            "IRF1",
            "PRKCQ",
            "PIK3CD-AS1",
            "SOCS1",
            "KIR2DL3",
            "RASGEF1A",
            "MCTP2",
            "SLA2",
            "LINC02908",
            "TESPA1",
            "CLEC4D",
            "CD200R1",
            "BEND4",
            "KLHDC7B",
            "ZNF80",
            "CD1E",
            "SIGLEC10",
            "KIAA0366",
            "LILRA4",
            "RBP5",
            "NDRG4",
            "LGALS9",
            "RASSF6",
            "FAM26F",
            "PHKA1",
            "ASCL2",
            "ADAMDEC1",
            "CD80",
            "DBH",
            "CD79B",
            "C1orf54",
            "NLRP7",
            "PSTPIP2",
            "TOX2",
            "MIXL1",
            "SCIMP",
            "CD38",
            "GPR82",
            "ZBP1",
            "TNF",
            "IDDM21",
            "ITGAD",
            "TASL",
            "IL7",
            "TNFRSF13B",
            "CD69",
            "ZNF831",
            "TCL1A",
            "LINC01550",
            "CD247",
            "CD244",
            "P2RX1",
            "TLR8",
            "HSF5",
            "TMEM273",
            "CXCR5",
            "HTRA4",
            "SNX20",
            "KIR2DL4",
            "RLTPR",
            "CEACAM21",
            "ZBED6CL",
            "GBP5",
            "CD300LF",
            "TRAF3IP3",
            "C4A",
            "CD40",
            "ACSL5",
            "CYBB",
            "DENND2D",
            "BCL2L14",
            "CD226",
            "KLRC1",
            "TBC1D10C",
            "IL15",
            "LGALS9C",
            "GPR65",
            "XIRP1",
            "ZBTB32",
            "SPNS3",
            "ARL11",
            "CXCL11",
            "CD6",
            "FLT3",
            "CLEC4E",
            "ABI3",
            "FCGR1CP",
            "PTGDR",
            "STGD2",
            "KLHL6",
            "CISH",
            "DHRS9",
            "LCK",
            "RCSD1",
            "RHOH",
            "ITK",
            "IL12RB1",
            "CXCL13",
            "C19orf38",
            "RAB39B",
            "LAG3",
            "SIGLEC11",
            "SMTNL1",
            "SIRPG",
            "LGALS17A",
            "SLAMF1",
            "PTAFR",
            "NUGGC",
            "HLA-DQB1",
            "ECEL1",
            "PDE6G",
            "IL4I1",
            "PPP1R16B",
            "MAP3K14",
            "CCL21",
            "CD8B",
            "CD5L",
            "IKZF1",
            "APOL1",
            "AGAP2",
            "C1orf162",
            "CD7",
            "LAMP3",
            "VNN2",
            "LY75",
            "HSD11B1",
            "NFKB2",
            "MGC4342",
            "BCL11B",
            "ADAM6",
            "CD3E",
            "HCP5",
            "CLEC7A",
            "C11orf21",
            "SIRPB2",
            "GZMB",
            "CCDC69",
            "PTPN6",
            "RNASE2",
            "RAB37",
            "FCRL2",
            "KLRB1",
            "LAT",
            "PYHIN1",
            "ZNF683",
            "FPR2",
            "SLAMF7",
            "SIT1",
            "APOBR",
            "GIMAP4"
           ],
           [
            414062,
            83416,
            2668,
            3458,
            8302,
            608,
            338557,
            22806,
            260436,
            1237,
            26279,
            930,
            9834,
            85479,
            1232,
            2829,
            153572,
            84636,
            3958,
            152789,
            51348,
            3116,
            4607,
            115352,
            5368,
            79931,
            7380,
            80258,
            220382,
            6375,
            7135,
            80036,
            56670,
            3593,
            497189,
            285533,
            80008,
            50852,
            917,
            285349,
            160365,
            96610,
            3580,
            27181,
            353345,
            170591,
            3604,
            400759,
            27293,
            6534,
            56253,
            4321,
            11024,
            3512,
            79908,
            6846,
            58484,
            387357,
            4068,
            64407,
            3812,
            79413,
            6546,
            51237,
            973,
            64167,
            1379,
            1233,
            256380,
            910,
            9437,
            91703,
            931,
            100130355,
            8631,
            27334,
            120939,
            246778,
            1949,
            84630,
            911,
            5450,
            445347,
            54900,
            401124,
            84106,
            6403,
            2295,
            5790,
            3627,
            140947,
            160364,
            3738,
            3640,
            11001,
            2015,
            8685,
            168620,
            26191,
            114614,
            80833,
            356,
            286676,
            50848,
            164118,
            30009,
            100233209,
            221188,
            154075,
            285093,
            64805,
            2529,
            5133,
            11262,
            729230,
            939,
            3824,
            50615,
            29909,
            4063,
            100506736,
            114836,
            84941,
            22797,
            29993,
            283420,
            53347,
            10859,
            57817,
            27071,
            343413,
            440193,
            971,
            1356,
            118932,
            3606,
            6361,
            2210,
            5294,
            8740,
            9381,
            3659,
            5588,
            644997,
            8651,
            3804,
            221002,
            55784,
            84174,
            401563,
            9840,
            338339,
            131450,
            389206,
            113730,
            7634,
            913,
            89790,
            23501,
            23547,
            1381,
            65009,
            3965,
            166824,
            441168,
            5255,
            430,
            27299,
            941,
            1621,
            974,
            79630,
            199713,
            9050,
            84969,
            83881,
            388325,
            952,
            27197,
            10642,
            7124,
            117289,
            3681,
            80231,
            3574,
            23495,
            969,
            128611,
            8115,
            388011,
            919,
            51744,
            5023,
            51311,
            124535,
            170371,
            643,
            203100,
            124460,
            3805,
            146206,
            90273,
            113763,
            115362,
            146722,
            80342,
            720,
            958,
            51703,
            1536,
            79961,
            79370,
            10666,
            3821,
            374403,
            3600,
            654346,
            8477,
            165904,
            27033,
            201305,
            115761,
            6373,
            923,
            2322,
            26253,
            51225,
            100132417,
            5729,
            6785,
            55975,
            1154,
            10170,
            3932,
            92241,
            399,
            3702,
            3594,
            10563,
            255809,
            116442,
            3902,
            114132,
            219537,
            55423,
            400696,
            6504,
            5724,
            389643,
            3119,
            9427,
            5148,
            259307,
            26051,
            9020,
            6366,
            926,
            922,
            10320,
            8542,
            116986,
            128346,
            924,
            27074,
            8875,
            4065,
            3290,
            4791,
            79453,
            64919,
            8755,
            916,
            10866,
            64581,
            29125,
            55423,
            3002,
            26112,
            5777,
            6036,
            326624,
            79368,
            3820,
            27040,
            149628,
            257101,
            2358,
            57823,
            54716,
            55911,
            55303
           ],
           [
            "C-C motif chemokine ligand 3 like 3",
            "Fc receptor like 5",
            "glial cell derived neurotrophic factor",
            "interferon gamma",
            "killer cell lectin like receptor C4",
            "TNF receptor superfamily member 17",
            "free fatty acid receptor 4",
            "IKAROS family zinc finger 3",
            "follicular dendritic cell secreted protein",
            "C-C motif chemokine receptor 8",
            "phospholipase A2 group IID",
            "CD19 molecule",
            "family with sequence similarity 30 member A",
            "DnaJ heat shock protein family (Hsp40) member C5 beta",
            "C-C motif chemokine receptor 3",
            "X-C motif chemokine receptor 1",
            "iroquois homeobox 2",
            "G protein-coupled receptor 174",
            "galectin 3",
            "janus kinase and microtubule interacting protein 1",
            "killer cell lectin like receptor F1",
            "major histocompatibility complex, class II, DP beta 2 (pseudogene)",
            "myosin binding protein C3",
            "Fc receptor like 3",
            "prepronociceptin",
            "TNFAIP3 interacting protein 3",
            "uroplakin 3A",
            "EF-hand domain containing 2",
            "family with sequence similarity 181 member B",
            "X-C motif chemokine ligand 1",
            "troponin I1, slow skeletal type",
            "transient receptor potential cation channel subfamily M member 3",
            "succinate receptor 1",
            "interleukin 12B",
            "TIFA inhibitor",
            "ring finger protein 175",
            "transmembrane protein 156",
            "T cell receptor associated transmembrane adaptor 1",
            "CD3 gamma subunit of T-cell receptor complex",
            "zinc finger protein 660",
            "C-type lectin like 1, pseudogene",
            "BMS1 pseudogene 20",
            "C-X-C motif chemokine receptor 2 pseudogene 1",
            "sialic acid binding Ig like lectin 8",
            "G protein-coupled receptor 141",
            "S100 calcium binding protein Z",
            "TNF receptor superfamily member 9",
            "guanylate binding protein 1 pseudogene 1",
            "sphingomyelin phosphodiesterase acid like 3B",
            "solute carrier family 6 member 7",
            "cytotoxic and regulatory T cell molecule",
            "matrix metallopeptidase 12",
            "leukocyte immunoglobulin like receptor A1",
            "joining chain of multimeric IgA and IgM",
            "butyrophilin like 8",
            "X-C motif chemokine ligand 2",
            "NLR family CARD domain containing 4",
            "thymocyte selection associated",
            "SH2 domain containing 1A",
            "regulator of G protein signaling 18",
            "killer cell immunoglobulin like receptor, three Ig domains and long cytoplasmic tail 2",
            "zinc finger BED-type containing 2",
            "solute carrier family 8 member A1",
            "marginal zone B and B1 cell specific protein",
            "CD79a molecule",
            "endoplasmic reticulum aminopeptidase 2",
            "complement C3b/C4b receptor 1 like",
            "C-C motif chemokine receptor 4",
            "Scm polycomb group protein like 4",
            "CD1b molecule",
            "natural cytotoxicity triggering receptor 1",
            "aminoacylase 3",
            "membrane spanning 4-domains A1",
            "hypothetical protein LOC100130355",
            "src kinase associated phosphoprotein 1",
            "P2Y receptor family member 10",
            "transmembrane protein 52B",
            "interleukin 27",
            "ephrin B3",
            "tau tubulin kinase 1",
            "CD1c molecule",
            "POU class 2 homeobox associating factor 1",
            "TCR gamma alternate reading frame protein",
            "lymphocyte transmembrane adaptor 1",
            "death domain containing 1",
            "PML-RARA regulated adaptor molecule 1",
            "selectin P",
            "forkhead box F2",
            "protein tyrosine phosphatase receptor type C associated protein",
            "C-X-C motif chemokine ligand 10",
            "dendritic cell associated nuclear protein 1",
            "C-type lectin domain family 12 member A",
            "potassium voltage-gated channel subfamily A member 3",
            "insulin like 3",
            "solute carrier family 27 member 2",
            "adhesion G protein-coupled receptor E1",
            "macrophage receptor with collagenous structure",
            "basic helix-loop-helix family member a15",
            "protein tyrosine phosphatase non-receptor type 22",
            "MIR155 host gene",
            "apolipoprotein L3",
            "Fas ligand",
            "immunoglobulin like domain containing receptor 1",
            "F11 receptor",
            "tetratricopeptide repeat domain 24",
            "T-box transcription factor 21",
            "PCED1B antisense RNA 1",
            "adhesion G protein-coupled receptor G5",
            "sterile alpha motif domain containing 3",
            "receptor transporter protein 5 (putative)",
            "purinergic receptor P2Y12",
            "fucosyltransferase 7",
            "programmed cell death 1",
            "SP140 nuclear body protein",
            "C-C motif chemokine receptor 2",
            "CD27 molecule",
            "killer cell lectin like receptor D1",
            "interleukin 21 receptor",
            "G protein-coupled receptor 171",
            "lymphocyte antigen 9",
            "schlafen family member 12 like",
            "SLAM family member 6",
            "hematopoietic SH2 domain containing",
            "transcription factor EC",
            "protein kinase C and casein kinase substrate in neurons 1",
            "C-type lectin domain containing 9A",
            "ubiquitin associated and SH3 domain containing A",
            "leukocyte immunoglobulin like receptor B1",
            "hepcidin antimicrobial peptide",
            "dual adaptor of phosphotyrosine and 3-phosphoinositides 1",
            "Fc receptor like 6",
            "coiled-coil domain containing 88C",
            "CD72 molecule",
            "ceruloplasmin",
            "ankyrin repeat domain 22",
            "interleukin 18",
            "C-C motif chemokine ligand 17",
            "Fc gamma receptor Ib, pseudogene",
            "phosphatidylinositol-4,5-bisphosphate 3-kinase catalytic subunit gamma",
            "TNF superfamily member 14",
            "otoferlin",
            "interferon regulatory factor 1",
            "protein kinase C theta",
            "PIK3CD antisense RNA 1",
            "suppressor of cytokine signaling 1",
            "killer cell immunoglobulin like receptor, two Ig domains and long cytoplasmic tail 3",
            "RasGEF domain family member 1A",
            "multiple C2 and transmembrane domain containing 2",
            "Src like adaptor 2",
            "long intergenic non-protein coding RNA 2908",
            "thymocyte expressed, positive selection associated 1",
            "C-type lectin domain family 4 member D",
            "CD200 receptor 1",
            "BEN domain containing 4",
            "kelch domain containing 7B",
            "zinc finger protein 80",
            "CD1e molecule",
            "sialic acid binding Ig like lectin 10",
            "KIAA0366 protein",
            "leukocyte immunoglobulin like receptor A4",
            "cellular retinoic acid binding protein 1",
            "NDRG family member 4",
            "galectin 9",
            "Ras association domain family member 6",
            "calcium homeostasis modulator family member 6",
            "phosphorylase kinase regulatory subunit alpha 1",
            "achaete-scute family bHLH transcription factor 2",
            "ADAM like decysin 1",
            "CD80 molecule",
            "dopamine beta-hydroxylase",
            "CD79b molecule",
            "chromosome 1 open reading frame 54",
            "NLR family pyrin domain containing 7",
            "proline-serine-threonine phosphatase interacting protein 2",
            "TOX high mobility group box family member 2",
            "Mix paired-like homeobox",
            "SLP adaptor and CSK interacting membrane protein",
            "CD38 molecule",
            "G protein-coupled receptor 82",
            "insulin like growth factor 2 mRNA binding protein 1",
            "tumor necrosis factor",
            "T cell activation RhoGTPase activating protein",
            "integrin subunit alpha D",
            "TLR adaptor interacting with endolysosomal SLC15A4",
            "interleukin 7",
            "TNF receptor superfamily member 13B",
            "CD69 molecule",
            "zinc finger protein 831",
            "TCL1 family AKT coactivator A",
            "long intergenic non-protein coding RNA 1550",
            "CD247 molecule",
            "CD244 molecule",
            "purinergic receptor P2X 1",
            "toll like receptor 8",
            "heat shock transcription factor 5",
            "transmembrane protein 273",
            "C-X-C motif chemokine receptor 5",
            "HtrA serine peptidase 4",
            "sorting nexin 20",
            "killer cell immunoglobulin like receptor, two Ig domains and long cytoplasmic tail 4",
            "capping protein regulator and myosin 1 linker 2",
            "CEA cell adhesion molecule 21",
            "zinc finger BED-type containing 10, pseudogene",
            "guanylate binding protein 5",
            "CD300 molecule like family member f",
            "TRAF3 interacting protein 3",
            "complement C4A (Rodgers blood group)",
            "CD40 molecule",
            "acyl-CoA synthetase long chain family member 5",
            "cytochrome b-245 beta chain",
            "DENN domain containing 2D",
            "BCL2 like 14",
            "CD226 molecule",
            "killer cell lectin like receptor C1",
            "TBC1 domain family member 10C",
            "interleukin 15",
            "galectin 9C",
            "G protein-coupled receptor 65",
            "xin actin binding repeat containing 1",
            "zinc finger and BTB domain containing 32",
            "SPNS lysolipid transporter 3, sphingosine-1-phosphate (putative)",
            "ADP ribosylation factor like GTPase 11",
            "C-X-C motif chemokine ligand 11",
            "CD6 molecule",
            "fms related receptor tyrosine kinase 3",
            "C-type lectin domain family 4 member E",
            "ABI family member 3",
            "Fc gamma receptor Ic, pseudogene",
            "prostaglandin D2 receptor",
            "ELOVL fatty acid elongase 4",
            "kelch like family member 7",
            "cytokine inducible SH2 containing protein",
            "dehydrogenase/reductase 9",
            "LCK proto-oncogene, Src family tyrosine kinase",
            "RCSD domain containing 1",
            "ras homolog family member H",
            "IL2 inducible T cell kinase",
            "interleukin 12 receptor subunit beta 1",
            "C-X-C motif chemokine ligand 13",
            "chromosome 19 open reading frame 38",
            "RAB39B, member RAS oncogene family",
            "lymphocyte activating 3",
            "sialic acid binding Ig like lectin 11",
            "smoothelin like 1",
            "signal regulatory protein gamma",
            "galectin 14 pseudogene",
            "signaling lymphocytic activation molecule family member 1",
            "platelet activating factor receptor",
            "nuclear GTPase, germinal center associated",
            "major histocompatibility complex, class II, DQ beta 1",
            "endothelin converting enzyme like 1",
            "phosphodiesterase 6G",
            "interleukin 4 induced 1",
            "protein phosphatase 1 regulatory subunit 16B",
            "mitogen-activated protein kinase kinase kinase 14",
            "C-C motif chemokine ligand 21",
            "CD8 subunit beta",
            "CD5 molecule like",
            "IKAROS family zinc finger 1",
            "apolipoprotein L1",
            "ArfGAP with GTPase domain, ankyrin repeat and PH domain 2",
            "chromosome 1 open reading frame 162",
            "CD7 molecule",
            "lysosomal associated membrane protein 3",
            "vanin 2",
            "lymphocyte antigen 75",
            "hydroxysteroid 11-beta dehydrogenase 1",
            "nuclear factor kappa B subunit 2",
            "hypothetical protein MGC4342",
            "BCL11 transcription factor B",
            "ADAM metallopeptidase domain 6 (pseudogene)",
            "CD3 epsilon subunit of T-cell receptor complex",
            "HLA complex P5",
            "C-type lectin domain containing 7A",
            "chromosome 11 open reading frame 21",
            "signal regulatory protein gamma",
            "granzyme B",
            "coiled-coil domain containing 69",
            "protein tyrosine phosphatase non-receptor type 6",
            "ribonuclease A family member 2",
            "RAB37, member RAS oncogene family",
            "Fc receptor like 2",
            "killer cell lectin like receptor B1",
            "linker for activation of T cells",
            "pyrin and HIN domain family member 1",
            "zinc finger protein 683",
            "formyl peptide receptor 2",
            "SLAM family member 7",
            "solute carrier family 6 member 20",
            "apolipoprotein B receptor",
            "GTPase, IMAP family member 4"
           ],
           [
            "This gene is one of several cytokine genes that are clustered on the q-arm of chromosome 17. Cytokines are a family of secreted proteins that function in inflammatory and immunoregulatory processes. The protein encoded by this gene binds to several chemokine receptors, including chemokine binding protein 2 and chemokine (C-C motif) receptor 5 (CCR5). CCR5 is a co-receptor for HIV, and binding of this protein to CCR5 inhibits HIV entry. The copy number of this gene varies among individuals, where most individuals have one to six copies, and a minority of individuals have zero or more than six copies. There are conflicting reports about copy number variation of this gene and its correlation to disease susceptibility.[provided by RefSeq, Apr 2014]",
            "This gene encodes a member of the immunoglobulin receptor superfamily and the Fc-receptor like family. This gene and several other Fc receptor-like gene members are clustered on the long arm of chromosome 1. The encoded protein is a single-pass type I membrane protein and contains 8 immunoglobulin-like C2-type domains. This gene is implicated in B cell development and lymphomagenesis. Alternatively spliced transcript variants encoding different isoforms have been identified. [provided by RefSeq, Sep 2010]",
            "This gene encodes a secreted ligand of the TGF-beta (transforming growth factor-beta) superfamily of proteins. Ligands of this family bind various TGF-beta receptors leading to recruitment and activation of SMAD family transcription factors that regulate gene expression. The encoded preproprotein is proteolytically processed to generate each subunit of the disulfide-linked homodimer. The recombinant form of this protein, a highly conserved neurotrophic factor, was shown to promote the survival and differentiation of dopaminergic neurons in culture, and was able to prevent apoptosis of motor neurons induced by axotomy. This protein is a ligand for the product of the RET (rearranged during transfection) protooncogene. Mutations in this gene may be associated with Hirschsprung disease and Tourette syndrome. This gene encodes multiple protein isoforms that may undergo similar proteolytic processing. [provided by RefSeq, Aug 2016]",
            "This gene encodes a soluble cytokine that is a member of the type II interferon class. The encoded protein is secreted by cells of both the innate and adaptive immune systems. The active protein is a homodimer that binds to the interferon gamma receptor which triggers a cellular response to viral and microbial infections. Mutations in this gene are associated with an increased susceptibility to viral, bacterial and parasitic infections and to several autoimmune diseases. [provided by RefSeq, Dec 2015]",
            "Natural killer (NK) cells are lymphocytes that can mediate lysis of certain tumor cells and virus-infected cells without previous activation. They can also regulate specific humoral and cell-mediated immunity. NK cells preferentially express several calcium-dependent (C-type) lectins, which have been implicated in the regulation of NK cell function. This gene is a member of the NKG2 group of genes that are expressed primarily in natural killer (NK) cells. These family members encode transmembrane proteins that are characterized by a type II membrane orientation (have an extracellular C-terminus) and the presence of a C-type lectin domain. This family member is located within the NK complex, a region that contains several C-type lectin genes preferentially expressed in NK cells. Read-through transcription exists between this gene and the downstream KLRK1 (killer cell lectin-like receptor subfamily K, member 1) family member. [provided by RefSeq, Dec 2010]",
            "The protein encoded by this gene is a member of the TNF-receptor superfamily. This receptor is preferentially expressed in mature B lymphocytes, and may be important for B cell development and autoimmune response. This receptor has been shown to specifically bind to the tumor necrosis factor (ligand) superfamily, member 13b (TNFSF13B/TALL-1/BAFF), and to lead to NF-kappaB and MAPK8/JNK activation. This receptor also binds to various TRAF family members, and thus may transduce signals for cell survival and proliferation. [provided by RefSeq, Jul 2008]",
            "This gene encodes a G protein-coupled receptor (GPR) which belongs to the rhodopsin family of GPRs. The encoded protein functions as a receptor for free fatty acids, including omega-3, and participates in suppressing anti-inflammatory responses and insulin sensitizing. Multiple transcript variants encoding different isoforms have been found for this gene. [provided by RefSeq, Feb 2012]",
            "This gene encodes a member of the Ikaros family of zinc-finger proteins. Three members of this protein family (Ikaros, Aiolos and Helios) are hematopoietic-specific transcription factors involved in the regulation of lymphocyte development. This gene product is a transcription factor that is important in the regulation of B lymphocyte proliferation and differentiation. Both Ikaros and Aiolos can participate in chromatin remodeling. Regulation of gene expression in B lymphocytes by Aiolos is complex as it appears to require the sequential formation of Ikaros homodimers, Ikaros/Aiolos heterodimers, and Aiolos homodimers. Several alternative transcripts encoding different isoforms have been described, as well as some non-protein coding variants. [provided by RefSeq, Apr 2012]",
            "This gene encodes a small secreted protein that is expressed in follicular dendritic cells. This protein specifically binds to activated B cells, and functions as a regulator of antibody responses. It is also thought to contribute to tumor metastases by promoting cancer cell migration and invasion. [provided by RefSeq, Dec 2011]",
            "This gene encodes a member of the beta chemokine receptor family, which is predicted to be a seven transmembrane protein similar to G protein-coupled receptors. Chemokines and their receptors are important for the migration of various cell types into the inflammatory sites. This receptor protein preferentially expresses in the thymus. I-309, thymus activation-regulated cytokine (TARC) and macrophage inflammatory protein-1 beta (MIP-1 beta) have been identified as ligands of this receptor. Studies of this receptor and its ligands suggested its role in regulation of monocyte chemotaxis and thymic cell apoptosis. More specifically, this receptor may contribute to the proper positioning of activated T cells within the antigenic challenge sites and specialized areas of lymphoid tissues. This gene is located at the chemokine receptor gene cluster region. [provided by RefSeq, Jul 2008]",
            "This gene encodes a secreted member of the phospholipase A2 family, and is found in a cluster of related family members on chromosome 1. Phospholipase A2 family members hydrolyze the sn-2 fatty acid ester bond of glycerophospholipids to produce lysophospholipids and free fatty acid. This gene may be involved in inflammation and immune response, and in weight loss associated with chronic obstructive pulmonary disease. Alternative splicing results in multiple transcript variants encoding different isoforms. [provided by RefSeq, Nov 2012]",
            "This gene encodes a member of the immunoglobulin gene superfamily. Expression of this cell surface protein is restricted to B cell lymphocytes. This protein is a reliable marker for pre-B cells but its expression diminishes during terminal B cell differentiation in antibody secreting plasma cells. The protein has two N-terminal extracellular Ig-like domains separated by a non-Ig-like domain, a hydrophobic transmembrane domain, and a large C-terminal cytoplasmic domain. This protein forms a complex with several membrane proteins including complement receptor type 2 (CD21) and tetraspanin (CD81) and this complex reduces the threshold for antigen-initiated B cell activation. Activation of this B-cell antigen receptor complex activates the phosphatidylinositol 3-kinase signalling pathway and the subsequent release of intracellular stores of calcium ions. This protein is a target of chimeric antigen receptor (CAR) T-cells used in the treatment of lymphoblastic leukemia. Mutations in this gene are associated with the disease common variable immunodeficiency 3 (CVID3) which results in a failure of B-cell differentiation and impaired secretion of immunoglobulins. CVID3 is characterized by hypogammaglobulinemia, an inability to mount an antibody response to antigen, and recurrent bacterial infections. Alternative splicing results in multiple transcript variants encoding distinct isoforms. [provided by RefSeq, Jul 2020]",
            null,
            "This gene encodes a member of the DNAJ heat shock protein 40 family of co-chaperone proteins that is characterized by an N-terminal DNAJ domain, a linker region, and a cysteine-rich C-terminal domain. The encoded protein, together with heat shock protein 70, is thought to regulate the proper folding of other proteins. The orthologous mouse protein is membrane-associated and is targeted to the trans-golgi network. [provided by RefSeq, Mar 2017]",
            "The protein encoded by this gene is a receptor for C-C type chemokines. It belongs to family 1 of the G protein-coupled receptors. This receptor binds and responds to a variety of chemokines, including eotaxin (CCL11), eotaxin-3 (CCL26), MCP-3 (CCL7), MCP-4 (CCL13), and RANTES (CCL5). It is highly expressed in eosinophils and basophils, and is also detected in TH1 and TH2 cells, as well as in airway epithelial cells. This receptor may contribute to the accumulation and activation of eosinophils and other inflammatory cells in the allergic airway. It is also known to be an entry co-receptor for HIV-1. This gene and seven other chemokine receptor genes form a chemokine receptor gene cluster on the chromosomal region 3p21. Alternatively spliced transcript variants have been described. [provided by RefSeq, Sep 2009]",
            "The protein encoded by this gene is a chemokine receptor belonging to the G protein-coupled receptor superfamily. The family members are characterized by the presence of 7 transmembrane domains. The encoded protein transduces a signal by increasing the intracellular calcium ion level. The viral macrophage inflammatory protein-II is an antagonist of this receptor and blocks signaling. Some studies have implicated a cluster of genes at 3p21.31, including this gene, as associated with COVID-19 risk. The encoded protein may also play a role in cell proliferation and migration in several types of cancer. [provided by RefSeq, Jan 2023]",
            "IRX2 is a member of the Iroquois homeobox gene family. Members of this family appear to play multiple roles during pattern formation of vertebrate embryos.[supplied by OMIM, Apr 2004]",
            "This gene encodes a protein belonging to the G protein-coupled receptor superfamily. These proteins are characterized by the presence of seven alpha-helical transmembrane domains, and they activate or interact with various endogenous or exogenous ligands, including neurotransmitters, hormones, and odorant and taste substances. This family member is classified as an orphan receptor because the cognate ligand has not been identified. [provided by RefSeq, Sep 2011]",
            "This gene encodes a member of the galectin family of carbohydrate binding proteins. Members of this protein family have an affinity for beta-galactosides. The encoded protein is characterized by an N-terminal proline-rich tandem repeat domain and a single C-terminal carbohydrate recognition domain. This protein can self-associate through the N-terminal domain allowing it to bind to multivalent saccharide ligands. This protein localizes to the extracellular matrix, the cytoplasm and the nucleus. This protein plays a role in numerous cellular functions including apoptosis, innate immunity, cell adhesion and T-cell regulation. The protein exhibits antimicrobial activity against bacteria and fungi. Alternate splicing results in multiple transcript variants.[provided by RefSeq, Oct 2014]",
            "Enables GABA receptor binding activity and RNA binding activity. Involved in cognition. Is extrinsic component of membrane. Part of ribonucleoprotein complex. [provided by Alliance of Genome Resources, Apr 2022]",
            "KLRF1, an activating homodimeric C-type lectin-like receptor (CTLR), is expressed on nearly all natural killer (NK) cells and stimulates their cytoxicity and cytokine release (Kuttruff et al., 2009 [PubMed 18922855]).[supplied by OMIM, Oct 2009]",
            null,
            "MYBPC3 encodes the cardiac isoform of myosin-binding protein C. Myosin-binding protein C is a myosin-associated protein found in the cross-bridge-bearing zone (C region) of A bands in striated muscle. MYBPC3 is expressed exclusively in heart muscle and is a key regulator of cardiac contraction. Mutations in this gene are a frequent cause of familial hypertrophic cardiomyopathy. [provided by RefSeq, May 2022]",
            "This gene encodes a member of the immunoglobulin receptor superfamily and is one of several Fc receptor-like glycoproteins clustered on the long arm of chromosome 1. The encoded protein contains immunoreceptor-tyrosine activation motifs and immunoreceptor-tyrosine inhibitory motifs in its cytoplasmic domain and may play a role in regulation of the immune system. Mutations in this gene have been associated with rheumatoid arthritis, autoimmune thyroid disease, and systemic lupus erythematosus. Alternative splicing results in multiple transcript variants. [provided by RefSeq, Feb 2016]",
            "This gene encodes a preproprotein that is proteolytically processed to generate multiple protein products. These products include nociceptin, nocistatin, and orphanin FQ2 (OFQ2). Nociceptin, also known as orphanin FQ, is a 17-amino acid neuropeptide that binds to the nociceptin receptor to induce increased pain sensitivity, and may additionally regulate body temperature, learning and memory, and hunger. Another product of the encoded preproprotein, nocistatin, may inhibit the effects of nociceptin. [provided by RefSeq, Jul 2015]",
            "Enables polyubiquitin modification-dependent protein binding activity. Involved in cellular response to lipopolysaccharide; negative regulation of I-kappaB kinase/NF-kappaB signaling; and toll-like receptor signaling pathway. Predicted to be located in cytosol. [provided by Alliance of Genome Resources, Apr 2022]",
            "This gene encodes a member of the uroplakin family, a group of transmembrane proteins that form complexes on the apical surface of the bladder epithelium. Mutations in this gene may be associated with renal adysplasia. Alternatively spliced transcript variants have been described.[provided by RefSeq, Nov 2009]",
            "This gene encodes a protein which contains three DM10 domains and three calcium-binding EF-hand motifs. A related protein is encoded by a gene on chromosome 6. It has been suggested that both proteins are involved in the development of epilepsy (PMID: 15258581, 16112844) and that this gene may be associated with fear recognition in individuals with Turner syndrome. [provided by RefSeq, Aug 2011]",
            null,
            "This antimicrobial gene encodes a member of the chemokine superfamily. Chemokines function in inflammatory and immunological responses, inducing leukocyte migration and activation. The encoded protein is a member of the C-chemokine subfamily, retaining only two of four cysteines conserved in other chemokines, and is thought to be specifically chemotactic for T cells. This gene and a closely related family member are located on the long arm of chromosome 1. [provided by RefSeq, Sep 2014]",
            "Troponin proteins associate with tropomyosin and regulate the calcium sensitivity of the myofibril contractile apparatus of striated muscles. Troponin I (TnI), along with troponin T (TnT) and troponin C (TnC), is one of 3 subunits that form the troponin complex of the thin filaments of striated muscle. TnI is the inhibitory subunit; blocking actin-myosin interactions and thereby mediating striated muscle relaxation. The TnI subfamily contains three genes: TnI-skeletal-fast-twitch, TnI-skeletal-slow-twitch, and TnI-cardiac. The TnI-fast and TnI-slow genes are expressed in fast-twitch and slow-twitch skeletal muscle fibers, respectively, while the TnI-cardiac gene is expressed exclusively in cardiac muscle tissue. This gene encodes the Troponin-I-skeletal-slow-twitch protein. This gene is expressed in cardiac and skeletal muscle during early development but is restricted to slow-twitch skeletal muscle fibers in adults. The encoded protein prevents muscle contraction by inhibiting calcium-mediated conformational changes in actin-myosin complexes. [provided by RefSeq, Jul 2008]",
            "The product of this gene belongs to the family of transient receptor potential (TRP) channels. TRP channels are cation-selective channels important for cellular calcium signaling and homeostasis. The protein encoded by this gene mediates calcium entry, and this entry is potentiated by calcium store depletion. Alternatively spliced transcript variants encoding different isoforms have been identified. [provided by RefSeq, Jul 2008]",
            "This gene encodes a G-protein-coupled receptor for succinate, an intermediate molecule of the citric acid cycle. It is involved in the promotion of hematopoietic progenitor cell development, and it has a potential role in renovascular hypertension which has known correlations to renal failure, diabetes and atherosclerosis. [provided by RefSeq, Oct 2009]",
            "This gene encodes a subunit of interleukin 12, a cytokine that acts on T and natural killer cells, and has a broad array of biological activities. Interleukin 12 is a disulfide-linked heterodimer composed of the 40 kD cytokine receptor like subunit encoded by this gene, and a 35 kD subunit encoded by IL12A. This cytokine is expressed by activated macrophages that serve as an essential inducer of Th1 cells development. This cytokine has been found to be important for sustaining a sufficient number of memory/effector Th1 cells to mediate long-term protection to an intracellular pathogen. Overexpression of this gene was observed in the central nervous system of patients with multiple sclerosis (MS), suggesting a role of this cytokine in the pathogenesis of the disease. The promoter polymorphism of this gene has been reported to be associated with the severity of atopic and non-atopic asthma in children. [provided by RefSeq, Jul 2008]",
            "Involved in several processes, including animal organ morphogenesis; cranial nerve development; and hard palate morphogenesis. [provided by Alliance of Genome Resources, Apr 2022]",
            "Predicted to enable ubiquitin protein ligase activity. Predicted to be involved in ubiquitin-dependent ERAD pathway. Predicted to be integral component of membrane. Predicted to be active in Golgi membrane and endoplasmic reticulum membrane. [provided by Alliance of Genome Resources, Apr 2022]",
            "Predicted to be integral component of membrane. [provided by Alliance of Genome Resources, Apr 2022]",
            "Predicted to enable transmembrane receptor protein tyrosine kinase adaptor activity. Acts upstream of or within negative regulation of receptor recycling; negative regulation of transport; and positive regulation of signal transduction. Located in centriolar satellite; mitotic spindle; and plasma membrane. Part of T cell receptor complex. [provided by Alliance of Genome Resources, Apr 2022]",
            "The protein encoded by this gene is the CD3-gamma polypeptide, which together with CD3-epsilon, -delta and -zeta, and the T-cell receptor alpha/beta and gamma/delta heterodimers, forms the T-cell receptor-CD3 complex. This complex plays an important role in coupling antigen recognition to several intracellular signal-transduction pathways. The genes encoding the epsilon, gamma and delta polypeptides are located in the same cluster on chromosome 11. Defects in this gene are associated with T cell immunodeficiency. [provided by RefSeq, Jul 2008]",
            "This gene encodes a protein that contains multiple C2H2 zinc finger domains, and is located in a cluster of zinc-finger encoding genes on chromosome 3. Naturally-occurring readthrough transcription is observed between this gene and the downstream zinc finger protein 197 gene and is represented by GeneID:110354863. [provided by RefSeq, May 2017]",
            "This gene encodes a type II transmembrane, C-type lectin-like protein that is highly expressed on dendritic and B cells. This protein may act as a T-cell costimulatory molecule that enhances interleukin-4 production, and maybe involved in the regulation of the immune response. Alternatively spliced transcript variants encoding different isoforms have been found for this gene. [provided by RefSeq, Dec 2011]",
            "This locus appears to be a transcribed pseudogene of the BMS1 homolog of yeast ribosome assembly protein on chromosome 10 that has arisen from duplication of the 3' half of the parent gene. Frameshifts and premature stop codons are present in this pseudogene compared to the parent gene. This gene lies in the immunoglobulin lambda gene cluster on chromosome 22q11.21.[provided by RefSeq, Mar 2009]",
            null,
            "Sialic acid-binding immunoglobulin (Ig)-like lectins, or SIGLECs (e.g., CD33 (MIM 159590)), are a family of type 1 transmembrane proteins each having a unique expression pattern, mostly in hemopoietic cells. SIGLEC8 is a member of the CD33-like subgroup of SIGLECs, which are localized to 19q13.3-q13.4 and have 2 conserved cytoplasmic tyrosine-based motifs: an immunoreceptor tyrosine-based inhibitory motif, or ITIM (see MIM 604964), and a motif homologous to one identified in signaling lymphocyte activation molecule (SLAM; MIM 603492) that mediates an association with SLAM-associated protein (SAP; MIM 300490) (summarized by Foussias et al., 2000 [PubMed 11095983]).[supplied by OMIM, May 2010]",
            "GPR141 is a member of the rhodopsin family of G protein-coupled receptors (GPRs) (Fredriksson et al., 2003 [PubMed 14623098]).[supplied by OMIM, Mar 2008]",
            "Members of the S100 protein family contain 2 calcium-binding EF-hands and exhibit cell-type specific expression patterns. For additional background information on S100 proteins, see MIM 114085.[supplied by OMIM, Mar 2008]",
            "The protein encoded by this gene is a member of the TNF-receptor superfamily. This receptor contributes to the clonal expansion, survival, and development of T cells. It can also induce proliferation in peripheral monocytes, enhance T cell apoptosis induced by TCR/CD3 triggered activation, and regulate CD28 co-stimulation to promote Th1 cell responses. The expression of this receptor is induced by lymphocyte activation. TRAF adaptor proteins have been shown to bind to this receptor and transduce the signals leading to activation of NF-kappaB. [provided by RefSeq, Jul 2008]",
            null,
            "Enables phosphoric diester hydrolase activity. Predicted to be involved in membrane lipid catabolic process; negative regulation of inflammatory response; and negative regulation of toll-like receptor signaling pathway. Located in extracellular exosome. [provided by Alliance of Genome Resources, Apr 2022]",
            "This gene is a member of the gamma-aminobutyric acid (GABA) neurotransmitter gene family and encodes a high-affinity mammalian brain L-proline transporter protein. This transporter protein differs from other sodium-dependent plasma membrane carriers by its pharmacological specificity, kinetic properties, and ionic requirements. [provided by RefSeq, Jul 2008]",
            "The CRTAM gene is upregulated in CD4 (see MIM 186940)-positive and CD8 (see CD8A; MIM 186910)-positive T cells and encodes a type I transmembrane protein with V and C1-like Ig domains (Yeh et al., 2008 [PubMed 18329370]).[supplied by OMIM, Feb 2009]",
            "This gene encodes a member of the peptidase M10 family of matrix metalloproteinases (MMPs). Proteins in this family are involved in the breakdown of extracellular matrix in normal physiological processes, such as embryonic development, reproduction, and tissue remodeling, as well as in disease processes, such as arthritis and metastasis. The encoded preproprotein is proteolytically processed to generate the mature protease. This protease degrades soluble and insoluble elastin. This gene may play a role in aneurysm formation and mutations in this gene are associated with lung function and chronic obstructive pulmonary disease (COPD). This gene is part of a cluster of MMP genes on chromosome 11. [provided by RefSeq, Jan 2016]",
            "This gene encodes an activating member of the leukocyte immunoglobulin-like receptor (LIR) family, which is found in a gene cluster at chromosomal region 19q13.4. The encoded protein is predominantly expressed in B cells, interacts with major histocompatibility complex class I ligands, and contributes to the regulation of immune responses. Alternative splicing results in multiple transcript variants encoding different isoforms. [provided by RefSeq, May 2013]",
            "Enables IgA binding activity and protein homodimerization activity. Contributes to several functions, including immunoglobulin receptor binding activity; peptidoglycan binding activity; and phosphatidylcholine binding activity. Involved in several processes, including defense response to other organism; glomerular filtration; and positive regulation of respiratory burst. Located in extracellular space. Part of monomeric IgA immunoglobulin complex; pentameric IgM immunoglobulin complex; and secretory dimeric IgA immunoglobulin complex. [provided by Alliance of Genome Resources, Apr 2022]",
            "Predicted to enable signaling receptor binding activity. Predicted to be involved in T cell receptor signaling pathway and regulation of cytokine production. Predicted to be located in plasma membrane. Predicted to be active in external side of plasma membrane. [provided by Alliance of Genome Resources, Apr 2022]",
            "Predicted to enable CCR chemokine receptor binding activity and chemokine activity. Predicted to be involved in several processes, including cellular response to cytokine stimulus; leukocyte chemotaxis; and positive regulation of T cell chemotaxis. Predicted to be located in extracellular region. Predicted to be active in extracellular space. [provided by Alliance of Genome Resources, Apr 2022]",
            "This gene encodes a member of the caspase recruitment domain-containing NLR family. Family members play essential roles in innate immune response to a wide range of pathogenic organisms, tissue damage and other cellular stresses. Mutations in this gene result in autoinflammation with infantile enterocolitis. Alternative splicing results in multiple transcript variants. [provided by RefSeq, Oct 2014]",
            "This gene encodes a protein that plays a regulatory role in both positive and negative T-cell selection during late thymocyte development. The protein functions through T-cell antigen receptor signaling, and is necessary for proper lineage commitment and maturation of T-cells. Alternative splicing results in multiple transcript variants. [provided by RefSeq, Sep 2009]",
            "This gene encodes a protein that plays a major role in the bidirectional stimulation of T and B cells. This protein contains an SH2 domain and a short tail. It associates with the signaling lymphocyte-activation molecule, thereby acting as an inhibitor of this transmembrane protein by blocking the recruitment of the SH2-domain-containing signal-transduction molecule SHP-2 to its docking site. This protein can also bind to other related surface molecules that are expressed on activated T, B and NK cells, thereby modifying signal transduction pathways in these cells. Mutations in this gene cause lymphoproliferative syndrome X-linked type 1 or Duncan disease, a rare immunodeficiency characterized by extreme susceptibility to infection with Epstein-Barr virus, with symptoms including severe mononucleosis and malignant lymphoma. Multiple transcript variants encoding different isoforms have been found for this gene. [provided by RefSeq, Jul 2008]",
            "This gene encodes a member of the regulator of G-protein signaling family. This protein is contains a conserved, 120 amino acid motif called the RGS domain. The protein attenuates the signaling activity of G-proteins by binding to activated, GTP-bound G alpha subunits and acting as a GTPase activating protein (GAP), increasing the rate of conversion of the GTP to GDP. This hydrolysis allows the G alpha subunits to bind G beta/gamma subunit heterodimers, forming inactive G-protein heterotrimers, thereby terminating the signal. Alternate transcriptional splice variants of this gene have been observed but have not been thoroughly characterized. [provided by RefSeq, Jul 2008]",
            "Killer cell immunoglobulin-like receptors (KIRs) are transmembrane glycoproteins expressed by natural killer cells and subsets of T cells. The KIR genes are polymorphic and highly homologous and they are found in a cluster on chromosome 19q13.4 within the 1 Mb leukocyte receptor complex (LRC). The gene content of the KIR gene cluster varies among haplotypes, although several \"framework\" genes are found in all haplotypes (KIR3DL3, KIR3DP1, KIR3DL4, KIR3DL2). The KIR proteins are classified by the number of extracellular immunoglobulin domains (2D or 3D) and by whether they have a long (L) or short (S) cytoplasmic domain. KIR proteins with the long cytoplasmic domain transduce inhibitory signals upon ligand binding via an immune tyrosine-based inhibitory motif (ITIM), while KIR proteins with the short cytoplasmic domain lack the ITIM motif and instead associate with the TYRO protein tyrosine kinase binding protein to transduce activating signals. The ligands for several KIR proteins are subsets of HLA class I molecules; thus, KIR proteins are thought to play an important role in regulation of the immune response. This gene is one of the \"framework\" loci that is present on all haplotypes. Alternatively spliced transcript variants encoding multiple isoforms have been observed for this gene. [provided by RefSeq, Jun 2011]",
            "Enables transcription cis-regulatory region binding activity. Involved in negative regulation of transcription by RNA polymerase II and positive regulation of keratinocyte differentiation. Predicted to be located in nucleus. Predicted to be part of chromatin. [provided by Alliance of Genome Resources, Apr 2022]",
            "In cardiac myocytes, Ca(2+) concentrations alternate between high levels during contraction and low levels during relaxation. The increase in Ca(2+) concentration during contraction is primarily due to release of Ca(2+) from intracellular stores. However, some Ca(2+) also enters the cell through the sarcolemma (plasma membrane). During relaxation, Ca(2+) is sequestered within the intracellular stores. To prevent overloading of intracellular stores, the Ca(2+) that entered across the sarcolemma must be extruded from the cell. The Na(+)-Ca(2+) exchanger is the primary mechanism by which the Ca(2+) is extruded from the cell during relaxation. In the heart, the exchanger may play a key role in digitalis action. The exchanger is the dominant mechanism in returning the cardiac myocyte to its resting state following excitation.[supplied by OMIM, Apr 2004]",
            "Involved in positive regulation of cell population proliferation. Located in cytoplasm and extracellular region. [provided by Alliance of Genome Resources, Apr 2022]",
            "The B lymphocyte antigen receptor is a multimeric complex that includes the antigen-specific component, surface immunoglobulin (Ig). Surface Ig non-covalently associates with two other proteins, Ig-alpha and Ig-beta, which are necessary for expression and function of the B-cell antigen receptor. This gene encodes the Ig-alpha protein of the B-cell antigen component. Alternatively spliced transcript variants encoding different isoforms have been described. [provided by RefSeq, Jul 2008]",
            "This gene encodes a zinc metalloaminopeptidase of the M1 protease family that resides in the endoplasmic reticulum and functions in N-terminal trimming antigenic epitopes for presentation by major histocompatibility complex (MHC) class I molecules. Certain mutations in this gene are associated with the inflammatory arthritis syndrome ankylosing spondylitis and pre-eclampsia. This gene is located adjacent to a closely related aminopeptidase gene on chromosome 5. [provided by RefSeq, Jul 2016]",
            "Acts upstream of or within regulation of complement activation and regulation of complement-dependent cytotoxicity. Part of receptor complex. [provided by Alliance of Genome Resources, Apr 2022]",
            "The protein encoded by this gene belongs to the G-protein-coupled receptor family . It is a receptor for the CC chemokine - MIP-1, RANTES, TARC and MCP-1. Chemokines are a group of small polypeptide, structurally related molecules that regulate cell trafficking of various types of leukocytes. The chemokines also play fundamental roles in the development, homeostasis, and function of the immune system, and they have effects on cells of the central nervous system as well as on endothelial cells involved in angiogenesis or angiostasis. [provided by RefSeq, Jul 2008]",
            "Predicted to enable chromatin binding activity and histone binding activity. Predicted to be involved in negative regulation of transcription, DNA-templated. Predicted to be active in nucleus. [provided by Alliance of Genome Resources, Apr 2022]",
            "This gene encodes a member of the CD1 family of transmembrane glycoproteins, which are structurally related to the major histocompatibility complex (MHC) proteins and form heterodimers with beta-2-microglobulin. The CD1 proteins mediate the presentation of primarily lipid and glycolipid antigens of self or microbial origin to T cells. The human genome contains five CD1 family genes organized in a cluster on chromosome 1. The CD1 family members are thought to differ in their cellular localization and specificity for particular lipid ligands. The protein encoded by this gene localizes to late endosomes and lysosomes via a tyrosine-based motif in the cytoplasmic tail, and requires vesicular acidification to bind lipid antigens. [provided by RefSeq, Jul 2008]",
            "Predicted to be involved in cellular defense response; regulation of natural killer cell mediated cytotoxicity; and signal transduction. Predicted to act upstream of or within defense response to virus and detection of virus. Predicted to be located in cell surface. Predicted to be part of SWI/SNF complex. Predicted to be active in plasma membrane. Biomarker of acquired immunodeficiency syndrome; anogenital venereal wart; hepatitis C; and lymphoproliferative syndrome. [provided by Alliance of Genome Resources, Apr 2022]",
            "Predicted to enable aminoacylase activity. Located in extracellular exosome. [provided by Alliance of Genome Resources, Apr 2022]",
            "This gene encodes a member of the membrane-spanning 4A gene family. Members of this nascent protein family are characterized by common structural features and similar intron/exon splice boundaries and display unique expression patterns among hematopoietic cells and nonlymphoid tissues. This gene encodes a B-lymphocyte surface molecule which plays a role in the development and differentiation of B-cells into plasma cells. This family member is localized to 11q12, among a cluster of family members. Alternative splicing of this gene results in two transcript variants which encode the same protein. [provided by RefSeq, Jul 2008]",
            null,
            "This gene encodes a T cell adaptor protein, a class of intracellular molecules with modular domains capable of recruiting additional proteins but that exhibit no intrinsic enzymatic activity. The encoded protein contains a unique N-terminal region followed by a PH domain and C-terminal SH3 domain. Along with the adhesion and degranulation-promoting adaptor protein, the encoded protein plays a critical role in inside-out signaling by coupling T-cell antigen receptor stimulation to the activation of integrins. [provided by RefSeq, Jul 2008]",
            "The protein encoded by this gene belongs to the family of G-protein coupled receptors that are preferentially activated by adenosine and uridine nucleotides. There is a pseudogene for this gene nearby on chromosome X. Multiple alternatively spliced transcripts have been observed. [provided by RefSeq, Apr 2016]",
            "Located in extracellular exosome. [provided by Alliance of Genome Resources, Apr 2022]",
            "The protein encoded by this gene is one of the subunits of a heterodimeric cytokine complex. This protein is related to interleukin 12A (IL12A). It interacts with Epstein-Barr virus induced gene 3 (EBI3), a protein similar to interleukin 12B (IL12B), and forms a complex that has been shown to drive rapid expansion of naive but not memory CD4(+) T cells. The complex is also found to synergize strongly with interleukin 12 to trigger interferon gamma (IFNG) production of naive CD4(+) T cells. The biological effects of this cytokine are mediated by the class I cytokine receptor (WSX1/TCRR). [provided by RefSeq, Jul 2008]",
            " EFNB3, a member of the ephrin gene family, is important in brain development as well as in its maintenance. Moreover, since levels of EFNB3 expression were particularly high in several forebrain subregions compared to other brain subregions, it may play a pivotal role in forebrain function.  The EPH and EPH-related receptors comprise the largest subfamily of receptor protein-tyrosine kinases and have been implicated in mediating developmental events, particularly in the nervous system. EPH Receptors typically have a single kinase domain and an extracellular region containing a Cys-rich domain and 2 fibronectin type III repeats. The ephrin ligands and receptors have been named by the Eph Nomenclature Committee (1997). Based on their structures and sequence relationships, ephrins are divided into the ephrin-A (EFNA) class, which are anchored to the membrane by a glycosylphosphatidylinositol linkage, and the ephrin-B (EFNB) class, which are transmembrane proteins. The Eph family of receptors are similarly divided into 2 groups based on the similarity of their extracellular domain sequences and their affinities for binding ephrin-A and ephrin-B ligands. [provided by RefSeq, Jul 2008]",
            "Summary:This gene belongs to the casein kinase 1 superfamily. The encoded protein is a neuron-specific, serine/threonine and tyrosine kinase, which regulates phosphorylation of tau, a protein that associates with microtubule assemblies and stabilizes them. Genetic variants in this gene are associated with Alzheimer's disease. [provided by RefSeq, Jul 2016]",
            "This gene encodes a member of the CD1 family of transmembrane glycoproteins, which are structurally related to the major histocompatibility complex (MHC) proteins and form heterodimers with beta-2-microglobulin. The CD1 proteins mediate the presentation of primarily lipid and glycolipid antigens of self or microbial origin to T cells. The human genome contains five CD1 family genes organized in a cluster on chromosome 1. The CD1 family members are thought to differ in their cellular localization and specificity for particular lipid ligands. The protein encoded by this gene is broadly distributed throughout the endocytic system via a tyrosine-based motif in the cytoplasmic tail. Alternatively spliced transcript variants of this gene have been observed, but their full-length nature is not known. [provided by RefSeq, Jul 2008]",
            "Enables transcription coactivator activity. Involved in positive regulation of transcription by RNA polymerase II. Part of RNA polymerase II transcription regulator complex. [provided by Alliance of Genome Resources, Apr 2022]",
            "In some non-lymphoid tissues, the unrearranged T cell receptor gamma (TRG@) locus is expressed. The resulting transcript contains a subset of the TRG@ gene segments and is shorter than TRG@ transcripts expressed in lymphoid tissues. This RefSeq record represents the unrearranged TRG@ locus transcript; the complete TRG@ locus is represented by the genomic RefSeq NG_001336. The transcript represented by this RefSeq has two open reading frames (ORFs) that encode different proteins. The downstream ORF is in the same frame as TRG@ and its protein product is similar to TRG@ proteins. The upstream ORF uses a different reading frame and encodes a novel protein. [provided by RefSeq, Jul 2008]",
            "Enables SH2 domain binding activity and protein kinase binding activity. Involved in several processes, including B cell activation; negative regulation of MAP kinase activity; and negative regulation of T cell activation. Located in Golgi apparatus; cytosol; and plasma membrane. Is integral component of membrane. [provided by Alliance of Genome Resources, Apr 2022]",
            "This gene encodes a protein which contains a death domain. Death domain-containing proteins function in signaling pathways and formation of signaling complexes, as well as the apoptosis pathway. Alternative splicing results in multiple transcript variants. [provided by RefSeq, Oct 2012]",
            "The protein encoded by this gene is similar to FYN binding protein (FYB/SLAP-130), an adaptor protein involved in T cell receptor mediated signaling. This gene is expressed and regulated during normal myelopoiesis. The expression of this gene is induced by retinoic acid and is inhibited by the expression of PML-RARalpha, a fusion protein of promyelocytic leukemia (PML) and the retinoic acid receptor-alpha (RARalpha). [provided by RefSeq, Jul 2008]",
            "This gene encodes a 140 kDa protein that is stored in the alpha-granules of platelets and Weibel-Palade bodies of endothelial cells. This protein redistributes to the plasma membrane during platelet activation and degranulation and mediates the interaction of activated endothelial cells or platelets with leukocytes. The membrane protein is a calcium-dependent receptor that binds to sialylated forms of Lewis blood group carbohydrate antigens on neutrophils and monocytes. Alternative splice variants may occur but are not well documented. [provided by RefSeq, Jul 2008]",
            "FOXF2 encodes forkhead box F2, one of many human homologues of the Drosophila melanogaster transcription factor forkhead. FOXF2 is expressed in lung and placenta, and has been shown to transcriptionally activate several lung-specific genes. [provided by RefSeq, Jul 2008]",
            "The protein encoded by this gene was identified as a transmembrane phosphoprotein specifically associated with tyrosine phosphatase PTPRC/CD45, a key regulator of T- and B-lymphocyte activation. The interaction with PTPRC may be required for the stable expression of this protein. [provided by RefSeq, Jul 2008]",
            "This antimicrobial gene encodes a chemokine of the CXC subfamily and ligand for the receptor CXCR3. Binding of this protein to CXCR3 results in pleiotropic effects, including stimulation of monocytes, natural killer and T-cell migration, and modulation of adhesion molecule expression. This gene may also be a key regulator of the 'cytokine storm' immune response to SARS-CoV-2 infection. [provided by RefSeq, Sep 2020]",
            "This intronless gene is specifically expressed in dendritic cells (DCs), which are potent antigen-presenting cells involved in activating naive T cells to initiate antigen-specific immune response. The encoded protein is localized mainly in the perinucleus. One of the alleles (A/T) of this gene, that causes premature translation termination at aa 117, has been associated with an increased prevalence of major depression in humans. [provided by RefSeq, Jul 2008]",
            "This gene encodes a member of the C-type lectin/C-type lectin-like domain (CTL/CTLD) superfamily. Members of this family share a common protein fold and have diverse functions, such as cell adhesion, cell-cell signaling, glycoprotein turnover, and roles in inflammation and immune response. The protein encoded by this gene is a negative regulator of granulocyte and monocyte function. Several alternatively spliced transcript variants of this gene have been described, but the full-length nature of some of these variants has not been determined. This gene is closely linked to other CTL/CTLD superfamily members in the natural killer gene complex region on chromosome 12p13. [provided by RefSeq, May 2011]",
            "Potassium channels represent the most complex class of voltage-gated ion channels from both functional and structural standpoints. Their diverse functions include regulating neurotransmitter release, heart rate, insulin secretion, neuronal excitability, epithelial electrolyte transport, smooth muscle contraction, and cell volume. Four sequence-related potassium channel genes - shaker, shaw, shab, and shal - have been identified in Drosophila, and each has been shown to have human homolog(s). This gene encodes a member of the potassium channel, voltage-gated, shaker-related subfamily. This member contains six membrane-spanning domains with a shaker-type repeat in the fourth segment. It belongs to the delayed rectifier class, members of which allow nerve cells to efficiently repolarize following an action potential. It plays an essential role in T-cell proliferation and activation. This gene appears to be intronless and it is clustered together with KCNA2 and KCNA10 genes on chromosome 1. [provided by RefSeq, Jul 2008]",
            "This gene encodes a member of the insulin-like hormone superfamily. The encoded protein is mainly produced in gonadal tissues. Studies of the mouse counterpart suggest that this gene may be involved in the development of urogenital tract and female fertility. This protein may also act as a hormone to regulate growth and differentiation of gubernaculum, and thus mediating intra-abdominal testicular descent. Mutations in this gene may lead to cryptorchidism. Alternate splicing results in multiple transcript variants. [provided by RefSeq, May 2012]",
            "The protein encoded by this gene is an isozyme of long-chain fatty-acid-coenzyme A ligase family. Although differing in substrate specificity, subcellular localization, and tissue distribution, all isozymes of this family convert free long-chain fatty acids into fatty acyl-CoA esters, and thereby play a key role in lipid biosynthesis and fatty acid degradation. This isozyme activates long-chain, branched-chain and very-long-chain fatty acids containing 22 or more carbons to their CoA derivatives. It is expressed primarily in liver and kidney, and is present in both endoplasmic reticulum and peroxisomes, but not in mitochondria. Its decreased peroxisomal enzyme activity is in part responsible for the biochemical pathology in X-linked adrenoleukodystrophy. Alternatively spliced transcript variants encoding different isoforms have been found for this gene. [provided by RefSeq, Apr 2009]",
            "This gene encodes a protein that has a domain resembling seven transmembrane G protein-coupled hormone receptors (7TM receptors) at its C-terminus. The N-terminus of the encoded protein has six EGF-like modules, separated from the transmembrane segments by a serine/threonine-rich domain, a feature reminiscent of mucin-like, single-span, integral membrane glycoproteins with adhesive properties. Multiple alternatively spliced transcript variants encoding different isoforms have been found for this gene. [provided by RefSeq, Jan 2012]",
            "The protein encoded by this gene is a member of the class A scavenger receptor family and is part of the innate antimicrobial immune system. The protein may bind both Gram-negative and Gram-positive bacteria via an extracellular, C-terminal, scavenger receptor cysteine-rich (SRCR) domain. In addition to short cytoplasmic and transmembrane domains, there is an extracellular spacer domain and a long, extracellular collagenous domain. The protein may form a trimeric molecule by the association of the collagenous domains of three identical polypeptide chains. [provided by RefSeq, Jul 2008]",
            "Enables sequence-specific double-stranded DNA binding activity. Predicted to be involved in several processes, including cellular response to glucose starvation; endoplasmic reticulum unfolded protein response; and negative regulation of myotube differentiation. Predicted to act upstream of or within several processes, including glucose homeostasis; intracellular distribution of mitochondria; and mitochondrial calcium ion transmembrane transport. Predicted to be part of chromatin. Predicted to be active in nucleus. [provided by Alliance of Genome Resources, Apr 2022]",
            "This gene encodes of member of the non-receptor class 4 subfamily of the protein-tyrosine phosphatase family. The encoded protein is a lymphoid-specific intracellular phosphatase that associates with the molecular adapter protein CBL and may be involved in regulating CBL function in the T-cell receptor signaling pathway. Mutations in this gene may be associated with a range of autoimmune disorders including Type 1 Diabetes, rheumatoid arthritis, systemic lupus erythematosus and Graves' disease. Alternatively spliced transcript variants encoding distinct isoforms have been described. [provided by RefSeq, Mar 2009]",
            "This gene represents a microRNA host gene. The long RNA transcribed from this gene is expressed at high levels in lymphoma and may function as an oncogene. [provided by RefSeq, Dec 2017]",
            "This gene is a member of the apolipoprotein L gene family, and it is present in a cluster with other family members on chromosome 22. The encoded protein is found in the cytoplasm, where it may affect the movement of lipids, including cholesterol, and/or allow the binding of lipids to organelles. In addition, expression of this gene is up-regulated by tumor necrosis factor-alpha in endothelial cells lining the normal and atherosclerotic iliac artery and aorta. Alternative splicing results in multiple transcript variants. [provided by RefSeq, Mar 2015]",
            "This gene is a member of the tumor necrosis factor superfamily. The primary function of the encoded transmembrane protein is the induction of apoptosis triggered by binding to FAS. The FAS/FASLG signaling pathway is essential for immune system regulation, including activation-induced cell death (AICD) of T cells and cytotoxic T lymphocyte induced cell death. It has also been implicated in the progression of several cancers. Defects in this gene may be related to some cases of systemic lupus erythematosus (SLE). Alternatively spliced transcript variants have been described. [provided by RefSeq, Nov 2014]",
            "This gene encodes a protein that contains an immunoglobulin-like domain. The encoded protein may function as a multimeric receptor at the cell surface. The expression of this gene may be a diagnostic marker for cancer progression. Alternatively spliced transcript variants encoding multiple protein isoforms have been observed for this gene. [provided by RefSeq, Dec 2010]",
            "Tight junctions represent one mode of cell-to-cell adhesion in epithelial or endothelial cell sheets, forming continuous seals around cells and serving as a physical barrier to prevent solutes and water from passing freely through the paracellular space. The protein encoded by this immunoglobulin superfamily gene member is an important regulator of tight junction assembly in epithelia. In addition, the encoded protein can act as (1) a receptor for reovirus, (2) a ligand for the integrin LFA1, involved in leukocyte transmigration, and (3) a platelet receptor. Multiple 5' alternatively spliced variants, encoding the same protein, have been identified but their biological validity has not been established. [provided by RefSeq, Jul 2008]",
            null,
            "This gene is a member of a phylogenetically conserved family of genes that share a common DNA-binding domain, the T-box. T-box genes encode transcription factors involved in the regulation of developmental processes. This gene is the human ortholog of mouse Tbx21/Tbet gene. Studies in mouse show that Tbx21 protein is a Th1 cell-specific transcription factor that controls the expression of the hallmark Th1 cytokine, interferon-gamma (IFNG). Expression of the human ortholog also correlates with IFNG expression in Th1 and natural killer cells, suggesting a role for this gene in initiating Th1 lineage development from naive Th precursor cells. [provided by RefSeq, Jul 2008]",
            null,
            "This gene encodes a member of the adhesion family of G-protein coupled receptors. Members of this family are characterized by long N-termini and multiple functional domains. They may play a role in the immune system as well as in the central nervous system. Alternative splicing results in multiple transcript variants. [provided by RefSeq, Jan 2016]",
            null,
            "Predicted to enable olfactory receptor binding activity. Predicted to be involved in detection of chemical stimulus involved in sensory perception of bitter taste; protein insertion into membrane; and protein targeting to membrane. Predicted to be integral component of membrane. [provided by Alliance of Genome Resources, Apr 2022]",
            "The product of this gene belongs to the family of G-protein coupled receptors. This family has several receptor subtypes with different pharmacological selectivity, which overlaps in some cases, for various adenosine and uridine nucleotides. This receptor is involved in platelet aggregation, and is a potential target for the treatment of thromboembolisms and other clotting disorders. Mutations in this gene are implicated in bleeding disorder, platelet type 8 (BDPLT8). Alternative splicing results in multiple transcript variants of this gene. [provided by RefSeq, Jul 2013]",
            "The protein encoded by this gene is a Golgi stack membrane protein that is involved in the creation of sialyl-Lewis X antigens. The encoded protein can direct the synthesis of the E-selectin-binding sialyl-Lewis X moiety. [provided by RefSeq, Jul 2008]",
            "Programmed cell death protein 1 (PDCD1) is an immune-inhibitory receptor expressed in activated T cells; it is involved in the regulation of T-cell functions, including those of effector CD8+ T cells. In addition, this protein can also promote the differentiation of CD4+ T cells into T regulatory cells. PDCD1 is expressed in many types of tumors including melanomas, and has demonstrated to play a role in anti-tumor immunity. Moreover, this protein has been shown to be involved in safeguarding against autoimmunity, however, it can also contribute to the inhibition of effective anti-tumor and anti-microbial immunity. [provided by RefSeq, Aug 2020]",
            "This gene encodes a member of the SP100 family of proteins, which are share common domains including an N-terminal homogeneously staining region domain followed by a SP100/autoimmune regulator/NucP41/P75/deformed epidermal autoregulatory factor domain, a plant homeobox zinc finger, and a bromodomain. The encoded protein is interferon-inducible and is expressed at high levels in the nuclei of leukocytes. Variants of this gene have been associated with multiple sclerosis, Crohn's disease, and chronic lymphocytic leukemia. Alternative splicing results in multiple variants. [provided by RefSeq, Aug 2016]",
            "The protein encoded by this gene is a receptor for monocyte chemoattractant protein-1, a chemokine which specifically mediates monocyte chemotaxis. Monocyte chemoattractant protein-1 is involved in monocyte infiltration in inflammatory diseases such as rheumatoid arthritis as well as in the inflammatory response against tumors. The encoded protein mediates agonist-dependent calcium mobilization and inhibition of adenylyl cyclase. This protein can also be a coreceptor with CD4 for HIV-1 infection. This gene is located in the chemokine receptor gene cluster region of chromosome 3. [provided by RefSeq, Aug 2017]",
            "The protein encoded by this gene is a member of the TNF-receptor superfamily. This receptor is required for generation and long-term maintenance of T cell immunity. It binds to ligand CD70, and plays a key role in regulating B-cell activation and immunoglobulin synthesis. This receptor transduces signals that lead to the activation of NF-kappaB and MAPK8/JNK. Adaptor proteins TRAF2 and TRAF5 have been shown to mediate the signaling process of this receptor. CD27-binding protein (SIVA), a proapoptotic protein, can bind to this receptor and is thought to play an important role in the apoptosis induced by this receptor. [provided by RefSeq, Jul 2008]",
            "Natural killer (NK) cells are a distinct lineage of lymphocytes that mediate cytotoxic activity and secrete cytokines upon immune stimulation. Several genes of the C-type lectin superfamily, including members of the NKG2 family, are expressed by NK cells and may be involved in the regulation of NK cell function. KLRD1 (CD94) is an antigen preferentially expressed on NK cells and is classified as a type II membrane protein because it has an external C terminus. Several transcript variants encoding different isoforms have been found for this gene. [provided by RefSeq, May 2017]",
            "The protein encoded by this gene is a cytokine receptor for interleukin 21 (IL21). It belongs to the type I cytokine receptors, and has been shown to form a heterodimeric receptor complex with the common gamma-chain, a receptor subunit also shared by the receptors for interleukin 2, 4, 7, 9, and 15. This receptor transduces the growth promoting signal of IL21, and is important for the proliferation and differentiation of T cells, B cells, and natural killer (NK) cells. The ligand binding of this receptor leads to the activation of multiple downstream signaling molecules, including JAK1, JAK3, STAT1, and STAT3. Knockout studies of a similar gene in mouse suggest a role for this gene in regulating immunoglobulin production. Three alternatively spliced transcript variants have been described. [provided by RefSeq, Jul 2010]",
            "Predicted to enable G protein-coupled purinergic nucleotide receptor activity. Predicted to be involved in G protein-coupled receptor signaling pathway. Predicted to act upstream of or within negative regulation of myeloid cell differentiation. Predicted to be located in plasma membrane. [provided by Alliance of Genome Resources, Apr 2022]",
            "LY9 belongs to the SLAM family of immunomodulatory receptors (see SLAMF1; MIM 603492) and interacts with the adaptor molecule SAP (SH2D1A; MIM 300490) (Graham et al., 2006 [PubMed 16365421]).[supplied by OMIM, Mar 2008]",
            "Predicted to be integral component of membrane. [provided by Alliance of Genome Resources, Apr 2022]",
            "The protein encoded by this gene is a type I transmembrane protein, belonging to the CD2 subfamily of the immunoglobulin superfamily. This encoded protein is expressed on Natural killer (NK), T, and B lymphocytes. It undergoes tyrosine phosphorylation and associates with the Src homology 2 domain-containing protein (SH2D1A) as well as with SH2 domain-containing phosphatases (SHPs). It functions as a coreceptor in the process of NK cell activation. It can also mediate inhibitory signals in NK cells from X-linked lymphoproliferative patients. Alternative splicing results in multiple transcript variants encoding distinct isoforms.[provided by RefSeq, May 2010]",
            "T-cell activation requires 2 signals: recognition of antigen by the T-cell receptor (see TCR; MIM 186880) and a costimulatory signal provided primarily by CD28 (MIM 186760) in naive T cells. HSH2 is a target of both of these signaling pathways (Greene et al., 2003 [PubMed 12960172]).[supplied by OMIM, Mar 2008]",
            "This gene encodes a member of the micropthalmia (MiT) family of basic helix-loop-helix leucine zipper transcription factors. MiT transcription factors regulate the expression of target genes by binding to E-box recognition sequences as homo- or heterodimers, and play roles in multiple cellular processes including survival, growth and differentiation. The encoded protein is a transcriptional activator of the nonmuscle myosin II heavy chain-A gene, and may also co-regulate target genes in osteoclasts as a heterodimer with micropthalmia-associated transcription factor. Alternatively spliced transcript variants encoding multiple isoforms have been observed for this gene. [provided by RefSeq, Sep 2011]",
            "Enables phospholipid binding activity. Involved in plasma membrane tubulation. Located in cytoplasm. [provided by Alliance of Genome Resources, Apr 2022]",
            "CLEC9A is a group V C-type lectin-like receptor (CTLR) that functions as an activation receptor and is expressed on myeloid lineage cells (Huysamen et al., 2008 [PubMed 18408006]).[supplied by OMIM, Aug 2008]",
            "This gene encodes one of two family members belonging to the T-cell ubiquitin ligand (TULA) family. Both family members can negatively regulate T-cell signaling. This family member can facilitate growth factor withdrawal-induced apoptosis in T cells, which may occur via its interaction with AIF, an apoptosis-inducing factor. Alternative splicing of this gene results in multiple transcript variants. [provided by RefSeq, Aug 2011]",
            "This gene is a member of the leukocyte immunoglobulin-like receptor (LIR) family, which is found in a gene cluster at chromosomal region 19q13.4. The encoded protein belongs to the subfamily B class of LIR receptors which contain two or four extracellular immunoglobulin domains, a transmembrane domain, and two to four cytoplasmic immunoreceptor tyrosine-based inhibitory motifs (ITIMs). The receptor is expressed on immune cells where it binds to MHC class I molecules on antigen-presenting cells and transduces a negative signal that inhibits stimulation of an immune response. It is thought to control inflammatory responses and cytotoxicity to help focus the immune response and limit autoreactivity. Multiple transcript variants encoding different isoforms have been found for this gene. [provided by RefSeq, Jul 2008]",
            "The product encoded by this gene is involved in the maintenance of iron homeostasis, and it is necessary for the regulation of iron storage in macrophages, and for intestinal iron absorption. The preproprotein is post-translationally cleaved into mature peptides of 20, 22 and 25 amino acids, and these active peptides are rich in cysteines, which form intramolecular bonds that stabilize their beta-sheet structures. These peptides exhibit antimicrobial activity against bacteria and fungi. Mutations in this gene cause hemochromatosis type 2B, also known as juvenile hemochromatosis, a disease caused by severe iron overload that results in cardiomyopathy, cirrhosis, and endocrine failure. [provided by RefSeq, Oct 2014]",
            "Enables phosphatidylinositol-3,4,5-trisphosphate binding activity and phosphatidylinositol-3,4-bisphosphate binding activity. Predicted to be involved in signal transduction. Located in plasma membrane. [provided by Alliance of Genome Resources, Apr 2022]",
            "Enables MHC class II protein binding activity and protein phosphatase binding activity. Predicted to be involved in cell surface receptor signaling pathway. Located in external side of plasma membrane. [provided by Alliance of Genome Resources, Apr 2022]",
            "This gene encodes a ubiquitously expressed coiled-coil domain-containing protein that interacts with the dishevelled protein and is a negative regulator of the Wnt signalling pathway. The protein encoded by this gene has a PDZ-domain binding motif in its C-terminus with which it interacts with the dishevelled protein. Dishevelled is a scaffold protein involved in the regulation of the Wnt signaling pathway. The Wnt signaling pathway plays an important role in embryonic development, tissue maintenance, and cancer progression. Mutations in this gene cause autosomal recessive, primary non-syndromic congenital hydrocephalus; a condition characterized by excessive accumulation of cerebrospinal fluid in the ventricles of the brain. [provided by RefSeq, Jan 2013]",
            "Predicted to enable signaling receptor binding activity. Predicted to be involved in cell adhesion. Is integral component of plasma membrane. [provided by Alliance of Genome Resources, Apr 2022]",
            "The protein encoded by this gene is a metalloprotein that binds most of the copper in plasma and is involved in the peroxidation of Fe(II)transferrin to Fe(III) transferrin. Mutations in this gene cause aceruloplasminemia, which results in iron accumulation and tissue damage, and is associated with diabetes and neurologic abnormalities. Two transcript variants, one protein-coding and the other not protein-coding, have been found for this gene. [provided by RefSeq, Feb 2012]",
            null,
            "The protein encoded by this gene is a proinflammatory cytokine of the IL-1 family that is constitutively found as a precursor within the cytoplasm of a variety of cells including macrophages and keratinocytes. The inactive IL-18 precursor is processed to its active form by caspase-1, and is capable of stimulating interferon gamma production, and of regulating both T helper (Th) 1 and Th2 responses. This cytokine has been implicated in the injury of different organs, and in potentially fatal conditions characterized by a cytokine storm. In humans, IL-18 gene is located on chromosome 11. Alternatively spliced transcript variants encoding different isoforms have been found for this gene.[provided by RefSeq, Aug 2020]",
            "This antimicrobial gene is one of several Cys-Cys (CC) cytokine genes clustered on the q arm of chromosome 16. Cytokines are a family of secreted proteins involved in immunoregulatory and inflammatory processes. The CC cytokines are proteins characterized by two adjacent cysteines. The cytokine encoded by this gene displays chemotactic activity for T lymphocytes, but not monocytes or granulocytes. The product of this gene binds to chemokine receptors CCR4 and CCR8. This chemokine plays important roles in T cell development in thymus as well as in trafficking and activation of mature T cells. [provided by RefSeq, Sep 2014]",
            "Three distinct, but closely related classes of receptors that bind the Fc portion of IgG have been identified (Fcgamma RI, II and III). The FcgammaRI family consists of three closely related genes termed A, B, and C. This gene likely encodes a non-functional protein that is not detectable at the cell surface and binds ligand with low affinity. [provided by RefSeq, Nov 2019]",
            "Phosphoinositide 3-kinases (PI3Ks) phosphorylate inositol lipids and are involved in the immune response. The protein encoded by this gene is a class I catalytic subunit of PI3K. Like other class I catalytic subunits (p110-alpha p110-beta, and p110-delta), the encoded protein binds a p85 regulatory subunit to form PI3K. This gene is located in a commonly deleted segment of chromosome 7 previously identified in myeloid leukemias. Several transcript variants encoding the same protein have been found for this gene. [provided by RefSeq, Jun 2015]",
            "The protein encoded by this gene is a member of the tumor necrosis factor (TNF) ligand family. This protein is a ligand for TNFRSF14, which is a member of the tumor necrosis factor receptor superfamily, and which is also known as a herpesvirus entry mediator (HVEM). This protein may function as a costimulatory factor for the activation of lymphoid cells and as a deterrent to infection by herpesvirus. This protein has been shown to stimulate the proliferation of T cells, and trigger apoptosis of various tumor cells. This protein is also reported to prevent tumor necrosis factor alpha mediated apoptosis in primary hepatocyte. Two alternatively spliced transcript variant encoding distinct isoforms have been reported. [provided by RefSeq, Jul 2008]",
            "Mutations in this gene are a cause of neurosensory nonsyndromic recessive deafness, DFNB9. The short form of the encoded protein has 3 C2 domains, a single carboxy-terminal transmembrane domain found also in the C. elegans spermatogenesis factor FER-1 and human dysferlin, while the long form has 6 C2 domains. The homology suggests that this protein may be involved in vesicle membrane fusion. Several transcript variants encoding multiple isoforms have been found for this gene. [provided by RefSeq, Jul 2008]",
            "The protein encoded by this gene is a transcriptional regulator and tumor suppressor, serving as an activator of genes involved in both innate and acquired immune responses. The encoded protein activates the transcription of genes involved in the body's response to viruses and bacteria, playing a role in cell proliferation, apoptosis, the immune response, and DNA damage response. This protein represses the transcription of several other genes. As a tumor suppressor, it both suppresses tumor cell growth and stimulates an immune response against tumor cells. Defects in this gene have been associated with gastric cancer, myelogenous leukemia, and lung cancer. [provided by RefSeq, Aug 2017]",
            "Protein kinase C (PKC) is a family of serine- and threonine-specific protein kinases that can be activated by calcium and the second messenger diacylglycerol. PKC family members phosphorylate a wide variety of protein targets and are known to be involved in diverse cellular signaling pathways. PKC family members also serve as major receptors for phorbol esters, a class of tumor promoters. Each member of the PKC family has a specific expression profile and is believed to play a distinct role. The protein encoded by this gene is one of the PKC family members. It is a calcium-independent and phospholipid-dependent protein kinase. This kinase is important for T-cell activation. It is required for the activation of the transcription factors NF-kappaB and AP-1, and may link the T cell receptor (TCR) signaling complex to the activation of the transcription factors. [provided by RefSeq, Jul 2008]",
            null,
            "This gene encodes a member of the STAT-induced STAT inhibitor (SSI), also known as suppressor of cytokine signaling (SOCS), family. SSI family members are cytokine-inducible negative regulators of cytokine signaling. The expression of this gene can be induced by a subset of cytokines, including IL2, IL3 erythropoietin (EPO), CSF2/GM-CSF, and interferon (IFN)-gamma. The protein encoded by this gene functions downstream of cytokine receptors, and takes part in a negative feedback loop to attenuate cytokine signaling. Knockout studies in mice suggested the role of this gene as a modulator of IFN-gamma action, which is required for normal postnatal growth and survival. [provided by RefSeq, Jul 2008]",
            "Killer cell immunoglobulin-like receptors (KIRs) are transmembrane glycoproteins expressed by natural killer cells and subsets of T cells. The KIR genes are polymorphic and highly homologous and they are found in a cluster on chromosome 19q13.4 within the 1 Mb leukocyte receptor complex (LRC). The gene content of the KIR gene cluster varies among haplotypes, although several \"framework\" genes are found in all haplotypes (KIR3DL3, KIR3DP1, KIR3DL4, KIR3DL2). The KIR proteins are classified by the number of extracellular immunoglobulin domains (2D or 3D) and by whether they have a long (L) or short (S) cytoplasmic domain. KIR proteins with the long cytoplasmic domain transduce inhibitory signals upon ligand binding via an immune tyrosine-based inhibitory motif (ITIM), while KIR proteins with the short cytoplasmic domain lack the ITIM motif and instead associate with the TYRO protein tyrosine kinase binding protein to transduce activating signals. The ligands for several KIR proteins are subsets of HLA class I molecules; thus, KIR proteins are thought to play an important role in regulation of the immune response. [provided by RefSeq, Jul 2008]",
            "Enables guanyl-nucleotide exchange factor activity. Involved in cell migration and positive regulation of Ras protein signal transduction. Predicted to be located in cytosol. [provided by Alliance of Genome Resources, Apr 2022]",
            "Enables calcium ion binding activity. Predicted to be involved in regulation of neurotransmitter secretion. Located in cytosol and nucleoplasm. Is integral component of membrane. [provided by Alliance of Genome Resources, Apr 2022]",
            "This gene encodes a member of the SLAP family of adapter proteins. The encoded protein may play an important receptor-proximal role in downregulating T and B cell-mediated responses and inhibits antigen receptor-induced calcium mobilization. This protein interacts with Cas-Br-M (murine) ecotropic retroviral transforming sequence c. Two transcript variants encoding distinct isoforms have been identified for this gene. [provided by RefSeq, Jul 2008]",
            null,
            "Predicted to enable phospholipase binding activity. Predicted to be involved in several processes, including COP9 signalosome assembly; positive regulation of T cell differentiation in thymus; and positive regulation of T cell receptor signaling pathway. Predicted to act upstream of or within TCR signalosome assembly. Part of COP9 signalosome. [provided by Alliance of Genome Resources, Apr 2022]",
            "This gene encodes a member of the C-type lectin/C-type lectin-like domain (CTL/CTLD) superfamily. Members of this family share a common protein fold and have diverse functions, such as cell adhesion, cell-cell signalling, glycoprotein turnover, and roles in inflammation and immune response. This gene is closely linked to other CTL/CTLD superfamily members on chromosome 12p13 in the natural killer gene complex region. [provided by RefSeq, Jul 2008]",
            "This gene encodes a receptor for the OX-2 membrane glycoprotein. Both the receptor and substrate are cell surface glycoproteins containing two immunoglobulin-like domains. This receptor is restricted to the surfaces of myeloid lineage cells and the receptor-substrate interaction may function as a myeloid downregulatory signal. Mouse studies of a related gene suggest that this interaction may control myeloid function in a tissue-specific manner. Alternative splicing of this gene results in multiple transcript variants. [provided by RefSeq, Jul 2008]",
            "Predicted to enable DNA binding activity. [provided by Alliance of Genome Resources, Apr 2022]",
            null,
            "Predicted to enable DNA-binding transcription factor activity, RNA polymerase II-specific and RNA polymerase II transcription regulatory region sequence-specific DNA binding activity. Predicted to be involved in regulation of transcription by RNA polymerase II. Predicted to act upstream of or within negative regulation of transcription by RNA polymerase II. Predicted to be located in cytoplasm. [provided by Alliance of Genome Resources, Apr 2022]",
            "This gene encodes a member of the CD1 family of transmembrane glycoproteins, which are structurally related to the major histocompatibility complex (MHC) proteins and form heterodimers with beta-2-microglobulin. The CD1 proteins mediate the presentation of primarily lipid and glycolipid antigens of self or microbial origin to T cells. The human genome contains five CD1 family genes organized in a cluster on chromosome 1. The CD1 family members are thought to differ in their cellular localization and specificity for particular lipid ligands. The protein encoded by this gene localizes within Golgi compartments, endosomes, and lysosomes, and is cleaved into a stable soluble form. The soluble form is required for the intracellular processing of some glycolipids into a form that can be presented by other CD1 family members. Many alternatively spliced transcript variants encoding different isoforms have been described. Additional transcript variants have been found; however, their biological validity has not been determined. [provided by RefSeq, Jun 2010]",
            "SIGLECs are members of the immunoglobulin superfamily that are expressed on the cell surface. Most SIGLECs have 1 or more cytoplasmic immune receptor tyrosine-based inhibitory motifs, or ITIMs. SIGLECs are typically expressed on cells of the innate immune system, with the exception of the B-cell expressed SIGLEC6 (MIM 604405).[supplied by OMIM, Jul 2002]",
            null,
            "This gene encodes an immunoglobulin-like cell surface protein that is expressed predominantly on plasmacytoid dendritic cells (PDCs) and modulates the function of these cells in the immune response. Expression of this gene is downregulated by interleukin 3 (IL3). This gene is one of a cluster of highly related genes located at chromosomal region 19q13.4. [provided by RefSeq, Jan 2015]",
            "This gene encodes a specific binding protein for a vitamin A family member and is thought to play an important role in retinoic acid-mediated differentiation and proliferation processes. It is structurally similar to the cellular retinol-binding proteins, but binds only retinoic acid at specific sites within the nucleus, which may contribute to vitamin A-directed differentiation in epithelial tissue. [provided by RefSeq, Jul 2008]",
            "This gene is a member of the N-myc downregulated gene family which belongs to the alpha/beta hydrolase superfamily. The protein encoded by this gene is a cytoplasmic protein that is required for cell cycle progression and survival in primary astrocytes and may be involved in the regulation of mitogenic signalling in vascular smooth muscles cells. Alternative splicing results in multiple transcripts encoding different isoforms.[provided by RefSeq, Jun 2011]",
            "The galectins are a family of beta-galactoside-binding proteins implicated in modulating cell-cell and cell-matrix interactions. The protein encoded by this gene is an S-type lectin. It is overexpressed in Hodgkin's disease tissue and might participate in the interaction between the H&RS cells with their surrounding cells and might thus play a role in the pathogenesis of this disease and/or its associated immunodeficiency. Multiple alternatively spliced transcript variants have been found for this gene. [provided by RefSeq, Jul 2008]",
            "This gene encodes a member of the Ras-association domain family (RASSF). Members of this family form the core of a highly conserved tumor suppressor network, the Salvador-Warts-Hippo (SWH) pathway. The protein encoded by this gene is a Ras effector protein that induces apoptosis. A genomic region containing this gene has been linked to susceptibility to viral bronchiolitis. Alternative splicing results in multiple transcript variants and protein isoforms. [provided by RefSeq, Jul 2012]",
            "Predicted to enable cation channel activity. Predicted to be involved in cation transmembrane transport. Predicted to be integral component of membrane. Predicted to be integral component of plasma membrane. [provided by Alliance of Genome Resources, Apr 2022]",
            "Phosphorylase kinase is a polymer of 16 subunits, four each of alpha, beta, gamma and delta. The alpha subunit includes the skeletal muscle and hepatic isoforms, and the skeletal muscle isoform is encoded by this gene. The beta subunit is the same in both the muscle and hepatic isoforms, and encoded by one gene. The gamma subunit also includes the skeletal muscle and hepatic isoforms, which are encoded by two different genes. The delta subunit is a calmodulin and can be encoded by three different genes. The gamma subunits contain the active site of the enzyme, whereas the alpha and beta subunits have regulatory functions controlled by phosphorylation. The delta subunit mediates the dependence of the enzyme on calcium concentration. Mutations in this gene cause glycogen storage disease type 9D, also known as X-linked muscle glycogenosis. Alternatively spliced transcript variants encoding different isoforms have been identified in this gene. A pseudogene has been found on chromosome 1.[provided by RefSeq, Feb 2010]",
            "This gene is a member of the basic helix-loop-helix (BHLH) family of transcription factors. It activates transcription by binding to the E box (5'-CANNTG-3'). Dimerization with other BHLH proteins is required for efficient DNA binding. Involved in the determination of the neuronal precursors in the peripheral nervous system and the central nervous system. [provided by RefSeq, Jul 2008]",
            "This encoded protein is thought to be a secreted protein belonging to the disintegrin metalloproteinase family. Its expression is upregulated during dendritic cells maturation. This protein may play an important role in dendritic cell function and their interactions with germinal center T cells. [provided by RefSeq, Jul 2008]",
            "The protein encoded by this gene is a membrane receptor that is activated by the binding of CD28 or CTLA-4. The activated protein induces T-cell proliferation and cytokine production. This protein can act as a receptor for adenovirus subgroup B and may play a role in lupus neuropathy. [provided by RefSeq, Aug 2011]",
            "The protein encoded by this gene is an oxidoreductase belonging to the copper type II, ascorbate-dependent monooxygenase family. The encoded protein, expressed in neuroscretory vesicles and chromaffin granules of the adrenal medulla, catalyzes the conversion of dopamine to norepinephrine, which functions as both a hormone and as the main neurotransmitter of the sympathetic nervous system. The enzyme encoded by this gene exists exists in both soluble and membrane-bound forms, depending on the absence or presence, respectively, of a signal peptide. Mutations in this gene cause dopamine beta-hydroxylate deficiency in human patients, characterized by deficits in autonomic and cardiovascular function, including hypotension and ptosis. Polymorphisms in this gene may play a role in a variety of psychiatric disorders. [provided by RefSeq, Aug 2017]",
            "The B lymphocyte antigen receptor is a multimeric complex that includes the antigen-specific component, surface immunoglobulin (Ig). Surface Ig non-covalently associates with two other proteins, Ig-alpha and Ig-beta, which are necessary for expression and function of the B-cell antigen receptor. This gene encodes the Ig-beta protein of the B-cell antigen component. Alternatively spliced transcript variants encoding different isoforms have been described. [provided by RefSeq, Jul 2008]",
            "Predicted to be located in extracellular region. [provided by Alliance of Genome Resources, Apr 2022]",
            "This gene encodes a member of the NACHT, leucine rich repeat, and PYD containing (NLRP) protein family. It has an N-terminal pyrin domain, followed by a NACHT domain, a NACHT-associated domain (NAD), and a C-terminal leucine-rich repeat (LRR) region. NLRP proteins are implicated in the activation of proinflammatory caspases through multiprotein complexes called inflammasomes. This gene may act as a feedback regulator of caspase-1-dependent interleukin 1-beta secretion. Alternative splicing results in multiple transcript variants encoding different isoforms. [provided by RefSeq, Jul 2008]",
            "Predicted to enable actin filament binding activity. Predicted to be involved in actin filament polymerization. Predicted to be located in cytoskeleton and membrane. Predicted to be active in actin filament; cytoplasm; and plasma membrane. [provided by Alliance of Genome Resources, Apr 2022]",
            "Enables transcription coactivator activity. Involved in positive regulation of transcription by RNA polymerase II. Located in nucleoplasm. [provided by Alliance of Genome Resources, Apr 2022]",
            "Enables RNA polymerase II-specific DNA-binding transcription factor binding activity and sequence-specific double-stranded DNA binding activity. Predicted to be involved in several processes, including endodermal cell differentiation; hematopoietic progenitor cell differentiation; and positive regulation of mesoderm development. Predicted to act upstream of or within cell migration involved in gastrulation and hemopoiesis. Located in nucleoplasm. [provided by Alliance of Genome Resources, Apr 2022]",
            "This gene encodes a transmembrane adaptor protein that is expressed in antigen-presenting cells and is localized in the immunologic synapse. The encoded protein is involved in major histocompatibility complex class II signal transduction and immune synapse formation. Alternatively spliced transcript variants have been found for this gene. [provided by RefSeq, Dec 2012]",
            "The protein encoded by this gene is a non-lineage-restricted, type II transmembrane glycoprotein that synthesizes and hydrolyzes cyclic adenosine 5'-diphosphate-ribose, an intracellular calcium ion mobilizing messenger. The release of soluble protein and the ability of membrane-bound protein to become internalized indicate both extracellular and intracellular functions for the protein. This protein has an N-terminal cytoplasmic tail, a single membrane-spanning domain, and a C-terminal extracellular region with four N-glycosylation sites. Crystal structure analysis demonstrates that the functional molecule is a dimer, with the central portion containing the catalytic site. It is used as a prognostic marker for patients with chronic lymphocytic leukemia. Alternative splicing results in multiple transcript variants. [provided by RefSeq, Sep 2015]",
            "The protein encoded by this gene is an orphan G protein-coupled receptor of unknown function. The encoded protein is a member of a family of proteins that contain seven transmembrane domains and transduce extracellular signals through heterotrimeric G proteins. [provided by RefSeq, Sep 2011]",
            "This gene encodes a member of the insulin-like growth factor 2 mRNA-binding protein family. The protein encoded by this gene contains four K homology domains and two RNA recognition motifs. It functions by binding to the mRNAs of certain genes, including insulin-like growth factor 2, beta-actin and beta-transducin repeat-containing protein, and regulating their translation. Two transcript variants encoding different isoforms have been found for this gene. [provided by RefSeq, May 2009]",
            "This gene encodes a multifunctional proinflammatory cytokine that belongs to the tumor necrosis factor (TNF) superfamily. This cytokine is mainly secreted by macrophages. It can bind to, and thus functions through its receptors TNFRSF1A/TNFR1 and TNFRSF1B/TNFBR. This cytokine is involved in the regulation of a wide spectrum of biological processes including cell proliferation, differentiation, apoptosis, lipid metabolism, and coagulation. This cytokine has been implicated in a variety of diseases, including autoimmune diseases, insulin resistance, psoriasis, rheumatoid arthritis ankylosing spondylitis, tuberculosis, autosomal dominant polycystic kidney disease, and cancer. Mutations in this gene affect susceptibility to cerebral malaria, septic shock, and Alzheimer disease. Knockout studies in mice also suggested the neuroprotective function of this cytokine. [provided by RefSeq, Aug 2020]",
            "This gene encodes a member of the Rho GTPase-activator protein superfamily. The encoded protein may function as a Rho GTPase-activating protein. Alterations in this gene may be associated with several diseases, including rheumatoid arthritis, celiac disease, and multiple sclerosis. Alternate splicing results in multiple transcript variants encoding distinct isoforms. [provided by RefSeq, Jul 2013]",
            "This gene belongs to the beta-2 integrin family of membrane glycoproteins, which are are composed of non-covalently linked alpha and beta subunits to form a heterodimer. It encodes the alpha subunit of the cell surface heterodimers and is involved in the activation and adhesion functions of leukocytes. The gene is located about 11kb downstream of the integrin subunit alpha X gene, another member of the integrin family. It is expressed in the tissue and circulating myeloid leukocytes. Alternative splicing results in multiple transcript variants. [provided by RefSeq, Dec 2015]",
            "Involved in positive regulation of innate immune response; positive regulation of toll-like receptor signaling pathway; and regulation of lysosomal lumen pH. Located in endolysosome membrane. [provided by Alliance of Genome Resources, Apr 2022]",
            "The protein encoded by this gene is a cytokine important for B and T cell development. This cytokine and the hepatocyte growth factor (HGF) form a heterodimer that functions as a pre-pro-B cell growth-stimulating factor. IL7 is found to be a cofactor for V(D)J rearrangement of the T cell receptor beta (TCRB) during early T cell development. This cytokine can be produced locally by intestinal epithelial and epithelial goblet cells, and may serve as a regulatory factor for intestinal mucosal lymphocytes. IL7 plays an essential role in lymphoid cell survival, and in the maintenance of naive and memory T cells. Alternative splicing results in multiple transcript variants encoding distinct isoforms. Additional splice variants have been described but their presence in normal tissues has not been confirmed. Severe acute respiratory syndrome coronavirus 2 (SARS-CoV-2) infection can be a potent inducer of proinflammatory cytokines and chemokines which may defend against the infection, but may also mediate destructive lung injury. Elevated serum IL7 levels, together with several other circulating cytokines and chemokines, has been found to be associated with the severity of Coronavirus Disease 19 (COVID-19). [provided by RefSeq, Jul 2020]",
            "The protein encoded by this gene is a lymphocyte-specific member of the tumor necrosis factor (TNF) receptor superfamily. It interacts with calcium-modulator and cyclophilin ligand (CAML). The protein induces activation of the transcription factors NFAT, AP1, and NF-kappa-B and plays a crucial role in humoral immunity by interacting with a TNF ligand. This gene is located within the Smith-Magenis syndrome region on chromosome 17. [provided by RefSeq, Jul 2008]",
            "This gene encodes a member of the calcium dependent lectin superfamily of type II transmembrane receptors. Expression of the encoded protein is induced upon activation of T lymphocytes, and may play a role in proliferation. Furthermore, the protein may act to transmit signals in natural killer cells and platelets. [provided by RefSeq, Aug 2011]",
            "Predicted to enable metal ion binding activity. [provided by Alliance of Genome Resources, Apr 2022]",
            "Overexpression of the TCL1 gene in humans has been implicated in the development of mature T cell leukemia, in which chromosomal rearrangements bring the TCL1 gene in close proximity to the T-cell antigen receptor (TCR)-alpha (MIM 186880) or TCR-beta (MIM 186930) regulatory elements (summarized by Virgilio et al., 1998 [PubMed 9520462]). In normal T cells TCL1 is expressed in CD4-/CD8- cells, but not in cells at later stages of differentiation. TCL1 functions as a coactivator of the cell survival kinase AKT (MIM 164730) (Laine et al., 2000 [PubMed 10983986]).[supplied by OMIM, Jul 2010]",
            null,
            "The protein encoded by this gene is T-cell receptor zeta, which together with T-cell receptor alpha/beta and gamma/delta heterodimers, and with CD3-gamma, -delta and -epsilon, forms the T-cell receptor-CD3 complex. The zeta chain plays an important role in coupling antigen recognition to several intracellular signal-transduction pathways. Low expression of the antigen results in impaired immune response. Two alternatively spliced transcript variants encoding distinct isoforms have been found for this gene. [provided by RefSeq, Jul 2008]",
            "This gene encodes a cell surface receptor expressed on natural killer (NK) cells (and some T cells) that mediate non-major histocompatibility complex (MHC) restricted killing. The interaction between NK-cell and target cells via this receptor is thought to modulate NK-cell cytolytic activity. Alternatively spliced transcript variants encoding different isoforms have been found for this gene.[provided by RefSeq, Oct 2009]",
            "The protein encoded by this gene belongs to the P2X family of G-protein-coupled receptors. These proteins can form homo-and heterotimers and function as ATP-gated ion channels and mediate rapid and selective permeability to cations. This protein is primarily localized to smooth muscle where binds ATP and mediates synaptic transmission between neurons and from neurons to smooth muscle and may being responsible for sympathetic vasoconstriction in small arteries, arterioles and vas deferens. Mouse studies suggest that this receptor is essential for normal male reproductive function. This protein may also be involved in promoting apoptosis. [provided by RefSeq, Jun 2013]",
            "The protein encoded by this gene is a member of the Toll-like receptor (TLR) family which plays a fundamental role in pathogen recognition and activation of innate immunity. TLRs are highly conserved from Drosophila to humans and share structural and functional similarities. They recognize pathogen-associated molecular patterns (PAMPs) that are expressed on infectious agents, and mediate the production of cytokines necessary for the development of effective immunity. The various TLRs exhibit different patterns of expression. This gene is predominantly expressed in lung and peripheral blood leukocytes, and lies in close proximity to another family member, TLR7, on chromosome X. [provided by RefSeq, Jul 2008]",
            "Enables sequence-specific double-stranded DNA binding activity. Predicted to be involved in regulation of transcription by RNA polymerase II. Predicted to be active in nucleus. [provided by Alliance of Genome Resources, Apr 2022]",
            "Predicted to be integral component of membrane. [provided by Alliance of Genome Resources, Apr 2022]",
            "This gene encodes a multi-pass membrane protein that belongs to the CXC chemokine receptor family. It is expressed in mature B-cells and Burkitt's lymphoma. This cytokine receptor binds to B-lymphocyte chemoattractant (BLC), and is involved in B-cell migration into B-cell follicles of spleen and Peyer patches. Alternatively spliced transcript variants encoding different isoforms have been described for this gene. [provided by RefSeq, Aug 2011]",
            "This gene encodes a member of the HtrA family of proteases. The encoded protein contains a putative signal peptide, an insulin growth factor binding domain, a Kazal protease inhibitor domain, a conserved trypsin domain and a PDZ domain. Based on studies on other related family members, this enzyme may function as a secreted oligomeric chaperone protease to degrade misfolded secretory proteins. Other human HtrA proteins have been implicated in arthritis, tumor suppression, unfolded stress response, apoptosis, and aging. [provided by RefSeq, Oct 2008]",
            "SNX20 interacts with the cytoplasmic domain of PSGL1 (SELPLG; MIM 600738) and cycles PSGL1 into endosomes.[supplied by OMIM, Feb 2010]",
            "Killer cell immunoglobulin-like receptors (KIRs) are transmembrane glycoproteins expressed by natural killer cells and subsets of T cells. The KIR genes are polymorphic and highly homologous and they are found in a cluster on chromosome 19q13.4 within the 1 Mb leukocyte receptor complex (LRC). The gene content of the KIR gene cluster varies among haplotypes, although several \"framework\" genes are found in all haplotypes (KIR3DL3, KIR3DP1, KIR3DL4, KIR3DL2). The KIR proteins are classified by the number of extracellular immunoglobulin domains (2D or 3D) and by whether they have a long (L) or short (S) cytoplasmic domain. KIR proteins with the long cytoplasmic domain transduce inhibitory signals upon ligand binding via an immune tyrosine-based inhibitory motif (ITIM), while KIR proteins with the short cytoplasmic domain lack the ITIM motif and instead associate with the TYRO protein tyrosine kinase binding protein to transduce activating signals. The ligands for several KIR proteins are subsets of HLA class I molecules; thus, KIR proteins are thought to play an important role in regulation of the immune response. This gene is one of the \"framework\" loci that is present on all haplotypes. Alternate alleles of this gene are represented on multiple alternate reference loci (ALT_REF_LOCs). Alternative splicing results in multiple transcript variants, some of which may not be annotated on the primary reference assembly. [provided by RefSeq, Jul 2016]",
            "This gene encodes a member of the CARMIL (capping protein, Arp2/3, myosin-I linker) family of proteins. The encoded protein interacts with and negatively regulates the heterodimeric capping protein and promotes cell migration. Reduced expression of this gene has been observed in human psoriasis patients. Mutations in this gene cause a human immunodeficiency syndrome characterized by smooth muscle tumors and impaired T-cell function. [provided by RefSeq, May 2017]",
            "Predicted to be integral component of membrane. [provided by Alliance of Genome Resources, Apr 2022]",
            null,
            "This gene belongs to the TRAFAC class dynamin-like GTPase superfamily. The encoded protein acts as an activator of NLRP3 inflammasome assembly and has a role in innate immunity and inflammation. Alternative splicing results in multiple transcript variants. [provided by RefSeq, Jan 2017]",
            "This gene encodes a member of the CD300 protein family. Members of this family are cell surface glycoproteins with a single IgV-like extracellular domain, and are involved in the regulation of immune response. The encoded protein is an inhibitory receptor. Alternative splicing results in multiple transcript variants. [provided by RefSeq, Jan 2014]",
            "The gene encodes a protein that mediates cell growth by modulating the c-Jun N-terminal kinase signal transduction pathway. The encoded protein may also interact with a large multi-protein assembly containing the phosphatase 2A catalytic subunit. Alternative splicing results in multiple transcript variants. [provided by RefSeq, Dec 2013]",
            "This gene encodes the acidic form of complement factor 4, part of the classical activation pathway. The protein is expressed as a single chain precursor which is proteolytically cleaved into a trimer of alpha, beta, and gamma chains prior to secretion. The trimer provides a surface for interaction between the antigen-antibody complex and other complement components. The alpha chain is cleaved to release C4 anaphylatoxin, an antimicrobial peptide and a mediator of local inflammation. Deficiency of this protein is associated with systemic lupus erythematosus and type I diabetes mellitus. This gene localizes to the major histocompatibility complex (MHC) class III region on chromosome 6. Varying haplotypes of this gene cluster exist, such that individuals may have 1, 2, or 3 copies of this gene. Two transcript variants encoding different isoforms have been found for this gene. [provided by RefSeq, Nov 2014]",
            "This gene is a member of the TNF-receptor superfamily. The encoded protein is a receptor on antigen-presenting cells of the immune system and is essential for mediating a broad variety of immune and inflammatory responses including T cell-dependent immunoglobulin class switching, memory B cell development, and germinal center formation. AT-hook transcription factor AKNA is reported to coordinately regulate the expression of this receptor and its ligand, which may be important for homotypic cell interactions. Adaptor protein TNFR2 interacts with this receptor and serves as a mediator of the signal transduction. The interaction of this receptor and its ligand is found to be necessary for amyloid-beta-induced microglial activation, and thus is thought to be an early event in Alzheimer disease pathogenesis. Mutations affecting this gene are the cause of autosomal recessive hyper-IgM immunodeficiency type 3 (HIGM3). Multiple alternatively spliced transcript variants of this gene encoding distinct isoforms have been reported. [provided by RefSeq, Nov 2014]",
            "The protein encoded by this gene is an isozyme of the long-chain fatty-acid-coenzyme A ligase family. Although differing in substrate specificity, subcellular localization, and tissue distribution, all isozymes of this family convert free long-chain fatty acids into fatty acyl-CoA esters, and thereby play a key role in lipid biosynthesis and fatty acid degradation. This isozyme is highly expressed in uterus and spleen, and in trace amounts in normal brain, but has markedly increased levels in malignant gliomas. This gene functions in mediating fatty acid-induced glioma cell growth. Three transcript variants encoding two different isoforms have been found for this gene. [provided by RefSeq, Jul 2008]",
            "Cytochrome b (-245) is composed of cytochrome b alpha (CYBA) and beta (CYBB) chain. It has been proposed as a primary component of the microbicidal oxidase system of phagocytes. CYBB deficiency is one of five described biochemical defects associated with chronic granulomatous disease (CGD). In this disorder, there is decreased activity of phagocyte NADPH oxidase; neutrophils are able to phagocytize bacteria but cannot kill them in the phagocytic vacuoles. The cause of the killing defect is an inability to increase the cell's respiration and consequent failure to deliver activated oxygen into the phagocytic vacuole. [provided by RefSeq, Jul 2008]",
            "Enables guanyl-nucleotide exchange factor activity. Predicted to be involved in regulation of catalytic activity. Located in cytosol and nucleoplasm. [provided by Alliance of Genome Resources, Apr 2022]",
            "The protein encoded by this gene belongs to the BCL2 protein family. BCL2 family members form hetero- or homodimers and act as anti- or pro-apoptotic regulators that are involved in a wide variety of cellular activities. Overexpression of this gene has been shown to induce apoptosis in cells. Three alternatively spliced transcript variants encoding two distinct isoforms have been reported for this gene. [provided by RefSeq, May 2009]",
            "This gene encodes a glycoprotein expressed on the surface of NK cells, platelets, monocytes and a subset of T cells. It is a member of the Ig-superfamily containing 2 Ig-like domains of the V-set. The protein mediates cellular adhesion of platelets and megakaryocytic cells to vascular endothelial cells. The protein also plays a role in megakaryocytic cell maturation. Alternative splicing results in multiple transcript variants. [provided by RefSeq, Jan 2015]",
            "Natural killer (NK) cells are lymphocytes that can mediate lysis of certain tumor cells and virus-infected cells without previous activation. They can also regulate specific humoral and cell-mediated immunity. The protein encoded by this gene belongs to the killer cell lectin-like receptor family, also called NKG2 family, which is a group of transmembrane proteins preferentially expressed in NK cells. This family of proteins is characterized by the type II membrane orientation and the presence of a C-type lectin domain. This protein forms a complex with another family member, KLRD1/CD94, and has been implicated in the recognition of the MHC class I HLA-E molecules in NK cells. The genes of NKG2 family members form a killer cell lectin-like receptor gene cluster on chromosome 12. Multiple alternatively spliced transcript variants encoding distinct isoforms have been observed. [provided by RefSeq, Jan 2015]",
            "The protein encoded by this gene has an N-terminal Rab-GTPase domain and a binding site at the C-terminus for calcineurin, and is an inhibitor of both the Ras signaling pathway and calcineurin, a phosphatase regulated by calcium and calmodulin. Genes encoding similar proteins are located on chromosomes 16 and 22. Multiple transcript variants encoding different isoforms have been found for this gene. [provided by RefSeq, Jan 2013]",
            "The protein encoded by this gene is a cytokine that regulates T and natural killer cell activation and proliferation. This cytokine and interleukine 2 share many biological activities. They are found to bind common hematopoietin receptor subunits, and may compete for the same receptor, and thus negatively regulate each other's activity. The number of CD8+ memory cells is shown to be controlled by a balance between this cytokine and IL2. This cytokine induces the activation of JAK kinases, as well as the phosphorylation and activation of transcription activators STAT3, STAT5, and STAT6. Studies of the mouse counterpart suggested that this cytokine may increase the expression of apoptosis inhibitor BCL2L1/BCL-x(L), possibly through the transcription activation activity of STAT6, and thus prevent apoptosis. Alternatively spliced transcript variants of this gene have been reported. [provided by RefSeq, Feb 2011]",
            "This gene was initially thought to represent a pseudogene of galectin 9; however, this transcript has good exon-intron structure and encodes a predicted protein of the same size as and highly similar to galectin 9. This gene is one of two similar loci on chromosome 17p similar to galectin 9 and now thought to be protein-encoding. This gene is the more telomeric gene. [provided by RefSeq, Jul 2008]",
            "Enables G protein-coupled receptor activity. Involved in several processes, including actin cytoskeleton reorganization; activation of GTPase activity; and positive regulation of stress fiber assembly. Located in plasma membrane. [provided by Alliance of Genome Resources, Apr 2022]",
            "The protein encoded by this gene is a striated muscle protein and belongs to the Xin actin-binding repeat-containing protein (XIRP) family. The protein functions to protect actin filaments during depolymerization. Alternatively spliced transcript variants encoding different isoforms have been found for this gene. [provided by RefSeq, May 2017]",
            "Enables DNA-binding transcription repressor activity, RNA polymerase II-specific; identical protein binding activity; and sequence-specific double-stranded DNA binding activity. Involved in negative regulation of transcription by RNA polymerase II. Located in nucleus. [provided by Alliance of Genome Resources, Apr 2022]",
            "Predicted to enable transmembrane transporter activity. Predicted to be involved in lipid transport and transmembrane transport. Predicted to be integral component of membrane. [provided by Alliance of Genome Resources, Apr 2022]",
            "This gene encodes a tumor suppressor related to the ADP-ribosylation factor (ARF) family of proteins. The encoded protein may play a role in apoptosis in a caspase-dependent manner. Polymorphisms in this gene have been associated with some familial cancers. [provided by RefSeq, May 2010]",
            "Chemokines are a group of small (approximately 8 to 14 kD), mostly basic, structurally related molecules that regulate cell trafficking of various types of leukocytes through interactions with a subset of 7-transmembrane, G protein-coupled receptors. Chemokines also play fundamental roles in the development, homeostasis, and function of the immune system, and they have effects on cells of the central nervous system as well as on endothelial cells involved in angiogenesis or angiostasis. Chemokines are divided into 2 major subfamilies, CXC and CC. This antimicrobial gene is a CXC member of the chemokine superfamily. Its encoded protein induces a chemotactic response in activated T-cells and is the dominant ligand for CXC receptor-3. The gene encoding this protein contains 4 exons and at least three polyadenylation signals which might reflect cell-specific regulation of expression. IFN-gamma is a potent inducer of transcription of this gene. Two transcript variants encoding different isoforms have been found for this gene. [provided by RefSeq, Oct 2014]",
            "This gene encodes a protein found on the outer membrane of T-lymphocytes as well as some other immune cells. The encoded protein contains three scavenger receptor cysteine-rich (SRCR) domains and a binding site for an activated leukocyte cell adhesion molecule. The gene product is important for continuation of T cell activation. This gene may be associated with susceptibility to multiple sclerosis (PMID: 19525953, 21849685). Multiple transcript variants encoding different isoforms have been found for this gene. [provided by RefSeq, Dec 2011]",
            "This gene encodes a class III receptor tyrosine kinase that regulates hematopoiesis. This receptor is activated by binding of the fms-related tyrosine kinase 3 ligand to the extracellular domain, which induces homodimer formation in the plasma membrane leading to autophosphorylation of the receptor. The activated receptor kinase subsequently phosphorylates and activates multiple cytoplasmic effector molecules in pathways involved in apoptosis, proliferation, and differentiation of hematopoietic cells in bone marrow. Mutations that result in the constitutive activation of this receptor result in acute myeloid leukemia and acute lymphoblastic leukemia. [provided by RefSeq, Jan 2015]",
            "This gene encodes a member of the C-type lectin/C-type lectin-like domain (CTL/CTLD) superfamily. Members of this family share a common protein fold and have diverse functions, such as cell adhesion, cell-cell signalling, glycoprotein turnover, and roles in inflammation and immune response. The encoded type II transmembrane protein is a downstream target of CCAAT/enhancer binding protein (C/EBP), beta (CEBPB) and may play a role in inflammation. Alternative splice variants have been described but their full-length sequence has not been determined. This gene is closely linked to other CTL/CTLD superfamily members on chromosome 12p13 in the natural killer gene complex region. [provided by RefSeq, Jul 2008]",
            "This gene encodes a member of an adaptor protein family. Members of this family encode proteins containing a homeobox homology domain, proline rich region and Src-homology 3 (SH3) domain, and are components of the Abi/WAVE complex which regulates actin polymerization. The encoded protein inhibits ectopic metastasis of tumor cells as well as cell migration. This may be accomplished through interaction with p21-activated kinase. Alternative splicing results in multiple transcript variants. [provided by RefSeq, Sep 2013]",
            "The gene represents one of three related immunoglobulin gamma Fc receptor genes located on chromosome 1. This family member lacks the transmembrane and coiled-coiled domains found in other family members and is thought to be a pseudogene of Fc-gamma-receptor 1A. [provided by RefSeq, Apr 2009]",
            "This gene encodes a member of the guanine nucleotide-binding protein (G protein)-coupled receptor (GPCR) superfamily. The receptors are seven-pass transmembrane proteins that respond to extracellular cues and activate intracellular signal transduction pathways. This protein is reported to be a receptor for prostaglandin D2, which is a mediator of allergic inflammation and allergic airway inflammation in asthma. Alternative splicing results in multiple transcript variants. [provided by RefSeq, Jul 2013]",
            "This gene encodes a membrane-bound protein which is a member of the ELO family, proteins which participate in the biosynthesis of fatty acids. Consistent with the expression of the encoded protein in photoreceptor cells of the retina, mutations and small deletions in this gene are associated with Stargardt-like macular dystrophy (STGD3) and autosomal dominant Stargardt-like macular dystrophy (ADMD), also referred to as autosomal dominant atrophic macular degeneration. [provided by RefSeq, Jul 2008]",
            "This gene encodes a BTB-Kelch-related protein. The encoded protein may be involved in protein degradation. Mutations in this gene have been associated with retinitis pigmentosa 42. [provided by RefSeq, Feb 2010]",
            "The protein encoded by this gene contains a SH2 domain and a SOCS box domain. The protein thus belongs to the cytokine-induced STAT inhibitor (CIS), also known as suppressor of cytokine signaling (SOCS) or STAT-induced STAT inhibitor (SSI), protein family. CIS family members are known to be cytokine-inducible negative regulators of cytokine signaling. The expression of this gene can be induced by IL2, IL3, GM-CSF and EPO in hematopoietic cells. Proteasome-mediated degradation of this protein has been shown to be involved in the inactivation of the erythropoietin receptor. Multiple transcript variants encoding different isoforms have been found for this gene. [provided by RefSeq, Aug 2008]",
            "This gene encodes a member of the short-chain dehydrogenases/reductases (SDR) family. The encoded protein has been identified as a moonlighting protein based on its ability to perform mechanistically distinct functions. This protein demonstrates oxidoreductase activity toward hydroxysteroids and is able to convert 3-alpha-tetrahydroprogesterone to dihydroxyprogesterone and 3-alpha-androstanediol to dihydroxyprogesterone in the cytoplasm, and may additionally function as a transcriptional repressor in the nucleus. Alternative splicing results in multiple transcript variants. [provided by RefSeq, Jan 2014]",
            "This gene is a member of the Src family of protein tyrosine kinases (PTKs). The encoded protein is a key signaling molecule in the selection and maturation of developing T-cells. It contains N-terminal sites for myristylation and palmitylation, a PTK domain, and SH2 and SH3 domains which are involved in mediating protein-protein interactions with phosphotyrosine-containing and proline-rich motifs, respectively. The protein localizes to the plasma membrane and pericentrosomal vesicles, and binds to cell surface receptors, including CD4 and CD8, and other signaling molecules. Multiple alternatively spliced variants encoding different isoforms have been described. [provided by RefSeq, Aug 2016]",
            "Enables actin filament binding activity. Involved in cellular hyperosmotic response. Predicted to be located in actin filament. [provided by Alliance of Genome Resources, Apr 2022]",
            "The protein encoded by this gene is a member of the Ras superfamily of guanosine triphosphate (GTP)-metabolizing enzymes. The encoded protein is expressed in hematopoietic cells, where it functions as a negative regulator of cell growth and survival. This gene may be hypermutated or misexpressed in leukemias and lymphomas. Chromosomal translocations in non-Hodgkin's lymphoma occur between this locus and B-cell CLL/lymphoma 6 (BCL6) on chromosome 3, leading to the production of fusion transcripts. Alternative splicing in the 5' untranslated region results in multiple transcript variants that encode the same protein. [provided by RefSeq, May 2013]",
            "This gene encodes an intracellular tyrosine kinase expressed in T-cells. The protein contains both SH2 and SH3 domains which are often found in intracellular kinases. It is thought to play a role in T-cell proliferation and differentiation. [provided by RefSeq, Jul 2008]",
            "The protein encoded by this gene is a type I transmembrane protein that belongs to the hemopoietin receptor superfamily. This protein binds to interleukine 12 (IL12) with a low affinity, and is thought to be a part of IL12 receptor complex. This protein forms a disulfide-linked oligomer, which is required for its IL12 binding activity. The coexpression of this and IL12RB2 proteins was shown to lead to the formation of high-affinity IL12 binding sites and reconstitution of IL12 dependent signaling. Mutations in this gene impair the development of interleukin-17-producing T lymphocytes and result in increased susceptibility to mycobacterial and Salmonella infections. Alternative splicing results in multiple transcript variants. [provided by RefSeq, Feb 2014]",
            "B lymphocyte chemoattractant, independently cloned and named Angie, is an antimicrobial peptide and CXC chemokine strongly expressed in the follicles of the spleen, lymph nodes, and Peyer's patches. It preferentially promotes the migration of B lymphocytes (compared to T cells and macrophages), apparently by stimulating calcium influx into, and chemotaxis of, cells expressing Burkitt's lymphoma receptor 1 (BLR-1). It may therefore function in the homing of B lymphocytes to follicles. [provided by RefSeq, Oct 2014]",
            "Predicted to be integral component of membrane. [provided by Alliance of Genome Resources, Apr 2022]",
            "This gene encodes a member of the Rab family of proteins. Rab proteins are small GTPases that are involved in vesicular trafficking. Mutations in this gene are associated with X-linked cognitive disability. [provided by RefSeq, Aug 2013]",
            "Lymphocyte-activation protein 3 belongs to Ig superfamily and contains 4 extracellular Ig-like domains. The LAG3 gene contains 8 exons.  The sequence data, exon/intron organization, and chromosomal localization all indicate a close relationship of LAG3 to CD4. [provided by RefSeq, Jul 2008]",
            "This gene encodes a member of the sialic acid-binding immunoglobulin-like lectin family. These cell surface lectins are characterized by structural motifs in the immunoglobulin (Ig)-like domains and sialic acid recognition sites in the first Ig V set domain. This family member mediates anti-inflammatory and immunosuppressive signaling. Multiple transcript variants encoding different isoforms have been found for this gene. [provided by RefSeq, Oct 2011]",
            "The protein encoded by this gene is involved in the contraction of both striated and smooth muscle. During pregnancy, the encoded protein interacts with progesterone receptor to attenuate the expression of contractile and metabolic proteins. [provided by RefSeq, Jul 2016]",
            "The protein encoded by this gene is a member of the signal-regulatory protein (SIRP) family, and also belongs to the immunoglobulin superfamily. SIRP family members are receptor-type transmembrane glycoproteins known to be involved in the negative regulation of receptor tyrosine kinase-coupled signaling processes. Alternatively spliced transcript variants encoding different isoforms have been described. [provided by RefSeq, Jul 2008]",
            null,
            "Enables SH2 domain binding activity and identical protein binding activity. Involved in several processes, including negative regulation of CD40 signaling pathway; negative regulation of cytokine production; and positive regulation of MAPK cascade. Located in extracellular exosome. [provided by Alliance of Genome Resources, Apr 2022]",
            "This gene encodes a seven-transmembrane G-protein-coupled receptor for platelet-activating factor (PAF) that localizes to lipid rafts and/or caveolae in the cell membrane. PAF (1-0-alkyl-2-acetyl-sn-glycero-3-phosphorylcholine) is a phospholipid that plays a significant role in oncogenic transformation, tumor growth, angiogenesis, metastasis, and pro-inflammatory processes. Binding of PAF to the PAF-receptor (PAFR) stimulates numerous signal transduction pathways including phospholipase C, D, A2, mitogen-activated protein kinases (MAPKs), and the phosphatidylinositol-calcium second messenger system. Following PAFR activation, cells become rapidly desensitized and this refractory state is dependent on PAFR phosphorylation, internalization, and down-regulation. Alternative splicing results in multiple transcript variants. [provided by RefSeq, Aug 2011]",
            "Enables GTPase activity. Involved in cellular response to lipopolysaccharide; negative regulation of apoptotic process; and regulation of nuclear cell cycle DNA replication. Predicted to be located in nucleus. [provided by Alliance of Genome Resources, Apr 2022]",
            "HLA-DQB1 belongs to the HLA class II beta chain paralogs. This class II molecule is a heterodimer consisting of an alpha (DQA) and a beta chain (DQB), both anchored in the membrane. It plays a central role in the immune system by presenting peptides derived from extracellular proteins. Class II molecules are expressed in antigen presenting cells (APC: B lymphocytes, dendritic cells, macrophages). The beta chain is approximately 26-28 kDa and it contains six exons. Exon 1 encodes the leader peptide, exons 2 and 3 encode the two extracellular domains, exon 4 encodes the transmembrane domain and exon 5 encodes the cytoplasmic tail. Within the DQ molecule both the alpha chain and the beta chain contain the polymorphisms specifying the peptide binding specificities, resulting in up to four different molecules. Typing for these polymorphisms is routinely done for bone marrow transplantation. Alternative splicing results in multiple transcript variants. [provided by RefSeq, Sep 2011]",
            "This gene encodes a member of the M13 family of endopeptidases. Members of this family are zinc-containing type II integral-membrane proteins that are important regulators of neuropeptide and peptide hormone activity. Mutations in this gene are associated with autosomal recessive distal arthrogryposis, type 5D. This gene has multiple pseudogenes on chromosome 2. Alternative splicing results in multiple transcript variants encoding different isoforms. [provided by RefSeq, Mar 2014]",
            "This gene encodes the gamma subunit of cyclic GMP-phosphodiesterase, which is composed of alpha- and beta- catalytic subunits and two identical, inhibitory gamma subunits. This gene is expressed in rod photoreceptors and functions in the phototransduction signaling cascade. It is also expressed in a variety of other tissues, and has been shown to regulate the c-Src protein kinase and G-protein-coupled receptor kinase 2. Alternative splicing results in multiple transcript variants. [provided by RefSeq, Feb 2009]",
            "This gene encodes a secreted L-amino acid oxidase protein which primarily catabolizes L-phenylalanine and, to a lesser extent, L-arginine. The expression of this gene is induced by the cytokine interleukin 4 in B cells. This gene is also expressed in macrophages and dendritic cells. This protein may play a role immune system escape as it is expressed in tumor-associated macrophages and suppresses T-cell responses. This protein also contains domains thought to be involved in the binding of flavin adenine dinucleotide (FAD) cofactor. Multiple transcript variants encoding different isoforms have been found for this gene. Some transcripts of this gene share a promoter and exons of the 5' UTR with the overlapping NUP62 gene. [provided by RefSeq, Jul 2020]",
            "The protein encoded by this gene is membrane-associated and contains five ankyrin repeats, a protein phosphatase-1-interacting domain, and a carboxy-terminal CAAX box domain. Synthesis of the encoded protein is inhibited by transforming growth factor beta-1. The protein may bind to the membrane through its CAAX box domain and may act as a signaling molecule through interaction with protein phosphatase-1. Alternative splicing results in multiple transcript variants encoding different isoforms that may undergo similar processing to generate mature protein. [provided by RefSeq, Sep 2015]",
            "This gene encodes mitogen-activated protein kinase kinase kinase 14, which is a serine/threonine protein-kinase. This kinase binds to TRAF2 and stimulates NF-kappaB activity. It shares sequence similarity with several other MAPKK kinases. It participates in an NF-kappaB-inducing signalling cascade common to receptors of the tumour-necrosis/nerve-growth factor (TNF/NGF) family and to the interleukin-1 type-I receptor. [provided by RefSeq, Jul 2008]",
            "This antimicrobial gene is one of several CC cytokine genes clustered on the p-arm of chromosome 9. Cytokines are a family of secreted proteins involved in immunoregulatory and inflammatory processes. The CC cytokines are proteins characterized by two adjacent cysteines. Similar to other chemokines the protein encoded by this gene inhibits hemopoiesis and stimulates chemotaxis. This protein is chemotactic in vitro for thymocytes and activated T cells, but not for B cells, macrophages, or neutrophils. The cytokine encoded by this gene may also play a role in mediating homing of lymphocytes to secondary lymphoid organs. It is a high affinity functional ligand for chemokine receptor 7 that is expressed on T and B lymphocytes and a known receptor for another member of the cytokine family (small inducible cytokine A19). [provided by RefSeq, Sep 2014]",
            "The CD8 antigen is a cell surface glycoprotein found on most cytotoxic T lymphocytes that mediates efficient cell-cell interactions within the immune system. The CD8 antigen, acting as a coreceptor, and the T-cell receptor on the T lymphocyte recognize antigens displayed by an antigen presenting cell (APC) in the context of class I MHC molecules. The functional coreceptor is either a homodimer composed of two alpha chains, or a heterodimer composed of one alpha and one beta chain. Both alpha and beta chains share significant homology to immunoglobulin variable light chains. This gene encodes the CD8 beta chain isoforms. Multiple alternatively spliced transcript variants encoding distinct membrane associated or secreted isoforms have been described. A pseudogene, also located on chromosome 2, has been identified. [provided by RefSeq, May 2010]",
            "Predicted to enable serine-type endopeptidase activity. Predicted to be involved in zymogen activation. Predicted to act upstream of or within positive regulation of complement-dependent cytotoxicity and regulation of complement activation. Located in cell surface. [provided by Alliance of Genome Resources, Apr 2022]",
            "This gene encodes a transcription factor that belongs to the family of zinc-finger DNA-binding proteins associated with chromatin remodeling. The expression of this protein is restricted to the fetal and adult hemo-lymphopoietic system, and it functions as a regulator of lymphocyte differentiation. Several alternatively spliced transcript variants encoding different isoforms have been described for this gene. Most isoforms share a common C-terminal domain, which contains two zinc finger motifs that are required for hetero- or homo-dimerization, and for interactions with other proteins. The isoforms, however, differ in the number of N-terminal zinc finger motifs that bind DNA and in nuclear localization signal presence, resulting in members with and without DNA-binding properties. Only a few isoforms contain the requisite three or more N-terminal zinc motifs that confer high affinity binding to a specific core DNA sequence element in the promoters of target genes. The non-DNA-binding isoforms are largely found in the cytoplasm, and are thought to function as dominant-negative factors. Overexpression of some dominant-negative isoforms have been associated with B-cell malignancies, such as acute lymphoblastic leukemia (ALL). [provided by RefSeq, May 2014]",
            "This gene encodes a secreted high density lipoprotein which binds to apolipoprotein A-I. Apolipoprotein A-I is a relatively abundant plasma protein and is the major apoprotein of HDL. It is involved in the formation of most cholesteryl esters in plasma and also promotes efflux of cholesterol from cells. This apolipoprotein L family member may play a role in lipid exchange and transport throughout the body, as well as in reverse cholesterol transport from peripheral cells to the liver. Several different transcript variants encoding different isoforms have been found for this gene. [provided by RefSeq, Nov 2008]",
            "The protein encoded by this gene belongs to the centaurin gamma-like family. It mediates anti-apoptotic effects of nerve growth factor by activating nuclear phosphoinositide 3-kinase. It is overexpressed in cancer cells, and promotes cancer cell invasion. Alternatively spliced transcript variants encoding different isoforms have been described for this gene. [provided by RefSeq, Aug 2011]",
            "Predicted to be integral component of membrane. [provided by Alliance of Genome Resources, Apr 2022]",
            "This gene encodes a transmembrane protein which is a member of the immunoglobulin superfamily. This protein is found on thymocytes and mature T cells. It plays an essential role in T-cell interactions and also in T-cell/B-cell interaction during early lymphoid development. [provided by RefSeq, Jul 2008]",
            "Dendritic cells (DCs) are the most potent antigen-presenting cells. Immature DCs efficiently capture antigens and differentiate into interdigitating dendritic cells (IDCs) in lymphoid tissues that induce primary T-cell responses (summary by de Saint-Vis et al., 1998 [PubMed 9768752]).[supplied by OMIM, Dec 2010]",
            "This gene product is a member of the Vanin family of proteins that share extensive sequence similarity with each other, and also with biotinidase. The family includes secreted and membrane-associated proteins, a few of which have been reported to participate in hematopoietic cell trafficking. No biotinidase activity has been demonstrated for any of the vanin proteins, however, they possess pantetheinase activity, which may play a role in oxidative-stress response. The encoded protein is a GPI-anchored cell surface molecule that plays a role in transendothelial migration of neutrophils. This gene lies in close proximity to, and in same transcriptional orientation as two other vanin genes on chromosome 6q23-q24. Alternatively spliced transcript variants encoding different isoforms have been described for this gene. [provided by RefSeq, May 2011]",
            "Predicted to enable signaling receptor activity. Predicted to be involved in immune response and inflammatory response. Located in extracellular exosome. [provided by Alliance of Genome Resources, Apr 2022]",
            "The protein encoded by this gene is a microsomal enzyme that catalyzes the conversion of the stress hormone cortisol to the inactive metabolite cortisone. In addition, the encoded protein can catalyze the reverse reaction, the conversion of cortisone to cortisol. Too much cortisol can lead to central obesity, and a particular variation in this gene has been associated with obesity and insulin resistance in children. Mutations in this gene and H6PD (hexose-6-phosphate dehydrogenase (glucose 1-dehydrogenase)) are the cause of cortisone reductase deficiency. Alternate splicing results in multiple transcript variants encoding the same protein.[provided by RefSeq, May 2011]",
            "This gene encodes a subunit of the transcription factor complex nuclear factor-kappa-B (NFkB). The NFkB complex is expressed in numerous cell types and functions as a central activator of genes involved in inflammation and immune function. The protein encoded by this gene can function as both a transcriptional activator or repressor depending on its dimerization partner. The p100 full-length protein is co-translationally processed into a p52 active form. Chromosomal rearrangements and translocations of this locus have been observed in B cell lymphomas, some of which may result in the formation of fusion proteins. There is a pseudogene for this gene on chromosome 18. Alternative splicing results in multiple transcript variants. [provided by RefSeq, Dec 2013]",
            null,
            "This gene encodes a C2H2-type zinc finger protein and is closely related to BCL11A, a gene whose translocation may be associated with B-cell malignancies. Although the specific function of this gene has not been determined, the encoded protein is known to be a transcriptional repressor, and is regulated by the NURD nucleosome remodeling and histone deacetylase complex. Four alternatively spliced transcript variants encoding distinct isoforms have been found for this gene. [provided by RefSeq, Aug 2013]",
            "Predicted to be located in external side of plasma membrane and sperm head plasma membrane. Predicted to be part of protein-containing complex. [provided by Alliance of Genome Resources, Apr 2022]",
            "The protein encoded by this gene is the CD3-epsilon polypeptide, which together with CD3-gamma, -delta and -zeta, and the T-cell receptor alpha/beta and gamma/delta heterodimers, forms the T-cell receptor-CD3 complex. This complex plays an important role in coupling antigen recognition to several intracellular signal-transduction pathways. The genes encoding the epsilon, gamma and delta polypeptides are located in the same cluster on chromosome 11. The epsilon polypeptide plays an essential role in T-cell development. Defects in this gene cause immunodeficiency. This gene has also been linked to a susceptibility to type I diabetes in women. [provided by RefSeq, Jul 2008]",
            null,
            "This gene encodes a member of the C-type lectin/C-type lectin-like domain (CTL/CTLD) superfamily. The encoded glycoprotein is a small type II membrane receptor with an extracellular C-type lectin-like domain fold and a cytoplasmic domain with an immunoreceptor tyrosine-based activation motif. It functions as a pattern-recognition receptor that recognizes a variety of beta-1,3-linked and beta-1,6-linked glucans from fungi and plants, and in this way plays a role in innate immune response. Alternate transcriptional splice variants, encoding different isoforms, have been characterized. This gene is closely linked to other CTL/CTLD superfamily members on chromosome 12p13 in the natural killer gene complex region. [provided by RefSeq, Jul 2008]",
            "Predicted to be located in cytoplasm. [provided by Alliance of Genome Resources, Apr 2022]",
            "The protein encoded by this gene is a member of the signal-regulatory protein (SIRP) family, and also belongs to the immunoglobulin superfamily. SIRP family members are receptor-type transmembrane glycoproteins known to be involved in the negative regulation of receptor tyrosine kinase-coupled signaling processes. Alternatively spliced transcript variants encoding different isoforms have been described. [provided by RefSeq, Jul 2008]",
            "This gene encodes a member of the granzyme subfamily of proteins, part of the peptidase S1 family of serine proteases. The encoded preproprotein is secreted by natural killer (NK) cells and cytotoxic T lymphocytes (CTLs) and proteolytically processed to generate the active protease, which induces target cell apoptosis. This protein also processes cytokines and degrades extracellular matrix proteins, and these roles are implicated in chronic inflammation and wound healing. Expression of this gene may be elevated in human patients with cardiac fibrosis. [provided by RefSeq, Sep 2016]",
            "Predicted to enable microtubule binding activity. Involved in spindle midzone assembly. Located in spindle midzone. [provided by Alliance of Genome Resources, Apr 2022]",
            "The protein encoded by this gene is a member of the protein tyrosine phosphatase (PTP) family. PTPs are known to be signaling molecules that regulate a variety of cellular processes including cell growth, differentiation, mitotic cycle, and oncogenic transformation. N-terminal part of this PTP contains two tandem Src homolog (SH2) domains, which act as protein phospho-tyrosine binding domains, and mediate the interaction of this PTP with its substrates. This PTP is expressed primarily in hematopoietic cells, and functions as an important regulator of multiple signaling pathways in hematopoietic cells. This PTP has been shown to interact with, and dephosphorylate a wide spectrum of phospho-proteins involved in hematopoietic cell signaling. Multiple alternatively spliced variants of this gene, which encode distinct isoforms, have been reported. [provided by RefSeq, Jul 2008]",
            "The protein encoded by this gene is a non-secretory ribonuclease that belongs to the pancreatic ribonuclease family, a subset of the ribonuclease A superfamily. The protein antimicrobial activity against viruses. [provided by RefSeq, Oct 2014]",
            "Rab proteins are low molecular mass GTPases that are critical regulators of vesicle trafficking. For additional background information on Rab proteins, see MIM 179508.[supplied by OMIM, Apr 2006]",
            "This gene encodes a member of the immunoglobulin receptor superfamily and is one of several Fc receptor-like glycoproteins clustered on the long arm of chromosome 1. The encoded protein has four extracellular C2-type immunoglobulin domains, a transmembrane domain and a cytoplasmic domain that contains one immunoreceptor-tyrosine activation motif and two immunoreceptor-tyrosine inhibitory motifs. This protein may be a prognostic marker for chronic lymphocytic leukemia. Alternatively spliced transcript variants have been described, but their biological validity has not been determined. [provided by RefSeq, Apr 2009]",
            "Natural killer (NK) cells are lymphocytes that mediate cytotoxicity and secrete cytokines after immune stimulation. Several genes of the C-type lectin superfamily, including the rodent NKRP1 family of glycoproteins, are expressed by NK cells and may be involved in the regulation of NK cell function. The KLRB1 protein contains an extracellular domain with several motifs characteristic of C-type lectins, a transmembrane domain, and a cytoplasmic domain. The KLRB1 protein is classified as a type II membrane protein because it has an external C terminus. [provided by RefSeq, Jul 2008]",
            "The protein encoded by this gene is phosphorylated by ZAP-70/Syk protein tyrosine kinases following activation of the T-cell antigen receptor (TCR) signal transduction pathway. This transmembrane protein localizes to lipid rafts and acts as a docking site for SH2 domain-containing proteins. Upon phosphorylation, this protein recruits multiple adaptor proteins and downstream signaling molecules into multimolecular signaling complexes located near the site of TCR engagement. Alternative splicing results in multiple transcript variants encoding different isoforms. [provided by RefSeq, Jul 2008]",
            "The protein encoded by this gene belongs to the HIN-200 family of interferon-inducible proteins that share a 200-amino acid signature motif at their C-termini. HIN200 proteins are primarily nuclear and are involved in transcriptional regulation of genes important for cell cycle control, differentiation, and apoptosis. Downregulation of this gene is associated with breast cancer. This protein acts as a tumor suppressor by promoting ubiquitination and subsequent degradation of MDM2, which leads to stabilization of p53/TP53. Alternatively spliced transcript variants encoding different isoforms have been described for this gene. [provided by RefSeq, Aug 2011]",
            "Enables RNA polymerase II cis-regulatory region sequence-specific DNA binding activity. Involved in T cell receptor signaling pathway; cellular response to ionomycin; and regulation of gene expression. Predicted to be located in nucleus. [provided by Alliance of Genome Resources, Apr 2022]",
            "Enables amyloid-beta binding activity; scavenger receptor binding activity; and signaling receptor activity. Involved in several processes, including cellular response to amyloid-beta; positive regulation of monocyte chemotaxis; and regulation of defense response. Located in cytoplasm and plasma membrane. [provided by Alliance of Genome Resources, Apr 2022]",
            "Enables identical protein binding activity. Predicted to be involved in adaptive immune response. Predicted to act upstream of or within regulation of natural killer cell activation. Located in endoplasmic reticulum. [provided by Alliance of Genome Resources, Apr 2022]",
            "Transport of small hydrophilic substances across cell membranes is mediated by substrate-specific transporter proteins which have been classified into several families of related genes. The protein encoded by this gene belongs to the sodium:neurotransmitter symporter (SNF) family and functions as a proline transporter expressed in kidney and small intestine. Mutations in this gene are associated with Hyperglycinuria and Iminoglycinuria. [provided by RefSeq, Jul 2020]",
            "Apolipoprotein B48 receptor is a macrophage receptor that binds to the apolipoprotein B48 of dietary triglyceride (TG)-rich lipoproteins. This receptor may provide essential lipids, lipid-soluble vitamins and other nutrients to reticuloendothelial cells. If overwhelmed with elevated plasma triglyceride, the apolipoprotein B48 receptor may contribute to foam cell formation, endothelial dysfunction, and atherothrombogenesis. [provided by RefSeq, Jul 2008]",
            "This gene encodes a protein belonging to the GTP-binding superfamily and to the immuno-associated nucleotide (IAN) subfamily of nucleotide-binding proteins. The encoded protein of this gene may be negatively regulated by T-cell acute lymphocytic leukemia 1 (TAL1). In humans, the IAN subfamily genes are located in a cluster at 7q36.1. [provided by RefSeq, Jul 2008]"
           ]
          ]
         },
         "columnwidth": [
          10,
          8,
          15,
          90
         ],
         "header": {
          "align": "left",
          "values": [
           "Unnamed: 0",
           "GENE_NAME",
           "ID",
           "DESCRIPTION",
           "SUMMARY"
          ]
         },
         "type": "table"
        }
       ],
       "layout": {
        "height": 800,
        "showlegend": false,
        "template": {
         "data": {
          "bar": [
           {
            "error_x": {
             "color": "#2a3f5f"
            },
            "error_y": {
             "color": "#2a3f5f"
            },
            "marker": {
             "line": {
              "color": "#E5ECF6",
              "width": 0.5
             },
             "pattern": {
              "fillmode": "overlay",
              "size": 10,
              "solidity": 0.2
             }
            },
            "type": "bar"
           }
          ],
          "barpolar": [
           {
            "marker": {
             "line": {
              "color": "#E5ECF6",
              "width": 0.5
             },
             "pattern": {
              "fillmode": "overlay",
              "size": 10,
              "solidity": 0.2
             }
            },
            "type": "barpolar"
           }
          ],
          "carpet": [
           {
            "aaxis": {
             "endlinecolor": "#2a3f5f",
             "gridcolor": "white",
             "linecolor": "white",
             "minorgridcolor": "white",
             "startlinecolor": "#2a3f5f"
            },
            "baxis": {
             "endlinecolor": "#2a3f5f",
             "gridcolor": "white",
             "linecolor": "white",
             "minorgridcolor": "white",
             "startlinecolor": "#2a3f5f"
            },
            "type": "carpet"
           }
          ],
          "choropleth": [
           {
            "colorbar": {
             "outlinewidth": 0,
             "ticks": ""
            },
            "type": "choropleth"
           }
          ],
          "contour": [
           {
            "colorbar": {
             "outlinewidth": 0,
             "ticks": ""
            },
            "colorscale": [
             [
              0,
              "#0d0887"
             ],
             [
              0.1111111111111111,
              "#46039f"
             ],
             [
              0.2222222222222222,
              "#7201a8"
             ],
             [
              0.3333333333333333,
              "#9c179e"
             ],
             [
              0.4444444444444444,
              "#bd3786"
             ],
             [
              0.5555555555555556,
              "#d8576b"
             ],
             [
              0.6666666666666666,
              "#ed7953"
             ],
             [
              0.7777777777777778,
              "#fb9f3a"
             ],
             [
              0.8888888888888888,
              "#fdca26"
             ],
             [
              1,
              "#f0f921"
             ]
            ],
            "type": "contour"
           }
          ],
          "contourcarpet": [
           {
            "colorbar": {
             "outlinewidth": 0,
             "ticks": ""
            },
            "type": "contourcarpet"
           }
          ],
          "heatmap": [
           {
            "colorbar": {
             "outlinewidth": 0,
             "ticks": ""
            },
            "colorscale": [
             [
              0,
              "#0d0887"
             ],
             [
              0.1111111111111111,
              "#46039f"
             ],
             [
              0.2222222222222222,
              "#7201a8"
             ],
             [
              0.3333333333333333,
              "#9c179e"
             ],
             [
              0.4444444444444444,
              "#bd3786"
             ],
             [
              0.5555555555555556,
              "#d8576b"
             ],
             [
              0.6666666666666666,
              "#ed7953"
             ],
             [
              0.7777777777777778,
              "#fb9f3a"
             ],
             [
              0.8888888888888888,
              "#fdca26"
             ],
             [
              1,
              "#f0f921"
             ]
            ],
            "type": "heatmap"
           }
          ],
          "heatmapgl": [
           {
            "colorbar": {
             "outlinewidth": 0,
             "ticks": ""
            },
            "colorscale": [
             [
              0,
              "#0d0887"
             ],
             [
              0.1111111111111111,
              "#46039f"
             ],
             [
              0.2222222222222222,
              "#7201a8"
             ],
             [
              0.3333333333333333,
              "#9c179e"
             ],
             [
              0.4444444444444444,
              "#bd3786"
             ],
             [
              0.5555555555555556,
              "#d8576b"
             ],
             [
              0.6666666666666666,
              "#ed7953"
             ],
             [
              0.7777777777777778,
              "#fb9f3a"
             ],
             [
              0.8888888888888888,
              "#fdca26"
             ],
             [
              1,
              "#f0f921"
             ]
            ],
            "type": "heatmapgl"
           }
          ],
          "histogram": [
           {
            "marker": {
             "pattern": {
              "fillmode": "overlay",
              "size": 10,
              "solidity": 0.2
             }
            },
            "type": "histogram"
           }
          ],
          "histogram2d": [
           {
            "colorbar": {
             "outlinewidth": 0,
             "ticks": ""
            },
            "colorscale": [
             [
              0,
              "#0d0887"
             ],
             [
              0.1111111111111111,
              "#46039f"
             ],
             [
              0.2222222222222222,
              "#7201a8"
             ],
             [
              0.3333333333333333,
              "#9c179e"
             ],
             [
              0.4444444444444444,
              "#bd3786"
             ],
             [
              0.5555555555555556,
              "#d8576b"
             ],
             [
              0.6666666666666666,
              "#ed7953"
             ],
             [
              0.7777777777777778,
              "#fb9f3a"
             ],
             [
              0.8888888888888888,
              "#fdca26"
             ],
             [
              1,
              "#f0f921"
             ]
            ],
            "type": "histogram2d"
           }
          ],
          "histogram2dcontour": [
           {
            "colorbar": {
             "outlinewidth": 0,
             "ticks": ""
            },
            "colorscale": [
             [
              0,
              "#0d0887"
             ],
             [
              0.1111111111111111,
              "#46039f"
             ],
             [
              0.2222222222222222,
              "#7201a8"
             ],
             [
              0.3333333333333333,
              "#9c179e"
             ],
             [
              0.4444444444444444,
              "#bd3786"
             ],
             [
              0.5555555555555556,
              "#d8576b"
             ],
             [
              0.6666666666666666,
              "#ed7953"
             ],
             [
              0.7777777777777778,
              "#fb9f3a"
             ],
             [
              0.8888888888888888,
              "#fdca26"
             ],
             [
              1,
              "#f0f921"
             ]
            ],
            "type": "histogram2dcontour"
           }
          ],
          "mesh3d": [
           {
            "colorbar": {
             "outlinewidth": 0,
             "ticks": ""
            },
            "type": "mesh3d"
           }
          ],
          "parcoords": [
           {
            "line": {
             "colorbar": {
              "outlinewidth": 0,
              "ticks": ""
             }
            },
            "type": "parcoords"
           }
          ],
          "pie": [
           {
            "automargin": true,
            "type": "pie"
           }
          ],
          "scatter": [
           {
            "fillpattern": {
             "fillmode": "overlay",
             "size": 10,
             "solidity": 0.2
            },
            "type": "scatter"
           }
          ],
          "scatter3d": [
           {
            "line": {
             "colorbar": {
              "outlinewidth": 0,
              "ticks": ""
             }
            },
            "marker": {
             "colorbar": {
              "outlinewidth": 0,
              "ticks": ""
             }
            },
            "type": "scatter3d"
           }
          ],
          "scattercarpet": [
           {
            "marker": {
             "colorbar": {
              "outlinewidth": 0,
              "ticks": ""
             }
            },
            "type": "scattercarpet"
           }
          ],
          "scattergeo": [
           {
            "marker": {
             "colorbar": {
              "outlinewidth": 0,
              "ticks": ""
             }
            },
            "type": "scattergeo"
           }
          ],
          "scattergl": [
           {
            "marker": {
             "colorbar": {
              "outlinewidth": 0,
              "ticks": ""
             }
            },
            "type": "scattergl"
           }
          ],
          "scattermapbox": [
           {
            "marker": {
             "colorbar": {
              "outlinewidth": 0,
              "ticks": ""
             }
            },
            "type": "scattermapbox"
           }
          ],
          "scatterpolar": [
           {
            "marker": {
             "colorbar": {
              "outlinewidth": 0,
              "ticks": ""
             }
            },
            "type": "scatterpolar"
           }
          ],
          "scatterpolargl": [
           {
            "marker": {
             "colorbar": {
              "outlinewidth": 0,
              "ticks": ""
             }
            },
            "type": "scatterpolargl"
           }
          ],
          "scatterternary": [
           {
            "marker": {
             "colorbar": {
              "outlinewidth": 0,
              "ticks": ""
             }
            },
            "type": "scatterternary"
           }
          ],
          "surface": [
           {
            "colorbar": {
             "outlinewidth": 0,
             "ticks": ""
            },
            "colorscale": [
             [
              0,
              "#0d0887"
             ],
             [
              0.1111111111111111,
              "#46039f"
             ],
             [
              0.2222222222222222,
              "#7201a8"
             ],
             [
              0.3333333333333333,
              "#9c179e"
             ],
             [
              0.4444444444444444,
              "#bd3786"
             ],
             [
              0.5555555555555556,
              "#d8576b"
             ],
             [
              0.6666666666666666,
              "#ed7953"
             ],
             [
              0.7777777777777778,
              "#fb9f3a"
             ],
             [
              0.8888888888888888,
              "#fdca26"
             ],
             [
              1,
              "#f0f921"
             ]
            ],
            "type": "surface"
           }
          ],
          "table": [
           {
            "cells": {
             "fill": {
              "color": "#EBF0F8"
             },
             "line": {
              "color": "white"
             }
            },
            "header": {
             "fill": {
              "color": "#C8D4E3"
             },
             "line": {
              "color": "white"
             }
            },
            "type": "table"
           }
          ]
         },
         "layout": {
          "annotationdefaults": {
           "arrowcolor": "#2a3f5f",
           "arrowhead": 0,
           "arrowwidth": 1
          },
          "autotypenumbers": "strict",
          "coloraxis": {
           "colorbar": {
            "outlinewidth": 0,
            "ticks": ""
           }
          },
          "colorscale": {
           "diverging": [
            [
             0,
             "#8e0152"
            ],
            [
             0.1,
             "#c51b7d"
            ],
            [
             0.2,
             "#de77ae"
            ],
            [
             0.3,
             "#f1b6da"
            ],
            [
             0.4,
             "#fde0ef"
            ],
            [
             0.5,
             "#f7f7f7"
            ],
            [
             0.6,
             "#e6f5d0"
            ],
            [
             0.7,
             "#b8e186"
            ],
            [
             0.8,
             "#7fbc41"
            ],
            [
             0.9,
             "#4d9221"
            ],
            [
             1,
             "#276419"
            ]
           ],
           "sequential": [
            [
             0,
             "#0d0887"
            ],
            [
             0.1111111111111111,
             "#46039f"
            ],
            [
             0.2222222222222222,
             "#7201a8"
            ],
            [
             0.3333333333333333,
             "#9c179e"
            ],
            [
             0.4444444444444444,
             "#bd3786"
            ],
            [
             0.5555555555555556,
             "#d8576b"
            ],
            [
             0.6666666666666666,
             "#ed7953"
            ],
            [
             0.7777777777777778,
             "#fb9f3a"
            ],
            [
             0.8888888888888888,
             "#fdca26"
            ],
            [
             1,
             "#f0f921"
            ]
           ],
           "sequentialminus": [
            [
             0,
             "#0d0887"
            ],
            [
             0.1111111111111111,
             "#46039f"
            ],
            [
             0.2222222222222222,
             "#7201a8"
            ],
            [
             0.3333333333333333,
             "#9c179e"
            ],
            [
             0.4444444444444444,
             "#bd3786"
            ],
            [
             0.5555555555555556,
             "#d8576b"
            ],
            [
             0.6666666666666666,
             "#ed7953"
            ],
            [
             0.7777777777777778,
             "#fb9f3a"
            ],
            [
             0.8888888888888888,
             "#fdca26"
            ],
            [
             1,
             "#f0f921"
            ]
           ]
          },
          "colorway": [
           "#636efa",
           "#EF553B",
           "#00cc96",
           "#ab63fa",
           "#FFA15A",
           "#19d3f3",
           "#FF6692",
           "#B6E880",
           "#FF97FF",
           "#FECB52"
          ],
          "font": {
           "color": "#2a3f5f"
          },
          "geo": {
           "bgcolor": "white",
           "lakecolor": "white",
           "landcolor": "#E5ECF6",
           "showlakes": true,
           "showland": true,
           "subunitcolor": "white"
          },
          "hoverlabel": {
           "align": "left"
          },
          "hovermode": "closest",
          "mapbox": {
           "style": "light"
          },
          "paper_bgcolor": "white",
          "plot_bgcolor": "#E5ECF6",
          "polar": {
           "angularaxis": {
            "gridcolor": "white",
            "linecolor": "white",
            "ticks": ""
           },
           "bgcolor": "#E5ECF6",
           "radialaxis": {
            "gridcolor": "white",
            "linecolor": "white",
            "ticks": ""
           }
          },
          "scene": {
           "xaxis": {
            "backgroundcolor": "#E5ECF6",
            "gridcolor": "white",
            "gridwidth": 2,
            "linecolor": "white",
            "showbackground": true,
            "ticks": "",
            "zerolinecolor": "white"
           },
           "yaxis": {
            "backgroundcolor": "#E5ECF6",
            "gridcolor": "white",
            "gridwidth": 2,
            "linecolor": "white",
            "showbackground": true,
            "ticks": "",
            "zerolinecolor": "white"
           },
           "zaxis": {
            "backgroundcolor": "#E5ECF6",
            "gridcolor": "white",
            "gridwidth": 2,
            "linecolor": "white",
            "showbackground": true,
            "ticks": "",
            "zerolinecolor": "white"
           }
          },
          "shapedefaults": {
           "line": {
            "color": "#2a3f5f"
           }
          },
          "ternary": {
           "aaxis": {
            "gridcolor": "white",
            "linecolor": "white",
            "ticks": ""
           },
           "baxis": {
            "gridcolor": "white",
            "linecolor": "white",
            "ticks": ""
           },
           "bgcolor": "#E5ECF6",
           "caxis": {
            "gridcolor": "white",
            "linecolor": "white",
            "ticks": ""
           }
          },
          "title": {
           "x": 0.05
          },
          "xaxis": {
           "automargin": true,
           "gridcolor": "white",
           "linecolor": "white",
           "ticks": "",
           "title": {
            "standoff": 15
           },
           "zerolinecolor": "white",
           "zerolinewidth": 2
          },
          "yaxis": {
           "automargin": true,
           "gridcolor": "white",
           "linecolor": "white",
           "ticks": "",
           "title": {
            "standoff": 15
           },
           "zerolinecolor": "white",
           "zerolinewidth": 2
          }
         }
        },
        "title": {
         "text": "Genes from group 1"
        }
       }
      }
     },
     "metadata": {},
     "output_type": "display_data"
    }
   ],
   "source": [
    "table(group1_genes, [10, 8, 15, 90], 'Genes from group 1')"
   ]
  },
  {
   "cell_type": "code",
   "execution_count": 123,
   "metadata": {},
   "outputs": [
    {
     "data": {
      "application/vnd.plotly.v1+json": {
       "config": {
        "plotlyServerURL": "https://plot.ly"
       },
       "data": [
        {
         "cells": {
          "align": "left",
          "values": [
           [
            "MLNR",
            "PRIMA1",
            "DLX6",
            "DNAH2",
            "NCAM1",
            "HOXB13",
            "GDNF",
            "ZIC4",
            "SCRG1",
            "COL4A5",
            "KLHL13",
            "RPSAP52",
            "CCDC181",
            "TTR",
            "TTYH1",
            "MPV17L",
            "LTK",
            "HCN1",
            "CDK2",
            "GPC4",
            "ARHGEF16",
            "TSPY26P",
            "BDNF",
            "EFHC2",
            "FAM181B",
            "TNNI1",
            "TRPM3",
            "SUCNR1",
            "NIPAL1",
            "RNF175",
            "ZNF660",
            "TMEM246",
            "NKAIN3",
            "MSI1",
            "CYP27C1",
            "BAALC",
            "RGS18",
            "DFNB36",
            "BIK",
            "HOTAIR",
            "GPR156",
            "FRAS1",
            "NUDT10",
            "TTBK1",
            "SDK2",
            "KLF17",
            "DFNA13",
            "ATP1B2",
            "C1GALT1C1L",
            "HOXA13",
            "MIR4697HG",
            "FREM2",
            "FLRT3",
            "RAB3B",
            "SERPINA3",
            "DFNB42",
            "SCUBE3",
            "RASGRF1",
            "C9orf50",
            "RAPGEF4",
            "RASL10B",
            "SPRY4",
            "NYNRIN",
            "RAMP2-AS1",
            "FLRT1",
            "SYTL5",
            "DSS",
            "ABCD2",
            "HOXB9",
            "EPB41L4B",
            "JPH1",
            "GUSBP5",
            "PDZRN4",
            "RCOR2",
            "ARC",
            "IGFBP2",
            "KIAA0366",
            "SLITRK6",
            "NDRG4",
            "PPFIA4",
            "RASSF10",
            "PHKA1",
            "HOXA6",
            "MDFI",
            "EMILIN1",
            "RIMS2",
            "KLHL31",
            "EFS",
            "PCDHB19P",
            "EMID1",
            "LINC00896",
            "SLC26A10",
            "TMEM268",
            "HOXD10",
            "AGMO",
            "THBS4",
            "C4A",
            "KCNAB2",
            "JAM3",
            "B3GALT1",
            "NUDT11",
            "IL15",
            "C14orf132",
            "MMP16",
            "ZNF96P1",
            "STGD2",
            "HOXD13",
            "GRIK3",
            "SRSF12",
            "GOLGA7B",
            "PCDHB15",
            "COL9A1",
            "MAL",
            "SERPINB2",
            "RBMS3",
            "FNDC4",
            "WNT3",
            "PCOLCE2",
            "CA9",
            "SEMA3D",
            "GDF11",
            "EPHB3"
           ],
           [
            "2862",
            "145270",
            "1750",
            "146754",
            "4684",
            "10481",
            "2668",
            "84107",
            "11341",
            "1287",
            "90293",
            "204010",
            "57821",
            "7276",
            "57348",
            "255027",
            "4058",
            "348980",
            "1017",
            "2239",
            "27237",
            "128854",
            "627",
            "80258",
            "220382",
            "7135",
            "80036",
            "56670",
            "152519",
            "285533",
            "285349",
            "84302",
            "286183",
            "4440",
            "339761",
            "79870",
            "64407",
            "83715",
            "638",
            "100124700",
            "165829",
            "80144",
            "53343",
            "84630",
            "54549",
            "128209",
            "1302",
            "482",
            "728819",
            "3209",
            "22997",
            "341640",
            "23767",
            "5865",
            "12",
            "286676",
            "222663",
            "5923",
            "375759",
            "11069",
            "91608",
            "81848",
            "57523",
            "100190938",
            "23769",
            "94122",
            "5376",
            "6361",
            "3219",
            "54566",
            "56704",
            "441046",
            "29951",
            "283248",
            "23237",
            "3485",
            "23501",
            "84189",
            "65009",
            "8497",
            "644943",
            "5255",
            "3203",
            "4188",
            "11117",
            "9699",
            "401265",
            "10278",
            "84054",
            "129080",
            "150197",
            "65012",
            "203197",
            "3236",
            "392636",
            "7060",
            "720",
            "8514",
            "83700",
            "8708",
            "55190",
            "3600",
            "56967",
            "4325",
            "221584",
            "6785",
            "3239",
            "2899",
            "135295",
            "401647",
            "56121",
            "1297",
            "57591",
            "5055",
            "27303",
            "64838",
            "7473",
            "26577",
            "768",
            "223117",
            "10220",
            "2049"
           ],
           [
            "motilin receptor",
            "proline rich membrane anchor 1",
            "distal-less homeobox 6",
            "dynein axonemal heavy chain 2",
            "neural cell adhesion molecule 1",
            "homeobox B13",
            "glial cell derived neurotrophic factor",
            "Zic family member 4",
            "stimulator of chondrogenesis 1",
            "collagen type IV alpha 5 chain",
            "kelch like family member 13",
            "ribosomal protein SA pseudogene 52",
            "coiled-coil domain containing 181",
            "transthyretin",
            "tweety family member 1",
            "MPV17 mitochondrial inner membrane protein like",
            "leukocyte receptor tyrosine kinase",
            "hyperpolarization activated cyclic nucleotide gated potassium channel 1",
            "cyclin dependent kinase 2",
            "glypican 4",
            "Rho guanine nucleotide exchange factor 16",
            "testis specific protein Y-linked 26, pseudogene",
            "brain derived neurotrophic factor",
            "EF-hand domain containing 2",
            "family with sequence similarity 181 member B",
            "troponin I1, slow skeletal type",
            "transient receptor potential cation channel subfamily M member 3",
            "succinate receptor 1",
            "NIPA like domain containing 1",
            "ring finger protein 175",
            "zinc finger protein 660",
            "post-GPI attachment to proteins GalNAc transferase 4",
            "sodium/potassium transporting ATPase interacting 3",
            "musashi RNA binding protein 1",
            "cytochrome P450 family 27 subfamily C member 1",
            "BAALC binder of MAP3K1 and KLF4",
            "regulator of G protein signaling 18",
            "espin",
            "BCL2 interacting killer",
            "HOX transcript antisense RNA",
            "G protein-coupled receptor 156",
            "Fraser extracellular matrix complex subunit 1",
            "nudix hydrolase 9",
            "tau tubulin kinase 1",
            "sidekick cell adhesion molecule 2",
            "KLF transcription factor 17",
            "collagen type XI alpha 2 chain",
            "ATPase Na+/K+ transporting subunit beta 2",
            "C1GALT1 specific chaperone 1 like",
            "homeobox A13",
            "immunoglobulin superfamily member 9B",
            "FRAS1 related extracellular matrix 2",
            "fibronectin leucine rich transmembrane protein 3",
            "RAB3B, member RAS oncogene family",
            "serpin family A member 3",
            "immunoglobulin like domain containing receptor 1",
            "signal peptide, CUB domain and EGF like domain containing 3",
            "Ras protein specific guanine nucleotide releasing factor 1",
            "chromosome 9 open reading frame 50",
            "Rap guanine nucleotide exchange factor 4",
            "RAS like family 10 member B",
            "sprouty RTK signaling antagonist 4",
            "NYN domain and retroviral integrase containing",
            "RAMP2 antisense RNA 1",
            "fibronectin leucine rich transmembrane protein 1",
            "synaptotagmin like 5",
            "peripheral myelin protein 22",
            "C-C motif chemokine ligand 17",
            "homeobox B9",
            "erythrocyte membrane protein band 4.1 like 4B",
            "junctophilin 1",
            "GUSB pseudogene 5",
            "PDZ domain containing ring finger 4",
            "REST corepressor 2",
            "activity regulated cytoskeleton associated protein",
            "insulin like growth factor binding protein 2",
            "KIAA0366 protein",
            "SLIT and NTRK like family member 6",
            "NDRG family member 4",
            "PTPRF interacting protein alpha 4",
            "Ras association domain family member 10",
            "phosphorylase kinase regulatory subunit alpha 1",
            "homeobox A6",
            "MyoD family inhibitor",
            "elastin microfibril interfacer 1",
            "regulating synaptic membrane exocytosis 2",
            "kelch like family member 31",
            "embryonal Fyn-associated substrate",
            "protocadherin beta 19 pseudogene",
            "EMI domain containing 1",
            "long intergenic non-protein coding RNA 896",
            "solute carrier family 26 member 10, pseudogene",
            "transmembrane protein 268",
            "homeobox D10",
            "alkylglycerol monooxygenase",
            "thrombospondin 4",
            "complement C4A (Rodgers blood group)",
            "potassium voltage-gated channel subfamily A regulatory beta subunit 2",
            "junctional adhesion molecule 3",
            "beta-1,3-galactosyltransferase 1",
            "nudix hydrolase 11",
            "interleukin 15",
            "chromosome 14 open reading frame 132",
            "matrix metallopeptidase 16",
            "zinc finger and SCAN domain containing 12 pseudogene 1",
            "ELOVL fatty acid elongase 4",
            "homeobox D13",
            "glutamate ionotropic receptor kainate type subunit 3",
            "serine and arginine rich splicing factor 12",
            "golgin A7 family member B",
            "protocadherin beta 15",
            "collagen type IX alpha 1 chain",
            "myocardin related transcription factor A",
            "serpin family B member 2",
            "RNA binding motif single stranded interacting protein 3",
            "fibronectin type III domain containing 4",
            "Wnt family member 3",
            "procollagen C-endopeptidase enhancer 2",
            "carbonic anhydrase 9",
            "semaphorin 3D",
            "growth differentiation factor 11",
            "EPH receptor B3"
           ],
           [
            "Motilin is a 22 amino acid peptide hormone expressed throughout the gastrointestinal (GI) tract. The protein encoded by this gene is a motilin receptor which is a member of the G-protein coupled receptor 1 family. This member is a multi-pass transmembrane protein, and is an important therapeutic target for the treatment of hypomotility disorders. [provided by RefSeq, Aug 2011]",
            "The product of this gene functions to organize acetylcholinesterase (AChE) into tetramers, and to anchor AChE at neural cell membranes. [provided by RefSeq, Nov 2008]",
            "This gene encodes a member of a homeobox transcription factor gene family similiar to the Drosophila distal-less gene. This family is comprised of at least 6 different members that encode proteins with roles in forebrain and craniofacial development. This gene is in a tail-to-tail configuration with another member of the family on the long arm of chromosome 7. [provided by RefSeq, Jul 2008]",
            "Dyneins are microtubule-associated motor protein complexes composed of several heavy, light, and intermediate chains. The axonemal dyneins, found in cilia and flagella, are components of the outer and inner dynein arms attached to the peripheral microtubule doublets. DNAH2 is an axonemal inner arm dynein heavy chain (Chapelin et al., 1997 [PubMed 9256245]).[supplied by OMIM, Mar 2008]",
            "This gene encodes a cell adhesion protein which is a member of the immunoglobulin superfamily. The encoded protein is involved in cell-to-cell interactions as well as cell-matrix interactions during development and differentiation. The encoded protein plays a role in the development of the nervous system by regulating neurogenesis, neurite outgrowth, and cell migration. This protein is also involved in the expansion of T lymphocytes, B lymphocytes and natural killer (NK) cells which play an important role in immune surveillance. This protein plays a role in signal transduction by interacting with fibroblast growth factor receptors, N-cadherin and other components of the extracellular matrix and by triggering signalling cascades involving FYN-focal adhesion kinase (FAK), mitogen-activated protein kinase (MAPK), and phosphatidylinositol 3-kinase (PI3K). One prominent isoform of this gene, cell surface molecule CD56, plays a role in several myeloproliferative disorders such as acute myeloid leukemia and differential expression of this gene is associated with differential disease progression. For example, increased expression of CD56 is correlated with lower survival in acute myeloid leukemia patients whereas increased severity of COVID-19 is correlated with decreased abundance of CD56-expressing NK cells in peripheral blood. Alternative splicing results in multiple transcript variants encoding distinct protein isoforms. [provided by RefSeq, Aug 2020]",
            "This gene encodes a transcription factor that belongs to the homeobox gene family. Genes of this family are highly conserved among vertebrates and essential for vertebrate embryonic development. This gene has been implicated to play a role in fetal skin development and cutaneous regeneration. In mice, a similar gene was shown to exhibit temporal and spatial colinearity in the main body axis of the embryo, but was not expressed in the secondary axes, which suggests functions in body patterning along the axis. This gene and other HOXB genes form a gene cluster at chromosome the 17q21-22 region. [provided by RefSeq, Jul 2008]",
            "This gene encodes a secreted ligand of the TGF-beta (transforming growth factor-beta) superfamily of proteins. Ligands of this family bind various TGF-beta receptors leading to recruitment and activation of SMAD family transcription factors that regulate gene expression. The encoded preproprotein is proteolytically processed to generate each subunit of the disulfide-linked homodimer. The recombinant form of this protein, a highly conserved neurotrophic factor, was shown to promote the survival and differentiation of dopaminergic neurons in culture, and was able to prevent apoptosis of motor neurons induced by axotomy. This protein is a ligand for the product of the RET (rearranged during transfection) protooncogene. Mutations in this gene may be associated with Hirschsprung disease and Tourette syndrome. This gene encodes multiple protein isoforms that may undergo similar proteolytic processing. [provided by RefSeq, Aug 2016]",
            "This gene encodes a member of the ZIC family of C2H2-type zinc finger proteins. Members of this family are important during development, and have been associated with X-linked visceral heterotaxy and holoprosencephaly type 5. This gene is closely linked to the gene encoding zinc finger protein of the cerebellum 1, a related family member on chromosome 3. Heterozygous deletion of these linked genes is involved in Dandy-Walker malformation, which is a congenital cerebellar malformation. Multiple transcript variants have been identified for this gene. [provided by RefSeq, Dec 2009]",
            "Scrapie-responsive gene 1 is associated with neurodegenerative changes observed in transmissible spongiform encephalopathies. It may play a role in host response to prion-associated infections. The scrapie responsive protein 1 may be partly included in the membrane or secreted by the cells due to its hydrophobic N-terminus. In addition, the encoded protein can interact with bone marrow stromal cell antigen 1 (BST1) to enhance the differentiation potentials of human mesenchymal stem cells during tissue and bone regeneration. [provided by RefSeq, Jul 2016]",
            "This gene encodes one of the six subunits of type IV collagen, the major structural component of basement membranes. Mutations in this gene are associated with X-linked Alport syndrome, also known as hereditary nephritis. Like the other members of the type IV collagen gene family, this gene is organized in a head-to-head conformation with another type IV collagen gene so that each gene pair shares a common promoter. Alternatively spliced transcript variants have been identified for this gene. [provided by RefSeq, Aug 2010]",
            "This gene encodes a BTB and kelch domain containing protein and belongs to the kelch repeat domain containing superfamily of proteins. The encoded protein functions as an adaptor protein that complexes with Cullin 3 and other proteins to form the Cullin 3-based E3 ubiquitin-protein ligase complex. This complex is necessary for proper chromosome segregation and completion of cytokinesis. Alternate splicing results in multiple transcript variants. [provided by RefSeq, Mar 2010]",
            "",
            "Predicted to enable microtubule binding activity. Predicted to be located in manchette and sperm flagellum. [provided by Alliance of Genome Resources, Apr 2022]",
            "This gene encodes one of the three prealbumins, which include alpha-1-antitrypsin, transthyretin and orosomucoid. The encoded protein, transthyretin, is a homo-tetrameric carrier protein, which transports thyroid hormones in the plasma and cerebrospinal fluid. It is also involved in the transport of retinol (vitamin A) in the plasma by associating with retinol-binding protein. The protein may also be involved in other intracellular processes including proteolysis, nerve regeneration, autophagy and glucose homeostasis. Mutations in this gene are associated with amyloid deposition, predominantly affecting peripheral nerves or the heart, while a small percentage of the gene mutations are non-amyloidogenic. The mutations are implicated in the etiology of several diseases, including amyloidotic polyneuropathy, euthyroid hyperthyroxinaemia, amyloidotic vitreous opacities, cardiomyopathy, oculoleptomeningeal amyloidosis, meningocerebrovascular amyloidosis and carpal tunnel syndrome. [provided by RefSeq, Aug 2017]",
            "This gene encodes a member of the tweety family of proteins. Members of this family function as chloride anion channels. The encoded protein functions as a calcium(2+)-independent, volume-sensitive large conductance chloride(-) channel. Three transcript variants encoding distinct isoforms have been identified for this gene. [provided by RefSeq, Jan 2011]",
            "Involved in negative regulation of hydrogen peroxide biosynthetic process; negative regulation of mitochondrial outer membrane permeabilization involved in apoptotic signaling pathway; and reactive oxygen species metabolic process. Located in peroxisome. [provided by Alliance of Genome Resources, Apr 2022]",
            "The protein encoded by this gene is a member of the ros/insulin receptor family of tyrosine kinases. Tyrosine-specific phosphorylation of proteins is a key to the control of diverse pathways leading to cell growth and differentiation. Multiple transcript variants encoding different isoforms have been found for this gene. [provided by RefSeq, Oct 2008]",
            "The membrane protein encoded by this gene is a hyperpolarization-activated cation channel that contributes to the native pacemaker currents in heart and neurons. The encoded protein can homodimerize or heterodimerize with other pore-forming subunits to form a potassium channel. This channel may act as a receptor for sour tastes. [provided by RefSeq, Oct 2011]",
            "This gene encodes a member of a family of serine/threonine protein kinases that participate in cell cycle regulation. The encoded protein is the catalytic subunit of the cyclin-dependent protein kinase complex, which regulates progression through the cell cycle. Activity of this protein is especially critical during the G1 to S phase transition. This protein associates with and regulated by other subunits of the complex including cyclin A or E, CDK inhibitor p21Cip1 (CDKN1A), and p27Kip1 (CDKN1B). Alternative splicing results in multiple transcript variants. [provided by RefSeq, Mar 2014]",
            "Cell surface heparan sulfate proteoglycans are composed of a membrane-associated protein core substituted with a variable number of heparan sulfate chains. Members of the glypican-related integral membrane proteoglycan family (GRIPS) contain a core protein anchored to the cytoplasmic membrane via a glycosyl phosphatidylinositol linkage.  These proteins may play a role in the control of cell division and growth regulation.  The GPC4 gene is adjacent to the 3' end of GPC3 and may also play a role in Simpson-Golabi-Behmel syndrome. [provided by RefSeq, Jul 2008]",
            "Although the specific function of this protein is not known yet, it is thought to be involved in protein-protein and protein-lipid interactions. [provided by RefSeq, Jul 2008]",
            "Predicted to enable chromatin binding activity and histone binding activity. Predicted to be involved in nucleosome assembly. Predicted to be active in chromatin and nucleus. [provided by Alliance of Genome Resources, Apr 2022]",
            "This gene encodes a member of the nerve growth factor family of proteins. Alternative splicing results in multiple transcript variants, at least one of which encodes a preproprotein that is proteolytically processed to generate the mature protein. Binding of this protein to its cognate receptor promotes neuronal survival in the adult brain. Expression of this gene is reduced in Alzheimer's, Parkinson's, and Huntington's disease patients. This gene may play a role in the regulation of the stress response and in the biology of mood disorders. [provided by RefSeq, Nov 2015]",
            "This gene encodes a protein which contains three DM10 domains and three calcium-binding EF-hand motifs. A related protein is encoded by a gene on chromosome 6. It has been suggested that both proteins are involved in the development of epilepsy (PMID: 15258581, 16112844) and that this gene may be associated with fear recognition in individuals with Turner syndrome. [provided by RefSeq, Aug 2011]",
            "",
            "Troponin proteins associate with tropomyosin and regulate the calcium sensitivity of the myofibril contractile apparatus of striated muscles. Troponin I (TnI), along with troponin T (TnT) and troponin C (TnC), is one of 3 subunits that form the troponin complex of the thin filaments of striated muscle. TnI is the inhibitory subunit; blocking actin-myosin interactions and thereby mediating striated muscle relaxation. The TnI subfamily contains three genes: TnI-skeletal-fast-twitch, TnI-skeletal-slow-twitch, and TnI-cardiac. The TnI-fast and TnI-slow genes are expressed in fast-twitch and slow-twitch skeletal muscle fibers, respectively, while the TnI-cardiac gene is expressed exclusively in cardiac muscle tissue. This gene encodes the Troponin-I-skeletal-slow-twitch protein. This gene is expressed in cardiac and skeletal muscle during early development but is restricted to slow-twitch skeletal muscle fibers in adults. The encoded protein prevents muscle contraction by inhibiting calcium-mediated conformational changes in actin-myosin complexes. [provided by RefSeq, Jul 2008]",
            "The product of this gene belongs to the family of transient receptor potential (TRP) channels. TRP channels are cation-selective channels important for cellular calcium signaling and homeostasis. The protein encoded by this gene mediates calcium entry, and this entry is potentiated by calcium store depletion. Alternatively spliced transcript variants encoding different isoforms have been identified. [provided by RefSeq, Jul 2008]",
            "This gene encodes a G-protein-coupled receptor for succinate, an intermediate molecule of the citric acid cycle. It is involved in the promotion of hematopoietic progenitor cell development, and it has a potential role in renovascular hypertension which has known correlations to renal failure, diabetes and atherosclerosis. [provided by RefSeq, Oct 2009]",
            "Predicted to enable magnesium ion transmembrane transporter activity. Predicted to be involved in magnesium ion transport. Predicted to be integral component of membrane. Predicted to be active in membrane. [provided by Alliance of Genome Resources, Apr 2022]",
            "Predicted to enable ubiquitin protein ligase activity. Predicted to be involved in ubiquitin-dependent ERAD pathway. Predicted to be integral component of membrane. Predicted to be active in Golgi membrane and endoplasmic reticulum membrane. [provided by Alliance of Genome Resources, Apr 2022]",
            "This gene encodes a protein that contains multiple C2H2 zinc finger domains, and is located in a cluster of zinc-finger encoding genes on chromosome 3. Naturally-occurring readthrough transcription is observed between this gene and the downstream zinc finger protein 197 gene and is represented by GeneID:110354863. [provided by RefSeq, May 2017]",
            "Enables glycosyltransferase activity. Involved in GPI anchor biosynthetic process. Located in Golgi membrane. [provided by Alliance of Genome Resources, Apr 2022]",
            "NKAIN3 is a member of a family of mammalian proteins (see NKAIN1; MIM 612871) with similarity to Drosophila Nkain (Gorokhova et al., 2007 [PubMed 17606467]).[supplied by OMIM, Jun 2009]",
            "This gene encodes a protein containing two conserved tandem RNA recognition motifs. Similar proteins in other species function as RNA-binding proteins and play central roles in posttranscriptional gene regulation. Expression of this gene has been correlated with the grade of the malignancy and proliferative activity in gliomas and melanomas. A pseudogene for this gene is located on chromosome 11q13. [provided by RefSeq, Jul 2008]",
            "This gene encodes a member of the cytochrome P450 superfamily of enzymes. The cytochrome P450 proteins are monooxygenases which catalyze many reactions involved in drug metabolism and synthesis of cholesterol, steroids and other lipids. [provided by RefSeq, Jul 2008]",
            "This gene was identified by gene expression studies in patients with acute myeloid leukemia (AML). The gene is conserved among mammals and is not found in lower organisms. Tissues that express this gene develop from the neuroectoderm. Multiple alternatively spliced transcript variants that encode different proteins have been described for this gene; however, some of the transcript variants are found only in AML cell lines. [provided by RefSeq, Jul 2008]",
            "This gene encodes a member of the regulator of G-protein signaling family. This protein is contains a conserved, 120 amino acid motif called the RGS domain. The protein attenuates the signaling activity of G-proteins by binding to activated, GTP-bound G alpha subunits and acting as a GTPase activating protein (GAP), increasing the rate of conversion of the GTP to GDP. This hydrolysis allows the G alpha subunits to bind G beta/gamma subunit heterodimers, forming inactive G-protein heterotrimers, thereby terminating the signal. Alternate transcriptional splice variants of this gene have been observed but have not been thoroughly characterized. [provided by RefSeq, Jul 2008]",
            "This gene encodes a multifunctional actin-bundling protein. It plays a major role in regulating the organization, dimensions, dynamics, and signaling capacities of the actin filament-rich, microvillus-type specializations that mediate sensory transduction in various mechanosensory and chemosensory cells. Mutations in this gene are associated with autosomal recessive neurosensory deafness, and autosomal dominant sensorineural deafness without vestibular involvement. [provided by RefSeq, Nov 2009]",
            "The protein encoded by this gene shares a critical BH3 domain with other death-promoting proteins, such as BID, BAK, BAD and BAX, that is required for its pro-apoptotic activity, and for interaction with anti-apoptotic members of the BCL2 family, and viral survival-promoting proteins. Since the activity of this protein is suppressed in the presence of survival-promoting proteins, it is suggested as a likely target for anti-apoptotic proteins. [provided by RefSeq, Sep 2011]",
            "This gene is located within the Homeobox C (HOXC) gene cluster on chromosome 12 and is co-expressed with the HOXC genes. It functions through an RNA product, which binds lysine specific demethylase 1 (LSD1) and Polycomb repressive complex 2 (PRC2), and serves as a scaffold to assemble these regulators at the HOXD gene cluster, thereby promoting epigenetic repression of HOXD. This gene is highly expressed in multiple tumors. Alternatively spliced transcript variants have been identified. [provided by RefSeq, Feb 2019]",
            "G protein-coupled receptors (GPCRs) are a large superfamily of cell surface receptors characterized by 7 helical transmembrane domains, together with N-terminal extracellular and C-terminal intracellular domains.[supplied by OMIM, Mar 2008]",
            "This gene encodes an extracellular matrix protein that appears to function in the regulation of epidermal-basement membrane adhesion and organogenesis during development. Mutations in this gene cause Fraser syndrome, a multisystem malformation that can include craniofacial, urogenital and respiratory system abnormalities. Alternative splicing results in multiple transcript variants. [provided by RefSeq, Oct 2009]",
            "The protein encoded by this gene belongs to the Nudix hydrolase family. Nudix boxes are found in a family of diverse enzymes that catalyze the hydrolysis of nucleoside diphosphate derivatives. This enzyme is an ADP-ribose pyrophosphatase that catalyzes the hydrolysis of ADP-ribose to AMP and ribose-5-P. It requires divalent metal ions and an intact Nudix motif for enzymatic activity. Alternatively spliced transcript variants encoding different isoforms have been found for this gene. [provided by RefSeq, Oct 2011]",
            "Summary:This gene belongs to the casein kinase 1 superfamily. The encoded protein is a neuron-specific, serine/threonine and tyrosine kinase, which regulates phosphorylation of tau, a protein that associates with microtubule assemblies and stabilizes them. Genetic variants in this gene are associated with Alzheimer's disease. [provided by RefSeq, Jul 2016]",
            "The protein encoded by this gene is a member of the immunoglobulin superfamily. The protein contains two immunoglobulin domains and thirteen fibronectin type III domains. Fibronectin type III domains are present in both extracellular and intracellular proteins and tandem repeats are known to contain binding sites for DNA, heparin and the cell surface. This protein, and a homologous mouse sequence, are very similar to the Drosophila sidekick gene product but the specific function of this superfamily member is not yet known. Evidence for alternative splicing at this gene locus has been observed but the full-length nature of additional variants has not yet been determined. [provided by RefSeq, Jul 2008]",
            "Enables sequence-specific double-stranded DNA binding activity. Predicted to be involved in negative regulation of transcription by RNA polymerase II. Predicted to act upstream of or within gamete generation. Predicted to be located in nucleus. Predicted to be part of chromatin. [provided by Alliance of Genome Resources, Apr 2022]",
            "This gene encodes one of the two alpha chains of type XI collagen, a minor fibrillar collagen. It is located on chromosome 6 very close to but separate from the gene for retinoid X receptor beta. Type XI collagen is a heterotrimer but the third alpha chain is a post-translationally modified alpha 1 type II chain. Proteolytic processing of this type XI chain produces PARP, a proline/arginine-rich protein that is an amino terminal domain. Mutations in this gene are associated with type III Stickler syndrome, otospondylomegaepiphyseal dysplasia (OSMED syndrome), Weissenbacher-Zweymuller syndrome, autosomal dominant non-syndromic sensorineural type 13 deafness (DFNA13), and autosomal recessive non-syndromic sensorineural type 53 deafness (DFNB53). Alternative splicing results in multiple transcript variants. A related pseudogene is located nearby on chromosome 6. [provided by RefSeq, Jul 2009]",
            "The protein encoded by this gene belongs to the family of Na+/K+ and H+/K+ ATPases beta chain proteins, and to the subfamily of Na+/K+ -ATPases. Na+/K+ -ATPase is an integral membrane protein responsible for establishing and maintaining the electrochemical gradients of Na and K ions across the plasma membrane. These gradients are essential for osmoregulation, for sodium-coupled transport of a variety of organic and inorganic molecules, and for electrical excitability of nerve and muscle. This enzyme is composed of two subunits, a large catalytic subunit (alpha) and a smaller glycoprotein subunit (beta). The beta subunit regulates, through assembly of alpha/beta heterodimers, the number of sodium pumps transported to the plasma membrane. The glycoprotein subunit of Na+/K+ -ATPase is encoded by multiple genes. This gene encodes a beta 2 subunit. Two transcript variants encoding different isoforms have been found for this gene. [provided by RefSeq, Dec 2014]",
            "Predicted to enable glycoprotein-N-acetylgalactosamine 3-beta-galactosyltransferase activity. Predicted to be involved in O-glycan processing, core 1. Predicted to be integral component of membrane. [provided by Alliance of Genome Resources, Apr 2022]",
            "In vertebrates, the genes encoding the class of transcription factors called homeobox genes are found in clusters named A, B, C, and D on four separate chromosomes. Expression of these proteins is spatially and temporally regulated during embryonic development. This gene is part of the A cluster on chromosome 7 and encodes a DNA-binding transcription factor which may regulate gene expression, morphogenesis, and differentiation. Expansion of a polyalanine tract in the encoded protein can cause hand-foot-uterus syndrome, also known as hand-foot-genital syndrome. [provided by RefSeq, Jul 2008]",
            "Predicted to enable kinase binding activity. Predicted to be involved in synaptic membrane adhesion. Predicted to act upstream of or within homophilic cell adhesion via plasma membrane adhesion molecules and positive regulation of inhibitory postsynaptic potential. Predicted to be located in dendrite; inhibitory synapse; and neuronal cell body. Predicted to be active in GABA-ergic synapse; neuron projection; and postsynaptic specialization of symmetric synapse. [provided by Alliance of Genome Resources, Apr 2022]",
            "This gene encodes an integral membrane protein containing numerous CSPG (chondroitin sulfate proteoglycan element) repeats and Calx-beta domains. The encoded protein localizes to the basement membrane, forming a ternary complex that plays a role in epidermal-dermal interactions. This protein is important for the integrity of skin and renal epithelia. Mutations in this gene are associated with Fraser syndrome. [provided by RefSeq, Apr 2014]",
            "This gene encodes a member of the fibronectin leucine rich transmembrane protein (FLRT) family. FLRTs may function in cell adhesion and/or receptor signalling. Their protein structures resemble small leucine-rich proteoglycans found in the extracellular matrix. This gene is expressed in many tissues. Two alternatively spliced transcript variants encoding the same protein have been described for this gene. [provided by RefSeq, Jul 2010]",
            "Enables GDP binding activity; GTPase activity; and myosin V binding activity. Involved in several processes, including positive regulation of dopamine uptake involved in synaptic transmission; regulation of synaptic vesicle cycle; and regulation of vesicle size. Located in perinuclear region of cytoplasm and vesicle. Is active in dopaminergic synapse. Is anchored component of synaptic vesicle membrane. [provided by Alliance of Genome Resources, Apr 2022]",
            "The protein encoded by this gene is a member of the serpin family of proteins, a group of proteins that inhibit serine proteases. This gene is one in a cluster of serpin genes located on the q arm of chromosome 14. Polymorphisms in this protein appear to be tissue specific and influence protease targeting. Variations in this protein's sequence have been implicated in Alzheimer's disease, and deficiency of this protein has been associated with liver disease. Mutations have been identified in patients with Parkinson disease and chronic obstructive pulmonary disease. [provided by RefSeq, Jun 2020]",
            "This gene encodes a protein that contains an immunoglobulin-like domain. The encoded protein may function as a multimeric receptor at the cell surface. The expression of this gene may be a diagnostic marker for cancer progression. Alternatively spliced transcript variants encoding multiple protein isoforms have been observed for this gene. [provided by RefSeq, Dec 2010]",
            "This gene encodes a member of the signal peptide, complement subcomponents C1r/C1s, Uegf, bone morphogenetic protein-1 and epidermal growth factor-like domain containing protein family. Overexpression of this gene in human embryonic kidney cells results in secretion of a glycosylated form of the protein that forms oligomers and tethers to the cell surface. This gene is upregulated in lung cancer tumor tissue compared to healthy tissue and is associated with loss of the epithelial marker E-cadherin and with increased expression of vimentin, a mesenchymal marker. In addition, the protein encoded by this gene is a transforming growth factor beta receptor ligand, and when secreted by cancer cells, it can be cleaved in vitro to release the N-terminal epidermal growth factor-like repeat domain and the C-terminal complement subcomponents C1r/C1s domain. Both the full length protein and C-terminal fragment can bind to the transforming growth factor beta type II receptor to promote the epithelial-mesenchymal transition and tumor angiogenesis. Alternative splicing results in multiple transcript variants. [provided by RefSeq, Dec 2014]",
            "The protein encoded by this gene is a guanine nucleotide exchange factor (GEF) similar to the Saccharomyces cerevisiae CDC25 gene product. Functional analysis has demonstrated that this protein stimulates the dissociation of GDP from RAS protein. The studies of the similar gene in mouse suggested that the Ras-GEF activity of this protein in brain can be activated by Ca2+ influx, muscarinic receptors, and G protein beta-gamma subunit. Mouse studies also indicated that the Ras-GEF signaling pathway mediated by this protein may be important for long-term memory. Alternatively spliced transcript variants encoding distinct isoforms have been reported. [provided by RefSeq, Mar 2009]",
            "",
            "Enables guanyl-nucleotide exchange factor activity. Predicted to be involved in regulation of neurotransmitter receptor localization to postsynaptic specialization membrane and regulation of postsynapse organization. Predicted to act upstream of or within adenylate cyclase-activating G protein-coupled receptor signaling pathway; regulation of exocytosis; and secretion by cell. Predicted to be located in plasma membrane. Predicted to be active in glutamatergic synapse; hippocampal mossy fiber to CA3 synapse; and postsynaptic density. Implicated in autistic disorder. [provided by Alliance of Genome Resources, Apr 2022]",
            "Predicted to enable G protein activity and GTP binding activity. Predicted to be involved in positive regulation of peptide hormone secretion and regulation of systemic arterial blood pressure by atrial natriuretic peptide. Predicted to be located in plasma membrane. [provided by Alliance of Genome Resources, Apr 2022]",
            "This gene encodes a member of a family of cysteine- and proline-rich proteins. The encoded protein is an inhibitor of the receptor-transduced mitogen-activated protein kinase (MAPK) signaling pathway. Activity of this protein impairs the formation of active GTP-RAS. Nucleotide variation in this gene has been associated with hypogonadotropic hypogonadism 17 with or without anosmia. Alternative splicing results in a multiple transcript variants. [provided by RefSeq, Jun 2014]",
            "Predicted to enable endoribonuclease activity and mRNA binding activity. Predicted to be involved in RNA phosphodiester bond hydrolysis, endonucleolytic. Predicted to be integral component of membrane. Predicted to be active in cytoplasmic ribonucleoprotein granule and nucleus. [provided by Alliance of Genome Resources, Apr 2022]",
            "",
            "This gene encodes a member of the fibronectin leucine rich transmembrane protein (FLRT) family. The family members may function in cell adhesion and/or receptor signalling. Their protein structures resemble small leucine-rich proteoglycans found in the extracellular matrix. The encoded protein shares sequence similarity with two other family members, FLRT2 and FLRT3. This gene is expressed in kidney and brain. [provided by RefSeq, Jul 2008]",
            "The protein encoded by this gene belongs to the synaptotagmin-like (Slp) protein family, which contains a unique homology domain at the N-terminus, referred to as the Slp homology domain (SHD). The SHD functions as a binding site for Rab27A, which plays a role in protein transport. Expression of this gene is restricted to placenta and liver, suggesting that it might be involved in Rab27A-dependent membrane trafficking in specific tissues. Alternatively spliced transcript variants encoding different isoforms have been found for this gene. [provided by RefSeq, Sep 2009]",
            "This gene encodes an integral membrane protein that is a major component of myelin in the peripheral nervous system. Studies suggest two alternately used promoters drive tissue-specific expression. Various mutations of this gene are causes of Charcot-Marie-Tooth disease Type IA, Dejerine-Sottas syndrome, and hereditary neuropathy with liability to pressure palsies. Alternative splicing results in multiple transcript variants. [provided by RefSeq, Jul 2013]",
            "This antimicrobial gene is one of several Cys-Cys (CC) cytokine genes clustered on the q arm of chromosome 16. Cytokines are a family of secreted proteins involved in immunoregulatory and inflammatory processes. The CC cytokines are proteins characterized by two adjacent cysteines. The cytokine encoded by this gene displays chemotactic activity for T lymphocytes, but not monocytes or granulocytes. The product of this gene binds to chemokine receptors CCR4 and CCR8. This chemokine plays important roles in T cell development in thymus as well as in trafficking and activation of mature T cells. [provided by RefSeq, Sep 2014]",
            "This gene is a member of the Abd-B homeobox family and encodes a protein with a homeobox DNA-binding domain. It is included in a cluster of homeobox B genes located on chromosome 17. The encoded nuclear protein functions as a sequence-specific transcription factor that is involved in cell proliferation and differentiation. Increased expression of this gene is associated with some cases of leukemia, prostate cancer and lung cancer. [provided by RefSeq, Jul 2008]",
            "Predicted to be a structural constituent of cytoskeleton. Involved in several processes, including positive regulation of cell adhesion; positive regulation of keratinocyte migration; and wound healing. Acts upstream of or within actomyosin structure organization. Located in apical part of cell; cytosol; and plasma membrane. [provided by Alliance of Genome Resources, Apr 2022]",
            "Junctional complexes between the plasma membrane and endoplasmic/sarcoplasmic reticulum are a common feature of all excitable cell types and mediate cross talk between cell surface and intracellular ion channels. The protein encoded by this gene is a component of junctional complexes and is composed of a C-terminal hydrophobic segment spanning the endoplasmic/sarcoplasmic reticulum membrane and a remaining cytoplasmic domain that shows specific affinity for the plasma membrane. This gene is a member of the junctophilin gene family. [provided by RefSeq, Jul 2008]",
            "",
            "Predicted to enable metal ion binding activity. [provided by Alliance of Genome Resources, Apr 2022]",
            "Predicted to enable transcription corepressor activity. Predicted to be involved in histone deacetylation; negative regulation of transcription, DNA-templated; and regulation of transcription by RNA polymerase II. Predicted to be located in nucleus. Predicted to be part of histone deacetylase complex and transcription regulator complex. [provided by Alliance of Genome Resources, Apr 2022]",
            "Predicted to enable mRNA binding activity. Involved in cell migration; cytoskeleton organization; and regulation of cell morphogenesis. Located in cytoplasm and plasma membrane. [provided by Alliance of Genome Resources, Apr 2022]",
            "The protein encoded by this gene is one of six similar proteins that bind insulin-like growth factors I and II (IGF-I and IGF-II). The encoded protein can be secreted into the bloodstream, where it binds IGF-I and IGF-II with high affinity, or it can remain intracellular, interacting with many different ligands. High expression levels of this protein promote the growth of several types of tumors and may be predictive of the chances of recovery of the patient. Several transcript variants, one encoding a secreted isoform and the others encoding nonsecreted isoforms, have been found for this gene. [provided by RefSeq, Sep 2015]",
            "",
            "This gene encodes a member of the SLITRK protein family. Members of this family are integral membrane proteins that are characterized by two N-terminal leucine-rich repeat (LRR) domains and a C-terminal region that shares homology with trk neurotrophin receptors. This protein functions as a regulator of neurite outgrowth required for normal hearing and vision. Mutations in this gene are a cause of myopia and deafness. [provided by RefSeq, Dec 2014]",
            "This gene is a member of the N-myc downregulated gene family which belongs to the alpha/beta hydrolase superfamily. The protein encoded by this gene is a cytoplasmic protein that is required for cell cycle progression and survival in primary astrocytes and may be involved in the regulation of mitogenic signalling in vascular smooth muscles cells. Alternative splicing results in multiple transcripts encoding different isoforms.[provided by RefSeq, Jun 2011]",
            "PPFIA4, or liprin-alpha-4, belongs to the liprin-alpha gene family. See liprin-alpha-1 (LIP1, or PPFIA1; MIM 611054) for background on liprins.[supplied by OMIM, Mar 2008]",
            "Predicted to be involved in positive regulation of neural precursor cell proliferation and positive regulation of neurogenesis. Predicted to be located in cytosol; microtubule organizing center; and spindle pole. [provided by Alliance of Genome Resources, Apr 2022]",
            "Phosphorylase kinase is a polymer of 16 subunits, four each of alpha, beta, gamma and delta. The alpha subunit includes the skeletal muscle and hepatic isoforms, and the skeletal muscle isoform is encoded by this gene. The beta subunit is the same in both the muscle and hepatic isoforms, and encoded by one gene. The gamma subunit also includes the skeletal muscle and hepatic isoforms, which are encoded by two different genes. The delta subunit is a calmodulin and can be encoded by three different genes. The gamma subunits contain the active site of the enzyme, whereas the alpha and beta subunits have regulatory functions controlled by phosphorylation. The delta subunit mediates the dependence of the enzyme on calcium concentration. Mutations in this gene cause glycogen storage disease type 9D, also known as X-linked muscle glycogenosis. Alternatively spliced transcript variants encoding different isoforms have been identified in this gene. A pseudogene has been found on chromosome 1.[provided by RefSeq, Feb 2010]",
            "In vertebrates, the genes encoding the class of transcription factors called homeobox genes are found in clusters named A, B, C, and D on four separate chromosomes. Expression of these proteins is spatially and temporally regulated during embryonic development. This gene is part of the A cluster on chromosome 7 and encodes a DNA-binding transcription factor which may regulate gene expression, morphogenesis, and differentiation. [provided by RefSeq, Jul 2008]",
            "This protein is a transcription factor that negatively regulates other myogenic family proteins. Studies of the mouse homolog, I-mf, show that it interferes with myogenic factor function by masking nuclear localization signals and preventing DNA binding. Knockout mouse studies show defects in the formation of vertebrae and ribs that also involve cartilage formation in these structures. [provided by RefSeq, Jul 2008]",
            "This gene encodes an extracellular matrix glycoprotein that is characterized by an N-terminal microfibril interface domain, a coiled-coiled alpha-helical domain, a collagenous domain and a C-terminal globular C1q domain. The encoded protein associates with elastic fibers at the interface between elastin and microfibrils and may play a role in the development of elastic tissues including large blood vessels, dermis, heart and lung. [provided by RefSeq, Sep 2009]",
            "The protein encoded by this gene is a presynaptic protein that interacts with RAB3, a protein important for normal neurotransmitter release. The encoded protein can also bind several other synaptic proteins, including UNC-13 homolog B, ELKS/Rab6-interacting/CAST family member 1, and synaptotagmin 1. This protein is involved in synaptic membrane exocytosis. Polymorphisms in this gene have been associated with degenerative lumbar scoliosis. [provided by RefSeq, Feb 2017]",
            "Involved in negative regulation of JNK cascade and negative regulation of protein phosphorylation. Located in cytoplasm and nucleus. [provided by Alliance of Genome Resources, Apr 2022]",
            "The protein encoded by this gene is a member of the CAS (CRK-associated substrate) family of adaptor proteins which typically serve as scaffolds for the assembly of larger signaling complexes. These complexes form at the cell surface where integrin binding leads to the subsequent phosphorylation of a CAS protein. Additional binding of SRC family kinases leads to CAS hyperphosphorylation and the creation of binding sites for CRK and other proteins that cause actin cytoskeleton reorganization. This gene plays a role in integrin-mediated cell attachment, spreading, and migration and also plays a role in both normal and malignant cellular transformation. This broadly expressed gene has been shown to play a role in neurite outgrowth and its expression in the thymus and lymphocytes is important for T cell maturation and the development of immunological self-tolerance. Alternative splicing of this gene results in multiple transcript variants encoding distinct isoforms. [provided by RefSeq, Jul 2020]",
            "",
            "Predicted to be located in several cellular components, including Golgi apparatus; endoplasmic reticulum; and extracellular matrix. Predicted to be part of collagen trimer. [provided by Alliance of Genome Resources, Apr 2022]",
            "",
            "Predicted to enable anion transmembrane transporter activity. Predicted to be involved in anion transport. Predicted to be active in basolateral plasma membrane. Predicted to be integral component of plasma membrane. [provided by Alliance of Genome Resources, Apr 2022]",
            "Predicted to be integral component of membrane. [provided by Alliance of Genome Resources, Apr 2022]",
            "This gene is a member of the Abd-B homeobox family and encodes a protein with a homeobox DNA-binding domain. It is included in a cluster of homeobox D genes located on chromosome 2. The encoded nuclear protein functions as a sequence-specific transcription factor that is expressed in the developing limb buds and is involved in differentiation and limb development. Mutations in this gene have been associated with Wilm's tumor and congenital vertical talus (also known as \"rocker-bottom foot\" deformity or congenital convex pes valgus) and/or a foot deformity resembling that seen in Charcot-Marie-Tooth disease. [provided by RefSeq, Jul 2008]",
            "The protein encoded by this gene is a tetrahydrobiopterin- and iron-dependent enzyme that cleaves the ether bond of alkylglycerols. Sequence comparisons distinguish this protein as forming a third, distinct class of tetrahydrobiopterin-dependent enzymes. Variations in this gene have been associated with decreased glucose-stimulated insulin response, type 2 diabetes, and susceptibility to intracranial aneurysms. [provided by RefSeq, Aug 2012]",
            "The protein encoded by this gene belongs to the thrombospondin protein family. Thrombospondin family members are adhesive glycoproteins that mediate cell-to-cell and cell-to-matrix interactions. This protein forms a pentamer and can bind to heparin and calcium. It is involved in local signaling in the developing and adult nervous system, and it contributes to spinal sensitization and neuropathic pain states. This gene is activated during the stromal response to invasive breast cancer. It may also play a role in inflammatory responses in Alzheimer's disease. Alternative splicing results in multiple transcript variants. [provided by RefSeq, Apr 2015]",
            "This gene encodes the acidic form of complement factor 4, part of the classical activation pathway. The protein is expressed as a single chain precursor which is proteolytically cleaved into a trimer of alpha, beta, and gamma chains prior to secretion. The trimer provides a surface for interaction between the antigen-antibody complex and other complement components. The alpha chain is cleaved to release C4 anaphylatoxin, an antimicrobial peptide and a mediator of local inflammation. Deficiency of this protein is associated with systemic lupus erythematosus and type I diabetes mellitus. This gene localizes to the major histocompatibility complex (MHC) class III region on chromosome 6. Varying haplotypes of this gene cluster exist, such that individuals may have 1, 2, or 3 copies of this gene. Two transcript variants encoding different isoforms have been found for this gene. [provided by RefSeq, Nov 2014]",
            "Voltage-gated potassium (Kv) channels represent the most complex class of voltage-gated ion channels from both functional and structural standpoints. Their diverse functions include regulating neurotransmitter release, heart rate, insulin secretion, neuronal excitability, epithelial electrolyte transport, smooth muscle contraction, and cell volume. Four sequence-related potassium channel genes - shaker, shaw, shab, and shal - have been identified in Drosophila, and each has been shown to have human homolog(s). This gene encodes a member of the potassium channel, voltage-gated, shaker-related subfamily. This member is one of the beta subunits, which are auxiliary proteins associating with functional Kv-alpha subunits. This member alters functional properties of the KCNA4 gene product. Alternative splicing of this gene results in multiple transcript variants encoding distinct isoforms. [provided by RefSeq, Dec 2010]",
            "Tight junctions represent one mode of cell-to-cell adhesion in epithelial or endothelial cell sheets, forming continuous seals around cells and serving as a physical barrier to prevent solutes and water from passing freely through the paracellular space. The protein encoded by this immunoglobulin superfamily gene member is localized in the tight junctions between high endothelial cells. Unlike other proteins in this family, the this protein is unable to adhere to leukocyte cell lines and only forms weak homotypic interactions. The encoded protein is a member of the junctional adhesion molecule protein family and acts as a receptor for another member of this family. A mutation in an intron of this gene is associated with hemorrhagic destruction of the brain, subependymal calcification, and congenital cataracts. Alternative splicing results in multiple transcript variants.[provided by RefSeq, Apr 2011]",
            "This gene is a member of the beta-1,3-galactosyltransferase (beta3GalT) gene family. This family encodes type II membrane-bound glycoproteins with diverse enzymatic functions using different donor substrates (UDP-galactose and UDP-N-acetylglucosamine) and different acceptor sugars (N-acetylglucosamine, galactose, N-acetylgalactosamine). The beta3GalT genes are distantly related to the Drosophila Brainiac gene and have the protein coding sequence contained in a single exon. The beta3GalT proteins also contain conserved sequences not found in the beta4GalT or alpha3GalT proteins. The carbohydrate chains synthesized by these enzymes are designated as type 1, whereas beta4GalT enzymes synthesize type 2 carbohydrate chains. The ratio of type 1:type 2 chains changes during embryogenesis. By sequence similarity, the beta3GalT genes fall into at least two groups: beta3GalT4 and 4 other beta3GalT genes (beta3GalT1-3, beta3GalT5). This gene is expressed exclusively in the brain. The encoded protein shows strict donor substrate specificity for UDP-galactose. [provided by RefSeq, Jul 2008]",
            "NUDT11 belongs to a subgroup of phosphohydrolases that preferentially attack diphosphoinositol polyphosphates (Hidaka et al., 2002 [PubMed 12105228]).[supplied by OMIM, Mar 2008]",
            "The protein encoded by this gene is a cytokine that regulates T and natural killer cell activation and proliferation. This cytokine and interleukine 2 share many biological activities. They are found to bind common hematopoietin receptor subunits, and may compete for the same receptor, and thus negatively regulate each other's activity. The number of CD8+ memory cells is shown to be controlled by a balance between this cytokine and IL2. This cytokine induces the activation of JAK kinases, as well as the phosphorylation and activation of transcription activators STAT3, STAT5, and STAT6. Studies of the mouse counterpart suggested that this cytokine may increase the expression of apoptosis inhibitor BCL2L1/BCL-x(L), possibly through the transcription activation activity of STAT6, and thus prevent apoptosis. Alternatively spliced transcript variants of this gene have been reported. [provided by RefSeq, Feb 2011]",
            "Predicted to be integral component of membrane. [provided by Alliance of Genome Resources, Apr 2022]",
            "Proteins of the matrix metalloproteinase (MMP) family are involved in the breakdown of extracellular matrix in normal physiological processes, such as embryonic development, reproduction, and tissue remodeling, as well as in disease processes, such as arthritis and metastasis. Most MMP's are secreted as inactive proproteins which are activated when cleaved by extracellular proteinases. The encoded protein activates MMP2 by cleavage. This gene was once referred to as MT-MMP2, but was renamed as MT-MMP3 or MMP16. [provided by RefSeq, Oct 2010]",
            "",
            "This gene encodes a membrane-bound protein which is a member of the ELO family, proteins which participate in the biosynthesis of fatty acids. Consistent with the expression of the encoded protein in photoreceptor cells of the retina, mutations and small deletions in this gene are associated with Stargardt-like macular dystrophy (STGD3) and autosomal dominant Stargardt-like macular dystrophy (ADMD), also referred to as autosomal dominant atrophic macular degeneration. [provided by RefSeq, Jul 2008]",
            "This gene belongs to the homeobox family of genes. The homeobox genes encode a highly conserved family of transcription factors that play an important role in morphogenesis in all multicellular organisms. Mammals possess four similar homeobox gene clusters, HOXA, HOXB, HOXC and HOXD, located on different chromosomes, consisting of 9 to 11 genes arranged in tandem. This gene is one of several homeobox HOXD genes located in a cluster on chromosome 2. Deletions that remove the entire HOXD gene cluster or the 5' end of this cluster have been associated with severe limb and genital abnormalities. Mutations in this particular gene cause synpolydactyly. [provided by RefSeq, Jul 2008]",
            "Glutamate receptors are the predominant excitatory neurotransmitter receptors in the mammalian brain and are activated in a variety of normal neurophysiologic processes. This gene product belongs to the kainate family of glutamate receptors, which are composed of four subunits and function as ligand-activated ion channels. It is not certain if the subunit encoded by this gene is subject to RNA editing as the other 2 family members (GRIK1 and GRIK2). A Ser310Ala polymorphism has been associated with schizophrenia, and there are conflicting reports of its association with the pathogenesis of delirium tremens in alcoholics. [provided by RefSeq, Jul 2008]",
            "Enables RNA binding activity. Involved in mRNA 5'-splice site recognition and regulation of alternative mRNA splicing, via spliceosome. Predicted to be located in nucleoplasm. Predicted to be active in cytoplasm and nuclear speck. [provided by Alliance of Genome Resources, Apr 2022]",
            "Enables enzyme binding activity. Predicted to be involved in peptidyl-L-cysteine S-palmitoylation and protein targeting to membrane. Predicted to be located in Golgi membrane. Predicted to be part of palmitoyltransferase complex. [provided by Alliance of Genome Resources, Apr 2022]",
            "This gene is a member of the protocadherin beta gene cluster, one of three related gene clusters tandemly linked on chromosome five. The gene clusters demonstrate an unusual genomic organization similar to that of B-cell and T-cell receptor gene clusters. The beta cluster contains 16 genes and 3 pseudogenes, each encoding 6 extracellular cadherin domains and a cytoplasmic tail that deviates from others in the cadherin superfamily. The extracellular domains interact in a homophilic manner to specify differential cell-cell connections. Unlike the alpha and gamma clusters, the transcripts from these genes are made up of only one large exon, not sharing common 3' exons as expected. These neural cadherin-like cell adhesion proteins are integral plasma membrane proteins. Their specific functions are unknown but they most likely play a critical role in the establishment and function of specific cell-cell neural connections. [provided by RefSeq, Jul 2008]",
            "This gene encodes one of the three alpha chains of type IX collagen, which is a minor (5-20%) collagen component of hyaline cartilage. Type IX collagen is usually found in tissues containing type II collagen, a fibrillar collagen. Studies in knockout mice have shown that synthesis of the alpha 1 chain is essential for assembly of type IX collagen molecules, a heterotrimeric molecule, and that lack of type IX collagen is associated with early onset osteoarthritis. Mutations in this gene are associated with osteoarthritis in humans, with multiple epiphyseal dysplasia, 6, a form of chondrodysplasia, and with Stickler syndrome, a disease characterized by ophthalmic, orofacial, articular, and auditory defects. Two transcript variants that encode different isoforms have been identified for this gene. [provided by RefSeq, Jul 2008]",
            "The protein encoded by this gene interacts with the transcription factor myocardin, a key regulator of smooth muscle cell differentiation. The encoded protein is predominantly nuclear and may help transduce signals from the cytoskeleton to the nucleus. This gene is involved in a specific translocation event that creates a fusion of this gene and the RNA-binding motif protein-15 gene. This translocation has been associated with acute megakaryocytic leukemia. Alternative splicing results in multiple transcript variants. [provided by RefSeq, Sep 2013]",
            "Predicted to enable serine-type endopeptidase inhibitor activity. Predicted to be involved in negative regulation of endopeptidase activity. Predicted to be located in extracellular region and plasma membrane. Predicted to be active in extracellular space. [provided by Alliance of Genome Resources, Apr 2022]",
            "This gene encodes an RNA-binding protein that belongs to the c-myc gene single-strand binding protein family. These proteins are characterized by the presence of two sets of ribonucleoprotein consensus sequence (RNP-CS) that contain conserved motifs, RNP1 and RNP2, originally described in RNA binding proteins, and required for DNA binding. These proteins have been implicated in such diverse functions as DNA replication, gene transcription, cell cycle progression and apoptosis. The encoded protein was isolated by virtue of its binding to an upstream element of the alpha2(I) collagen promoter. The observation that this protein localizes mostly in the cytoplasm suggests that it may be involved in a cytoplasmic function such as controlling RNA metabolism, rather than transcription. Multiple alternatively spliced transcript variants encoding different isoforms have been found for this gene. [provided by RefSeq, Apr 2010]",
            "Involved in response to transforming growth factor beta. Predicted to be located in endoplasmic reticulum and extracellular space. Predicted to be active in extracellular region and plasma membrane. [provided by Alliance of Genome Resources, Apr 2022]",
            "The WNT gene family consists of structurally related genes which encode secreted signaling proteins. These proteins have been implicated in oncogenesis and in several developmental processes, including regulation of cell fate and patterning during embryogenesis. This gene is a member of the WNT gene family. It encodes a protein which shows 98% amino acid identity to mouse Wnt3 protein, and 84% to human WNT3A protein, another WNT gene product. The mouse studies show the requirement of Wnt3 in primary axis formation in the mouse. Studies of the gene expression suggest that this gene may play a key role in some cases of human breast, rectal, lung, and gastric cancer through activation of the WNT-beta-catenin-TCF signaling pathway. This gene is clustered with WNT15, another family member, in the chromosome 17q21 region. [provided by RefSeq, Jul 2008]",
            "Enables collagen binding activity; heparin binding activity; and peptidase activator activity. Predicted to be involved in positive regulation of peptidase activity. Predicted to act upstream of or within cellular response to leukemia inhibitory factor. Predicted to be located in extracellular region. [provided by Alliance of Genome Resources, Apr 2022]",
            "Carbonic anhydrases (CAs) are a large family of zinc metalloenzymes that catalyze the reversible hydration of carbon dioxide. They participate in a variety of biological processes, including respiration, calcification, acid-base balance, bone resorption, and the formation of aqueous humor, cerebrospinal fluid, saliva, and gastric acid. They show extensive diversity in tissue distribution and in their subcellular localization. CA IX is a transmembrane protein and is one of only two tumor-associated carbonic anhydrase isoenzymes known. It is expressed in all clear-cell renal cell carcinoma, but is not detected in normal kidney or most other normal tissues. It may be involved in cell proliferation and transformation. This gene was mapped to 17q21.2 by fluorescence in situ hybridization, however, radiation hybrid mapping localized it to 9p13-p12. [provided by RefSeq, Jun 2014]",
            "This gene encodes a member of the semaphorin III family of secreted signaling proteins that are involved in axon guidance during neuronal development. The encoded protein contains an N-terminal Sema domain, an immunoglobulin like domain and a C-terminal basic domain. The protein encoded by this gene binds neuropilin and plays an important role in cardiovascular development. [provided by RefSeq, Aug 2016]",
            "This gene encodes a secreted ligand of the TGF-beta (transforming growth factor-beta) superfamily of proteins. Ligands of this family bind various TGF-beta receptors leading to recruitment and activation of SMAD family transcription factors that regulate gene expression. The encoded preproprotein is proteolytically processed to generate each subunit of the disulfide-linked homodimer. This protein plays a role in the development of the nervous and other organ systems, and may regulate aging. [provided by RefSeq, Aug 2016]",
            "Ephrin receptors and their ligands, the ephrins, mediate numerous developmental processes, particularly in the nervous system. Based on their structures and sequence relationships, ephrins are divided into the ephrin-A (EFNA) class, which are anchored to the membrane by a glycosylphosphatidylinositol linkage, and the ephrin-B (EFNB) class, which are transmembrane proteins. The Eph family of receptors are divided into two groups based on the similarity of their extracellular domain sequences and their affinities for binding ephrin-A and ephrin-B ligands. Ephrin receptors make up the largest subgroup of the receptor tyrosine kinase (RTK) family. This gene encodes a receptor for ephrin-B family members. [provided by RefSeq, Mar 2010]"
           ]
          ]
         },
         "columnwidth": [
          10,
          8,
          15,
          90
         ],
         "header": {
          "align": "left",
          "values": [
           "GENE_NAME",
           "ID",
           "DESCRIPTION",
           "SUMMARY"
          ]
         },
         "type": "table"
        }
       ],
       "layout": {
        "height": 800,
        "showlegend": false,
        "template": {
         "data": {
          "bar": [
           {
            "error_x": {
             "color": "#2a3f5f"
            },
            "error_y": {
             "color": "#2a3f5f"
            },
            "marker": {
             "line": {
              "color": "#E5ECF6",
              "width": 0.5
             },
             "pattern": {
              "fillmode": "overlay",
              "size": 10,
              "solidity": 0.2
             }
            },
            "type": "bar"
           }
          ],
          "barpolar": [
           {
            "marker": {
             "line": {
              "color": "#E5ECF6",
              "width": 0.5
             },
             "pattern": {
              "fillmode": "overlay",
              "size": 10,
              "solidity": 0.2
             }
            },
            "type": "barpolar"
           }
          ],
          "carpet": [
           {
            "aaxis": {
             "endlinecolor": "#2a3f5f",
             "gridcolor": "white",
             "linecolor": "white",
             "minorgridcolor": "white",
             "startlinecolor": "#2a3f5f"
            },
            "baxis": {
             "endlinecolor": "#2a3f5f",
             "gridcolor": "white",
             "linecolor": "white",
             "minorgridcolor": "white",
             "startlinecolor": "#2a3f5f"
            },
            "type": "carpet"
           }
          ],
          "choropleth": [
           {
            "colorbar": {
             "outlinewidth": 0,
             "ticks": ""
            },
            "type": "choropleth"
           }
          ],
          "contour": [
           {
            "colorbar": {
             "outlinewidth": 0,
             "ticks": ""
            },
            "colorscale": [
             [
              0,
              "#0d0887"
             ],
             [
              0.1111111111111111,
              "#46039f"
             ],
             [
              0.2222222222222222,
              "#7201a8"
             ],
             [
              0.3333333333333333,
              "#9c179e"
             ],
             [
              0.4444444444444444,
              "#bd3786"
             ],
             [
              0.5555555555555556,
              "#d8576b"
             ],
             [
              0.6666666666666666,
              "#ed7953"
             ],
             [
              0.7777777777777778,
              "#fb9f3a"
             ],
             [
              0.8888888888888888,
              "#fdca26"
             ],
             [
              1,
              "#f0f921"
             ]
            ],
            "type": "contour"
           }
          ],
          "contourcarpet": [
           {
            "colorbar": {
             "outlinewidth": 0,
             "ticks": ""
            },
            "type": "contourcarpet"
           }
          ],
          "heatmap": [
           {
            "colorbar": {
             "outlinewidth": 0,
             "ticks": ""
            },
            "colorscale": [
             [
              0,
              "#0d0887"
             ],
             [
              0.1111111111111111,
              "#46039f"
             ],
             [
              0.2222222222222222,
              "#7201a8"
             ],
             [
              0.3333333333333333,
              "#9c179e"
             ],
             [
              0.4444444444444444,
              "#bd3786"
             ],
             [
              0.5555555555555556,
              "#d8576b"
             ],
             [
              0.6666666666666666,
              "#ed7953"
             ],
             [
              0.7777777777777778,
              "#fb9f3a"
             ],
             [
              0.8888888888888888,
              "#fdca26"
             ],
             [
              1,
              "#f0f921"
             ]
            ],
            "type": "heatmap"
           }
          ],
          "heatmapgl": [
           {
            "colorbar": {
             "outlinewidth": 0,
             "ticks": ""
            },
            "colorscale": [
             [
              0,
              "#0d0887"
             ],
             [
              0.1111111111111111,
              "#46039f"
             ],
             [
              0.2222222222222222,
              "#7201a8"
             ],
             [
              0.3333333333333333,
              "#9c179e"
             ],
             [
              0.4444444444444444,
              "#bd3786"
             ],
             [
              0.5555555555555556,
              "#d8576b"
             ],
             [
              0.6666666666666666,
              "#ed7953"
             ],
             [
              0.7777777777777778,
              "#fb9f3a"
             ],
             [
              0.8888888888888888,
              "#fdca26"
             ],
             [
              1,
              "#f0f921"
             ]
            ],
            "type": "heatmapgl"
           }
          ],
          "histogram": [
           {
            "marker": {
             "pattern": {
              "fillmode": "overlay",
              "size": 10,
              "solidity": 0.2
             }
            },
            "type": "histogram"
           }
          ],
          "histogram2d": [
           {
            "colorbar": {
             "outlinewidth": 0,
             "ticks": ""
            },
            "colorscale": [
             [
              0,
              "#0d0887"
             ],
             [
              0.1111111111111111,
              "#46039f"
             ],
             [
              0.2222222222222222,
              "#7201a8"
             ],
             [
              0.3333333333333333,
              "#9c179e"
             ],
             [
              0.4444444444444444,
              "#bd3786"
             ],
             [
              0.5555555555555556,
              "#d8576b"
             ],
             [
              0.6666666666666666,
              "#ed7953"
             ],
             [
              0.7777777777777778,
              "#fb9f3a"
             ],
             [
              0.8888888888888888,
              "#fdca26"
             ],
             [
              1,
              "#f0f921"
             ]
            ],
            "type": "histogram2d"
           }
          ],
          "histogram2dcontour": [
           {
            "colorbar": {
             "outlinewidth": 0,
             "ticks": ""
            },
            "colorscale": [
             [
              0,
              "#0d0887"
             ],
             [
              0.1111111111111111,
              "#46039f"
             ],
             [
              0.2222222222222222,
              "#7201a8"
             ],
             [
              0.3333333333333333,
              "#9c179e"
             ],
             [
              0.4444444444444444,
              "#bd3786"
             ],
             [
              0.5555555555555556,
              "#d8576b"
             ],
             [
              0.6666666666666666,
              "#ed7953"
             ],
             [
              0.7777777777777778,
              "#fb9f3a"
             ],
             [
              0.8888888888888888,
              "#fdca26"
             ],
             [
              1,
              "#f0f921"
             ]
            ],
            "type": "histogram2dcontour"
           }
          ],
          "mesh3d": [
           {
            "colorbar": {
             "outlinewidth": 0,
             "ticks": ""
            },
            "type": "mesh3d"
           }
          ],
          "parcoords": [
           {
            "line": {
             "colorbar": {
              "outlinewidth": 0,
              "ticks": ""
             }
            },
            "type": "parcoords"
           }
          ],
          "pie": [
           {
            "automargin": true,
            "type": "pie"
           }
          ],
          "scatter": [
           {
            "fillpattern": {
             "fillmode": "overlay",
             "size": 10,
             "solidity": 0.2
            },
            "type": "scatter"
           }
          ],
          "scatter3d": [
           {
            "line": {
             "colorbar": {
              "outlinewidth": 0,
              "ticks": ""
             }
            },
            "marker": {
             "colorbar": {
              "outlinewidth": 0,
              "ticks": ""
             }
            },
            "type": "scatter3d"
           }
          ],
          "scattercarpet": [
           {
            "marker": {
             "colorbar": {
              "outlinewidth": 0,
              "ticks": ""
             }
            },
            "type": "scattercarpet"
           }
          ],
          "scattergeo": [
           {
            "marker": {
             "colorbar": {
              "outlinewidth": 0,
              "ticks": ""
             }
            },
            "type": "scattergeo"
           }
          ],
          "scattergl": [
           {
            "marker": {
             "colorbar": {
              "outlinewidth": 0,
              "ticks": ""
             }
            },
            "type": "scattergl"
           }
          ],
          "scattermapbox": [
           {
            "marker": {
             "colorbar": {
              "outlinewidth": 0,
              "ticks": ""
             }
            },
            "type": "scattermapbox"
           }
          ],
          "scatterpolar": [
           {
            "marker": {
             "colorbar": {
              "outlinewidth": 0,
              "ticks": ""
             }
            },
            "type": "scatterpolar"
           }
          ],
          "scatterpolargl": [
           {
            "marker": {
             "colorbar": {
              "outlinewidth": 0,
              "ticks": ""
             }
            },
            "type": "scatterpolargl"
           }
          ],
          "scatterternary": [
           {
            "marker": {
             "colorbar": {
              "outlinewidth": 0,
              "ticks": ""
             }
            },
            "type": "scatterternary"
           }
          ],
          "surface": [
           {
            "colorbar": {
             "outlinewidth": 0,
             "ticks": ""
            },
            "colorscale": [
             [
              0,
              "#0d0887"
             ],
             [
              0.1111111111111111,
              "#46039f"
             ],
             [
              0.2222222222222222,
              "#7201a8"
             ],
             [
              0.3333333333333333,
              "#9c179e"
             ],
             [
              0.4444444444444444,
              "#bd3786"
             ],
             [
              0.5555555555555556,
              "#d8576b"
             ],
             [
              0.6666666666666666,
              "#ed7953"
             ],
             [
              0.7777777777777778,
              "#fb9f3a"
             ],
             [
              0.8888888888888888,
              "#fdca26"
             ],
             [
              1,
              "#f0f921"
             ]
            ],
            "type": "surface"
           }
          ],
          "table": [
           {
            "cells": {
             "fill": {
              "color": "#EBF0F8"
             },
             "line": {
              "color": "white"
             }
            },
            "header": {
             "fill": {
              "color": "#C8D4E3"
             },
             "line": {
              "color": "white"
             }
            },
            "type": "table"
           }
          ]
         },
         "layout": {
          "annotationdefaults": {
           "arrowcolor": "#2a3f5f",
           "arrowhead": 0,
           "arrowwidth": 1
          },
          "autotypenumbers": "strict",
          "coloraxis": {
           "colorbar": {
            "outlinewidth": 0,
            "ticks": ""
           }
          },
          "colorscale": {
           "diverging": [
            [
             0,
             "#8e0152"
            ],
            [
             0.1,
             "#c51b7d"
            ],
            [
             0.2,
             "#de77ae"
            ],
            [
             0.3,
             "#f1b6da"
            ],
            [
             0.4,
             "#fde0ef"
            ],
            [
             0.5,
             "#f7f7f7"
            ],
            [
             0.6,
             "#e6f5d0"
            ],
            [
             0.7,
             "#b8e186"
            ],
            [
             0.8,
             "#7fbc41"
            ],
            [
             0.9,
             "#4d9221"
            ],
            [
             1,
             "#276419"
            ]
           ],
           "sequential": [
            [
             0,
             "#0d0887"
            ],
            [
             0.1111111111111111,
             "#46039f"
            ],
            [
             0.2222222222222222,
             "#7201a8"
            ],
            [
             0.3333333333333333,
             "#9c179e"
            ],
            [
             0.4444444444444444,
             "#bd3786"
            ],
            [
             0.5555555555555556,
             "#d8576b"
            ],
            [
             0.6666666666666666,
             "#ed7953"
            ],
            [
             0.7777777777777778,
             "#fb9f3a"
            ],
            [
             0.8888888888888888,
             "#fdca26"
            ],
            [
             1,
             "#f0f921"
            ]
           ],
           "sequentialminus": [
            [
             0,
             "#0d0887"
            ],
            [
             0.1111111111111111,
             "#46039f"
            ],
            [
             0.2222222222222222,
             "#7201a8"
            ],
            [
             0.3333333333333333,
             "#9c179e"
            ],
            [
             0.4444444444444444,
             "#bd3786"
            ],
            [
             0.5555555555555556,
             "#d8576b"
            ],
            [
             0.6666666666666666,
             "#ed7953"
            ],
            [
             0.7777777777777778,
             "#fb9f3a"
            ],
            [
             0.8888888888888888,
             "#fdca26"
            ],
            [
             1,
             "#f0f921"
            ]
           ]
          },
          "colorway": [
           "#636efa",
           "#EF553B",
           "#00cc96",
           "#ab63fa",
           "#FFA15A",
           "#19d3f3",
           "#FF6692",
           "#B6E880",
           "#FF97FF",
           "#FECB52"
          ],
          "font": {
           "color": "#2a3f5f"
          },
          "geo": {
           "bgcolor": "white",
           "lakecolor": "white",
           "landcolor": "#E5ECF6",
           "showlakes": true,
           "showland": true,
           "subunitcolor": "white"
          },
          "hoverlabel": {
           "align": "left"
          },
          "hovermode": "closest",
          "mapbox": {
           "style": "light"
          },
          "paper_bgcolor": "white",
          "plot_bgcolor": "#E5ECF6",
          "polar": {
           "angularaxis": {
            "gridcolor": "white",
            "linecolor": "white",
            "ticks": ""
           },
           "bgcolor": "#E5ECF6",
           "radialaxis": {
            "gridcolor": "white",
            "linecolor": "white",
            "ticks": ""
           }
          },
          "scene": {
           "xaxis": {
            "backgroundcolor": "#E5ECF6",
            "gridcolor": "white",
            "gridwidth": 2,
            "linecolor": "white",
            "showbackground": true,
            "ticks": "",
            "zerolinecolor": "white"
           },
           "yaxis": {
            "backgroundcolor": "#E5ECF6",
            "gridcolor": "white",
            "gridwidth": 2,
            "linecolor": "white",
            "showbackground": true,
            "ticks": "",
            "zerolinecolor": "white"
           },
           "zaxis": {
            "backgroundcolor": "#E5ECF6",
            "gridcolor": "white",
            "gridwidth": 2,
            "linecolor": "white",
            "showbackground": true,
            "ticks": "",
            "zerolinecolor": "white"
           }
          },
          "shapedefaults": {
           "line": {
            "color": "#2a3f5f"
           }
          },
          "ternary": {
           "aaxis": {
            "gridcolor": "white",
            "linecolor": "white",
            "ticks": ""
           },
           "baxis": {
            "gridcolor": "white",
            "linecolor": "white",
            "ticks": ""
           },
           "bgcolor": "#E5ECF6",
           "caxis": {
            "gridcolor": "white",
            "linecolor": "white",
            "ticks": ""
           }
          },
          "title": {
           "x": 0.05
          },
          "xaxis": {
           "automargin": true,
           "gridcolor": "white",
           "linecolor": "white",
           "ticks": "",
           "title": {
            "standoff": 15
           },
           "zerolinecolor": "white",
           "zerolinewidth": 2
          },
          "yaxis": {
           "automargin": true,
           "gridcolor": "white",
           "linecolor": "white",
           "ticks": "",
           "title": {
            "standoff": 15
           },
           "zerolinecolor": "white",
           "zerolinewidth": 2
          }
         }
        },
        "title": {
         "text": "Genes from group 2"
        }
       }
      }
     },
     "metadata": {},
     "output_type": "display_data"
    }
   ],
   "source": [
    "table(group2_genes, [10, 8, 15, 90], 'Genes from group 2')"
   ]
  },
  {
   "cell_type": "code",
   "execution_count": 124,
   "metadata": {},
   "outputs": [
    {
     "data": {
      "application/vnd.plotly.v1+json": {
       "config": {
        "plotlyServerURL": "https://plot.ly"
       },
       "data": [
        {
         "cells": {
          "align": "left",
          "values": [
           [
            "RNF217-AS1",
            "LINC00189",
            "CMTM5",
            "OCA2",
            "CTAGE6",
            "TYRP1",
            "CTAGE4",
            "ZSCAN23",
            "GDNF",
            "LRCH2",
            "BTBD8",
            "ZNF157",
            "GLRB",
            "OR2A10",
            "SUGT1P1",
            "OR2A1",
            "COL22A1",
            "DDO",
            "ZNF334",
            "MYO5B",
            "ULBP3",
            "CCDC160",
            "BRSK2",
            "DNALI1",
            "CTAGE15",
            "PCDHAC2",
            "EFHC2",
            "FAM181B",
            "TNNI1",
            "TRPM3",
            "SUCNR1",
            "LOXL4",
            "RNF175",
            "ANKRD45",
            "OATP-A",
            "ZNF660",
            "MPZL3",
            "ENPP5",
            "TF",
            "FAM90A1",
            "OPLAH",
            "C1QL4",
            "SPIN2A",
            "ZNF483",
            "KLHL14",
            "RGS18",
            "PLA2G2A",
            "FKSG80",
            "LOXL3",
            "CLGN",
            "TTBK1",
            "FAM69C",
            "FAM184A",
            "RAP1GAP2",
            "CTAGE9",
            "NKAPP1",
            "WHAMMP2",
            "LIMCH1",
            "RARB",
            "FRMPD1",
            "GPLD1",
            "ENPP4",
            "SERPINA5",
            "CNR1",
            "CTAGE11P",
            "MAOB",
            "ANGPT1",
            "DFNB42",
            "SLC38A1",
            "GDF10",
            "ERP27",
            "SPTLC3",
            "INAVA",
            "DMC1",
            "CRACR2A",
            "MYCBPAP",
            "TPD52L1",
            "COLCA1",
            "SLC26A4-AS1",
            "ZNF204P",
            "TINCR",
            "POU5F1B",
            "ABCD2",
            "PLCE1",
            "C5orf58",
            "CERKL",
            "PKIA",
            "KIAA0366",
            "NDRG4",
            "OR2A7",
            "ADGRL2",
            "B3GALNT1",
            "KALRN",
            "GAL3ST1",
            "PHKA1",
            "ZNF385D",
            "SLC35G2",
            "SEMA3A",
            "MORN3",
            "TPPP",
            "MBOAT4",
            "ARMC12",
            "DUSP1",
            "CDO1",
            "MCNAA",
            "ZNF681",
            "GFRA1",
            "ARHGEF35",
            "GABRR2",
            "BZRAP1",
            "SFRP1",
            "C4A",
            "TSPAN2",
            "IL15",
            "TC2N",
            "FAM198A",
            "TSPAN5",
            "AARD",
            "LINC01096",
            "STGD2",
            "IMPDH2",
            "SHROOM3",
            "LPAR1",
            "TXLNB",
            "PLA2R1",
            "BCAR2",
            "CLCN4",
            "HS3ST3B1",
            "TENM1",
            "ARNTL2",
            "FFAR3",
            "SLC25A3",
            "PHEX",
            "ST4",
            "PRODH",
            "CLDN11",
            "AFAP1L2",
            "SCA12",
            "TNFRSF10A",
            "FER1L4",
            "L3MBTL4",
            "PRR15",
            "NR1I2",
            "GYPE"
           ],
           [
            "7955",
            "193629",
            "116173",
            "4948",
            "340307",
            "7306",
            "100128553",
            "222696",
            "2668",
            "57631",
            "284697",
            "7712",
            "2743",
            "79541",
            "441394",
            "346528",
            "169044",
            "8528",
            "55713",
            "4645",
            "79465",
            "347475",
            "9024",
            "7802",
            "441294",
            "56134",
            "80258",
            "220382",
            "7135",
            "80036",
            "56670",
            "84171",
            "285533",
            "339416",
            "6579",
            "285349",
            "196264",
            "59084",
            "2152",
            "55138",
            "26873",
            "338761",
            "54466",
            "158399",
            "57565",
            "64407",
            "5320",
            "27198",
            "84695",
            "4312",
            "84630",
            "125704",
            "79632",
            "23108",
            "643854",
            "158801",
            "440253",
            "22998",
            "5915",
            "22844",
            "2822",
            "22875",
            "5104",
            "1268",
            "647288",
            "4129",
            "284",
            "286676",
            "81539",
            "2662",
            "121506",
            "55304",
            "55765",
            "11144",
            "84766",
            "84073",
            "7164",
            "399948",
            "286002",
            "7754",
            "257000",
            "5462",
            "6361",
            "51196",
            "133874",
            "375298",
            "5569",
            "23501",
            "65009",
            "79541",
            "23266",
            "8706",
            "8997",
            "9514",
            "5255",
            "79750",
            "80723",
            "10371",
            "283385",
            "11076",
            "619373",
            "221481",
            "1843",
            "1036",
            "670",
            "148213",
            "2674",
            "445328",
            "2570",
            "9256",
            "6422",
            "720",
            "10100",
            "3600",
            "123036",
            "729085",
            "10098",
            "441376",
            "285548",
            "6785",
            "3615",
            "57619",
            "1902",
            "167838",
            "22925",
            "55809",
            "1183",
            "9953",
            "10178",
            "56938",
            "2865",
            "5250",
            "5251",
            "6484",
            "5625",
            "5010",
            "84632",
            "5521",
            "8797",
            "80307",
            "91133",
            "222171",
            "8856",
            "2996"
           ],
           [
            "RNF217 antisense RNA 1 (head to head)",
            "long intergenic non-protein coding RNA 189",
            "CKLF like MARVEL transmembrane domain containing 5",
            "OCA2 melanosomal transmembrane protein",
            "CTAGE family member 6",
            "tyrosinase related protein 1",
            "CTAGE family member 4",
            "zinc finger and SCAN domain containing 23",
            "glial cell derived neurotrophic factor",
            "leucine rich repeats and calponin homology domain containing 2",
            "BTB domain containing 8",
            "zinc finger protein 157",
            "glycine receptor beta",
            "olfactory receptor family 2 subfamily A member 4",
            "SUGT1 pseudogene 1",
            "olfactory receptor family 2 subfamily A member 1",
            "collagen type XXII alpha 1 chain",
            "D-aspartate oxidase",
            "zinc finger protein 334",
            "myosin VB",
            "UL16 binding protein 3",
            "coiled-coil domain containing 160",
            "BR serine/threonine kinase 2",
            "dynein axonemal light intermediate chain 1",
            "CTAGE family member 15",
            "protocadherin alpha subfamily C, 2",
            "EF-hand domain containing 2",
            "family with sequence similarity 181 member B",
            "troponin I1, slow skeletal type",
            "transient receptor potential cation channel subfamily M member 3",
            "succinate receptor 1",
            "lysyl oxidase like 4",
            "ring finger protein 175",
            "ankyrin repeat domain 45",
            "solute carrier organic anion transporter family member 1A2",
            "zinc finger protein 660",
            "myelin protein zero like 3",
            "ectonucleotide pyrophosphatase/phosphodiesterase family member 5",
            "coagulation factor III, tissue factor",
            "family with sequence similarity 90 member A1",
            "5-oxoprolinase, ATP-hydrolysing",
            "complement C1q like 4",
            "spindlin family member 2A",
            "zinc finger protein 483",
            "kelch like family member 14",
            "regulator of G protein signaling 18",
            "phospholipase A2 group IIA",
            "hydroxycarboxylic acid receptor 1",
            "lysyl oxidase like 3",
            "matrix metallopeptidase 1",
            "tau tubulin kinase 1",
            "divergent protein kinase domain 1C",
            "family with sequence similarity 184 member A",
            "RAP1 GTPase activating protein 2",
            "CTAGE family member 9",
            "NFKB activating protein pseudogene 1",
            "WHAMM pseudogene 2",
            "LIM and calponin homology domains 1",
            "retinoic acid receptor beta",
            "FERM and PDZ domain containing 1",
            "glycosylphosphatidylinositol specific phospholipase D1",
            "ectonucleotide pyrophosphatase/phosphodiesterase 4",
            "serpin family A member 5",
            "cannabinoid receptor 1",
            "CTAGE family member 11, pseudogene",
            "monoamine oxidase B",
            "angiopoietin 1",
            "immunoglobulin like domain containing receptor 1",
            "solute carrier family 38 member 1",
            "growth differentiation factor 10",
            "endoplasmic reticulum protein 27",
            "serine palmitoyltransferase long chain base subunit 3",
            "innate immunity activator",
            "DNA meiotic recombinase 1",
            "calcium release activated channel regulator 2A",
            "MYCBP associated protein",
            "TPD52 like 1",
            "colorectal cancer associated 1",
            "SLC26A4 antisense RNA 1",
            "zinc finger protein 204, pseudogene",
            "TINCR ubiquitin domain containing",
            "POU class 5 homeobox 1B",
            "C-C motif chemokine ligand 17",
            "phospholipase C epsilon 1",
            "chromosome 5 open reading frame 58",
            "ceramide kinase like",
            "cAMP-dependent protein kinase inhibitor alpha",
            "KIAA0366 protein",
            "NDRG family member 4",
            "olfactory receptor family 2 subfamily A member 4",
            "adhesion G protein-coupled receptor L2",
            "beta-1,3-N-acetylgalactosaminyltransferase 1 (globoside blood group)",
            "kalirin RhoGEF kinase",
            "galactose-3-O-sulfotransferase 1",
            "phosphorylase kinase regulatory subunit alpha 1",
            "zinc finger protein 385D",
            "solute carrier family 35 member G2",
            "semaphorin 3A",
            "MORN repeat containing 3",
            "tubulin polymerization promoting protein",
            "membrane bound O-acyltransferase domain containing 4",
            "armadillo repeat containing 12",
            "dual specificity phosphatase 1",
            "cysteine dioxygenase type 1",
            "biphenyl hydrolase like",
            "zinc finger protein 681",
            "GDNF family receptor alpha 1",
            "Rho guanine nucleotide exchange factor 35",
            "gamma-aminobutyric acid type A receptor subunit rho2",
            "TSPO associated protein 1",
            "secreted frizzled related protein 1",
            "complement C4A (Rodgers blood group)",
            "tetraspanin 2",
            "interleukin 15",
            "tandem C2 domains, nuclear",
            "golgi associated kinase 1A",
            "tetraspanin 5",
            "alanine and arginine rich domain containing protein",
            "long intergenic non-protein coding RNA 1096",
            "ELOVL fatty acid elongase 4",
            "inosine monophosphate dehydrogenase 2",
            "shroom family member 3",
            "lysophosphatidic acid receptor 1",
            "taxilin beta",
            "phospholipase A2 receptor 1",
            "transcriptional regulating factor 1",
            "chloride voltage-gated channel 4",
            "heparan sulfate-glucosamine 3-sulfotransferase 3B1",
            "teneurin transmembrane protein 1",
            "basic helix-loop-helix ARNT like 2",
            "free fatty acid receptor 3",
            "solute carrier family 25 member 3",
            "phosphate regulating endopeptidase X-linked",
            "ST3 beta-galactoside alpha-2,3-sialyltransferase 4",
            "proline dehydrogenase 1",
            "claudin 11",
            "actin filament associated protein 1 like 2",
            "protein phosphatase 2 regulatory subunit Bbeta",
            "TNF receptor superfamily member 10a",
            "fer-1 like family member 4 (pseudogene)",
            "L3MBTL histone methyl-lysine binding protein 4",
            "proline rich 15",
            "nuclear receptor subfamily 1 group I member 2",
            "glycophorin E (MNS blood group)"
           ],
           [
            "",
            "",
            "This gene encodes a member of the chemokine-like factor superfamily. This family of genes encodes multi-pass membrane proteins that are similar to both the chemokine and the transmembrane 4 superfamilies of signaling molecules. The encoded protein may exhibit tumor suppressor activity. Alternative splicing results in multiple transcript variants. [provided by RefSeq, Jan 2014]",
            "This gene encodes the human homolog of the mouse p (pink-eyed dilution) gene. The encoded protein is believed to be an integral membrane protein involved in small molecule transport, specifically tyrosine, which is a precursor to melanin synthesis. It is involved in mammalian pigmentation, where it may control skin color variation and act as a determinant of brown or blue eye color. Mutations in this gene result in type 2 oculocutaneous albinism. Alternative splicing results in multiple transcript variants. [provided by RefSeq, Jul 2014]",
            "Predicted to be involved in endoplasmic reticulum to Golgi vesicle-mediated transport; protein secretion; and vesicle cargo loading. Predicted to be integral component of membrane. Predicted to be active in endoplasmic reticulum exit site and endoplasmic reticulum membrane. [provided by Alliance of Genome Resources, Apr 2022]",
            "This gene encodes a melanosomal enzyme that belongs to the tyrosinase family and plays an important role in the melanin biosynthetic pathway. Defects in this gene are the cause of rufous oculocutaneous albinism and oculocutaneous albinism type III. [provided by RefSeq, Mar 2009]",
            "Predicted to be involved in endoplasmic reticulum to Golgi vesicle-mediated transport; protein secretion; and vesicle cargo loading. Predicted to be integral component of membrane. Predicted to be active in endoplasmic reticulum exit site and endoplasmic reticulum membrane. [provided by Alliance of Genome Resources, Apr 2022]",
            "Enables sequence-specific double-stranded DNA binding activity. Predicted to be involved in regulation of transcription by RNA polymerase II. Predicted to be located in nucleus. [provided by Alliance of Genome Resources, Apr 2022]",
            "This gene encodes a secreted ligand of the TGF-beta (transforming growth factor-beta) superfamily of proteins. Ligands of this family bind various TGF-beta receptors leading to recruitment and activation of SMAD family transcription factors that regulate gene expression. The encoded preproprotein is proteolytically processed to generate each subunit of the disulfide-linked homodimer. The recombinant form of this protein, a highly conserved neurotrophic factor, was shown to promote the survival and differentiation of dopaminergic neurons in culture, and was able to prevent apoptosis of motor neurons induced by axotomy. This protein is a ligand for the product of the RET (rearranged during transfection) protooncogene. Mutations in this gene may be associated with Hirschsprung disease and Tourette syndrome. This gene encodes multiple protein isoforms that may undergo similar proteolytic processing. [provided by RefSeq, Aug 2016]",
            "This gene encodes a member of the leucine-rich repeat and calponin homology domain-containing protein family. These family members contain multiple N-terminal leucine-rich repeats, in addition to a C-terminal calponin homology domain, a type of domain that mediates interactions with actin filaments. These proteins are conserved across animal species, and studies of a similar Drosophila protein indicate a function as a cytoskeletal scaffolding protein. Alternative splicing of this gene results in multiple transcript variants. [provided by RefSeq, Sep 2011]",
            "Predicted to be involved in clathrin-dependent synaptic vesicle endocytosis; neuron projection development; and synaptic vesicle budding from endosome. Located in nucleoplasm. Colocalizes with AP-2 adaptor complex. [provided by Alliance of Genome Resources, Apr 2022]",
            "This gene product is a likely zinc finger family transcription factor. It contains KRAB-A and KRAB-B domains that act as transcriptional repressors in related proteins, and multiple zinc finger DNA binding motifs and finger linking regions characteristic of the Kruppel family. This gene is part of a gene cluster on chromosome Xp11.23. [provided by RefSeq, Jul 2008]",
            "This gene encodes the beta subunit of the glycine receptor, which is a pentamer composed of alpha and beta subunits. The receptor functions as a neurotransmitter-gated ion channel, which produces hyperpolarization via increased chloride conductance due to the binding of glycine to the receptor. Mutations in this gene cause startle disease, also known as hereditary hyperekplexia or congenital stiff-person syndrome, a disease characterized by muscular rigidity. Alternative splicing results in multiple transcript variants. [provided by RefSeq, Oct 2009]",
            "Olfactory receptors interact with odorant molecules in the nose, to initiate a neuronal response that triggers the perception of a smell. The olfactory receptor proteins are members of a large family of G-protein-coupled receptors (GPCR) arising from single coding-exon genes. Olfactory receptors share a 7-transmembrane domain structure with many neurotransmitter and hormone receptors and are responsible for the recognition and G protein-mediated transduction of odorant signals. The olfactory receptor gene family is the largest in the genome. The nomenclature assigned to the olfactory receptor genes and proteins for this organism is independent of other organisms. [provided by RefSeq, Jul 2008]",
            "",
            "Olfactory receptors interact with odorant molecules in the nose, to initiate a neuronal response that triggers the perception of a smell. The olfactory receptor proteins are members of a large family of G-protein-coupled receptors (GPCR) arising from single coding-exon genes. Olfactory receptors share a 7-transmembrane domain structure with many neurotransmitter and hormone receptors and are responsible for the recognition and G protein-mediated transduction of odorant signals. The olfactory receptor gene family is the largest in the genome. The nomenclature assigned to the olfactory receptor genes and proteins for this organism is independent of other organisms. [provided by RefSeq, Jul 2008]",
            "This gene encodes member of the collagen family which is thought to contribute to the stabilization of myotendinous junctions and strengthen skeletal muscle attachments during contractile activity. It belongs to the fibril-associated collagens with interrupted triple helix (FACIT) subset of the collagen superfamily, which associate with collagen fibers through their C-terminal collagenous domains and mediate protein-protein interactions through their N-terminal noncollagenous domains. The encoded protein is deposited in the basement membrane zone of the myotendinous junction which is present only at the tissue junctions of muscles, tendons, the heart, articular cartilage, and skin. A knockdown of the orthologous zebrafish gene induces a muscular dystrophy by disruption of the myotendinous junction. [provided by RefSeq, May 2017]",
            "The protein encoded by this gene is a peroxisomal flavoprotein that catalyzes the oxidative deamination of D-aspartate and N-methyl D-aspartate. Flavin adenine dinucleotide or 6-hydroxyflavin adenine dinucleotide can serve as the cofactor in this reaction. Several transcript variants encoding different isoforms have been found for this gene. [provided by RefSeq, Jan 2019]",
            "This gene encodes a member of the C2H2 zinc finger family. The encoded protein contains a Krueppel-associated box, fourteen C2H2 zinc finger domains, and four C2H2-type/integrase DNA-binding domains. Decreased expression of this gene may be a marker for rheumatoid arthritis. Alternative splicing results in multiple transcript variants that encode different protein isoforms. [provided by RefSeq, Jul 2012]",
            "The protein encoded by this gene, together with other proteins, may be involved in plasma membrane recycling. Mutations in this gene are associated with microvillous inclusion disease. [provided by RefSeq, Sep 2009]",
            "The protein encoded by this gene is one of several related ligands of the KLRK1/NKG2D receptor, which is found in primary NK cells. Binding of these ligands to the receptor activates several signal transduction pathways, including the JAK2, STAT5, and ERK pathways. The encoded protein is expressed solubly and on the surface of many tumor cells, making it potentially an important target for therapeutics. [provided by RefSeq, Nov 2015]",
            "",
            "Enables several functions, including ATP binding activity; ATPase binding activity; and protein kinase activity. Involved in several processes, including cellular protein metabolic process; intrinsic apoptotic signaling pathway in response to endoplasmic reticulum stress; and regulation of insulin secretion involved in cellular response to glucose stimulus. Located in centrosome and endoplasmic reticulum. [provided by Alliance of Genome Resources, Apr 2022]",
            "This gene is the human homolog of the Chlamydomonas inner dynein arm gene, p28. The precise function of this gene is not known, however, it is a potential candidate for immotile cilia syndrome (ICS). Ultrastructural defects of the inner dynein arms are seen in patients with ICS. Immotile mutant strains of Chlamydomonas, a biflagellated algae, exhibit similar defects. [provided by RefSeq, Jul 2008]",
            "Predicted to be involved in endoplasmic reticulum to Golgi vesicle-mediated transport; protein secretion; and vesicle cargo loading. Predicted to be integral component of membrane. Predicted to be active in endoplasmic reticulum exit site and endoplasmic reticulum membrane. [provided by Alliance of Genome Resources, Apr 2022]",
            "This gene is a member of the protocadherin alpha gene cluster, one of three related gene clusters tandemly linked on chromosome five that demonstrate an unusual genomic organization similar to that of B-cell and T-cell receptor gene clusters. The alpha gene cluster is composed of 15 cadherin superfamily genes related to the mouse CNR genes and consists of 13 highly similar and 2 more distantly related coding sequences. The tandem array of 15 N-terminal exons, or variable exons, are followed by downstream C-terminal exons, or constant exons, which are shared by all genes in the cluster. The large, uninterrupted N-terminal exons each encode six cadherin ectodomains while the C-terminal exons encode the cytoplasmic domain. These neural cadherin-like cell adhesion proteins are integral plasma membrane proteins that most likely play a critical role in the establishment and function of specific cell-cell connections in the brain. Alternative splicing has been observed and additional variants have been suggested but their full-length nature has yet to be determined. [provided by RefSeq, Jul 2008]",
            "This gene encodes a protein which contains three DM10 domains and three calcium-binding EF-hand motifs. A related protein is encoded by a gene on chromosome 6. It has been suggested that both proteins are involved in the development of epilepsy (PMID: 15258581, 16112844) and that this gene may be associated with fear recognition in individuals with Turner syndrome. [provided by RefSeq, Aug 2011]",
            "",
            "Troponin proteins associate with tropomyosin and regulate the calcium sensitivity of the myofibril contractile apparatus of striated muscles. Troponin I (TnI), along with troponin T (TnT) and troponin C (TnC), is one of 3 subunits that form the troponin complex of the thin filaments of striated muscle. TnI is the inhibitory subunit; blocking actin-myosin interactions and thereby mediating striated muscle relaxation. The TnI subfamily contains three genes: TnI-skeletal-fast-twitch, TnI-skeletal-slow-twitch, and TnI-cardiac. The TnI-fast and TnI-slow genes are expressed in fast-twitch and slow-twitch skeletal muscle fibers, respectively, while the TnI-cardiac gene is expressed exclusively in cardiac muscle tissue. This gene encodes the Troponin-I-skeletal-slow-twitch protein. This gene is expressed in cardiac and skeletal muscle during early development but is restricted to slow-twitch skeletal muscle fibers in adults. The encoded protein prevents muscle contraction by inhibiting calcium-mediated conformational changes in actin-myosin complexes. [provided by RefSeq, Jul 2008]",
            "The product of this gene belongs to the family of transient receptor potential (TRP) channels. TRP channels are cation-selective channels important for cellular calcium signaling and homeostasis. The protein encoded by this gene mediates calcium entry, and this entry is potentiated by calcium store depletion. Alternatively spliced transcript variants encoding different isoforms have been identified. [provided by RefSeq, Jul 2008]",
            "This gene encodes a G-protein-coupled receptor for succinate, an intermediate molecule of the citric acid cycle. It is involved in the promotion of hematopoietic progenitor cell development, and it has a potential role in renovascular hypertension which has known correlations to renal failure, diabetes and atherosclerosis. [provided by RefSeq, Oct 2009]",
            "This gene encodes a member of the lysyl oxidase gene family. The prototypic member of the family is essential to the biogenesis of connective tissue, encoding an extracellular copper-dependent amine oxidase that catalyses the first step in the formation of crosslinks in collagens and elastin. A highly conserved amino acid sequence at the C-terminus end appears to be sufficient for amine oxidase activity, suggesting that each family member may retain this function. The N-terminus is poorly conserved and may impart additional roles in developmental regulation, senescence, tumor suppression, cell growth control, and chemotaxis to each member of the family. [provided by RefSeq, Jul 2008]",
            "Predicted to enable ubiquitin protein ligase activity. Predicted to be involved in ubiquitin-dependent ERAD pathway. Predicted to be integral component of membrane. Predicted to be active in Golgi membrane and endoplasmic reticulum membrane. [provided by Alliance of Genome Resources, Apr 2022]",
            "",
            "This gene encodes a sodium-independent transporter which mediates cellular uptake of organic ions in the liver. Its substrates include bile acids, bromosulphophthalein, and some steroidal compounds. The protein is a member of the SLC21A family of solute carriers. Alternative splicing of this gene results in multiple transcript variants. [provided by RefSeq, Dec 2008]",
            "This gene encodes a protein that contains multiple C2H2 zinc finger domains, and is located in a cluster of zinc-finger encoding genes on chromosome 3. Naturally-occurring readthrough transcription is observed between this gene and the downstream zinc finger protein 197 gene and is represented by GeneID:110354863. [provided by RefSeq, May 2017]",
            "Predicted to be involved in cell adhesion. Predicted to act upstream of or within extracellular matrix organization and hair cycle. Predicted to be integral component of membrane. Predicted to be active in plasma membrane. [provided by Alliance of Genome Resources, Apr 2022]",
            "This gene encodes a type-I transmembrane glycoprotein. Studies in rat suggest the encoded protein may play a role in neuronal cell communications. Alternatively spliced transcript variants have been described. [provided by RefSeq, Feb 2014]",
            "This gene encodes coagulation factor III which is a cell surface glycoprotein. This factor enables cells to initiate the blood coagulation cascades, and it functions as the high-affinity receptor for the coagulation factor VII. The resulting complex provides a catalytic event that is responsible for initiation of the coagulation protease cascades by specific limited proteolysis. Unlike the other cofactors of these protease cascades, which circulate as nonfunctional precursors, this factor is a potent initiator that is fully functional when expressed on cell surfaces, for example, on monocytes. There are 3 distinct domains of this factor: extracellular, transmembrane, and cytoplasmic. Platelets and monocytes have been shown to express this coagulation factor under procoagulatory and proinflammatory stimuli, and a major role in HIV-associated coagulopathy has been described. Platelet-dependent monocyte expression of coagulation factor III has been described to be associated with Coronavirus Disease 2019 (COVID-19) severity and mortality. This protein is the only one in the coagulation pathway for which a congenital deficiency has not been described. Alternate splicing results in multiple transcript variants.[provided by RefSeq, Aug 2020]",
            "FAM90A1 belongs to subfamily I of the primate-specific FAM90A gene family, which originated from multiple duplications and rearrangements (Bosch et al., 2007 [PubMed 17684299]).[supplied by OMIM, Oct 2009]",
            "The protein encoded by this gene acts as a homodimer, using ATP hydrolysis to catalyze the conversion of 5-oxo-L-proline to L-glutamate. Defects in this gene are a cause of 5-oxoprolinase deficiency (OPLAHD). [provided by RefSeq, Jun 2012]",
            "Predicted to enable identical protein binding activity. Predicted to act upstream of or within negative regulation of ERK1 and ERK2 cascade; negative regulation of fat cell differentiation; and negative regulation of fibroblast proliferation. Predicted to be located in extracellular space. Predicted to be part of collagen trimer. [provided by Alliance of Genome Resources, Apr 2022]",
            "This gene encodes one of three members of the DXF34 gene family, located in a 100-kb region of chromosome Xp11.21. [provided by RefSeq, Nov 2009]",
            "Predicted to enable DNA-binding transcription factor activity, RNA polymerase II-specific and RNA polymerase II cis-regulatory region sequence-specific DNA binding activity. Predicted to be involved in regulation of transcription by RNA polymerase II. Predicted to be active in nucleus. [provided by Alliance of Genome Resources, Apr 2022]",
            "The protein encoded by this gene is a member of the Kelch-like gene family, whose members contain a BTB/POZ domain, a BACK domain, and several Kelch domains. The encoded protein possesses six Kelch domains and localizes to the endoplasmic reticulum, where it interacts with torsin-1A. [provided by RefSeq, Sep 2015]",
            "This gene encodes a member of the regulator of G-protein signaling family. This protein is contains a conserved, 120 amino acid motif called the RGS domain. The protein attenuates the signaling activity of G-proteins by binding to activated, GTP-bound G alpha subunits and acting as a GTPase activating protein (GAP), increasing the rate of conversion of the GTP to GDP. This hydrolysis allows the G alpha subunits to bind G beta/gamma subunit heterodimers, forming inactive G-protein heterotrimers, thereby terminating the signal. Alternate transcriptional splice variants of this gene have been observed but have not been thoroughly characterized. [provided by RefSeq, Jul 2008]",
            "The protein encoded by this gene is a member of the phospholipase A2 family (PLA2). PLA2s constitute a diverse family of enzymes with respect to sequence, function, localization, and divalent cation requirements. This gene product belongs to group II, which contains secreted form of PLA2, an extracellular enzyme that has a low molecular mass and requires calcium ions for catalysis. It catalyzes the hydrolysis of the sn-2 fatty acid acyl ester bond of phosphoglycerides, releasing free fatty acids and lysophospholipids, and thought to participate in the regulation of the phospholipid metabolism in biomembranes. Several alternatively spliced transcript variants with different 5' UTRs have been found for this gene.[provided by RefSeq, Sep 2009]",
            "G protein-coupled receptors (GPCRs, or GPRs), such as GPR81, contain 7 transmembrane domains and transduce extracellular signals through heterotrimeric G proteins.[supplied by OMIM, Feb 2005]",
            "This gene encodes a lysyl oxidase, which likely functions as an amine oxidase and plays a role in the formation of crosslinks in collagens and elastin. Deletion of the related gene in mouse causes neonatal mortality with cleft palate, spine deformity, and defects in collagen organization. A mutation in this gene was found in a family with Stickler syndrome. [provided by RefSeq, Sep 2016]",
            "This gene encodes a member of the peptidase M10 family of matrix metalloproteinases (MMPs). Proteins in this family are involved in the breakdown of extracellular matrix in normal physiological processes, such as embryonic development, reproduction, and tissue remodeling, as well as in disease processes, such as arthritis and metastasis. The encoded preproprotein is proteolytically processed to generate the mature protease. This secreted protease breaks down the interstitial collagens, including types I, II, and III. The gene is part of a cluster of MMP genes on chromosome 11. Mutations in this gene are associated with chronic obstructive pulmonary disease (COPD). Alternative splicing results in multiple transcript variants, at least one of which encodes an isoform that is proteolytically processed. [provided by RefSeq, Jan 2016]",
            "Summary:This gene belongs to the casein kinase 1 superfamily. The encoded protein is a neuron-specific, serine/threonine and tyrosine kinase, which regulates phosphorylation of tau, a protein that associates with microtubule assemblies and stabilizes them. Genetic variants in this gene are associated with Alzheimer's disease. [provided by RefSeq, Jul 2016]",
            "This gene encodes a member of the FAM69 family of cysteine-rich type II transmembrane proteins. These proteins localize to the endoplasmic reticulum but their specific functions are unknown. [provided by RefSeq, Nov 2011]",
            "Located in extracellular space. [provided by Alliance of Genome Resources, Apr 2022]",
            "This gene encodes a GTPase-activating protein that activates the small guanine-nucleotide-binding protein Rap1 in platelets. The protein interacts with synaptotagmin-like protein 1 and Rab27 and regulates secretion of dense granules from platelets at sites of endothelial damage. Multiple transcript variants encoding different isoforms have been found for this gene. [provided by RefSeq, Sep 2009]",
            "Predicted to be involved in endoplasmic reticulum to Golgi vesicle-mediated transport; protein secretion; and vesicle cargo loading. Predicted to be integral component of membrane. Predicted to be active in endoplasmic reticulum exit site and endoplasmic reticulum membrane. [provided by Alliance of Genome Resources, Apr 2022]",
            "",
            "",
            "Enables myosin II head/neck binding activity. Involved in several processes, including cytoplasmic actin-based contraction involved in cell motility; positive regulation of stress fiber assembly; and regulation of focal adhesion assembly. Located in stress fiber. Colocalizes with myosin II complex. [provided by Alliance of Genome Resources, Apr 2022]",
            "This gene encodes retinoic acid receptor beta, a member of the thyroid-steroid hormone receptor superfamily of nuclear transcriptional regulators. This receptor localizes to the cytoplasm and to subnuclear compartments. It binds retinoic acid, the biologically active form of vitamin A which mediates cellular signalling in embryonic morphogenesis, cell growth and differentiation. It is thought that this protein limits growth of many cell types by regulating gene expression. The gene was first identified in a hepatocellular carcinoma where it flanks a hepatitis B virus integration site. Alternate promoter usage and differential splicing result in multiple transcript variants. [provided by RefSeq, Mar 2014]",
            "Involved in establishment of protein localization to membrane and regulation of G protein-coupled receptor signaling pathway. Located in plasma membrane. Part of protein-containing complex. Colocalizes with cell cortex. [provided by Alliance of Genome Resources, Apr 2022]",
            "Many proteins are tethered to the extracellular face of eukaryotic plasma membranes by a glycosylphosphatidylinositol (GPI) anchor. The GPI-anchor is a glycolipid found on many blood cells. The protein encoded by this gene is a GPI degrading enzyme. Glycosylphosphatidylinositol specific phospholipase D1 hydrolyzes the inositol phosphate linkage in proteins anchored by phosphatidylinositol glycans, thereby releasing the attached protein from the plasma membrane. [provided by RefSeq, Jul 2008]",
            "Enables bis(5'-adenosyl)-triphosphatase activity. Involved in positive regulation of blood coagulation and purine ribonucleoside catabolic process. Located in extracellular exosome and membrane. [provided by Alliance of Genome Resources, Apr 2022]",
            "The protein encoded by this gene is a member of the serpin family of proteins, a group of proteins that inhibit serine proteases. This gene is one in a cluster of serpin genes located on the q arm of chromosome 14. This family member is a glycoprotein that can inhibit several serine proteases, including protein C and various plasminogen activators and kallikreins, and it thus plays diverse roles in hemostasis and thrombosis in multiple organs. [provided by RefSeq, Aug 2012]",
            "This gene encodes one of two cannabinoid receptors. The cannabinoids, principally delta-9-tetrahydrocannabinol and synthetic analogs, are psychoactive ingredients of marijuana. The cannabinoid receptors are members of the guanine-nucleotide-binding protein (G-protein) coupled receptor family, which inhibit adenylate cyclase activity in a dose-dependent, stereoselective and pertussis toxin-sensitive manner. The two receptors have been found to be involved in the cannabinoid-induced CNS effects (including alterations in mood and cognition) experienced by users of marijuana. Multiple transcript variants encoding two different protein isoforms have been described for this gene. [provided by RefSeq, May 2009]",
            "",
            "The protein encoded by this gene belongs to the flavin monoamine oxidase family. It is a enzyme located in the mitochondrial outer membrane. It catalyzes the oxidative deamination of biogenic and xenobiotic amines and plays an important role in the metabolism of neuroactive and vasoactive amines in the central nervous sysytem and peripheral tissues. This protein preferentially degrades benzylamine and phenylethylamine. [provided by RefSeq, Jul 2008]",
            "This gene encodes a secreted glycoprotein that belongs to the angiopoietin family. Members of this family play important roles in vascular development and angiogenesis. All angiopoietins bind with similar affinity to an endothelial cell-specific tyrosine-protein kinase receptor. The protein encoded by this gene is a secreted glycoprotein that activates the receptor by inducing its tyrosine phosphorylation. It plays a critical role in mediating reciprocal interactions between the endothelium and surrounding matrix and mesenchyme and inhibits endothelial permeability. The protein also contributes to blood vessel maturation and stability, and may be involved in early development of the heart. Mutations in this gene are associated with hereditary angioedema. [provided by RefSeq, Aug 2020]",
            "This gene encodes a protein that contains an immunoglobulin-like domain. The encoded protein may function as a multimeric receptor at the cell surface. The expression of this gene may be a diagnostic marker for cancer progression. Alternatively spliced transcript variants encoding multiple protein isoforms have been observed for this gene. [provided by RefSeq, Dec 2010]",
            "Amino acid transporters play essential roles in the uptake of nutrients, production of energy, chemical metabolism, detoxification, and neurotransmitter cycling. SLC38A1 is an important transporter of glutamine, an intermediate in the detoxification of ammonia and the production of urea. Glutamine serves as a precursor for the synaptic transmitter, glutamate (Gu et al., 2001 [PubMed 11325958]).[supplied by OMIM, Mar 2008]",
            "This gene encodes a secreted ligand of the TGF-beta (transforming growth factor-beta) superfamily of proteins. Ligands of this family bind various TGF-beta receptors leading to recruitment and activation of SMAD family transcription factors that regulate gene expression. The encoded preproprotein is proteolytically processed to generate each subunit of the disulfide-linked homodimer. This promotes neural repair after stroke. Additionally, this protein may act as a tumor suppressor and reduced expression of this gene is associated with oral cancer. [provided by RefSeq, Jul 2016]",
            "This gene encodes a noncatalytic member of the protein disulfide isomerase (PDI) family of endoplasmic reticulum (ER) proteins. The canonical protein has an N-terminal signal sequence, two thioredoxin (TRX)-like domains and a C-terminal ER-retention sequence. Alternative splicing results in multiple transcript variants encoding distinct isoforms; some of which lack domains present in the canonical protein. [provided by RefSeq, Dec 2016]",
            "This gene encodes a subunit of the serine palmitoyltransferase complex which catalyzes the rate-limiting step in sphingolipid biosynthesis. This subunit metabolizes lauroyl- and myristoyl-CoA and generates C14 and C16-sphingoid bases. [provided by RefSeq, Mar 2017]",
            "Involved in several processes, including nucleotide-binding activity oligomerization domain containing 2 signaling pathway; positive regulation of cytokine production; and positive regulation of intracellular signal transduction. Located in cytoplasm and nucleus. Implicated in inflammatory bowel disease 29. [provided by Alliance of Genome Resources, Apr 2022]",
            "This gene encodes a member of the superfamily of recombinases (also called DNA strand-exchange proteins). Recombinases are important for repairing double-strand DNA breaks during mitosis and meiosis. This protein, which is evolutionarily conserved, is reported to be essential for meiotic homologous recombination and may thus play an important role in generating diversity of genetic information. Alternative splicing results in multiple transcript variants. [provided by RefSeq, May 2013]",
            "Enables GTPase activity and calcium ion binding activity. Involved in several processes, including activation of store-operated calcium channel activity; positive regulation of JNK cascade; and store-operated calcium entry. Located in several cellular components, including Golgi apparatus; Weibel-Palade body; and immunological synapse. [provided by Alliance of Genome Resources, Apr 2022]",
            "Involved in spermatogenesis. Located in cytoplasm. [provided by Alliance of Genome Resources, Apr 2022]",
            "This gene encodes a member of a family of proteins that contain coiled-coil domains and may form hetero- or homomers. The encoded protein is involved in cell proliferation and calcium signaling. It also interacts with the mitogen-activated protein kinase kinase kinase 5 (MAP3K5/ASK1) and positively regulates MAP3K5-induced apoptosis. Multiple alternatively spliced transcript variants have been observed. [provided by RefSeq, Jan 2016]",
            "This gene encodes a transmembrane protein that localizes to granular structures, including crystalloid eosinophilic granules and other granular organelles. This gene, along with an overlapping opposite strand gene, has been implicated as a susceptibility locus for colorectal cancer. Alternative splicing of this gene results in multiple transcript variants. [provided by RefSeq, Nov 2014]",
            "",
            "This locus represents a transcribed pseudogene, possibly of ZNF79 (GeneID 7633). The protein encoded by this locus would have significant N-terminal truncation, and would lack the KRAB domain and the C2H2 type zinc finger domain, compared to ZNF79. [provided by RefSeq, Jun 2011]",
            "This gene produces a spliced long non-coding RNA that binds RNAs. This transcript interacts with staufen-1 protein to regulate the stability of mRNAs for genes involved in the differentiation of epidermal tissue. Variation in this gene may be associated with cancer progression. [provided by RefSeq, Aug 2017]",
            "This intronless gene was thought to be a transcribed pseudogene of POU class 5 homeobox 1, however, it has been reported that this gene can encode a functional protein. The encoded protein is nearly the same length as and highly similar to the POU class 5 homeobox 1 transcription factor, has been shown to be a weak transcriptional activator and may play a role in carcinogenesis and eye development. [provided by RefSeq, Apr 2009]",
            "This antimicrobial gene is one of several Cys-Cys (CC) cytokine genes clustered on the q arm of chromosome 16. Cytokines are a family of secreted proteins involved in immunoregulatory and inflammatory processes. The CC cytokines are proteins characterized by two adjacent cysteines. The cytokine encoded by this gene displays chemotactic activity for T lymphocytes, but not monocytes or granulocytes. The product of this gene binds to chemokine receptors CCR4 and CCR8. This chemokine plays important roles in T cell development in thymus as well as in trafficking and activation of mature T cells. [provided by RefSeq, Sep 2014]",
            "This gene encodes a phospholipase enzyme that catalyzes the hydrolysis of phosphatidylinositol-4,5-bisphosphate to generate two second messengers: inositol 1,4,5-triphosphate (IP3) and diacylglycerol (DAG). These second messengers subsequently regulate various processes affecting cell growth, differentiation, and gene expression. This enzyme is regulated by small monomeric GTPases of the Ras and Rho families and by heterotrimeric G proteins. In addition to its phospholipase C catalytic activity, this enzyme has an N-terminal domain with guanine nucleotide exchange (GEF) activity. Mutations in this gene cause early-onset nephrotic syndrome; characterized by proteinuria, edema, and diffuse mesangial sclerosis or focal and segmental glomerulosclerosis. Alternative splicing results in multiple transcript variants encoding distinct isoforms.[provided by RefSeq, Sep 2009]",
            "",
            "This gene was initially identified as a locus (RP26) associated with an autosomal recessive form of retinitis pigmentosa (arRP) disease. This gene encodes a protein with ceramide kinase-like domains, however, the protein does not phosphorylate ceramide and its target substrate is currently unknown. This protein may be a negative regulator of apoptosis in photoreceptor cells. Mutations in this gene cause a form of retinitis pigmentosa characterized by autosomal recessive cone and rod dystrophy (arCRD). Alternative splicing of this gene results in multiple transcript variants encoding different isoforms and non-coding transcripts.[provided by RefSeq, May 2010]",
            "The protein encoded by this gene is a member of the cAMP-dependent protein kinase (PKA) inhibitor family. This protein was demonstrated to interact with and inhibit the activities of both C alpha and C beta catalytic subunits of the PKA. Alternatively spliced transcript variants encoding the same protein have been reported. [provided by RefSeq, Jul 2008]",
            "",
            "This gene is a member of the N-myc downregulated gene family which belongs to the alpha/beta hydrolase superfamily. The protein encoded by this gene is a cytoplasmic protein that is required for cell cycle progression and survival in primary astrocytes and may be involved in the regulation of mitogenic signalling in vascular smooth muscles cells. Alternative splicing results in multiple transcripts encoding different isoforms.[provided by RefSeq, Jun 2011]",
            "Olfactory receptors interact with odorant molecules in the nose, to initiate a neuronal response that triggers the perception of a smell. The olfactory receptor proteins are members of a large family of G-protein-coupled receptors (GPCR) arising from single coding-exon genes. Olfactory receptors share a 7-transmembrane domain structure with many neurotransmitter and hormone receptors and are responsible for the recognition and G protein-mediated transduction of odorant signals. The olfactory receptor gene family is the largest in the genome. The nomenclature assigned to the olfactory receptor genes and proteins for this organism is independent of other organisms. [provided by RefSeq, Jul 2008]",
            "This gene encodes a member of the latrophilin subfamily of G-protein coupled receptors. The encoded protein participates in the regulation of exocytosis. The proprotein is thought to be further cleaved within a cysteine-rich G-protein-coupled receptor proteolysis site into two chains that are non-covalently bound at the cell membrane. Alternative splicing results in multiple transcript variants. [provided by RefSeq, Jul 2014]",
            "This gene is a member of the beta-1,3-galactosyltransferase (beta3GalT) gene family. This family encodes type II membrane-bound glycoproteins with diverse enzymatic functions using different donor substrates (UDP-galactose and UDP-N-acetylglucosamine) and different acceptor sugars (N-acetylglucosamine, galactose, N-acetylgalactosamine). The beta3GalT genes are distantly related to the Drosophila Brainiac gene and have the protein coding sequence contained in a single exon. The beta3GalT proteins also contain conserved sequences not found in the beta4GalT or alpha3GalT proteins. The carbohydrate chains synthesized by these enzymes are designated as type 1, whereas beta4GalT enzymes synthesize type 2 carbohydrate chains. The ratio of type 1:type 2 chains changes during embryogenesis. By sequence similarity, the beta3GalT genes fall into at least two groups: beta3GalT4 and 4 other beta3GalT genes (beta3GalT1-3, beta3GalT5). The encoded protein of this gene does not use N-acetylglucosamine as an acceptor sugar at all. [provided by RefSeq, Mar 2017]",
            "Huntington's disease (HD), a neurodegenerative disorder characterized by loss of striatal neurons, is caused by an expansion of a polyglutamine tract in the HD protein huntingtin. This gene encodes a protein that interacts with the huntingtin-associated protein 1, which is a huntingtin binding protein that may function in vesicle trafficking. [provided by RefSeq, Apr 2016]",
            "Sulfonation, an important step in the metabolism of many drugs, xenobiotics, hormones, and neurotransmitters, is catalyzed by sulfotransferases. This gene encodes galactosylceramide sulfotransferase, which catalyzes the sulfation of membrane glycolipids including the final step in the synthesis of sulfatide, a major lipid component of the myelin sheath. This gene exhibits elevated expression in ovarian epithelial carcinoma and the encoded enzyme exhibits elevated activity in renal cell carcinoma. Mutations in this gene may be associated with reduced insulin resistance. Alternative splicing results in multiple transcript variants. [provided by RefSeq, Dec 2015]",
            "Phosphorylase kinase is a polymer of 16 subunits, four each of alpha, beta, gamma and delta. The alpha subunit includes the skeletal muscle and hepatic isoforms, and the skeletal muscle isoform is encoded by this gene. The beta subunit is the same in both the muscle and hepatic isoforms, and encoded by one gene. The gamma subunit also includes the skeletal muscle and hepatic isoforms, which are encoded by two different genes. The delta subunit is a calmodulin and can be encoded by three different genes. The gamma subunits contain the active site of the enzyme, whereas the alpha and beta subunits have regulatory functions controlled by phosphorylation. The delta subunit mediates the dependence of the enzyme on calcium concentration. Mutations in this gene cause glycogen storage disease type 9D, also known as X-linked muscle glycogenosis. Alternatively spliced transcript variants encoding different isoforms have been identified in this gene. A pseudogene has been found on chromosome 1.[provided by RefSeq, Feb 2010]",
            "Enables sequence-specific double-stranded DNA binding activity. Predicted to be active in nucleus. [provided by Alliance of Genome Resources, Apr 2022]",
            "Located in Golgi apparatus and plasma membrane. [provided by Alliance of Genome Resources, Apr 2022]",
            "This gene is a member of the semaphorin family and encodes a protein with an Ig-like C2-type (immunoglobulin-like) domain, a PSI domain and a Sema domain. This secreted protein can function as either a chemorepulsive agent, inhibiting axonal outgrowth, or as a chemoattractive agent, stimulating the growth of apical dendrites. In both cases, the protein is vital for normal neuronal pattern development. Increased expression of this protein is associated with schizophrenia and is seen in a variety of human tumor cell lines. Also, aberrant release of this protein is associated with the progression of Alzheimer's disease. [provided by RefSeq, Jul 2008]",
            "Located in nucleus. [provided by Alliance of Genome Resources, Apr 2022]",
            "Enables several functions, including GTPase activity; magnesium ion binding activity; and protein homodimerization activity. Involved in several processes, including microtubule cytoskeleton organization; negative regulation of tubulin deacetylation; and positive regulation of protein polymerization. Located in several cellular components, including mitochondrion; mitotic spindle; and perinuclear region of cytoplasm. Colocalizes with microtubule and microtubule bundle. [provided by Alliance of Genome Resources, Apr 2022]",
            "Enables serine O-acyltransferase activity. Involved in peptidyl-serine octanoylation. Predicted to be located in endoplasmic reticulum. Predicted to be active in membrane. Predicted to be integral component of endoplasmic reticulum membrane. [provided by Alliance of Genome Resources, Apr 2022]",
            "Located in nucleus. [provided by Alliance of Genome Resources, Apr 2022]",
            "The protein encoded by this gene is a phosphatase with dual specificity for tyrosine and threonine. The encoded protein can dephosphorylate MAP kinase MAPK1/ERK2, which results in its involvement in several cellular processes. This protein appears to play an important role in the human cellular response to environmental stress as well as in the negative regulation of cellular proliferation. Finally, the encoded protein can make some solid tumors resistant to both chemotherapy and radiotherapy, making it a target for cancer therapy. [provided by RefSeq, Aug 2017]",
            "Predicted to enable cysteine dioxygenase activity and ferrous iron binding activity. Predicted to be involved in L-cysteine catabolic process. Predicted to be located in cytosol. [provided by Alliance of Genome Resources, Apr 2022]",
            "This gene encodes a member of the serine protease family of hydrolytic enzymes which contain a serine in their active site. The encoded protein may play a role in activation of the antiviral prodrug valacyclovir. Alternatively spliced transcript variants have been described.[provided by RefSeq, Jan 2009]",
            "This gene encodes a protein containing the krueppel associated box (KRAB) and zinc-finger domains, which may be involved in transcriptional regulation. Non-functional alleles of this gene are present in alternate genome assemblies including T2T-CHM13v1.1, resulting from a 'TG' deletion (rs61397759) which causes a frameshift and a premature stop codon. [provided by RefSeq, Sep 2022]",
            "This gene encodes a member of the glial cell line-derived neurotrophic factor receptor (GDNFR) family of proteins. The encoded preproprotein is proteolytically processed to generate the mature receptor. Glial cell line-derived neurotrophic factor (GDNF) and neurturin (NTN) are two structurally related, potent neurotrophic factors that play key roles in the control of neuron survival and differentiation. This receptor is a glycosylphosphatidylinositol (GPI)-linked cell surface receptor for both GDNF and NTN, and mediates activation of the RET tyrosine kinase receptor. This gene is a candidate gene for Hirschsprung disease. Alternative splicing results in multiple transcript variants, at least one of which encodes a preproprotein that is proteolytically processed. [provided by RefSeq, Jan 2016]",
            "",
            "Gamma-aminobutyric acid (GABA) is the major inhibitory neurotransmitter in the mammalian brain where it acts at GABA receptors, which are ligand-gated chloride channels. The protein encoded by this gene is a member of the rho subunit family and is a component of the GABA type A receptor complex. This gene exists on chromosome 6q next to the gene encoding the rho 1 subunit of the GABA type A receptor, in a region thought to be associated with susceptibility for psychiatric disorders and epilepsy. Polymorphisms in this gene may also be associated with alcohol dependence, and general cognitive ability. [provided by RefSeq, Apr 2016]",
            "Enables benzodiazepine receptor binding activity. Predicted to be involved in regulation of presynaptic cytosolic calcium ion concentration. Located in mitochondrion. [provided by Alliance of Genome Resources, Apr 2022]",
            "This gene encodes a member of the SFRP family that contains a cysteine-rich domain homologous to the putative Wnt-binding site of Frizzled proteins. Members of this family act as soluble modulators of Wnt signaling; epigenetic silencing of SFRP genes leads to deregulated activation of the Wnt-pathway which is associated with cancer. This gene may also be involved in determining the polarity of photoreceptor cells in the retina. [provided by RefSeq, Sep 2009]",
            "This gene encodes the acidic form of complement factor 4, part of the classical activation pathway. The protein is expressed as a single chain precursor which is proteolytically cleaved into a trimer of alpha, beta, and gamma chains prior to secretion. The trimer provides a surface for interaction between the antigen-antibody complex and other complement components. The alpha chain is cleaved to release C4 anaphylatoxin, an antimicrobial peptide and a mediator of local inflammation. Deficiency of this protein is associated with systemic lupus erythematosus and type I diabetes mellitus. This gene localizes to the major histocompatibility complex (MHC) class III region on chromosome 6. Varying haplotypes of this gene cluster exist, such that individuals may have 1, 2, or 3 copies of this gene. Two transcript variants encoding different isoforms have been found for this gene. [provided by RefSeq, Nov 2014]",
            "The protein encoded by this gene is a member of the transmembrane 4 superfamily, also known as the tetraspanin family. Most of these members are cell-surface proteins that are characterized by the presence of four hydrophobic domains. The proteins mediate signal transduction events that play a role in the regulation of cell development, activation, growth and motility. Alternative splicing results in multiple transcript variants encoding different isoforms. [provided by RefSeq, Apr 2015]",
            "The protein encoded by this gene is a cytokine that regulates T and natural killer cell activation and proliferation. This cytokine and interleukine 2 share many biological activities. They are found to bind common hematopoietin receptor subunits, and may compete for the same receptor, and thus negatively regulate each other's activity. The number of CD8+ memory cells is shown to be controlled by a balance between this cytokine and IL2. This cytokine induces the activation of JAK kinases, as well as the phosphorylation and activation of transcription activators STAT3, STAT5, and STAT6. Studies of the mouse counterpart suggested that this cytokine may increase the expression of apoptosis inhibitor BCL2L1/BCL-x(L), possibly through the transcription activation activity of STAT6, and thus prevent apoptosis. Alternatively spliced transcript variants of this gene have been reported. [provided by RefSeq, Feb 2011]",
            "Predicted to be active in nucleus. [provided by Alliance of Genome Resources, Apr 2022]",
            "Located in intracellular membrane-bounded organelle. [provided by Alliance of Genome Resources, Apr 2022]",
            "The protein encoded by this gene is a member of the transmembrane 4 superfamily, also known as the tetraspanin family. Most of these members are cell-surface proteins that are characterized by the presence of four hydrophobic domains. The proteins mediate signal transduction events that play a role in the regulation of cell development, activation, growth and motility. [provided by RefSeq, Jul 2008]",
            "Predicted to be involved in lung development. [provided by Alliance of Genome Resources, Apr 2022]",
            "",
            "This gene encodes a membrane-bound protein which is a member of the ELO family, proteins which participate in the biosynthesis of fatty acids. Consistent with the expression of the encoded protein in photoreceptor cells of the retina, mutations and small deletions in this gene are associated with Stargardt-like macular dystrophy (STGD3) and autosomal dominant Stargardt-like macular dystrophy (ADMD), also referred to as autosomal dominant atrophic macular degeneration. [provided by RefSeq, Jul 2008]",
            "This gene encodes the rate-limiting enzyme in the de novo guanine nucleotide biosynthesis. It is thus involved in maintaining cellular guanine deoxy- and ribonucleotide pools needed for DNA and RNA synthesis. The encoded protein catalyzes the NAD-dependent oxidation of inosine-5'-monophosphate into xanthine-5'-monophosphate, which is then converted into guanosine-5'-monophosphate. This gene is up-regulated in some neoplasms, suggesting it may play a role in malignant transformation. [provided by RefSeq, Jul 2008]",
            "This gene encodes a PDZ-domain-containing protein that belongs to a family of Shroom-related proteins. This protein may be involved in regulating cell shape in certain tissues. A similar protein in mice is required for proper neurulation. [provided by RefSeq, Jan 2011]",
            "The integral membrane protein encoded by this gene is a lysophosphatidic acid (LPA) receptor from a group known as EDG receptors. These receptors are members of the G protein-coupled receptor superfamily. Utilized by LPA for cell signaling, EDG receptors mediate diverse biologic functions, including proliferation, platelet aggregation, smooth muscle contraction, inhibition of neuroblastoma cell differentiation, chemotaxis, and tumor cell invasion. Many transcript variants encoding a few different isoforms have been identified for this gene. [provided by RefSeq, Oct 2020]",
            "Predicted to enable syntaxin binding activity. Located in cytoplasm. [provided by Alliance of Genome Resources, Apr 2022]",
            "This gene represents a phospholipase A2 receptor. The encoded protein likely exists as both a transmembrane form and a soluble form. The transmembrane receptor may play a role in clearance of phospholipase A2, thereby inhibiting its action. Polymorphisms at this locus have been associated with susceptibility to idiopathic membranous nephropathy. Alternatively spliced transcript variants encoding different isoforms have been identified.[provided by RefSeq, Sep 2010]",
            "This gene encodes a zinc-finger transcriptional regulating protein which interacts with CBP/p300 to regulate the human gene CYP11A1. Alternative splicing results in multiple transcript variants encoding different isoforms. [provided by RefSeq, Jul 2014]",
            "The CLCN family of voltage-dependent chloride channel genes comprises nine members (CLCN1-7, Ka and Kb) which demonstrate quite diverse functional characteristics while sharing significant sequence homology. Chloride channel 4 has an evolutionary conserved CpG island and is conserved in both mouse and hamster. This gene is mapped in close proximity to APXL (Apical protein Xenopus laevis-like) and OA1 (Ocular albinism type I), which are both located on the human X chromosome at band p22.3. The physiological role of chloride channel 4 remains unknown but may contribute to the pathogenesis of neuronal disorders. Alternate splicing results in two transcript variants that encode different proteins. [provided by RefSeq, Mar 2012]",
            "The protein encoded by this gene is a type II integral membrane protein that belongs to the 3-O-sulfotransferases family. These proteins catalyze the addition of sulfate groups at the 3-OH position of glucosamine in heparan sulfate. The substrate specificity of individual members of the family is based on prior modification of the heparan sulfate chain, thus allowing different members of the family to generate binding sites for different proteins on the same heparan sulfate chain. Following treatment with a histone deacetylase inhibitor, expression of this gene is activated in a pancreatic cell line. The increased expression results in promotion of the epithelial-mesenchymal transition. In addition, the modification catalyzed by this protein allows herpes simplex virus membrane fusion and penetration. A very closely related homolog with an almost identical sulfotransferase domain maps less than 1 Mb away. Alternative splicing results in multiple transcript variants. [provided by RefSeq, Dec 2014]",
            "The protein encoded by this gene belongs to the tenascin family and teneurin subfamily. It is expressed in the neurons and may function as a cellular signal transducer. Several alternatively spliced transcript variants encoding different isoforms have been found for this gene. [provided by RefSeq, Sep 2009]",
            "This gene encodes a basic helix-loop-helix transcription factor belonging to the PAS (PER, ARNT, SIM) superfamily. The PAS proteins play important roles in adaptation to low atmospheric and cellular oxygen levels, exposure to certain environmental pollutants, and diurnal oscillations in light and temperature. This protein forms a transcriptionally active heterodimer with the circadian CLOCK protein, the structurally related MOP4, and hypoxia-inducible factors, such as HIF1alpha. Consistent with its role as a biologically relevant partner of circadian and hypoxia factors, this protein is coexpressed in regions of the brain such as the thalamus, hypothalamus, and amygdala. Alternatively spliced transcript variants encoding different isoforms have been described for this gene. [provided by RefSeq, Oct 2011]",
            "Enables G protein-coupled receptor activity. Involved in adenylate cyclase-inhibiting G protein-coupled receptor signaling pathway and cellular response to fatty acid. Located in plasma membrane. [provided by Alliance of Genome Resources, Apr 2022]",
            "The protein encoded by this gene catalyzes the transport of phosphate into the mitochondrial matrix, either by proton cotransport or in exchange for hydroxyl ions. The protein contains three related segments arranged in tandem which are related to those found in other characterized members of the mitochondrial carrier family. Both the N-terminal and C-terminal regions of this protein protrude toward the cytosol. Multiple alternatively spliced transcript variants have been isolated. [provided by RefSeq, Jul 2008]",
            "The protein encoded by this gene is a transmembrane endopeptidase that belongs to the type II integral membrane zinc-dependent endopeptidase family. The protein is thought to be involved in bone and dentin mineralization and renal phosphate reabsorption. Mutations in this gene cause X-linked hypophosphatemic rickets. Alternative splicing results in multiple transcript variants. [provided by RefSeq, Sep 2013]",
            "This gene encodes a member of the glycosyltransferase 29 family, a group of enzymes involved in protein glycosylation. The encoded protein is targeted to Golgi membranes but may be proteolytically processed and secreted. The gene product may also be involved in the increased expression of sialyl Lewis X antigen seen in inflammatory responses. Multiple transcript variants encoding different isoforms have been found for this gene. [provided by RefSeq, Dec 2011]",
            "This gene encodes a mitochondrial protein that catalyzes the first step in proline degradation. Mutations in this gene are associated with hyperprolinemia type 1 and susceptibility to schizophrenia 4 (SCZD4). This gene is located on chromosome 22q11.21, a region which has also been associated with the contiguous gene deletion syndromes, DiGeorge and CATCH22. Alternatively spliced transcript variants encoding different isoforms have been found for this gene. [provided by RefSeq, Aug 2010]",
            "This gene encodes a member of the claudin family. Claudins are integral membrane proteins and components of tight junction strands. Tight junction strands serve as a physical barrier to prevent solutes and water from passing freely through the paracellular space between epithelial or endothelial cell sheets, and also play critical roles in maintaining cell polarity and signal transductions. The protein encoded by this gene is a major component of central nervous system (CNS) myelin and plays an important role in regulating proliferation and migration of oligodendrocytes. Mouse studies showed that the gene deficiency results in deafness and loss of the Sertoli cell epithelial phenotype in the testis. This protein is a tight junction protein at the human blood-testis barrier (BTB), and the BTB disruption is related to a dysfunction of this gene. Alternatively spliced transcript variants encoding different isoforms have been identified.[provided by RefSeq, Aug 2010]",
            "Enables SH2 domain binding activity; SH3 domain binding activity; and protein tyrosine kinase activator activity. Involved in several processes, including positive regulation of epidermal growth factor receptor signaling pathway; regulation of gene expression; and regulation of mitotic cell cycle. Located in cytosol and plasma membrane. [provided by Alliance of Genome Resources, Apr 2022]",
            "The product of this gene belongs to the phosphatase 2 regulatory subunit B family. Protein phosphatase 2 is one of the four major Ser/Thr phosphatases, and it is implicated in the negative control of cell growth and division. It consists of a common heteromeric core enzyme, which is composed of a catalytic subunit and a constant regulatory subunit, that associates with a variety of regulatory subunits. The B regulatory subunit might modulate substrate selectivity and catalytic activity. This gene encodes a beta isoform of the regulatory subunit B55 subfamily. Defects in this gene cause autosomal dominant spinocerebellar ataxia 12 (SCA12), a disease caused by degeneration of the cerebellum, sometimes involving the brainstem and spinal cord, and in resulting in poor coordination of speech and body movements. Multiple alternatively spliced variants, which encode different isoforms, have been identified for this gene. The 5' UTR of some of these variants includes a CAG trinucleotide repeat sequence (7-28 copies) that can be expanded to 55-78 copies in cases of SCA12. [provided by RefSeq, Jul 2016]",
            "The protein encoded by this gene is a member of the TNF-receptor superfamily. This receptor is activated by tumor necrosis factor-related apoptosis inducing ligand (TNFSF10/TRAIL), and thus transduces cell death signal and induces cell apoptosis. Studies with FADD-deficient mice suggested that FADD, a death domain containing adaptor protein, is required for the apoptosis mediated by this protein. [provided by RefSeq, Jul 2008]",
            "Predicted to enable metal ion binding activity. Predicted to be involved in plasma membrane organization. Predicted to be integral component of membrane. [provided by Alliance of Genome Resources, Apr 2022]",
            "Predicted to enable chromatin binding activity and histone binding activity. Predicted to be involved in negative regulation of transcription, DNA-templated. Predicted to be active in nucleus. [provided by Alliance of Genome Resources, Apr 2022]",
            "",
            "This gene product belongs to the nuclear receptor superfamily, members of which are transcription factors characterized by a ligand-binding domain and a DNA-binding domain. The encoded protein is a transcriptional regulator of the cytochrome P450 gene CYP3A4, binding to the response element of the CYP3A4 promoter as a heterodimer with the 9-cis retinoic acid receptor RXR. It is activated by a range of compounds that induce CYP3A4, including dexamethasone and rifampicin. Several alternatively spliced transcripts encoding different isoforms, some of which use non-AUG (CUG) translation initiation codon, have been described for this gene. Additional transcript variants exist, however, they have not been fully characterized. [provided by RefSeq, Jul 2008]",
            "The protein encoded by this gene is a sialoglycoprotein and a type I membrane protein. It is a member of a gene family with GPA and GPB genes. This encoded protein might carry the M blood group antigen. GYPA, GYPB, and GYPE are organized in tandem on chromosome 4. This gene might have derived from an ancestral gene common to the GPB gene by gene duplication. Two alternatively spliced transcript variants encoding the same protein have been described for this gene. [provided by RefSeq, Jul 2008]"
           ]
          ]
         },
         "columnwidth": [
          10,
          8,
          15,
          90
         ],
         "header": {
          "align": "left",
          "values": [
           "GENE_NAME",
           "ID",
           "DESCRIPTION",
           "SUMMARY"
          ]
         },
         "type": "table"
        }
       ],
       "layout": {
        "height": 800,
        "showlegend": false,
        "template": {
         "data": {
          "bar": [
           {
            "error_x": {
             "color": "#2a3f5f"
            },
            "error_y": {
             "color": "#2a3f5f"
            },
            "marker": {
             "line": {
              "color": "#E5ECF6",
              "width": 0.5
             },
             "pattern": {
              "fillmode": "overlay",
              "size": 10,
              "solidity": 0.2
             }
            },
            "type": "bar"
           }
          ],
          "barpolar": [
           {
            "marker": {
             "line": {
              "color": "#E5ECF6",
              "width": 0.5
             },
             "pattern": {
              "fillmode": "overlay",
              "size": 10,
              "solidity": 0.2
             }
            },
            "type": "barpolar"
           }
          ],
          "carpet": [
           {
            "aaxis": {
             "endlinecolor": "#2a3f5f",
             "gridcolor": "white",
             "linecolor": "white",
             "minorgridcolor": "white",
             "startlinecolor": "#2a3f5f"
            },
            "baxis": {
             "endlinecolor": "#2a3f5f",
             "gridcolor": "white",
             "linecolor": "white",
             "minorgridcolor": "white",
             "startlinecolor": "#2a3f5f"
            },
            "type": "carpet"
           }
          ],
          "choropleth": [
           {
            "colorbar": {
             "outlinewidth": 0,
             "ticks": ""
            },
            "type": "choropleth"
           }
          ],
          "contour": [
           {
            "colorbar": {
             "outlinewidth": 0,
             "ticks": ""
            },
            "colorscale": [
             [
              0,
              "#0d0887"
             ],
             [
              0.1111111111111111,
              "#46039f"
             ],
             [
              0.2222222222222222,
              "#7201a8"
             ],
             [
              0.3333333333333333,
              "#9c179e"
             ],
             [
              0.4444444444444444,
              "#bd3786"
             ],
             [
              0.5555555555555556,
              "#d8576b"
             ],
             [
              0.6666666666666666,
              "#ed7953"
             ],
             [
              0.7777777777777778,
              "#fb9f3a"
             ],
             [
              0.8888888888888888,
              "#fdca26"
             ],
             [
              1,
              "#f0f921"
             ]
            ],
            "type": "contour"
           }
          ],
          "contourcarpet": [
           {
            "colorbar": {
             "outlinewidth": 0,
             "ticks": ""
            },
            "type": "contourcarpet"
           }
          ],
          "heatmap": [
           {
            "colorbar": {
             "outlinewidth": 0,
             "ticks": ""
            },
            "colorscale": [
             [
              0,
              "#0d0887"
             ],
             [
              0.1111111111111111,
              "#46039f"
             ],
             [
              0.2222222222222222,
              "#7201a8"
             ],
             [
              0.3333333333333333,
              "#9c179e"
             ],
             [
              0.4444444444444444,
              "#bd3786"
             ],
             [
              0.5555555555555556,
              "#d8576b"
             ],
             [
              0.6666666666666666,
              "#ed7953"
             ],
             [
              0.7777777777777778,
              "#fb9f3a"
             ],
             [
              0.8888888888888888,
              "#fdca26"
             ],
             [
              1,
              "#f0f921"
             ]
            ],
            "type": "heatmap"
           }
          ],
          "heatmapgl": [
           {
            "colorbar": {
             "outlinewidth": 0,
             "ticks": ""
            },
            "colorscale": [
             [
              0,
              "#0d0887"
             ],
             [
              0.1111111111111111,
              "#46039f"
             ],
             [
              0.2222222222222222,
              "#7201a8"
             ],
             [
              0.3333333333333333,
              "#9c179e"
             ],
             [
              0.4444444444444444,
              "#bd3786"
             ],
             [
              0.5555555555555556,
              "#d8576b"
             ],
             [
              0.6666666666666666,
              "#ed7953"
             ],
             [
              0.7777777777777778,
              "#fb9f3a"
             ],
             [
              0.8888888888888888,
              "#fdca26"
             ],
             [
              1,
              "#f0f921"
             ]
            ],
            "type": "heatmapgl"
           }
          ],
          "histogram": [
           {
            "marker": {
             "pattern": {
              "fillmode": "overlay",
              "size": 10,
              "solidity": 0.2
             }
            },
            "type": "histogram"
           }
          ],
          "histogram2d": [
           {
            "colorbar": {
             "outlinewidth": 0,
             "ticks": ""
            },
            "colorscale": [
             [
              0,
              "#0d0887"
             ],
             [
              0.1111111111111111,
              "#46039f"
             ],
             [
              0.2222222222222222,
              "#7201a8"
             ],
             [
              0.3333333333333333,
              "#9c179e"
             ],
             [
              0.4444444444444444,
              "#bd3786"
             ],
             [
              0.5555555555555556,
              "#d8576b"
             ],
             [
              0.6666666666666666,
              "#ed7953"
             ],
             [
              0.7777777777777778,
              "#fb9f3a"
             ],
             [
              0.8888888888888888,
              "#fdca26"
             ],
             [
              1,
              "#f0f921"
             ]
            ],
            "type": "histogram2d"
           }
          ],
          "histogram2dcontour": [
           {
            "colorbar": {
             "outlinewidth": 0,
             "ticks": ""
            },
            "colorscale": [
             [
              0,
              "#0d0887"
             ],
             [
              0.1111111111111111,
              "#46039f"
             ],
             [
              0.2222222222222222,
              "#7201a8"
             ],
             [
              0.3333333333333333,
              "#9c179e"
             ],
             [
              0.4444444444444444,
              "#bd3786"
             ],
             [
              0.5555555555555556,
              "#d8576b"
             ],
             [
              0.6666666666666666,
              "#ed7953"
             ],
             [
              0.7777777777777778,
              "#fb9f3a"
             ],
             [
              0.8888888888888888,
              "#fdca26"
             ],
             [
              1,
              "#f0f921"
             ]
            ],
            "type": "histogram2dcontour"
           }
          ],
          "mesh3d": [
           {
            "colorbar": {
             "outlinewidth": 0,
             "ticks": ""
            },
            "type": "mesh3d"
           }
          ],
          "parcoords": [
           {
            "line": {
             "colorbar": {
              "outlinewidth": 0,
              "ticks": ""
             }
            },
            "type": "parcoords"
           }
          ],
          "pie": [
           {
            "automargin": true,
            "type": "pie"
           }
          ],
          "scatter": [
           {
            "fillpattern": {
             "fillmode": "overlay",
             "size": 10,
             "solidity": 0.2
            },
            "type": "scatter"
           }
          ],
          "scatter3d": [
           {
            "line": {
             "colorbar": {
              "outlinewidth": 0,
              "ticks": ""
             }
            },
            "marker": {
             "colorbar": {
              "outlinewidth": 0,
              "ticks": ""
             }
            },
            "type": "scatter3d"
           }
          ],
          "scattercarpet": [
           {
            "marker": {
             "colorbar": {
              "outlinewidth": 0,
              "ticks": ""
             }
            },
            "type": "scattercarpet"
           }
          ],
          "scattergeo": [
           {
            "marker": {
             "colorbar": {
              "outlinewidth": 0,
              "ticks": ""
             }
            },
            "type": "scattergeo"
           }
          ],
          "scattergl": [
           {
            "marker": {
             "colorbar": {
              "outlinewidth": 0,
              "ticks": ""
             }
            },
            "type": "scattergl"
           }
          ],
          "scattermapbox": [
           {
            "marker": {
             "colorbar": {
              "outlinewidth": 0,
              "ticks": ""
             }
            },
            "type": "scattermapbox"
           }
          ],
          "scatterpolar": [
           {
            "marker": {
             "colorbar": {
              "outlinewidth": 0,
              "ticks": ""
             }
            },
            "type": "scatterpolar"
           }
          ],
          "scatterpolargl": [
           {
            "marker": {
             "colorbar": {
              "outlinewidth": 0,
              "ticks": ""
             }
            },
            "type": "scatterpolargl"
           }
          ],
          "scatterternary": [
           {
            "marker": {
             "colorbar": {
              "outlinewidth": 0,
              "ticks": ""
             }
            },
            "type": "scatterternary"
           }
          ],
          "surface": [
           {
            "colorbar": {
             "outlinewidth": 0,
             "ticks": ""
            },
            "colorscale": [
             [
              0,
              "#0d0887"
             ],
             [
              0.1111111111111111,
              "#46039f"
             ],
             [
              0.2222222222222222,
              "#7201a8"
             ],
             [
              0.3333333333333333,
              "#9c179e"
             ],
             [
              0.4444444444444444,
              "#bd3786"
             ],
             [
              0.5555555555555556,
              "#d8576b"
             ],
             [
              0.6666666666666666,
              "#ed7953"
             ],
             [
              0.7777777777777778,
              "#fb9f3a"
             ],
             [
              0.8888888888888888,
              "#fdca26"
             ],
             [
              1,
              "#f0f921"
             ]
            ],
            "type": "surface"
           }
          ],
          "table": [
           {
            "cells": {
             "fill": {
              "color": "#EBF0F8"
             },
             "line": {
              "color": "white"
             }
            },
            "header": {
             "fill": {
              "color": "#C8D4E3"
             },
             "line": {
              "color": "white"
             }
            },
            "type": "table"
           }
          ]
         },
         "layout": {
          "annotationdefaults": {
           "arrowcolor": "#2a3f5f",
           "arrowhead": 0,
           "arrowwidth": 1
          },
          "autotypenumbers": "strict",
          "coloraxis": {
           "colorbar": {
            "outlinewidth": 0,
            "ticks": ""
           }
          },
          "colorscale": {
           "diverging": [
            [
             0,
             "#8e0152"
            ],
            [
             0.1,
             "#c51b7d"
            ],
            [
             0.2,
             "#de77ae"
            ],
            [
             0.3,
             "#f1b6da"
            ],
            [
             0.4,
             "#fde0ef"
            ],
            [
             0.5,
             "#f7f7f7"
            ],
            [
             0.6,
             "#e6f5d0"
            ],
            [
             0.7,
             "#b8e186"
            ],
            [
             0.8,
             "#7fbc41"
            ],
            [
             0.9,
             "#4d9221"
            ],
            [
             1,
             "#276419"
            ]
           ],
           "sequential": [
            [
             0,
             "#0d0887"
            ],
            [
             0.1111111111111111,
             "#46039f"
            ],
            [
             0.2222222222222222,
             "#7201a8"
            ],
            [
             0.3333333333333333,
             "#9c179e"
            ],
            [
             0.4444444444444444,
             "#bd3786"
            ],
            [
             0.5555555555555556,
             "#d8576b"
            ],
            [
             0.6666666666666666,
             "#ed7953"
            ],
            [
             0.7777777777777778,
             "#fb9f3a"
            ],
            [
             0.8888888888888888,
             "#fdca26"
            ],
            [
             1,
             "#f0f921"
            ]
           ],
           "sequentialminus": [
            [
             0,
             "#0d0887"
            ],
            [
             0.1111111111111111,
             "#46039f"
            ],
            [
             0.2222222222222222,
             "#7201a8"
            ],
            [
             0.3333333333333333,
             "#9c179e"
            ],
            [
             0.4444444444444444,
             "#bd3786"
            ],
            [
             0.5555555555555556,
             "#d8576b"
            ],
            [
             0.6666666666666666,
             "#ed7953"
            ],
            [
             0.7777777777777778,
             "#fb9f3a"
            ],
            [
             0.8888888888888888,
             "#fdca26"
            ],
            [
             1,
             "#f0f921"
            ]
           ]
          },
          "colorway": [
           "#636efa",
           "#EF553B",
           "#00cc96",
           "#ab63fa",
           "#FFA15A",
           "#19d3f3",
           "#FF6692",
           "#B6E880",
           "#FF97FF",
           "#FECB52"
          ],
          "font": {
           "color": "#2a3f5f"
          },
          "geo": {
           "bgcolor": "white",
           "lakecolor": "white",
           "landcolor": "#E5ECF6",
           "showlakes": true,
           "showland": true,
           "subunitcolor": "white"
          },
          "hoverlabel": {
           "align": "left"
          },
          "hovermode": "closest",
          "mapbox": {
           "style": "light"
          },
          "paper_bgcolor": "white",
          "plot_bgcolor": "#E5ECF6",
          "polar": {
           "angularaxis": {
            "gridcolor": "white",
            "linecolor": "white",
            "ticks": ""
           },
           "bgcolor": "#E5ECF6",
           "radialaxis": {
            "gridcolor": "white",
            "linecolor": "white",
            "ticks": ""
           }
          },
          "scene": {
           "xaxis": {
            "backgroundcolor": "#E5ECF6",
            "gridcolor": "white",
            "gridwidth": 2,
            "linecolor": "white",
            "showbackground": true,
            "ticks": "",
            "zerolinecolor": "white"
           },
           "yaxis": {
            "backgroundcolor": "#E5ECF6",
            "gridcolor": "white",
            "gridwidth": 2,
            "linecolor": "white",
            "showbackground": true,
            "ticks": "",
            "zerolinecolor": "white"
           },
           "zaxis": {
            "backgroundcolor": "#E5ECF6",
            "gridcolor": "white",
            "gridwidth": 2,
            "linecolor": "white",
            "showbackground": true,
            "ticks": "",
            "zerolinecolor": "white"
           }
          },
          "shapedefaults": {
           "line": {
            "color": "#2a3f5f"
           }
          },
          "ternary": {
           "aaxis": {
            "gridcolor": "white",
            "linecolor": "white",
            "ticks": ""
           },
           "baxis": {
            "gridcolor": "white",
            "linecolor": "white",
            "ticks": ""
           },
           "bgcolor": "#E5ECF6",
           "caxis": {
            "gridcolor": "white",
            "linecolor": "white",
            "ticks": ""
           }
          },
          "title": {
           "x": 0.05
          },
          "xaxis": {
           "automargin": true,
           "gridcolor": "white",
           "linecolor": "white",
           "ticks": "",
           "title": {
            "standoff": 15
           },
           "zerolinecolor": "white",
           "zerolinewidth": 2
          },
          "yaxis": {
           "automargin": true,
           "gridcolor": "white",
           "linecolor": "white",
           "ticks": "",
           "title": {
            "standoff": 15
           },
           "zerolinecolor": "white",
           "zerolinewidth": 2
          }
         }
        },
        "title": {
         "text": "Genes from group 3"
        }
       }
      }
     },
     "metadata": {},
     "output_type": "display_data"
    }
   ],
   "source": [
    "table(group3_genes, [10, 8, 15, 90], 'Genes from group 3')"
   ]
  },
  {
   "cell_type": "markdown",
   "metadata": {},
   "source": [
    "Based on the gene functions (and on some genes in Supplementary Tables), we assume names of the clusters: 1 - \"immune\", 2 - 'MITF-low\", 3 - 'keratin\""
   ]
  },
  {
   "cell_type": "code",
   "execution_count": 125,
   "metadata": {},
   "outputs": [],
   "source": [
    "# add cluster's names\n",
    "cluster_top_1500.labels = cluster_top_1500.labels.replace({0: 'immune', 1:'MITF-low', 2:'keratin'})\n",
    "\n",
    "# add information about clusters from the reference article\n",
    "cluster_top_1500 = pd.concat([clustering_329.set_index('Name'), cluster_top_1500], axis=1)\n",
    "cluster_top_1500 = cluster_top_1500.rename(columns={'labels':'clusters_predicted', \n",
    "                                                    'RNASEQ-CLUSTER_CONSENHIER':'clusters_original'})"
   ]
  },
  {
   "cell_type": "markdown",
   "metadata": {},
   "source": [
    "Let's see how many samples have the same results:"
   ]
  },
  {
   "cell_type": "code",
   "execution_count": 126,
   "metadata": {},
   "outputs": [
    {
     "data": {
      "text/plain": [
       "True     226\n",
       "False    103\n",
       "Name: count, dtype: int64"
      ]
     },
     "execution_count": 126,
     "metadata": {},
     "output_type": "execute_result"
    }
   ],
   "source": [
    "(cluster_top_1500.clusters_original == cluster_top_1500.clusters_predicted).value_counts()"
   ]
  },
  {
   "cell_type": "markdown",
   "metadata": {},
   "source": [
    "##### **1.5 Kaplan-Meier curves**\n",
    "The article states that the patient's group influences the prognosis of his survival, so let's plot Kaplan-Meier curves and compare it with original"
   ]
  },
  {
   "cell_type": "code",
   "execution_count": 127,
   "metadata": {},
   "outputs": [
    {
     "data": {
      "image/png": "[encoded data removed]",
      "text/plain": [
       "<Figure size 600x300 with 1 Axes>"
      ]
     },
     "metadata": {},
     "output_type": "display_data"
    }
   ],
   "source": [
    "def plot_KM(df, group, ann = data_clinical_patient, size=(6, 3)): # df - DF with samples as index, group - column with cluster/class/subtype etc\n",
    "    # get patients ID (first 12 symbols in sample ID)\n",
    "    patients = []\n",
    "    for string in df.index:\n",
    "        patients.append(string[:12])\n",
    "    df['PATIENT_ID'] = patients\n",
    "\n",
    "    # list of patients with two samples\n",
    "    double_samples = []\n",
    "    for x in patients:\n",
    "        if patients.count(x) > 1:\n",
    "            double_samples.append(x)\n",
    "    double_samples = list(set(double_samples))\n",
    "\n",
    "    # get information about survival time from annotation\n",
    "    surv = ann[['PATIENT_ID', 'OS_MONTHS', 'OS_STATUS']].set_index('PATIENT_ID')\n",
    "\n",
    "    # remove patients with two samples (three), because I don't know how to analize them - samples belong to different classes\n",
    "    df = df.set_index('PATIENT_ID')\n",
    "    df = df.loc[df.index.drop(double_samples)]\n",
    "    surv_uniq = surv.loc[surv.index.drop(double_samples)]\n",
    "\n",
    "    # drop patients with NA\n",
    "    surv_uniq = surv_uniq[surv_uniq.OS_MONTHS != '[Not Available]']\n",
    "    df = pd.concat([df, surv_uniq], axis=1).dropna()\n",
    "\n",
    "    # chage OS status to int\n",
    "    df = df.replace(['1:DECEASED', '0:LIVING'],[1, 0])\n",
    "    results = km.fit(df.OS_MONTHS, df.OS_STATUS, df[group])\n",
    "\n",
    "    # Plot\n",
    "    km.plot(results, cmap='Set2', width=size[0], height=size[1], title='', methodtype='custom')\n",
    "\n",
    "plot_KM(cluster_top_1500, 'clusters_predicted')"
   ]
  },
  {
   "cell_type": "markdown",
   "metadata": {},
   "source": [
    "The survival curves are similar to the curves in the article: \"immune\" class demonsrate better survival than other, and \"keratin\" - worse.   \n",
    "To sum up, we were able to predict correctly clusters for 226 samples out of 329 (~68.7%).   \n",
    "The result is so-so, but nevertheless we will try to repeat all the steps and cluster all 472 samples   "
   ]
  },
  {
   "cell_type": "markdown",
   "metadata": {},
   "source": [
    "## 2. Repeat all steps for all samples"
   ]
  },
  {
   "cell_type": "code",
   "execution_count": 128,
   "metadata": {},
   "outputs": [
    {
     "data": {
      "text/html": [
       "<div>\n",
       "<style scoped>\n",
       "    .dataframe tbody tr th:only-of-type {\n",
       "        vertical-align: middle;\n",
       "    }\n",
       "\n",
       "    .dataframe tbody tr th {\n",
       "        vertical-align: top;\n",
       "    }\n",
       "\n",
       "    .dataframe thead th {\n",
       "        text-align: right;\n",
       "    }\n",
       "</style>\n",
       "<table border=\"1\" class=\"dataframe\">\n",
       "  <thead>\n",
       "    <tr style=\"text-align: right;\">\n",
       "      <th></th>\n",
       "      <th>TCGA-3N-A9WB-06</th>\n",
       "      <th>TCGA-3N-A9WC-06</th>\n",
       "      <th>TCGA-3N-A9WD-06</th>\n",
       "      <th>TCGA-BF-A1PU-01</th>\n",
       "      <th>TCGA-BF-A1PV-01</th>\n",
       "      <th>TCGA-BF-A1PX-01</th>\n",
       "      <th>TCGA-BF-A1PZ-01</th>\n",
       "      <th>TCGA-BF-A1Q0-01</th>\n",
       "      <th>TCGA-BF-A3DJ-01</th>\n",
       "      <th>TCGA-BF-A3DL-01</th>\n",
       "      <th>...</th>\n",
       "      <th>TCGA-XV-AB01-06</th>\n",
       "      <th>TCGA-YD-A89C-06</th>\n",
       "      <th>TCGA-YD-A9TA-06</th>\n",
       "      <th>TCGA-YD-A9TB-06</th>\n",
       "      <th>TCGA-YG-AA3N-01</th>\n",
       "      <th>TCGA-YG-AA3O-06</th>\n",
       "      <th>TCGA-YG-AA3P-06</th>\n",
       "      <th>TCGA-Z2-A8RT-06</th>\n",
       "      <th>TCGA-Z2-AA3S-06</th>\n",
       "      <th>TCGA-Z2-AA3V-06</th>\n",
       "    </tr>\n",
       "    <tr>\n",
       "      <th>Hugo_Symbol</th>\n",
       "      <th></th>\n",
       "      <th></th>\n",
       "      <th></th>\n",
       "      <th></th>\n",
       "      <th></th>\n",
       "      <th></th>\n",
       "      <th></th>\n",
       "      <th></th>\n",
       "      <th></th>\n",
       "      <th></th>\n",
       "      <th></th>\n",
       "      <th></th>\n",
       "      <th></th>\n",
       "      <th></th>\n",
       "      <th></th>\n",
       "      <th></th>\n",
       "      <th></th>\n",
       "      <th></th>\n",
       "      <th></th>\n",
       "      <th></th>\n",
       "      <th></th>\n",
       "    </tr>\n",
       "  </thead>\n",
       "  <tbody>\n",
       "    <tr>\n",
       "      <th>TMEM189-UBE2V1</th>\n",
       "      <td>-0.8187</td>\n",
       "      <td>-0.7122</td>\n",
       "      <td>-3.8273</td>\n",
       "      <td>1.3173</td>\n",
       "      <td>-1.1315</td>\n",
       "      <td>-3.8273</td>\n",
       "      <td>-1.0419</td>\n",
       "      <td>3.5824</td>\n",
       "      <td>-3.8273</td>\n",
       "      <td>0.9266</td>\n",
       "      <td>...</td>\n",
       "      <td>-3.8273</td>\n",
       "      <td>-3.8273</td>\n",
       "      <td>0.5078</td>\n",
       "      <td>-3.8273</td>\n",
       "      <td>1.4678</td>\n",
       "      <td>-3.8273</td>\n",
       "      <td>-3.8273</td>\n",
       "      <td>1.2392</td>\n",
       "      <td>-1.3505</td>\n",
       "      <td>-0.0449</td>\n",
       "    </tr>\n",
       "    <tr>\n",
       "      <th>CYorf15B</th>\n",
       "      <td>1.0308</td>\n",
       "      <td>0.8722</td>\n",
       "      <td>0.7954</td>\n",
       "      <td>-2.1528</td>\n",
       "      <td>-2.1528</td>\n",
       "      <td>0.2736</td>\n",
       "      <td>-2.1528</td>\n",
       "      <td>0.0463</td>\n",
       "      <td>-2.1528</td>\n",
       "      <td>-2.1528</td>\n",
       "      <td>...</td>\n",
       "      <td>-1.6555</td>\n",
       "      <td>-2.1528</td>\n",
       "      <td>1.5348</td>\n",
       "      <td>-2.1528</td>\n",
       "      <td>-0.3105</td>\n",
       "      <td>0.9675</td>\n",
       "      <td>-1.9076</td>\n",
       "      <td>-2.1528</td>\n",
       "      <td>-0.9057</td>\n",
       "      <td>-2.1528</td>\n",
       "    </tr>\n",
       "    <tr>\n",
       "      <th>CYorf15B</th>\n",
       "      <td>0.6868</td>\n",
       "      <td>0.7617</td>\n",
       "      <td>0.4533</td>\n",
       "      <td>-2.2316</td>\n",
       "      <td>-2.2316</td>\n",
       "      <td>0.5641</td>\n",
       "      <td>-2.2316</td>\n",
       "      <td>0.2353</td>\n",
       "      <td>-2.2316</td>\n",
       "      <td>-2.2316</td>\n",
       "      <td>...</td>\n",
       "      <td>-2.2316</td>\n",
       "      <td>-2.2316</td>\n",
       "      <td>1.3182</td>\n",
       "      <td>-2.2316</td>\n",
       "      <td>0.3082</td>\n",
       "      <td>0.9962</td>\n",
       "      <td>-2.2316</td>\n",
       "      <td>-2.2316</td>\n",
       "      <td>-0.8697</td>\n",
       "      <td>-2.2316</td>\n",
       "    </tr>\n",
       "    <tr>\n",
       "      <th>TTTY15</th>\n",
       "      <td>0.3841</td>\n",
       "      <td>0.8337</td>\n",
       "      <td>0.2062</td>\n",
       "      <td>-2.1327</td>\n",
       "      <td>-2.1327</td>\n",
       "      <td>0.5900</td>\n",
       "      <td>-2.1327</td>\n",
       "      <td>-0.7273</td>\n",
       "      <td>-2.1327</td>\n",
       "      <td>-2.1327</td>\n",
       "      <td>...</td>\n",
       "      <td>-2.1327</td>\n",
       "      <td>-2.1327</td>\n",
       "      <td>1.3886</td>\n",
       "      <td>-2.1327</td>\n",
       "      <td>0.3684</td>\n",
       "      <td>0.7812</td>\n",
       "      <td>-1.8933</td>\n",
       "      <td>-2.1327</td>\n",
       "      <td>1.4473</td>\n",
       "      <td>-2.1327</td>\n",
       "    </tr>\n",
       "    <tr>\n",
       "      <th>CSAG2</th>\n",
       "      <td>-2.9879</td>\n",
       "      <td>0.3141</td>\n",
       "      <td>-2.6129</td>\n",
       "      <td>-2.9879</td>\n",
       "      <td>-2.9879</td>\n",
       "      <td>-2.9879</td>\n",
       "      <td>-0.2063</td>\n",
       "      <td>0.9064</td>\n",
       "      <td>-2.6399</td>\n",
       "      <td>-2.9879</td>\n",
       "      <td>...</td>\n",
       "      <td>-2.9879</td>\n",
       "      <td>-1.3396</td>\n",
       "      <td>-0.5020</td>\n",
       "      <td>-2.2328</td>\n",
       "      <td>-1.2007</td>\n",
       "      <td>-2.9879</td>\n",
       "      <td>-2.9879</td>\n",
       "      <td>-0.8771</td>\n",
       "      <td>-0.0097</td>\n",
       "      <td>-2.9879</td>\n",
       "    </tr>\n",
       "  </tbody>\n",
       "</table>\n",
       "<p>5 rows × 472 columns</p>\n",
       "</div>"
      ],
      "text/plain": [
       "                TCGA-3N-A9WB-06  TCGA-3N-A9WC-06  TCGA-3N-A9WD-06  \\\n",
       "Hugo_Symbol                                                         \n",
       "TMEM189-UBE2V1          -0.8187          -0.7122          -3.8273   \n",
       "CYorf15B                 1.0308           0.8722           0.7954   \n",
       "CYorf15B                 0.6868           0.7617           0.4533   \n",
       "TTTY15                   0.3841           0.8337           0.2062   \n",
       "CSAG2                   -2.9879           0.3141          -2.6129   \n",
       "\n",
       "                TCGA-BF-A1PU-01  TCGA-BF-A1PV-01  TCGA-BF-A1PX-01  \\\n",
       "Hugo_Symbol                                                         \n",
       "TMEM189-UBE2V1           1.3173          -1.1315          -3.8273   \n",
       "CYorf15B                -2.1528          -2.1528           0.2736   \n",
       "CYorf15B                -2.2316          -2.2316           0.5641   \n",
       "TTTY15                  -2.1327          -2.1327           0.5900   \n",
       "CSAG2                   -2.9879          -2.9879          -2.9879   \n",
       "\n",
       "                TCGA-BF-A1PZ-01  TCGA-BF-A1Q0-01  TCGA-BF-A3DJ-01  \\\n",
       "Hugo_Symbol                                                         \n",
       "TMEM189-UBE2V1          -1.0419           3.5824          -3.8273   \n",
       "CYorf15B                -2.1528           0.0463          -2.1528   \n",
       "CYorf15B                -2.2316           0.2353          -2.2316   \n",
       "TTTY15                  -2.1327          -0.7273          -2.1327   \n",
       "CSAG2                   -0.2063           0.9064          -2.6399   \n",
       "\n",
       "                TCGA-BF-A3DL-01  ...  TCGA-XV-AB01-06  TCGA-YD-A89C-06  \\\n",
       "Hugo_Symbol                      ...                                     \n",
       "TMEM189-UBE2V1           0.9266  ...          -3.8273          -3.8273   \n",
       "CYorf15B                -2.1528  ...          -1.6555          -2.1528   \n",
       "CYorf15B                -2.2316  ...          -2.2316          -2.2316   \n",
       "TTTY15                  -2.1327  ...          -2.1327          -2.1327   \n",
       "CSAG2                   -2.9879  ...          -2.9879          -1.3396   \n",
       "\n",
       "                TCGA-YD-A9TA-06  TCGA-YD-A9TB-06  TCGA-YG-AA3N-01  \\\n",
       "Hugo_Symbol                                                         \n",
       "TMEM189-UBE2V1           0.5078          -3.8273           1.4678   \n",
       "CYorf15B                 1.5348          -2.1528          -0.3105   \n",
       "CYorf15B                 1.3182          -2.2316           0.3082   \n",
       "TTTY15                   1.3886          -2.1327           0.3684   \n",
       "CSAG2                   -0.5020          -2.2328          -1.2007   \n",
       "\n",
       "                TCGA-YG-AA3O-06  TCGA-YG-AA3P-06  TCGA-Z2-A8RT-06  \\\n",
       "Hugo_Symbol                                                         \n",
       "TMEM189-UBE2V1          -3.8273          -3.8273           1.2392   \n",
       "CYorf15B                 0.9675          -1.9076          -2.1528   \n",
       "CYorf15B                 0.9962          -2.2316          -2.2316   \n",
       "TTTY15                   0.7812          -1.8933          -2.1327   \n",
       "CSAG2                   -2.9879          -2.9879          -0.8771   \n",
       "\n",
       "                TCGA-Z2-AA3S-06  TCGA-Z2-AA3V-06  \n",
       "Hugo_Symbol                                       \n",
       "TMEM189-UBE2V1          -1.3505          -0.0449  \n",
       "CYorf15B                -0.9057          -2.1528  \n",
       "CYorf15B                -0.8697          -2.2316  \n",
       "TTTY15                   1.4473          -2.1327  \n",
       "CSAG2                   -0.0097          -2.9879  \n",
       "\n",
       "[5 rows x 472 columns]"
      ]
     },
     "execution_count": 128,
     "metadata": {},
     "output_type": "execute_result"
    }
   ],
   "source": [
    "# select 1500 the most variable genes\n",
    "top_1500_all = select_1500_genes(mrna_zcores)\n",
    "top_1500_all.head(5)"
   ]
  },
  {
   "cell_type": "markdown",
   "metadata": {},
   "source": [
    "\"Old\" 1500 genes and \"new\" 1500 genes are not the same:"
   ]
  },
  {
   "cell_type": "code",
   "execution_count": 129,
   "metadata": {},
   "outputs": [
    {
     "data": {
      "text/plain": [
       "1767"
      ]
     },
     "execution_count": 129,
     "metadata": {},
     "output_type": "execute_result"
    }
   ],
   "source": [
    "len(set(list(top_1500.index) + list(top_1500_all.index)))"
   ]
  },
  {
   "cell_type": "code",
   "execution_count": 130,
   "metadata": {},
   "outputs": [
    {
     "data": {
      "image/png": "[encoded data removed]",
      "text/plain": [
       "<Figure size 1000x500 with 1 Axes>"
      ]
     },
     "metadata": {},
     "output_type": "display_data"
    }
   ],
   "source": [
    "# plot dendrogram\n",
    "plot_dendrogram(top_1500_all, title='Ward linkage hierarchical clustering dendrogram (472 samples)')"
   ]
  },
  {
   "cell_type": "code",
   "execution_count": 131,
   "metadata": {},
   "outputs": [
    {
     "data": {
      "text/plain": [
       "(165, 172, 135)"
      ]
     },
     "execution_count": 131,
     "metadata": {},
     "output_type": "execute_result"
    }
   ],
   "source": [
    "# clustering\n",
    "X = np.array(top_1500_all.T)\n",
    "clustering = AgglomerativeClustering(linkage='ward', n_clusters=3)\n",
    "labels = list(clustering.fit(X).labels_)\n",
    "\n",
    "# write results\n",
    "cluster_top_1500_all = top_1500_all.T\n",
    "cluster_top_1500_all.insert(0, 'labels', labels)\n",
    "\n",
    "# look at the numbers of samples in each cluster\n",
    "labels.count(0), labels.count(1), labels.count(2)"
   ]
  },
  {
   "cell_type": "code",
   "execution_count": 132,
   "metadata": {},
   "outputs": [],
   "source": [
    "# Mann-Whitney U test\n",
    "group1, group2, group3 = Mann_Whitney_test(cluster_top_1500_all, top_1500_all.index)\n",
    "\n",
    "group1_genes_all = get_genes_table(group1)\n",
    "group2_genes_all = get_genes_table(group2)\n",
    "group3_genes_all = get_genes_table(group3)"
   ]
  },
  {
   "cell_type": "markdown",
   "metadata": {},
   "source": [
    "Groups are the same: 1 - 'immune', 2 - 'MITF-low', 3 - 'keratin'"
   ]
  },
  {
   "cell_type": "code",
   "execution_count": 133,
   "metadata": {},
   "outputs": [],
   "source": [
    "# add cluster's names\n",
    "cluster_top_1500_all.labels = cluster_top_1500_all.labels.replace({0: 'immune', 1:'MITF-low', 2:'keratin'})\n",
    "\n",
    "# add information about clusters from the reference article\n",
    "cluster_top_1500_all = pd.concat([clustering_329.set_index('Name'), cluster_top_1500_all], axis=1)\n",
    "cluster_top_1500_all = cluster_top_1500_all.rename(columns={'labels':'clusters_predicted', \n",
    "                                                    'RNASEQ-CLUSTER_CONSENHIER':'clusters_original'})"
   ]
  },
  {
   "cell_type": "code",
   "execution_count": 134,
   "metadata": {},
   "outputs": [
    {
     "data": {
      "image/png": "[encoded data removed]",
      "text/plain": [
       "<Figure size 600x300 with 1 Axes>"
      ]
     },
     "metadata": {},
     "output_type": "display_data"
    }
   ],
   "source": [
    "#  Kaplan-Meier curves\n",
    "plot_KM(cluster_top_1500_all, 'clusters_predicted')"
   ]
  },
  {
   "cell_type": "markdown",
   "metadata": {},
   "source": [
    "Now we have 210 out of 329 samples with same cluster as in reference article:"
   ]
  },
  {
   "cell_type": "code",
   "execution_count": 135,
   "metadata": {},
   "outputs": [
    {
     "data": {
      "text/plain": [
       "False    262\n",
       "True     210\n",
       "Name: count, dtype: int64"
      ]
     },
     "execution_count": 135,
     "metadata": {},
     "output_type": "execute_result"
    }
   ],
   "source": [
    "(cluster_top_1500_all.clusters_original == cluster_top_1500_all.clusters_predicted).value_counts()"
   ]
  },
  {
   "cell_type": "markdown",
   "metadata": {},
   "source": [
    "Save main results:"
   ]
  },
  {
   "cell_type": "code",
   "execution_count": 136,
   "metadata": {},
   "outputs": [],
   "source": [
    "group1_genes.to_csv('task1_significant_genes_description_immune_329_samples.csv')\n",
    "group2_genes.to_csv('task1_significant_genes_description_MITF-low_329_samples.csv')\n",
    "group3_genes.to_csv('task1_significant_genes_description_keratin_329_samples.csv')\n",
    "\n",
    "group1_genes_all.to_csv('task1_significant_genes_description_immune_472_samples.csv')\n",
    "group2_genes_all.to_csv('task1_significant_genes_description_MITF-low_472_samples.csv')\n",
    "group3_genes_all.to_csv('task1_significant_genes_description_keratin_472_samples.csv')\n",
    "\n",
    "clustering_472 = cluster_top_1500_all[['clusters_predicted']]\n",
    "clustering_472.to_csv('task_1_clustering_472_samples.csv')"
   ]
  },
  {
   "cell_type": "markdown",
   "metadata": {},
   "source": [
    "## 3. Classification    \n",
    "\n",
    "Now we assume, that 329 samples were classified correctly. We can use information about them to classify rest 143 samples.   \n",
    "There is interesting [study](https://www.ncbi.nlm.nih.gov/pmc/articles/PMC8942277/) compares different algorithms for classification patients based on gene-expression data. They used 50 datasets spanning diverse diseases and tissue types but focused primarily on cancer-related conditions. Generally, kernel- and ensemble-based algorithms outperformed other types of algorithms in this analyses. Based on this, we try two algorithms: logistic regression and random forest.   \n",
    "Note: to be honest, we need to select important genes (feature selections), but let's try to do without it   \n",
    "#### **3.1 Preparing dataset**"
   ]
  },
  {
   "cell_type": "markdown",
   "metadata": {},
   "source": [
    "Split data into train and test; we use Z-score data, so we don't need use StandardScaler()"
   ]
  },
  {
   "cell_type": "code",
   "execution_count": 137,
   "metadata": {},
   "outputs": [],
   "source": [
    "# DF \"sample - cluster - genes\" for 329 samples\n",
    "to_train = pd.concat([clustering_329.set_index('Name').sort_index(), \\\n",
    "           mrna_zcores_329.drop(['Entrez_Gene_Id', 'MAD'], axis=1).set_index('Hugo_Symbol').T.sort_index()], axis=1)\n",
    "\n",
    "# split data into train and test sets, 80% in train and 20% in test. \n",
    "# The \"random_state\" variable can be used to reproduce the split\n",
    "train_data = to_train.sample(frac=0.8, random_state=1).sort_index()\n",
    "test_data = to_train.drop(train_data.index)\n",
    "\n",
    "train_y = train_data.pop('RNASEQ-CLUSTER_CONSENHIER')\n",
    "test_y = test_data.pop('RNASEQ-CLUSTER_CONSENHIER')\n"
   ]
  },
  {
   "cell_type": "code",
   "execution_count": 138,
   "metadata": {},
   "outputs": [],
   "source": [
    "# DF \"sample - genes\" for 143 \"new\" and 472 all samples\n",
    "to_predict_143 = mrna_zcores.dropna().drop(['Entrez_Gene_Id', 'MAD'], axis=1).set_index('Hugo_Symbol').dropna().T.drop(to_train.index)\n",
    "to_predict_472 = mrna_zcores.dropna().drop(['Entrez_Gene_Id', 'MAD'], axis=1).set_index('Hugo_Symbol').dropna().T"
   ]
  },
  {
   "cell_type": "markdown",
   "metadata": {},
   "source": [
    "#### **3.2 Logistic Regression**"
   ]
  },
  {
   "cell_type": "code",
   "execution_count": 139,
   "metadata": {},
   "outputs": [
    {
     "data": {
      "text/html": [
       "<style>#sk-container-id-5 {color: black;}#sk-container-id-5 pre{padding: 0;}#sk-container-id-5 div.sk-toggleable {background-color: white;}#sk-container-id-5 label.sk-toggleable__label {cursor: pointer;display: block;width: 100%;margin-bottom: 0;padding: 0.3em;box-sizing: border-box;text-align: center;}#sk-container-id-5 label.sk-toggleable__label-arrow:before {content: \"▸\";float: left;margin-right: 0.25em;color: #696969;}#sk-container-id-5 label.sk-toggleable__label-arrow:hover:before {color: black;}#sk-container-id-5 div.sk-estimator:hover label.sk-toggleable__label-arrow:before {color: black;}#sk-container-id-5 div.sk-toggleable__content {max-height: 0;max-width: 0;overflow: hidden;text-align: left;background-color: #f0f8ff;}#sk-container-id-5 div.sk-toggleable__content pre {margin: 0.2em;color: black;border-radius: 0.25em;background-color: #f0f8ff;}#sk-container-id-5 input.sk-toggleable__control:checked~div.sk-toggleable__content {max-height: 200px;max-width: 100%;overflow: auto;}#sk-container-id-5 input.sk-toggleable__control:checked~label.sk-toggleable__label-arrow:before {content: \"▾\";}#sk-container-id-5 div.sk-estimator input.sk-toggleable__control:checked~label.sk-toggleable__label {background-color: #d4ebff;}#sk-container-id-5 div.sk-label input.sk-toggleable__control:checked~label.sk-toggleable__label {background-color: #d4ebff;}#sk-container-id-5 input.sk-hidden--visually {border: 0;clip: rect(1px 1px 1px 1px);clip: rect(1px, 1px, 1px, 1px);height: 1px;margin: -1px;overflow: hidden;padding: 0;position: absolute;width: 1px;}#sk-container-id-5 div.sk-estimator {font-family: monospace;background-color: #f0f8ff;border: 1px dotted black;border-radius: 0.25em;box-sizing: border-box;margin-bottom: 0.5em;}#sk-container-id-5 div.sk-estimator:hover {background-color: #d4ebff;}#sk-container-id-5 div.sk-parallel-item::after {content: \"\";width: 100%;border-bottom: 1px solid gray;flex-grow: 1;}#sk-container-id-5 div.sk-label:hover label.sk-toggleable__label {background-color: #d4ebff;}#sk-container-id-5 div.sk-serial::before {content: \"\";position: absolute;border-left: 1px solid gray;box-sizing: border-box;top: 0;bottom: 0;left: 50%;z-index: 0;}#sk-container-id-5 div.sk-serial {display: flex;flex-direction: column;align-items: center;background-color: white;padding-right: 0.2em;padding-left: 0.2em;position: relative;}#sk-container-id-5 div.sk-item {position: relative;z-index: 1;}#sk-container-id-5 div.sk-parallel {display: flex;align-items: stretch;justify-content: center;background-color: white;position: relative;}#sk-container-id-5 div.sk-item::before, #sk-container-id-5 div.sk-parallel-item::before {content: \"\";position: absolute;border-left: 1px solid gray;box-sizing: border-box;top: 0;bottom: 0;left: 50%;z-index: -1;}#sk-container-id-5 div.sk-parallel-item {display: flex;flex-direction: column;z-index: 1;position: relative;background-color: white;}#sk-container-id-5 div.sk-parallel-item:first-child::after {align-self: flex-end;width: 50%;}#sk-container-id-5 div.sk-parallel-item:last-child::after {align-self: flex-start;width: 50%;}#sk-container-id-5 div.sk-parallel-item:only-child::after {width: 0;}#sk-container-id-5 div.sk-dashed-wrapped {border: 1px dashed gray;margin: 0 0.4em 0.5em 0.4em;box-sizing: border-box;padding-bottom: 0.4em;background-color: white;}#sk-container-id-5 div.sk-label label {font-family: monospace;font-weight: bold;display: inline-block;line-height: 1.2em;}#sk-container-id-5 div.sk-label-container {text-align: center;}#sk-container-id-5 div.sk-container {/* jupyter's `normalize.less` sets `[hidden] { display: none; }` but bootstrap.min.css set `[hidden] { display: none !important; }` so we also need the `!important` here to be able to override the default hidden behavior on the sphinx rendered scikit-learn.org. See: https://github.com/scikit-learn/scikit-learn/issues/21755 */display: inline-block !important;position: relative;}#sk-container-id-5 div.sk-text-repr-fallback {display: none;}</style><div id=\"sk-container-id-5\" class=\"sk-top-container\"><div class=\"sk-text-repr-fallback\"><pre>LogisticRegression(C=0.1, max_iter=1000, multi_class=&#x27;multinomial&#x27;,\n",
       "                   solver=&#x27;newton-cg&#x27;)</pre><b>In a Jupyter environment, please rerun this cell to show the HTML representation or trust the notebook. <br />On GitHub, the HTML representation is unable to render, please try loading this page with nbviewer.org.</b></div><div class=\"sk-container\" hidden><div class=\"sk-item\"><div class=\"sk-estimator sk-toggleable\"><input class=\"sk-toggleable__control sk-hidden--visually\" id=\"sk-estimator-id-5\" type=\"checkbox\" checked><label for=\"sk-estimator-id-5\" class=\"sk-toggleable__label sk-toggleable__label-arrow\">LogisticRegression</label><div class=\"sk-toggleable__content\"><pre>LogisticRegression(C=0.1, max_iter=1000, multi_class=&#x27;multinomial&#x27;,\n",
       "                   solver=&#x27;newton-cg&#x27;)</pre></div></div></div></div></div>"
      ],
      "text/plain": [
       "LogisticRegression(C=0.1, max_iter=1000, multi_class='multinomial',\n",
       "                   solver='newton-cg')"
      ]
     },
     "execution_count": 139,
     "metadata": {},
     "output_type": "execute_result"
    }
   ],
   "source": [
    "# train a logistic regression model\n",
    "# we choose solver='newton-cg' for best score and time\n",
    "lr = LogisticRegression(max_iter=1000, solver='newton-cg', multi_class='multinomial', C=0.1)\n",
    "lr.fit(train_data.values, train_y)"
   ]
  },
  {
   "cell_type": "code",
   "execution_count": 140,
   "metadata": {},
   "outputs": [
    {
     "data": {
      "text/plain": [
       "0.9242424242424242"
      ]
     },
     "execution_count": 140,
     "metadata": {},
     "output_type": "execute_result"
    }
   ],
   "source": [
    "lr.score(test_data.values, test_y)"
   ]
  },
  {
   "cell_type": "markdown",
   "metadata": {},
   "source": [
    "Draw ROC curves \"One-vs-Rest\" for three groups (some code was taken from [documentation](https://scikit-learn.org/stable/auto_examples/model_selection/plot_roc.html)):"
   ]
  },
  {
   "cell_type": "code",
   "execution_count": 141,
   "metadata": {},
   "outputs": [
    {
     "data": {
      "image/png": "[encoded data removed]",
      "text/plain": [
       "<Figure size 600x500 with 1 Axes>"
      ]
     },
     "metadata": {},
     "output_type": "display_data"
    }
   ],
   "source": [
    "y_score = lr.fit(train_data, train_y).predict_proba(test_data)\n",
    "\n",
    "def ROC_curves(y_score, train_y, test_y):\n",
    "    label_binarizer = LabelBinarizer().fit(train_y)\n",
    "    y_onehot_test = label_binarizer.transform(test_y)\n",
    "\n",
    "    fig, ax = plt.subplots(figsize=(6, 5))\n",
    "\n",
    "    colors = [\"aqua\", \"darkorange\", \"cornflowerblue\"]\n",
    "    clusters = ['immune', 'MITF-low', 'keratin']\n",
    "    for cluster, color in zip(clusters, colors):\n",
    "        label_binarizer.transform([cluster])\n",
    "        class_of_interest = cluster\n",
    "        class_id = np.flatnonzero(label_binarizer.classes_ == class_of_interest)[0]\n",
    "        RocCurveDisplay.from_predictions(\n",
    "        y_onehot_test[:, class_id],\n",
    "        y_score[:, class_id],\n",
    "        name=f\"{class_of_interest} vs the rest\",\n",
    "        color=color,\n",
    "        ax = ax,\n",
    "        plot_chance_level=(class_id == 2),\n",
    "    )\n",
    "\n",
    "    plt.axis(\"square\")\n",
    "    plt.xlabel(\"False Positive Rate\")\n",
    "    plt.ylabel(\"True Positive Rate\")\n",
    "    plt.title(\"ROC curves One-vs-Rest multiclass\")\n",
    "    plt.legend()\n",
    "    plt.show()\n",
    "\n",
    "ROC_curves(y_score, train_y, test_y)"
   ]
  },
  {
   "cell_type": "markdown",
   "metadata": {},
   "source": [
    "ROC curves looks good. Using lr-model, predict classes of 143 and 472 samples and count, how many classes of 329 samples are same as in reference article:"
   ]
  },
  {
   "cell_type": "code",
   "execution_count": 142,
   "metadata": {},
   "outputs": [],
   "source": [
    "predicted_lr_143 = pd.DataFrame({'predicted': lr.predict(to_predict_143)}).set_index(to_predict_143.index).sort_index()\n",
    "predicted_lr_472 = pd.DataFrame({'predicted': lr.predict(to_predict_472)}).set_index(to_predict_472.index).sort_index()\n",
    "\n",
    "# concat with 329 samples classes from the reference article to compare results\n",
    "predicted_lr_472 = pd.concat([clustering_329.set_index('Name').sort_index(), predicted_lr_472], axis=1)\n",
    "predicted_lr_472 = predicted_lr_472.rename(columns={'predicted':'predicted_lr'})"
   ]
  },
  {
   "cell_type": "markdown",
   "metadata": {},
   "source": [
    "324 samples out of 329 have same classes - it's much more better than using hierarchical clustering:"
   ]
  },
  {
   "cell_type": "code",
   "execution_count": 143,
   "metadata": {},
   "outputs": [
    {
     "data": {
      "text/plain": [
       "True     324\n",
       "False    148\n",
       "Name: count, dtype: int64"
      ]
     },
     "execution_count": 143,
     "metadata": {},
     "output_type": "execute_result"
    }
   ],
   "source": [
    "(predicted_lr_472['RNASEQ-CLUSTER_CONSENHIER'] == predicted_lr_472['predicted_lr']).value_counts()"
   ]
  },
  {
   "cell_type": "markdown",
   "metadata": {},
   "source": [
    "Save results:"
   ]
  },
  {
   "cell_type": "code",
   "execution_count": 144,
   "metadata": {},
   "outputs": [],
   "source": [
    "predicted_lr_472.to_csv('task1_lr_classify_472_samples.csv')\n",
    "predicted_lr_143.to_csv('task1_lr_classify_143_samples.csv')"
   ]
  },
  {
   "cell_type": "markdown",
   "metadata": {},
   "source": [
    "### **3.3 Random Forest**"
   ]
  },
  {
   "cell_type": "code",
   "execution_count": 145,
   "metadata": {},
   "outputs": [
    {
     "data": {
      "text/html": [
       "<style>#sk-container-id-6 {color: black;}#sk-container-id-6 pre{padding: 0;}#sk-container-id-6 div.sk-toggleable {background-color: white;}#sk-container-id-6 label.sk-toggleable__label {cursor: pointer;display: block;width: 100%;margin-bottom: 0;padding: 0.3em;box-sizing: border-box;text-align: center;}#sk-container-id-6 label.sk-toggleable__label-arrow:before {content: \"▸\";float: left;margin-right: 0.25em;color: #696969;}#sk-container-id-6 label.sk-toggleable__label-arrow:hover:before {color: black;}#sk-container-id-6 div.sk-estimator:hover label.sk-toggleable__label-arrow:before {color: black;}#sk-container-id-6 div.sk-toggleable__content {max-height: 0;max-width: 0;overflow: hidden;text-align: left;background-color: #f0f8ff;}#sk-container-id-6 div.sk-toggleable__content pre {margin: 0.2em;color: black;border-radius: 0.25em;background-color: #f0f8ff;}#sk-container-id-6 input.sk-toggleable__control:checked~div.sk-toggleable__content {max-height: 200px;max-width: 100%;overflow: auto;}#sk-container-id-6 input.sk-toggleable__control:checked~label.sk-toggleable__label-arrow:before {content: \"▾\";}#sk-container-id-6 div.sk-estimator input.sk-toggleable__control:checked~label.sk-toggleable__label {background-color: #d4ebff;}#sk-container-id-6 div.sk-label input.sk-toggleable__control:checked~label.sk-toggleable__label {background-color: #d4ebff;}#sk-container-id-6 input.sk-hidden--visually {border: 0;clip: rect(1px 1px 1px 1px);clip: rect(1px, 1px, 1px, 1px);height: 1px;margin: -1px;overflow: hidden;padding: 0;position: absolute;width: 1px;}#sk-container-id-6 div.sk-estimator {font-family: monospace;background-color: #f0f8ff;border: 1px dotted black;border-radius: 0.25em;box-sizing: border-box;margin-bottom: 0.5em;}#sk-container-id-6 div.sk-estimator:hover {background-color: #d4ebff;}#sk-container-id-6 div.sk-parallel-item::after {content: \"\";width: 100%;border-bottom: 1px solid gray;flex-grow: 1;}#sk-container-id-6 div.sk-label:hover label.sk-toggleable__label {background-color: #d4ebff;}#sk-container-id-6 div.sk-serial::before {content: \"\";position: absolute;border-left: 1px solid gray;box-sizing: border-box;top: 0;bottom: 0;left: 50%;z-index: 0;}#sk-container-id-6 div.sk-serial {display: flex;flex-direction: column;align-items: center;background-color: white;padding-right: 0.2em;padding-left: 0.2em;position: relative;}#sk-container-id-6 div.sk-item {position: relative;z-index: 1;}#sk-container-id-6 div.sk-parallel {display: flex;align-items: stretch;justify-content: center;background-color: white;position: relative;}#sk-container-id-6 div.sk-item::before, #sk-container-id-6 div.sk-parallel-item::before {content: \"\";position: absolute;border-left: 1px solid gray;box-sizing: border-box;top: 0;bottom: 0;left: 50%;z-index: -1;}#sk-container-id-6 div.sk-parallel-item {display: flex;flex-direction: column;z-index: 1;position: relative;background-color: white;}#sk-container-id-6 div.sk-parallel-item:first-child::after {align-self: flex-end;width: 50%;}#sk-container-id-6 div.sk-parallel-item:last-child::after {align-self: flex-start;width: 50%;}#sk-container-id-6 div.sk-parallel-item:only-child::after {width: 0;}#sk-container-id-6 div.sk-dashed-wrapped {border: 1px dashed gray;margin: 0 0.4em 0.5em 0.4em;box-sizing: border-box;padding-bottom: 0.4em;background-color: white;}#sk-container-id-6 div.sk-label label {font-family: monospace;font-weight: bold;display: inline-block;line-height: 1.2em;}#sk-container-id-6 div.sk-label-container {text-align: center;}#sk-container-id-6 div.sk-container {/* jupyter's `normalize.less` sets `[hidden] { display: none; }` but bootstrap.min.css set `[hidden] { display: none !important; }` so we also need the `!important` here to be able to override the default hidden behavior on the sphinx rendered scikit-learn.org. See: https://github.com/scikit-learn/scikit-learn/issues/21755 */display: inline-block !important;position: relative;}#sk-container-id-6 div.sk-text-repr-fallback {display: none;}</style><div id=\"sk-container-id-6\" class=\"sk-top-container\"><div class=\"sk-text-repr-fallback\"><pre>RandomForestClassifier(n_jobs=10)</pre><b>In a Jupyter environment, please rerun this cell to show the HTML representation or trust the notebook. <br />On GitHub, the HTML representation is unable to render, please try loading this page with nbviewer.org.</b></div><div class=\"sk-container\" hidden><div class=\"sk-item\"><div class=\"sk-estimator sk-toggleable\"><input class=\"sk-toggleable__control sk-hidden--visually\" id=\"sk-estimator-id-6\" type=\"checkbox\" checked><label for=\"sk-estimator-id-6\" class=\"sk-toggleable__label sk-toggleable__label-arrow\">RandomForestClassifier</label><div class=\"sk-toggleable__content\"><pre>RandomForestClassifier(n_jobs=10)</pre></div></div></div></div></div>"
      ],
      "text/plain": [
       "RandomForestClassifier(n_jobs=10)"
      ]
     },
     "execution_count": 145,
     "metadata": {},
     "output_type": "execute_result"
    }
   ],
   "source": [
    "# we already have test and train data, use RandomForestClassifier with default parameters\n",
    "from sklearn.ensemble import RandomForestClassifier\n",
    "clf = RandomForestClassifier(n_jobs = 10, n_estimators=100)\n",
    "clf.fit(train_data, train_y)"
   ]
  },
  {
   "cell_type": "markdown",
   "metadata": {},
   "source": [
    "Score is lower, and ROC curvers look worse:"
   ]
  },
  {
   "cell_type": "code",
   "execution_count": 146,
   "metadata": {},
   "outputs": [
    {
     "data": {
      "text/plain": [
       "0.803030303030303"
      ]
     },
     "execution_count": 146,
     "metadata": {},
     "output_type": "execute_result"
    }
   ],
   "source": [
    "metrics.accuracy_score(test_y, clf.predict(test_data))"
   ]
  },
  {
   "cell_type": "code",
   "execution_count": 147,
   "metadata": {},
   "outputs": [
    {
     "data": {
      "image/png": "[encoded data removed]",
      "text/plain": [
       "<Figure size 600x500 with 1 Axes>"
      ]
     },
     "metadata": {},
     "output_type": "display_data"
    }
   ],
   "source": [
    "y_score = clf.fit(train_data, train_y).predict_proba(test_data)\n",
    "ROC_curves(y_score, train_y, test_y)"
   ]
  },
  {
   "cell_type": "code",
   "execution_count": 148,
   "metadata": {},
   "outputs": [],
   "source": [
    "predicted_clf_143 = pd.DataFrame({'predicted': clf.predict(to_predict_143)}).set_index(to_predict_143.index).sort_index()\n",
    "predicted_clf_472 = pd.DataFrame({'predicted': clf.predict(to_predict_472)}).set_index(to_predict_472.index).sort_index()\n",
    "\n",
    "# concat with 329 samples classes from the reference article to compare results\n",
    "predicted_clf_472 = pd.concat([clustering_329.set_index('Name').sort_index(), predicted_clf_472], axis=1)\n",
    "predicted_clf_472 = predicted_clf_472.rename(columns={'predicted':'predicted_clf'})"
   ]
  },
  {
   "cell_type": "markdown",
   "metadata": {},
   "source": [
    "320 samples out of 329 have same classes:"
   ]
  },
  {
   "cell_type": "code",
   "execution_count": 149,
   "metadata": {},
   "outputs": [
    {
     "data": {
      "text/plain": [
       "True     320\n",
       "False    152\n",
       "Name: count, dtype: int64"
      ]
     },
     "execution_count": 149,
     "metadata": {},
     "output_type": "execute_result"
    }
   ],
   "source": [
    "(predicted_clf_472['RNASEQ-CLUSTER_CONSENHIER'] == predicted_clf_472['predicted_clf']).value_counts()"
   ]
  },
  {
   "cell_type": "markdown",
   "metadata": {},
   "source": [
    "Save results:"
   ]
  },
  {
   "cell_type": "code",
   "execution_count": 150,
   "metadata": {},
   "outputs": [],
   "source": [
    "predicted_clf_472.to_csv('task1_RF_classify_472_samples.csv')\n",
    "predicted_clf_143.to_csv('taks1_RF_classify_143_samples.csv')"
   ]
  },
  {
   "cell_type": "code",
   "execution_count": 151,
   "metadata": {},
   "outputs": [
    {
     "data": {
      "image/png": "[encoded data removed]",
      "text/plain": [
       "<Figure size 600x300 with 1 Axes>"
      ]
     },
     "metadata": {},
     "output_type": "display_data"
    }
   ],
   "source": [
    "plot_KM(predicted_clf_472, 'predicted_clf')"
   ]
  },
  {
   "cell_type": "markdown",
   "metadata": {},
   "source": [
    "*******************"
   ]
  },
  {
   "cell_type": "markdown",
   "metadata": {},
   "source": [
    "# Task 2   \n",
    "## Problem: \n",
    "there are [acticle](https://aacrjournals.org/clincancerres/article/16/13/3356/11021/Gene-Expression-Profiling-Based-Identification-of) that describes the procedure of genomic classification patients with stage IV melanoma. For gene expression analysis, they selected the 3,000 most variable RefSeq genes and run average linkage agglomerative hierarchical clustering with Pearson correlation distance. Four subgroups were identified by visual inspection of the hierarchical tree, called Pigmentation, Proliferative, Normal-like, High-immune response. The authors also validated the public independent datasets using using nearest centroid correlation. Centroids based on significant genes for each subtype were computed for each of the four classes found in train dataset. For each subtype, the 100 most significant genes were used, except for the normal-like group where all 77 significant genes were used, then computed the Pearson correlation coefficient of each sample in the validation data sets to each of the four centroids. Samples were classified based on the centroid displaying the highest correlation (correlation >0.1). \n",
    "\n",
    "We have centroid's coordinates from Supplementary Table of this article, so we can repeat described for independent datasets procedure for our 472 samples from previous task.   \n",
    "\n",
    "We noticed, that data from the second experiment obtained using microchips, so absolute values of centroids cannot be transferred on NGS data from the first. But:   \n",
    "- all data has been normalized   \n",
    "- gene expression data in the first experiment are presented in Z-scale   \n",
    "- the coordinates of the centroids seem to be also in Z-scale, although the procedure for processing raw data is not described in detail   \n",
    "- we have no any other data in anyo ther formats.   \n",
    "   \n",
    "##### **1. Prepare data**"
   ]
  },
  {
   "cell_type": "code",
   "execution_count": 152,
   "metadata": {},
   "outputs": [],
   "source": [
    "# download coordinates of centroids\n",
    "genes_centroids = pd.read_table('genes_second_article.txt', delimiter=' ', header=None)\n",
    "genes_centroids.columns = ['ProbeID', 'Probe', 'SYMBOL', 'Normal-like', 'Proliferative', \\\n",
    "                           'Pigmentation', 'High-immune responce']"
   ]
  },
  {
   "cell_type": "markdown",
   "metadata": {},
   "source": [
    "Note, that authors saidabot 100 + 100 + 100 + 77 = 377 genes, but we have only 358 unique:"
   ]
  },
  {
   "cell_type": "code",
   "execution_count": 153,
   "metadata": {},
   "outputs": [
    {
     "data": {
      "text/html": [
       "<div>\n",
       "<style scoped>\n",
       "    .dataframe tbody tr th:only-of-type {\n",
       "        vertical-align: middle;\n",
       "    }\n",
       "\n",
       "    .dataframe tbody tr th {\n",
       "        vertical-align: top;\n",
       "    }\n",
       "\n",
       "    .dataframe thead th {\n",
       "        text-align: right;\n",
       "    }\n",
       "</style>\n",
       "<table border=\"1\" class=\"dataframe\">\n",
       "  <thead>\n",
       "    <tr style=\"text-align: right;\">\n",
       "      <th></th>\n",
       "      <th>ProbeID</th>\n",
       "      <th>Probe</th>\n",
       "      <th>SYMBOL</th>\n",
       "      <th>Normal-like</th>\n",
       "      <th>Proliferative</th>\n",
       "      <th>Pigmentation</th>\n",
       "      <th>High-immune responce</th>\n",
       "    </tr>\n",
       "  </thead>\n",
       "  <tbody>\n",
       "    <tr>\n",
       "      <th>0</th>\n",
       "      <td>5890445</td>\n",
       "      <td>ILMN_10232</td>\n",
       "      <td>FCHSD2</td>\n",
       "      <td>-0.179296</td>\n",
       "      <td>-0.233468</td>\n",
       "      <td>-0.348680</td>\n",
       "      <td>0.793797</td>\n",
       "    </tr>\n",
       "    <tr>\n",
       "      <th>1</th>\n",
       "      <td>4730750</td>\n",
       "      <td>ILMN_10292</td>\n",
       "      <td>TBC1D7</td>\n",
       "      <td>-0.471143</td>\n",
       "      <td>-0.661054</td>\n",
       "      <td>1.068625</td>\n",
       "      <td>-0.787198</td>\n",
       "    </tr>\n",
       "    <tr>\n",
       "      <th>...</th>\n",
       "      <td>...</td>\n",
       "      <td>...</td>\n",
       "      <td>...</td>\n",
       "      <td>...</td>\n",
       "      <td>...</td>\n",
       "      <td>...</td>\n",
       "      <td>...</td>\n",
       "    </tr>\n",
       "    <tr>\n",
       "      <th>363</th>\n",
       "      <td>5290537</td>\n",
       "      <td>ILMN_9994</td>\n",
       "      <td>KLF2</td>\n",
       "      <td>0.106593</td>\n",
       "      <td>-0.556403</td>\n",
       "      <td>-0.502153</td>\n",
       "      <td>1.124764</td>\n",
       "    </tr>\n",
       "    <tr>\n",
       "      <th>364</th>\n",
       "      <td>7570196</td>\n",
       "      <td>ILMN_9996</td>\n",
       "      <td>ICOS</td>\n",
       "      <td>-0.349296</td>\n",
       "      <td>-2.208939</td>\n",
       "      <td>0.568610</td>\n",
       "      <td>0.972219</td>\n",
       "    </tr>\n",
       "  </tbody>\n",
       "</table>\n",
       "<p>358 rows × 7 columns</p>\n",
       "</div>"
      ],
      "text/plain": [
       "     ProbeID       Probe  SYMBOL  Normal-like  Proliferative  Pigmentation  \\\n",
       "0    5890445  ILMN_10232  FCHSD2    -0.179296      -0.233468     -0.348680   \n",
       "1    4730750  ILMN_10292  TBC1D7    -0.471143      -0.661054      1.068625   \n",
       "..       ...         ...     ...          ...            ...           ...   \n",
       "363  5290537   ILMN_9994    KLF2     0.106593      -0.556403     -0.502153   \n",
       "364  7570196   ILMN_9996    ICOS    -0.349296      -2.208939      0.568610   \n",
       "\n",
       "     High-immune responce  \n",
       "0                0.793797  \n",
       "1               -0.787198  \n",
       "..                    ...  \n",
       "363              1.124764  \n",
       "364              0.972219  \n",
       "\n",
       "[358 rows x 7 columns]"
      ]
     },
     "execution_count": 153,
     "metadata": {},
     "output_type": "execute_result"
    }
   ],
   "source": [
    "genes_centroids.drop_duplicates('SYMBOL')"
   ]
  },
  {
   "cell_type": "code",
   "execution_count": 154,
   "metadata": {},
   "outputs": [
    {
     "data": {
      "text/html": [
       "<div>\n",
       "<style scoped>\n",
       "    .dataframe tbody tr th:only-of-type {\n",
       "        vertical-align: middle;\n",
       "    }\n",
       "\n",
       "    .dataframe tbody tr th {\n",
       "        vertical-align: top;\n",
       "    }\n",
       "\n",
       "    .dataframe thead th {\n",
       "        text-align: right;\n",
       "    }\n",
       "</style>\n",
       "<table border=\"1\" class=\"dataframe\">\n",
       "  <thead>\n",
       "    <tr style=\"text-align: right;\">\n",
       "      <th></th>\n",
       "      <th>TCGA-3N-A9WB-06</th>\n",
       "      <th>TCGA-3N-A9WC-06</th>\n",
       "      <th>TCGA-3N-A9WD-06</th>\n",
       "      <th>TCGA-BF-A1PU-01</th>\n",
       "      <th>TCGA-BF-A1PV-01</th>\n",
       "      <th>TCGA-BF-A1PX-01</th>\n",
       "      <th>TCGA-BF-A1PZ-01</th>\n",
       "      <th>TCGA-BF-A1Q0-01</th>\n",
       "      <th>TCGA-BF-A3DJ-01</th>\n",
       "      <th>TCGA-BF-A3DL-01</th>\n",
       "      <th>...</th>\n",
       "      <th>TCGA-XV-AB01-06</th>\n",
       "      <th>TCGA-YD-A89C-06</th>\n",
       "      <th>TCGA-YD-A9TA-06</th>\n",
       "      <th>TCGA-YD-A9TB-06</th>\n",
       "      <th>TCGA-YG-AA3N-01</th>\n",
       "      <th>TCGA-YG-AA3O-06</th>\n",
       "      <th>TCGA-YG-AA3P-06</th>\n",
       "      <th>TCGA-Z2-A8RT-06</th>\n",
       "      <th>TCGA-Z2-AA3S-06</th>\n",
       "      <th>TCGA-Z2-AA3V-06</th>\n",
       "    </tr>\n",
       "    <tr>\n",
       "      <th>Hugo_Symbol</th>\n",
       "      <th></th>\n",
       "      <th></th>\n",
       "      <th></th>\n",
       "      <th></th>\n",
       "      <th></th>\n",
       "      <th></th>\n",
       "      <th></th>\n",
       "      <th></th>\n",
       "      <th></th>\n",
       "      <th></th>\n",
       "      <th></th>\n",
       "      <th></th>\n",
       "      <th></th>\n",
       "      <th></th>\n",
       "      <th></th>\n",
       "      <th></th>\n",
       "      <th></th>\n",
       "      <th></th>\n",
       "      <th></th>\n",
       "      <th></th>\n",
       "      <th></th>\n",
       "    </tr>\n",
       "  </thead>\n",
       "  <tbody>\n",
       "    <tr>\n",
       "      <th>AADAT</th>\n",
       "      <td>0.9406</td>\n",
       "      <td>0.7642</td>\n",
       "      <td>-0.8577</td>\n",
       "      <td>0.2626</td>\n",
       "      <td>1.0801</td>\n",
       "      <td>-0.4675</td>\n",
       "      <td>-0.5017</td>\n",
       "      <td>0.0023</td>\n",
       "      <td>0.8158</td>\n",
       "      <td>-0.3659</td>\n",
       "      <td>...</td>\n",
       "      <td>-3.3189</td>\n",
       "      <td>1.5967</td>\n",
       "      <td>0.2884</td>\n",
       "      <td>0.5263</td>\n",
       "      <td>-2.2513</td>\n",
       "      <td>0.5282</td>\n",
       "      <td>-0.8271</td>\n",
       "      <td>0.1289</td>\n",
       "      <td>0.0298</td>\n",
       "      <td>-2.3755</td>\n",
       "    </tr>\n",
       "    <tr>\n",
       "      <th>ACSL5</th>\n",
       "      <td>-1.7575</td>\n",
       "      <td>1.8763</td>\n",
       "      <td>0.4186</td>\n",
       "      <td>-0.6434</td>\n",
       "      <td>-1.6541</td>\n",
       "      <td>0.6010</td>\n",
       "      <td>-1.2259</td>\n",
       "      <td>-0.2609</td>\n",
       "      <td>-0.2736</td>\n",
       "      <td>-1.0435</td>\n",
       "      <td>...</td>\n",
       "      <td>-0.7938</td>\n",
       "      <td>-1.7527</td>\n",
       "      <td>0.4196</td>\n",
       "      <td>0.1066</td>\n",
       "      <td>1.5573</td>\n",
       "      <td>-0.6454</td>\n",
       "      <td>-0.4836</td>\n",
       "      <td>0.4541</td>\n",
       "      <td>1.7642</td>\n",
       "      <td>0.6131</td>\n",
       "    </tr>\n",
       "    <tr>\n",
       "      <th>...</th>\n",
       "      <td>...</td>\n",
       "      <td>...</td>\n",
       "      <td>...</td>\n",
       "      <td>...</td>\n",
       "      <td>...</td>\n",
       "      <td>...</td>\n",
       "      <td>...</td>\n",
       "      <td>...</td>\n",
       "      <td>...</td>\n",
       "      <td>...</td>\n",
       "      <td>...</td>\n",
       "      <td>...</td>\n",
       "      <td>...</td>\n",
       "      <td>...</td>\n",
       "      <td>...</td>\n",
       "      <td>...</td>\n",
       "      <td>...</td>\n",
       "      <td>...</td>\n",
       "      <td>...</td>\n",
       "      <td>...</td>\n",
       "      <td>...</td>\n",
       "    </tr>\n",
       "    <tr>\n",
       "      <th>ZNF366</th>\n",
       "      <td>-2.5676</td>\n",
       "      <td>0.1131</td>\n",
       "      <td>-0.3490</td>\n",
       "      <td>0.0017</td>\n",
       "      <td>-0.7287</td>\n",
       "      <td>0.8746</td>\n",
       "      <td>-1.0876</td>\n",
       "      <td>0.0858</td>\n",
       "      <td>-0.1353</td>\n",
       "      <td>0.4076</td>\n",
       "      <td>...</td>\n",
       "      <td>-0.0465</td>\n",
       "      <td>-2.2491</td>\n",
       "      <td>0.0405</td>\n",
       "      <td>0.9032</td>\n",
       "      <td>0.1061</td>\n",
       "      <td>-0.0949</td>\n",
       "      <td>-1.3438</td>\n",
       "      <td>0.2379</td>\n",
       "      <td>-0.1222</td>\n",
       "      <td>0.4353</td>\n",
       "    </tr>\n",
       "    <tr>\n",
       "      <th>ZNF789</th>\n",
       "      <td>0.4864</td>\n",
       "      <td>-0.2682</td>\n",
       "      <td>-0.2500</td>\n",
       "      <td>-0.2071</td>\n",
       "      <td>-0.3179</td>\n",
       "      <td>-1.5413</td>\n",
       "      <td>-0.4738</td>\n",
       "      <td>-1.0343</td>\n",
       "      <td>-0.7212</td>\n",
       "      <td>-1.2202</td>\n",
       "      <td>...</td>\n",
       "      <td>-0.1217</td>\n",
       "      <td>1.2698</td>\n",
       "      <td>1.5746</td>\n",
       "      <td>0.2134</td>\n",
       "      <td>-0.3399</td>\n",
       "      <td>1.0434</td>\n",
       "      <td>-0.0303</td>\n",
       "      <td>1.9519</td>\n",
       "      <td>0.5865</td>\n",
       "      <td>-2.2333</td>\n",
       "    </tr>\n",
       "  </tbody>\n",
       "</table>\n",
       "<p>288 rows × 472 columns</p>\n",
       "</div>"
      ],
      "text/plain": [
       "             TCGA-3N-A9WB-06  TCGA-3N-A9WC-06  TCGA-3N-A9WD-06  \\\n",
       "Hugo_Symbol                                                      \n",
       "AADAT                 0.9406           0.7642          -0.8577   \n",
       "ACSL5                -1.7575           1.8763           0.4186   \n",
       "...                      ...              ...              ...   \n",
       "ZNF366               -2.5676           0.1131          -0.3490   \n",
       "ZNF789                0.4864          -0.2682          -0.2500   \n",
       "\n",
       "             TCGA-BF-A1PU-01  TCGA-BF-A1PV-01  TCGA-BF-A1PX-01  \\\n",
       "Hugo_Symbol                                                      \n",
       "AADAT                 0.2626           1.0801          -0.4675   \n",
       "ACSL5                -0.6434          -1.6541           0.6010   \n",
       "...                      ...              ...              ...   \n",
       "ZNF366                0.0017          -0.7287           0.8746   \n",
       "ZNF789               -0.2071          -0.3179          -1.5413   \n",
       "\n",
       "             TCGA-BF-A1PZ-01  TCGA-BF-A1Q0-01  TCGA-BF-A3DJ-01  \\\n",
       "Hugo_Symbol                                                      \n",
       "AADAT                -0.5017           0.0023           0.8158   \n",
       "ACSL5                -1.2259          -0.2609          -0.2736   \n",
       "...                      ...              ...              ...   \n",
       "ZNF366               -1.0876           0.0858          -0.1353   \n",
       "ZNF789               -0.4738          -1.0343          -0.7212   \n",
       "\n",
       "             TCGA-BF-A3DL-01  ...  TCGA-XV-AB01-06  TCGA-YD-A89C-06  \\\n",
       "Hugo_Symbol                   ...                                     \n",
       "AADAT                -0.3659  ...          -3.3189           1.5967   \n",
       "ACSL5                -1.0435  ...          -0.7938          -1.7527   \n",
       "...                      ...  ...              ...              ...   \n",
       "ZNF366                0.4076  ...          -0.0465          -2.2491   \n",
       "ZNF789               -1.2202  ...          -0.1217           1.2698   \n",
       "\n",
       "             TCGA-YD-A9TA-06  TCGA-YD-A9TB-06  TCGA-YG-AA3N-01  \\\n",
       "Hugo_Symbol                                                      \n",
       "AADAT                 0.2884           0.5263          -2.2513   \n",
       "ACSL5                 0.4196           0.1066           1.5573   \n",
       "...                      ...              ...              ...   \n",
       "ZNF366                0.0405           0.9032           0.1061   \n",
       "ZNF789                1.5746           0.2134          -0.3399   \n",
       "\n",
       "             TCGA-YG-AA3O-06  TCGA-YG-AA3P-06  TCGA-Z2-A8RT-06  \\\n",
       "Hugo_Symbol                                                      \n",
       "AADAT                 0.5282          -0.8271           0.1289   \n",
       "ACSL5                -0.6454          -0.4836           0.4541   \n",
       "...                      ...              ...              ...   \n",
       "ZNF366               -0.0949          -1.3438           0.2379   \n",
       "ZNF789                1.0434          -0.0303           1.9519   \n",
       "\n",
       "             TCGA-Z2-AA3S-06  TCGA-Z2-AA3V-06  \n",
       "Hugo_Symbol                                    \n",
       "AADAT                 0.0298          -2.3755  \n",
       "ACSL5                 1.7642           0.6131  \n",
       "...                      ...              ...  \n",
       "ZNF366               -0.1222           0.4353  \n",
       "ZNF789                0.5865          -2.2333  \n",
       "\n",
       "[288 rows x 472 columns]"
      ]
     },
     "execution_count": 154,
     "metadata": {},
     "output_type": "execute_result"
    }
   ],
   "source": [
    "# select expression data by genes from genes_centroids\n",
    "df = mrna_zcores[mrna_zcores['Hugo_Symbol'].isin(genes_centroids['SYMBOL'])].drop(['Entrez_Gene_Id', 'MAD'], \\\n",
    "                                                                                  axis=1).set_index('Hugo_Symbol').sort_index()\n",
    "df"
   ]
  },
  {
   "cell_type": "markdown",
   "metadata": {},
   "source": [
    "We have data only by 288 genes, so we will work with this"
   ]
  },
  {
   "cell_type": "code",
   "execution_count": 155,
   "metadata": {},
   "outputs": [
    {
     "data": {
      "text/html": [
       "<div>\n",
       "<style scoped>\n",
       "    .dataframe tbody tr th:only-of-type {\n",
       "        vertical-align: middle;\n",
       "    }\n",
       "\n",
       "    .dataframe tbody tr th {\n",
       "        vertical-align: top;\n",
       "    }\n",
       "\n",
       "    .dataframe thead th {\n",
       "        text-align: right;\n",
       "    }\n",
       "</style>\n",
       "<table border=\"1\" class=\"dataframe\">\n",
       "  <thead>\n",
       "    <tr style=\"text-align: right;\">\n",
       "      <th></th>\n",
       "      <th>Normal-like</th>\n",
       "      <th>Proliferative</th>\n",
       "      <th>Pigmentation</th>\n",
       "      <th>High-immune responce</th>\n",
       "    </tr>\n",
       "    <tr>\n",
       "      <th>SYMBOL</th>\n",
       "      <th></th>\n",
       "      <th></th>\n",
       "      <th></th>\n",
       "      <th></th>\n",
       "    </tr>\n",
       "  </thead>\n",
       "  <tbody>\n",
       "    <tr>\n",
       "      <th>AADAT</th>\n",
       "      <td>-0.508825</td>\n",
       "      <td>1.341210</td>\n",
       "      <td>-0.282566</td>\n",
       "      <td>-0.387165</td>\n",
       "    </tr>\n",
       "    <tr>\n",
       "      <th>ACSL5</th>\n",
       "      <td>-0.023600</td>\n",
       "      <td>-1.426732</td>\n",
       "      <td>-0.174250</td>\n",
       "      <td>1.409539</td>\n",
       "    </tr>\n",
       "    <tr>\n",
       "      <th>...</th>\n",
       "      <td>...</td>\n",
       "      <td>...</td>\n",
       "      <td>...</td>\n",
       "      <td>...</td>\n",
       "    </tr>\n",
       "    <tr>\n",
       "      <th>ZNF366</th>\n",
       "      <td>-0.051903</td>\n",
       "      <td>-0.689680</td>\n",
       "      <td>-0.381466</td>\n",
       "      <td>1.138909</td>\n",
       "    </tr>\n",
       "    <tr>\n",
       "      <th>ZNF789</th>\n",
       "      <td>-0.211305</td>\n",
       "      <td>-0.302034</td>\n",
       "      <td>0.598127</td>\n",
       "      <td>-0.522931</td>\n",
       "    </tr>\n",
       "  </tbody>\n",
       "</table>\n",
       "<p>288 rows × 4 columns</p>\n",
       "</div>"
      ],
      "text/plain": [
       "        Normal-like  Proliferative  Pigmentation  High-immune responce\n",
       "SYMBOL                                                                \n",
       "AADAT     -0.508825       1.341210     -0.282566             -0.387165\n",
       "ACSL5     -0.023600      -1.426732     -0.174250              1.409539\n",
       "...             ...            ...           ...                   ...\n",
       "ZNF366    -0.051903      -0.689680     -0.381466              1.138909\n",
       "ZNF789    -0.211305      -0.302034      0.598127             -0.522931\n",
       "\n",
       "[288 rows x 4 columns]"
      ]
     },
     "execution_count": 155,
     "metadata": {},
     "output_type": "execute_result"
    }
   ],
   "source": [
    "# prepare DF with centroids coordinates, with no additional information\n",
    "centroids = genes_centroids.drop_duplicates('SYMBOL').drop(['ProbeID', 'Probe'], axis=1)\n",
    "centroids = centroids.loc[centroids['SYMBOL'].isin(df.index)].set_index('SYMBOL').sort_index()\n",
    "centroids"
   ]
  },
  {
   "cell_type": "markdown",
   "metadata": {},
   "source": [
    "##### **2. Calculate Pearson corralation for pairs \"sample - centroid\"**"
   ]
  },
  {
   "cell_type": "code",
   "execution_count": 156,
   "metadata": {},
   "outputs": [],
   "source": [
    "def pearson_corr(col):\n",
    "    corr = {}\n",
    "    pvalues = {}\n",
    "    for subtype in centroids.columns:\n",
    "        if subtype not in corr.keys():\n",
    "            corr[subtype] = pearsonr(centroids[subtype], col)[0]\n",
    "            pvalues[subtype] = pearsonr(centroids[subtype], col)[1]\n",
    "        else:\n",
    "            corr[subtype].append(pearsonr(centroids[subtype], col)[0])\n",
    "            pvalues[subtype].append(pearsonr(centroids[subtype], col)[1])\n",
    "    return pd.DataFrame.from_dict(corr, orient='index'), pd.DataFrame.from_dict(pvalues, orient='index')\n",
    "    \n",
    "# get DF with corr coefficients and p-values\n",
    "df_corr, df_pvalues = pd.DataFrame(), pd.DataFrame()\n",
    "for col in df.columns:\n",
    "    corr, pvalues = pearson_corr(df[col])\n",
    "    df_corr = pd.concat([df_corr, corr], axis=1)\n",
    "    df_pvalues = pd.concat([df_pvalues, pvalues], axis=1)\n",
    "\n",
    "df_corr.columns = df.columns\n",
    "df_pvalues.columns = df.columns\n",
    "\n",
    "# if p-value < 0.05, set corr = 0\n",
    "for i in range(df_pvalues.shape[0]):\n",
    "    for j in range(df_pvalues.shape[1]):\n",
    "        if df_pvalues.iloc[i, j] < 0.05:\n",
    "            df_corr.iloc[i, j] = 0"
   ]
  },
  {
   "cell_type": "markdown",
   "metadata": {},
   "source": [
    "In the [article](https://aacrjournals.org/clincancerres/article/16/13/3356/11021/XSLT_Related_Article_Replace_Href) they used correlation coefficient threshold > 0.1. Our correlations are too weak, and we select samples with correlation coefficient threshold > 0:"
   ]
  },
  {
   "cell_type": "code",
   "execution_count": 157,
   "metadata": {},
   "outputs": [],
   "source": [
    "df_corr = df_corr.T\n",
    "df_corr['max_corr'] = df_corr.apply(max, axis=1)\n",
    "df_corr = df_corr.loc[df_corr.max_corr > 0]"
   ]
  },
  {
   "cell_type": "markdown",
   "metadata": {},
   "source": [
    "Correlate the correlation coefficients with the subtypes:"
   ]
  },
  {
   "cell_type": "code",
   "execution_count": 158,
   "metadata": {},
   "outputs": [
    {
     "data": {
      "text/html": [
       "<div>\n",
       "<style scoped>\n",
       "    .dataframe tbody tr th:only-of-type {\n",
       "        vertical-align: middle;\n",
       "    }\n",
       "\n",
       "    .dataframe tbody tr th {\n",
       "        vertical-align: top;\n",
       "    }\n",
       "\n",
       "    .dataframe thead th {\n",
       "        text-align: right;\n",
       "    }\n",
       "</style>\n",
       "<table border=\"1\" class=\"dataframe\">\n",
       "  <thead>\n",
       "    <tr style=\"text-align: right;\">\n",
       "      <th></th>\n",
       "      <th>Normal-like</th>\n",
       "      <th>Proliferative</th>\n",
       "      <th>Pigmentation</th>\n",
       "      <th>High-immune responce</th>\n",
       "      <th>max_corr</th>\n",
       "      <th>subtype</th>\n",
       "    </tr>\n",
       "  </thead>\n",
       "  <tbody>\n",
       "    <tr>\n",
       "      <th>TCGA-BF-A1PU-01</th>\n",
       "      <td>0.105626</td>\n",
       "      <td>0.060759</td>\n",
       "      <td>0.000000</td>\n",
       "      <td>0.0</td>\n",
       "      <td>0.105626</td>\n",
       "      <td>Normal-like</td>\n",
       "    </tr>\n",
       "    <tr>\n",
       "      <th>TCGA-BF-A1PV-01</th>\n",
       "      <td>0.037297</td>\n",
       "      <td>0.000000</td>\n",
       "      <td>0.000000</td>\n",
       "      <td>0.0</td>\n",
       "      <td>0.037297</td>\n",
       "      <td>Normal-like</td>\n",
       "    </tr>\n",
       "    <tr>\n",
       "      <th>...</th>\n",
       "      <td>...</td>\n",
       "      <td>...</td>\n",
       "      <td>...</td>\n",
       "      <td>...</td>\n",
       "      <td>...</td>\n",
       "      <td>...</td>\n",
       "    </tr>\n",
       "    <tr>\n",
       "      <th>TCGA-YG-AA3N-01</th>\n",
       "      <td>0.000000</td>\n",
       "      <td>0.000000</td>\n",
       "      <td>0.040824</td>\n",
       "      <td>0.0</td>\n",
       "      <td>0.040824</td>\n",
       "      <td>Pigmentation</td>\n",
       "    </tr>\n",
       "    <tr>\n",
       "      <th>TCGA-Z2-AA3V-06</th>\n",
       "      <td>0.019345</td>\n",
       "      <td>0.000000</td>\n",
       "      <td>-0.061693</td>\n",
       "      <td>0.0</td>\n",
       "      <td>0.019345</td>\n",
       "      <td>Normal-like</td>\n",
       "    </tr>\n",
       "  </tbody>\n",
       "</table>\n",
       "<p>217 rows × 6 columns</p>\n",
       "</div>"
      ],
      "text/plain": [
       "                 Normal-like  Proliferative  Pigmentation  \\\n",
       "TCGA-BF-A1PU-01     0.105626       0.060759      0.000000   \n",
       "TCGA-BF-A1PV-01     0.037297       0.000000      0.000000   \n",
       "...                      ...            ...           ...   \n",
       "TCGA-YG-AA3N-01     0.000000       0.000000      0.040824   \n",
       "TCGA-Z2-AA3V-06     0.019345       0.000000     -0.061693   \n",
       "\n",
       "                 High-immune responce  max_corr       subtype  \n",
       "TCGA-BF-A1PU-01                   0.0  0.105626   Normal-like  \n",
       "TCGA-BF-A1PV-01                   0.0  0.037297   Normal-like  \n",
       "...                               ...       ...           ...  \n",
       "TCGA-YG-AA3N-01                   0.0  0.040824  Pigmentation  \n",
       "TCGA-Z2-AA3V-06                   0.0  0.019345   Normal-like  \n",
       "\n",
       "[217 rows x 6 columns]"
      ]
     },
     "execution_count": 158,
     "metadata": {},
     "output_type": "execute_result"
    }
   ],
   "source": [
    "def subtypes(row):\n",
    "    d = row.to_dict()\n",
    "    for key in d:\n",
    "        if d[key] == max(d.values()):\n",
    "            return key\n",
    "\n",
    "df_corr['subtype'] = df_corr.drop('max_corr', axis=1).apply(subtypes, axis=1)\n",
    "df_corr"
   ]
  },
  {
   "cell_type": "code",
   "execution_count": 159,
   "metadata": {},
   "outputs": [
    {
     "data": {
      "image/png": "[encoded data removed]",
      "text/plain": [
       "<Figure size 800x300 with 1 Axes>"
      ]
     },
     "metadata": {},
     "output_type": "display_data"
    }
   ],
   "source": [
    "plot_KM(df_corr, 'subtype', size=(8, 3))"
   ]
  },
  {
   "cell_type": "code",
   "execution_count": 160,
   "metadata": {},
   "outputs": [
    {
     "data": {
      "text/plain": [
       "subtype\n",
       "Proliferative           79\n",
       "Normal-like             53\n",
       "Pigmentation            47\n",
       "High-immune responce    38\n",
       "Name: count, dtype: int64"
      ]
     },
     "execution_count": 160,
     "metadata": {},
     "output_type": "execute_result"
    }
   ],
   "source": [
    "df_corr['subtype'].value_counts()"
   ]
  },
  {
   "cell_type": "markdown",
   "metadata": {},
   "source": [
    "We split 217 samplesout of 472 into four groups.   \n",
    "Save the results:"
   ]
  },
  {
   "cell_type": "code",
   "execution_count": 161,
   "metadata": {},
   "outputs": [],
   "source": [
    "df_corr[['subtype']].to_csv('task2_correlation_217_samples.csv')"
   ]
  },
  {
   "cell_type": "markdown",
   "metadata": {},
   "source": [
    "##### **3. Calculate distances from each sample to each centroid**\n",
    "Now we try another way to split samples into four group. Let's calculate distances from each sample to each centroid, and for each sample choose the nearest centroid. As we are not sure, that expression data and centrois coordinates are in the same scale, we will use ```correlation``` distance metric:"
   ]
  },
  {
   "cell_type": "code",
   "execution_count": 162,
   "metadata": {},
   "outputs": [
    {
     "data": {
      "text/html": [
       "<div>\n",
       "<style scoped>\n",
       "    .dataframe tbody tr th:only-of-type {\n",
       "        vertical-align: middle;\n",
       "    }\n",
       "\n",
       "    .dataframe tbody tr th {\n",
       "        vertical-align: top;\n",
       "    }\n",
       "\n",
       "    .dataframe thead th {\n",
       "        text-align: right;\n",
       "    }\n",
       "</style>\n",
       "<table border=\"1\" class=\"dataframe\">\n",
       "  <thead>\n",
       "    <tr style=\"text-align: right;\">\n",
       "      <th></th>\n",
       "      <th>Normal-like</th>\n",
       "      <th>Proliferative</th>\n",
       "      <th>Pigmentation</th>\n",
       "      <th>High-immune responce</th>\n",
       "      <th>subtype</th>\n",
       "    </tr>\n",
       "  </thead>\n",
       "  <tbody>\n",
       "    <tr>\n",
       "      <th>TCGA-3N-A9WB-06</th>\n",
       "      <td>0.817230</td>\n",
       "      <td>0.841250</td>\n",
       "      <td>0.705656</td>\n",
       "      <td>1.666772</td>\n",
       "      <td>Pigmentation</td>\n",
       "    </tr>\n",
       "    <tr>\n",
       "      <th>TCGA-3N-A9WC-06</th>\n",
       "      <td>1.221977</td>\n",
       "      <td>1.251290</td>\n",
       "      <td>0.842360</td>\n",
       "      <td>0.736645</td>\n",
       "      <td>High-immune responce</td>\n",
       "    </tr>\n",
       "    <tr>\n",
       "      <th>...</th>\n",
       "      <td>...</td>\n",
       "      <td>...</td>\n",
       "      <td>...</td>\n",
       "      <td>...</td>\n",
       "      <td>...</td>\n",
       "    </tr>\n",
       "    <tr>\n",
       "      <th>TCGA-Z2-AA3S-06</th>\n",
       "      <td>1.334874</td>\n",
       "      <td>1.135139</td>\n",
       "      <td>0.595725</td>\n",
       "      <td>1.047548</td>\n",
       "      <td>Pigmentation</td>\n",
       "    </tr>\n",
       "    <tr>\n",
       "      <th>TCGA-Z2-AA3V-06</th>\n",
       "      <td>0.980655</td>\n",
       "      <td>1.232235</td>\n",
       "      <td>1.061693</td>\n",
       "      <td>0.748800</td>\n",
       "      <td>High-immune responce</td>\n",
       "    </tr>\n",
       "  </tbody>\n",
       "</table>\n",
       "<p>472 rows × 5 columns</p>\n",
       "</div>"
      ],
      "text/plain": [
       "                 Normal-like  Proliferative  Pigmentation  \\\n",
       "TCGA-3N-A9WB-06     0.817230       0.841250      0.705656   \n",
       "TCGA-3N-A9WC-06     1.221977       1.251290      0.842360   \n",
       "...                      ...            ...           ...   \n",
       "TCGA-Z2-AA3S-06     1.334874       1.135139      0.595725   \n",
       "TCGA-Z2-AA3V-06     0.980655       1.232235      1.061693   \n",
       "\n",
       "                 High-immune responce               subtype  \n",
       "TCGA-3N-A9WB-06              1.666772          Pigmentation  \n",
       "TCGA-3N-A9WC-06              0.736645  High-immune responce  \n",
       "...                               ...                   ...  \n",
       "TCGA-Z2-AA3S-06              1.047548          Pigmentation  \n",
       "TCGA-Z2-AA3V-06              0.748800  High-immune responce  \n",
       "\n",
       "[472 rows x 5 columns]"
      ]
     },
     "execution_count": 162,
     "metadata": {},
     "output_type": "execute_result"
    }
   ],
   "source": [
    "# calculate distances\n",
    "distances = pd.DataFrame.from_dict(distance.cdist(df.T, centroids.T, 'correlation'))\n",
    "distances.columns = centroids.columns\n",
    "distances.index = df.columns\n",
    "\n",
    "# select the nearest centroid\n",
    "def subtypes(row):\n",
    "    d = row.to_dict()\n",
    "    for key in d:\n",
    "        if d[key] == min(d.values()):\n",
    "            return key\n",
    "\n",
    "distances['subtype'] = distances.apply(subtypes, axis=1)\n",
    "distances"
   ]
  },
  {
   "cell_type": "code",
   "execution_count": 163,
   "metadata": {},
   "outputs": [
    {
     "data": {
      "text/plain": [
       "subtype\n",
       "Pigmentation            196\n",
       "High-immune responce    138\n",
       "Proliferative            74\n",
       "Normal-like              64\n",
       "Name: count, dtype: int64"
      ]
     },
     "execution_count": 163,
     "metadata": {},
     "output_type": "execute_result"
    }
   ],
   "source": [
    "distances['subtype'].value_counts()"
   ]
  },
  {
   "cell_type": "markdown",
   "metadata": {},
   "source": [
    "##### **4. Kaplan-Meier curves**"
   ]
  },
  {
   "cell_type": "code",
   "execution_count": 164,
   "metadata": {},
   "outputs": [
    {
     "data": {
      "image/png": "[encoded data removed]",
      "text/plain": [
       "<Figure size 800x300 with 1 Axes>"
      ]
     },
     "metadata": {},
     "output_type": "display_data"
    }
   ],
   "source": [
    "plot_KM(distances, 'subtype', size=(8, 3))"
   ]
  },
  {
   "cell_type": "markdown",
   "metadata": {},
   "source": [
    "If we compare ROC curves from point 2 and 3 with curves from [article](https://aacrjournals.org/clincancerres/article/16/13/3356/11021/XSLT_Related_Article_Replace_Href), we see, that our classification do not reproduce influence of class on patient survival.   \n",
    "It's not a surprise: this classification is far from ideal, and I would definitely not recommend using it for any prognosis"
   ]
  },
  {
   "cell_type": "markdown",
   "metadata": {},
   "source": [
    "Save the reasults:"
   ]
  },
  {
   "cell_type": "code",
   "execution_count": 165,
   "metadata": {},
   "outputs": [],
   "source": [
    "distances[['subtype']].to_csv('task2_distances_472_samples.csv')"
   ]
  },
  {
   "cell_type": "markdown",
   "metadata": {},
   "source": [
    "##### **5. Combine all clusterization and classification results for 472 samples**"
   ]
  },
  {
   "cell_type": "code",
   "execution_count": 166,
   "metadata": {},
   "outputs": [
    {
     "data": {
      "text/html": [
       "<div>\n",
       "<style scoped>\n",
       "    .dataframe tbody tr th:only-of-type {\n",
       "        vertical-align: middle;\n",
       "    }\n",
       "\n",
       "    .dataframe tbody tr th {\n",
       "        vertical-align: top;\n",
       "    }\n",
       "\n",
       "    .dataframe thead th {\n",
       "        text-align: right;\n",
       "    }\n",
       "</style>\n",
       "<table border=\"1\" class=\"dataframe\">\n",
       "  <thead>\n",
       "    <tr style=\"text-align: right;\">\n",
       "      <th></th>\n",
       "      <th>reference</th>\n",
       "      <th>AgglomerativeClustering</th>\n",
       "      <th>LogisticRegression</th>\n",
       "      <th>RandomForest</th>\n",
       "      <th>correlation_subtype</th>\n",
       "      <th>distances_subtype</th>\n",
       "    </tr>\n",
       "  </thead>\n",
       "  <tbody>\n",
       "    <tr>\n",
       "      <th>TCGA-BF-A1PU-01</th>\n",
       "      <td>keratin</td>\n",
       "      <td>keratin</td>\n",
       "      <td>keratin</td>\n",
       "      <td>keratin</td>\n",
       "      <td>Normal-like</td>\n",
       "      <td>Pigmentation</td>\n",
       "    </tr>\n",
       "    <tr>\n",
       "      <th>TCGA-BF-A1PV-01</th>\n",
       "      <td>keratin</td>\n",
       "      <td>keratin</td>\n",
       "      <td>keratin</td>\n",
       "      <td>keratin</td>\n",
       "      <td>Normal-like</td>\n",
       "      <td>Pigmentation</td>\n",
       "    </tr>\n",
       "    <tr>\n",
       "      <th>...</th>\n",
       "      <td>...</td>\n",
       "      <td>...</td>\n",
       "      <td>...</td>\n",
       "      <td>...</td>\n",
       "      <td>...</td>\n",
       "      <td>...</td>\n",
       "    </tr>\n",
       "    <tr>\n",
       "      <th>TCGA-Z2-AA3S-06</th>\n",
       "      <td>NaN</td>\n",
       "      <td>keratin</td>\n",
       "      <td>keratin</td>\n",
       "      <td>immune</td>\n",
       "      <td>NaN</td>\n",
       "      <td>Pigmentation</td>\n",
       "    </tr>\n",
       "    <tr>\n",
       "      <th>TCGA-Z2-AA3V-06</th>\n",
       "      <td>NaN</td>\n",
       "      <td>keratin</td>\n",
       "      <td>immune</td>\n",
       "      <td>immune</td>\n",
       "      <td>Normal-like</td>\n",
       "      <td>High-immune responce</td>\n",
       "    </tr>\n",
       "  </tbody>\n",
       "</table>\n",
       "<p>472 rows × 6 columns</p>\n",
       "</div>"
      ],
      "text/plain": [
       "                reference AgglomerativeClustering LogisticRegression  \\\n",
       "TCGA-BF-A1PU-01   keratin                 keratin            keratin   \n",
       "TCGA-BF-A1PV-01   keratin                 keratin            keratin   \n",
       "...                   ...                     ...                ...   \n",
       "TCGA-Z2-AA3S-06       NaN                 keratin            keratin   \n",
       "TCGA-Z2-AA3V-06       NaN                 keratin             immune   \n",
       "\n",
       "                RandomForest correlation_subtype     distances_subtype  \n",
       "TCGA-BF-A1PU-01      keratin         Normal-like          Pigmentation  \n",
       "TCGA-BF-A1PV-01      keratin         Normal-like          Pigmentation  \n",
       "...                      ...                 ...                   ...  \n",
       "TCGA-Z2-AA3S-06       immune                 NaN          Pigmentation  \n",
       "TCGA-Z2-AA3V-06       immune         Normal-like  High-immune responce  \n",
       "\n",
       "[472 rows x 6 columns]"
      ]
     },
     "execution_count": 166,
     "metadata": {},
     "output_type": "execute_result"
    }
   ],
   "source": [
    "all_classifications_472 = pd.concat([cluster_top_1500_all[['clusters_original', 'clusters_predicted']], \\\n",
    "           predicted_lr_472[['predicted_lr']], predicted_clf_472[['predicted_clf']], \\\n",
    "            df_corr[['subtype']], distances[['subtype']]], axis=1)\n",
    "\n",
    "all_classifications_472.columns = ['reference', 'AgglomerativeClustering', 'LogisticRegression', \\\n",
    "                                   'RandomForest', 'correlation_subtype', 'distances_subtype']\n",
    "\n",
    "all_classifications_472"
   ]
  },
  {
   "cell_type": "code",
   "execution_count": 167,
   "metadata": {},
   "outputs": [],
   "source": [
    "all_classifications_472.to_csv('all_classifications_472_samples.csv')"
   ]
  },
  {
   "cell_type": "markdown",
   "metadata": {},
   "source": [
    "***********************"
   ]
  },
  {
   "cell_type": "markdown",
   "metadata": {},
   "source": [
    "# Task 3   \n",
    "\n",
    "##### **1. To compare two types of classifications**,    \n",
    "let's look again at classes description:    \n",
    "   \n",
    "***immune cluster***: genes overexpressed in this subclass were associated with immune cell subsets (T cells, B cells, and NK cells), immune signaling molecules, co-stimulatory and co-inhibitory immune checkpoint proteins, cytokines, chemokines, and corresponding receptors  \n",
    "***keratin cluster***: characterized by high expression of genes associated with keratins, pigmentation, and epithelium, as well as genes associated with neuronal development or other organ-specific embryologic development    \n",
    "***MITF-low cluster***: characterized by low expression of genes associated with pigmentation and epithelial expression, including several MITF target genes and genes involved in immunomodulation, adhesion, migration, and extra-cellular matrix. This cluster was significantly enriched with genes preferentially expressed within the nervous system and/or associated with neuronal development or other organ-specific embryologic development.    \n",
    "    \n",
    "***high-immune response subtype***: high expression of genes such as LCK, IFNGR1, HLA class I II antigen, CXCL12, and IL1R1, all involved in different immunologic processes (but also present also in the pigmentation and normal-like subtypes)   \n",
    "***proliferative subtype***: displayed low expression of the same set of immune response genes as well as an elevated expression of cell cycle–associated genes such as E2F1, BUB1, and CCNA2, suggesting highly proliferative tumors   \n",
    "***pigmentation subtype***: displayed a higher expression of genes (e.g., MITF, TYR, SILV, DCT, and EDNRB) involved in melanin synthesis and melanocyte differentiation as compared with the other subtypes   \n",
    "***normal-like subtype*** expressed genes involved in epidermis and ectoderm development, such as KRT10 and KRT17, and also displayed high expression of KIT, FGFR3, and EGFR     \n",
    "\n",
    "Judging by these descriptions, ***immune cluster*** and ***high-immune response subtype*** are practically the same genes with high expression. Both study show that \"immune\" group is statistically correlated with more favorable prognosis. ***Pigmentation subtype*** reminds ***keratin cluster***, but the last one includes genes associated with neuronal and other organ-specific embryologic development. Patients with keratin cluster exhibited worse outcome when compared with stage-matched samples assigned to the immune or MITF-low cluster, supporting the view that the keratin cluster represents, at least in part, a previously unappreciated but biologically distinct melanoma subtype with adverse prognosis. At the same time, the results of the second study regarding this pigmentation subtype are contradictory: this subgroup of patients had a good prognosis in one data set but a poor outcome in another (in test data set the proliferative group having worst prognosis). May be this set of genes are not enough for analyzing and predicting the condition of patients.   \n",
    "Authors of the second article admit, that tumors with increased expression of immune response–related genes were present also in the pigmentation and normal-like subtypes (not only in high-immune response subtype).   \n",
    "   \n",
    "The cohort size in the first study is several times larger than in the second: 329 samles VS 57. But on the other hand, the authors of the second study used independent datasets for validation (although the results are not always reproducible).   \n",
    "\n",
    "**Considering the above, I believe that the first classification more accurately selects significant genes; this classification better reflects the biology of tumors and divides patients into risk groups.**     \n",
    "\n",
    "   \n",
    "##### **2. What about this analysis?**    \n",
    "I can say that the authors' results were reproduced very partially. Among the main reasons I will name:    \n",
    "1. (the most important) Lack of experience. I'll work on it   \n",
    "2. sometimes incomplete description of procedures in articles   \n",
    "3. perhaps it would be worth repeating the procedures from the very beginning - from raw sequencing data   \n",
    "\n",
    "Below I have provided notes and some thoughts on “how it should have been done”"
   ]
  },
  {
   "cell_type": "markdown",
   "metadata": {},
   "source": [
    "***********************************"
   ]
  },
  {
   "cell_type": "markdown",
   "metadata": {},
   "source": [
    "# Notes \n",
    "##### **What should be improve**  \n",
    "1. We did not take into outliers analysis, and they necessarily influence the classification results    \n",
    "2. In task 1 we choose top 1500 the most variable genes usind MAD. I think, there is much precise way   \n",
    "3. We use Mann-Witney U test to compare three groups. It's not OK, obviously. The best way to use differential gene expression analysis, but this requires non-normalized data. It is possible to get them from raw alignment data (the link there is in Supplementary Materials)   \n",
    "Another way - ANOVA with multiple test adjustment.  \n",
    "4. To classify samples we use logistic regression and random forest algorithm, but with all genes in the dataset. Here we need to select significant genes, check for interactions between genes, in a word - make a normal feature selection. This also introduces bias into the results. Moreover, it is necessary to test another classification algorithms    \n",
    "5. Task 2 requires much more attention: the described in the reference article procedure is failed in our work (correlation between samples and centroids). Maybe I misunderstand this algorithms, or maybe it is just not sutable for data described in the first article. The work in these centroid coordinates remains questionable - in which school are they given? It would be good to take the independent data analyzed in this article and see if the results can be replicated with them.   "
   ]
  },
  {
   "cell_type": "markdown",
   "metadata": {},
   "source": [
    "******************************"
   ]
  }
 ],
 "metadata": {
  "kernelspec": {
   "display_name": "base",
   "language": "python",
   "name": "python3"
  },
  "language_info": {
   "codemirror_mode": {
    "name": "ipython",
    "version": 3
   },
   "file_extension": ".py",
   "mimetype": "text/x-python",
   "name": "python",
   "nbconvert_exporter": "python",
   "pygments_lexer": "ipython3",
   "version": "3.10.13"
  },
  "orig_nbformat": 4
 },
 "nbformat": 4,
 "nbformat_minor": 2
}
