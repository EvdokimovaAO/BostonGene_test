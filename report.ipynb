{
 "cells": [
  {
   "cell_type": "markdown",
   "metadata": {},
   "source": [
    "# Tools and packages   \n",
    "\n",
    "**Pyhton 3.10.13**   \n",
    "**pandas v1.3.5**   \n",
    "**numpy v1.21.5**   \n",
    "**statistics**   \n",
    "**scipy v1.7.3**   \n",
    "**scikit-learn v.0.22.1**   \n",
    "**statsmodels v.0.13.5**   \n",
    "**matplotlib v3.5.3**   \n",
    "**seaborn v0.12.2**   \n",
    "**plotly v5.17.0**   \n",
    "**dash v2.14.0**   \n",
    "**biopython v1.78**    \n",
    "   \n",
    "\n",
    "# Resources and References\n",
    "1. [NCBI](https://www.ncbi.nlm.nih.gov/)    \n",
    "2. [cBioPortal](http://www.cbioportal.org/)   \n",
    "3. Cancer Genome Atlas Network. Genomic Classification of Cutaneous Melanoma. Cell. 2015 Jun 18;161(7):1681-96. doi: 10.1016/j.cell.2015.05.044. PMID: 26091043; PMCID: [PMC4580370.](https://www.ncbi.nlm.nih.gov/pmc/articles/PMC4580370/)    \n",
    "4. Gene Expression Profiling–Based Identification of Molecular Subtypes in Stage IV Melanomas with Different Clinical Outcome. Clin Cancer Res (2010) 16 (13): 3356–3367. [doi:/10.1158/1078-0432.CCR-09-2509](https://aacrjournals.org/clincancerres/article/16/13/3356/11021/XSLT_Related_Article_Replace_Href)   \n",
    "5. Piccolo SR, Mecham A, Golightly NP, Johnson JL, Miller DB. The ability to classify patients based on gene-expression data varies by algorithm and performance metric. PLoS Comput Biol. 2022 Mar 11;18(3):e1009926. doi: 10.1371/journal.pcbi.1009926. PMID: 35275931; [PMCID: PMC8942277.](https://www.ncbi.nlm.nih.gov/pmc/articles/PMC8942277/)\n",
    "   \n",
    "     \n",
    "# Imports\n"
   ]
  },
  {
   "cell_type": "code",
   "execution_count": 4,
   "metadata": {
    "tags": []
   },
   "outputs": [],
   "source": [
    "import pandas as pd\n",
    "import numpy as np\n",
    "import os\n",
    "\n",
    "from scipy.stats import median_abs_deviation\n",
    "from scipy.spatial.distance import pdist\n",
    "from scipy.stats import mannwhitneyu\n",
    "from scipy.cluster import hierarchy\n",
    "from scipy.stats import pearsonr \n",
    "from scipy.spatial import distance\n",
    "from statsmodels.stats.multitest import multipletests\n",
    "\n",
    "from sklearn.cluster import AgglomerativeClustering\n",
    "from sklearn.linear_model import LogisticRegression\n",
    "from sklearn import metrics\n",
    "from sklearn.preprocessing import LabelBinarizer\n",
    "from sklearn.metrics import RocCurveDisplay\n",
    "\n",
    "import matplotlib.pyplot as plt\n",
    "import plotly.graph_objs as go\n",
    "from dash import Dash, dcc, html\n",
    "import kaplanmeier as km\n",
    "\n",
    "\n",
    "from Bio import Entrez\n",
    "Entrez.email = \"an.eudokimova@yandex.ru\""
   ]
  },
  {
   "cell_type": "markdown",
   "metadata": {},
   "source": [
    "# Some technical functions and settings"
   ]
  },
  {
   "cell_type": "code",
   "execution_count": 74,
   "metadata": {},
   "outputs": [],
   "source": [
    "# set working directory\n",
    "# here there are all input data: clustering_329.xlsx - clustered 329 samples from the first article\n",
    "# and folder skcm_tcga - full data on a cohort of melanoma patients\n",
    "# all results will be saved here\n",
    "os.chdir(\"D:\\\\BostonGene\\\\TEST\\\\\")\n",
    "\n",
    "# display pandas DF\n",
    "pd.set_option(\"display.max_rows\", 5)\n",
    "\n",
    "# display long tables\n",
    "def table(df, columnwidth, title_text, port=2223):\n",
    "    fig = go.Figure(data=[go.Table(\n",
    "    columnwidth = columnwidth,\n",
    "    header=dict(values=list(df.columns),\n",
    "                align='left'),\n",
    "    cells=dict(values=[df[i] for i in df.columns],           \n",
    "                align='left'))\n",
    "    ])\n",
    "    fig.update_layout(\n",
    "    height=800,\n",
    "    showlegend=False,\n",
    "    title_text=title_text)\n",
    "\n",
    "    app = Dash()\n",
    "    app.layout = html.Div([\n",
    "        dcc.Graph(figure=fig)])\n",
    "    app.run_server(debug=True, use_reloader=True, port=port)"
   ]
  },
  {
   "cell_type": "markdown",
   "metadata": {},
   "source": [
    "# Load and prepare data"
   ]
  },
  {
   "cell_type": "code",
   "execution_count": 6,
   "metadata": {},
   "outputs": [
    {
     "data": {
      "text/html": [
       "<div>\n",
       "<style scoped>\n",
       "    .dataframe tbody tr th:only-of-type {\n",
       "        vertical-align: middle;\n",
       "    }\n",
       "\n",
       "    .dataframe tbody tr th {\n",
       "        vertical-align: top;\n",
       "    }\n",
       "\n",
       "    .dataframe thead th {\n",
       "        text-align: right;\n",
       "    }\n",
       "</style>\n",
       "<table border=\"1\" class=\"dataframe\">\n",
       "  <thead>\n",
       "    <tr style=\"text-align: right;\">\n",
       "      <th></th>\n",
       "      <th>Name</th>\n",
       "      <th>RNASEQ-CLUSTER_CONSENHIER</th>\n",
       "    </tr>\n",
       "  </thead>\n",
       "  <tbody>\n",
       "    <tr>\n",
       "      <th>0</th>\n",
       "      <td>TCGA-BF-A1PU-01</td>\n",
       "      <td>keratin</td>\n",
       "    </tr>\n",
       "    <tr>\n",
       "      <th>1</th>\n",
       "      <td>TCGA-BF-A1PV-01</td>\n",
       "      <td>keratin</td>\n",
       "    </tr>\n",
       "    <tr>\n",
       "      <th>...</th>\n",
       "      <td>...</td>\n",
       "      <td>...</td>\n",
       "    </tr>\n",
       "    <tr>\n",
       "      <th>327</th>\n",
       "      <td>TCGA-HR-A5NC-01</td>\n",
       "      <td>keratin</td>\n",
       "    </tr>\n",
       "    <tr>\n",
       "      <th>328</th>\n",
       "      <td>TCGA-IH-A3EA-01</td>\n",
       "      <td>keratin</td>\n",
       "    </tr>\n",
       "  </tbody>\n",
       "</table>\n",
       "<p>329 rows × 2 columns</p>\n",
       "</div>"
      ],
      "text/plain": [
       "                Name RNASEQ-CLUSTER_CONSENHIER\n",
       "0    TCGA-BF-A1PU-01                   keratin\n",
       "1    TCGA-BF-A1PV-01                   keratin\n",
       "..               ...                       ...\n",
       "327  TCGA-HR-A5NC-01                   keratin\n",
       "328  TCGA-IH-A3EA-01                   keratin\n",
       "\n",
       "[329 rows x 2 columns]"
      ]
     },
     "execution_count": 6,
     "metadata": {},
     "output_type": "execute_result"
    }
   ],
   "source": [
    "# 329 described in the first article ans clustered samples\n",
    "clustering_329 = pd.read_excel('clustering_329.xlsx')\n",
    "clustering_329 = clustering_329.loc[clustering_329['RNASEQ-CLUSTER_CONSENHIER'] != '-'].reset_index().drop('index', axis=1)\n",
    "clustering_329"
   ]
  },
  {
   "cell_type": "code",
   "execution_count": 7,
   "metadata": {},
   "outputs": [
    {
     "data": {
      "text/html": [
       "<div>\n",
       "<style scoped>\n",
       "    .dataframe tbody tr th:only-of-type {\n",
       "        vertical-align: middle;\n",
       "    }\n",
       "\n",
       "    .dataframe tbody tr th {\n",
       "        vertical-align: top;\n",
       "    }\n",
       "\n",
       "    .dataframe thead th {\n",
       "        text-align: right;\n",
       "    }\n",
       "</style>\n",
       "<table border=\"1\" class=\"dataframe\">\n",
       "  <thead>\n",
       "    <tr style=\"text-align: right;\">\n",
       "      <th></th>\n",
       "      <th>Hugo_Symbol</th>\n",
       "      <th>Entrez_Gene_Id</th>\n",
       "      <th>TCGA-3N-A9WB-06</th>\n",
       "      <th>TCGA-3N-A9WC-06</th>\n",
       "      <th>TCGA-3N-A9WD-06</th>\n",
       "      <th>TCGA-BF-A1PU-01</th>\n",
       "      <th>TCGA-BF-A1PV-01</th>\n",
       "      <th>TCGA-BF-A1PX-01</th>\n",
       "      <th>TCGA-BF-A1PZ-01</th>\n",
       "      <th>TCGA-BF-A1Q0-01</th>\n",
       "      <th>...</th>\n",
       "      <th>TCGA-XV-AB01-06</th>\n",
       "      <th>TCGA-YD-A89C-06</th>\n",
       "      <th>TCGA-YD-A9TA-06</th>\n",
       "      <th>TCGA-YD-A9TB-06</th>\n",
       "      <th>TCGA-YG-AA3N-01</th>\n",
       "      <th>TCGA-YG-AA3O-06</th>\n",
       "      <th>TCGA-YG-AA3P-06</th>\n",
       "      <th>TCGA-Z2-A8RT-06</th>\n",
       "      <th>TCGA-Z2-AA3S-06</th>\n",
       "      <th>TCGA-Z2-AA3V-06</th>\n",
       "    </tr>\n",
       "  </thead>\n",
       "  <tbody>\n",
       "    <tr>\n",
       "      <th>0</th>\n",
       "      <td>LOC100130426</td>\n",
       "      <td>100130426</td>\n",
       "      <td>-4.7294</td>\n",
       "      <td>-4.7294</td>\n",
       "      <td>-4.7294</td>\n",
       "      <td>-4.7294</td>\n",
       "      <td>-4.7294</td>\n",
       "      <td>-4.7294</td>\n",
       "      <td>-4.7294</td>\n",
       "      <td>-4.7294</td>\n",
       "      <td>...</td>\n",
       "      <td>-4.7294</td>\n",
       "      <td>-4.7294</td>\n",
       "      <td>-4.7294</td>\n",
       "      <td>-4.7294</td>\n",
       "      <td>1.6457</td>\n",
       "      <td>-4.7294</td>\n",
       "      <td>-4.7294</td>\n",
       "      <td>-4.7294</td>\n",
       "      <td>-4.7294</td>\n",
       "      <td>-4.7294</td>\n",
       "    </tr>\n",
       "    <tr>\n",
       "      <th>1</th>\n",
       "      <td>UBE2Q2P3</td>\n",
       "      <td>100133144</td>\n",
       "      <td>-0.0298</td>\n",
       "      <td>0.1445</td>\n",
       "      <td>0.1639</td>\n",
       "      <td>-1.8924</td>\n",
       "      <td>-0.3805</td>\n",
       "      <td>-1.6986</td>\n",
       "      <td>-1.1376</td>\n",
       "      <td>1.9075</td>\n",
       "      <td>...</td>\n",
       "      <td>-2.2617</td>\n",
       "      <td>1.6347</td>\n",
       "      <td>2.6880</td>\n",
       "      <td>0.1601</td>\n",
       "      <td>-1.6843</td>\n",
       "      <td>1.7471</td>\n",
       "      <td>-1.5872</td>\n",
       "      <td>0.7220</td>\n",
       "      <td>-0.3672</td>\n",
       "      <td>-0.5248</td>\n",
       "    </tr>\n",
       "    <tr>\n",
       "      <th>...</th>\n",
       "      <td>...</td>\n",
       "      <td>...</td>\n",
       "      <td>...</td>\n",
       "      <td>...</td>\n",
       "      <td>...</td>\n",
       "      <td>...</td>\n",
       "      <td>...</td>\n",
       "      <td>...</td>\n",
       "      <td>...</td>\n",
       "      <td>...</td>\n",
       "      <td>...</td>\n",
       "      <td>...</td>\n",
       "      <td>...</td>\n",
       "      <td>...</td>\n",
       "      <td>...</td>\n",
       "      <td>...</td>\n",
       "      <td>...</td>\n",
       "      <td>...</td>\n",
       "      <td>...</td>\n",
       "      <td>...</td>\n",
       "      <td>...</td>\n",
       "    </tr>\n",
       "    <tr>\n",
       "      <th>20529</th>\n",
       "      <td>TPTEP1</td>\n",
       "      <td>387590</td>\n",
       "      <td>-0.9070</td>\n",
       "      <td>-0.5454</td>\n",
       "      <td>2.5005</td>\n",
       "      <td>-0.9604</td>\n",
       "      <td>-1.1788</td>\n",
       "      <td>2.9394</td>\n",
       "      <td>-1.5040</td>\n",
       "      <td>-0.4323</td>\n",
       "      <td>...</td>\n",
       "      <td>0.5895</td>\n",
       "      <td>-1.5267</td>\n",
       "      <td>-0.6127</td>\n",
       "      <td>-0.4737</td>\n",
       "      <td>0.5577</td>\n",
       "      <td>-0.7263</td>\n",
       "      <td>0.0930</td>\n",
       "      <td>-0.4595</td>\n",
       "      <td>-0.8333</td>\n",
       "      <td>0.9540</td>\n",
       "    </tr>\n",
       "    <tr>\n",
       "      <th>20530</th>\n",
       "      <td>AKR1C6P</td>\n",
       "      <td>389932</td>\n",
       "      <td>-2.8387</td>\n",
       "      <td>-0.4852</td>\n",
       "      <td>-2.8387</td>\n",
       "      <td>-2.8387</td>\n",
       "      <td>-2.8387</td>\n",
       "      <td>-2.8387</td>\n",
       "      <td>-2.8387</td>\n",
       "      <td>-2.8387</td>\n",
       "      <td>...</td>\n",
       "      <td>-2.8387</td>\n",
       "      <td>-2.8387</td>\n",
       "      <td>-0.8132</td>\n",
       "      <td>-2.8387</td>\n",
       "      <td>-2.8387</td>\n",
       "      <td>-2.8387</td>\n",
       "      <td>-2.8387</td>\n",
       "      <td>-2.8387</td>\n",
       "      <td>-1.0741</td>\n",
       "      <td>-2.8387</td>\n",
       "    </tr>\n",
       "  </tbody>\n",
       "</table>\n",
       "<p>20531 rows × 474 columns</p>\n",
       "</div>"
      ],
      "text/plain": [
       "        Hugo_Symbol  Entrez_Gene_Id  TCGA-3N-A9WB-06  TCGA-3N-A9WC-06  \\\n",
       "0      LOC100130426       100130426          -4.7294          -4.7294   \n",
       "1          UBE2Q2P3       100133144          -0.0298           0.1445   \n",
       "...             ...             ...              ...              ...   \n",
       "20529        TPTEP1          387590          -0.9070          -0.5454   \n",
       "20530       AKR1C6P          389932          -2.8387          -0.4852   \n",
       "\n",
       "       TCGA-3N-A9WD-06  TCGA-BF-A1PU-01  TCGA-BF-A1PV-01  TCGA-BF-A1PX-01  \\\n",
       "0              -4.7294          -4.7294          -4.7294          -4.7294   \n",
       "1               0.1639          -1.8924          -0.3805          -1.6986   \n",
       "...                ...              ...              ...              ...   \n",
       "20529           2.5005          -0.9604          -1.1788           2.9394   \n",
       "20530          -2.8387          -2.8387          -2.8387          -2.8387   \n",
       "\n",
       "       TCGA-BF-A1PZ-01  TCGA-BF-A1Q0-01  ...  TCGA-XV-AB01-06  \\\n",
       "0              -4.7294          -4.7294  ...          -4.7294   \n",
       "1              -1.1376           1.9075  ...          -2.2617   \n",
       "...                ...              ...  ...              ...   \n",
       "20529          -1.5040          -0.4323  ...           0.5895   \n",
       "20530          -2.8387          -2.8387  ...          -2.8387   \n",
       "\n",
       "       TCGA-YD-A89C-06  TCGA-YD-A9TA-06  TCGA-YD-A9TB-06  TCGA-YG-AA3N-01  \\\n",
       "0              -4.7294          -4.7294          -4.7294           1.6457   \n",
       "1               1.6347           2.6880           0.1601          -1.6843   \n",
       "...                ...              ...              ...              ...   \n",
       "20529          -1.5267          -0.6127          -0.4737           0.5577   \n",
       "20530          -2.8387          -0.8132          -2.8387          -2.8387   \n",
       "\n",
       "       TCGA-YG-AA3O-06  TCGA-YG-AA3P-06  TCGA-Z2-A8RT-06  TCGA-Z2-AA3S-06  \\\n",
       "0              -4.7294          -4.7294          -4.7294          -4.7294   \n",
       "1               1.7471          -1.5872           0.7220          -0.3672   \n",
       "...                ...              ...              ...              ...   \n",
       "20529          -0.7263           0.0930          -0.4595          -0.8333   \n",
       "20530          -2.8387          -2.8387          -2.8387          -1.0741   \n",
       "\n",
       "       TCGA-Z2-AA3V-06  \n",
       "0              -4.7294  \n",
       "1              -0.5248  \n",
       "...                ...  \n",
       "20529           0.9540  \n",
       "20530          -2.8387  \n",
       "\n",
       "[20531 rows x 474 columns]"
      ]
     },
     "execution_count": 7,
     "metadata": {},
     "output_type": "execute_result"
    }
   ],
   "source": [
    "# mRNA Seq upper quartile normalized RSEM, log2 -transformed and median centered across samples data\n",
    "# all samples (472)\n",
    "mrna_zcores = pd.read_csv('skcm_tcga\\data_mrna_seq_v2_rsem_zscores_ref_all_samples.txt', sep='\\t')\n",
    "mrna_zcores"
   ]
  },
  {
   "cell_type": "code",
   "execution_count": 8,
   "metadata": {},
   "outputs": [
    {
     "data": {
      "text/html": [
       "<div>\n",
       "<style scoped>\n",
       "    .dataframe tbody tr th:only-of-type {\n",
       "        vertical-align: middle;\n",
       "    }\n",
       "\n",
       "    .dataframe tbody tr th {\n",
       "        vertical-align: top;\n",
       "    }\n",
       "\n",
       "    .dataframe thead th {\n",
       "        text-align: right;\n",
       "    }\n",
       "</style>\n",
       "<table border=\"1\" class=\"dataframe\">\n",
       "  <thead>\n",
       "    <tr style=\"text-align: right;\">\n",
       "      <th></th>\n",
       "      <th>OTHER_PATIENT_ID</th>\n",
       "      <th>PATIENT_ID</th>\n",
       "      <th>FORM_COMPLETION_DATE</th>\n",
       "      <th>PROSPECTIVE_COLLECTION</th>\n",
       "      <th>RETROSPECTIVE_COLLECTION</th>\n",
       "      <th>SEX</th>\n",
       "      <th>HEIGHT</th>\n",
       "      <th>WEIGHT</th>\n",
       "      <th>RACE</th>\n",
       "      <th>ETHNICITY</th>\n",
       "      <th>...</th>\n",
       "      <th>ICD_O_3_SITE</th>\n",
       "      <th>INFORMED_CONSENT_VERIFIED</th>\n",
       "      <th>PROJECT_CODE</th>\n",
       "      <th>STAGE_OTHER</th>\n",
       "      <th>TISSUE_SOURCE_SITE</th>\n",
       "      <th>TUMOR_TISSUE_SITE_OTHER</th>\n",
       "      <th>OS_STATUS</th>\n",
       "      <th>OS_MONTHS</th>\n",
       "      <th>DFS_STATUS</th>\n",
       "      <th>DFS_MONTHS</th>\n",
       "    </tr>\n",
       "  </thead>\n",
       "  <tbody>\n",
       "    <tr>\n",
       "      <th>0</th>\n",
       "      <td>5564E6A7-2195-4B0D-994E-B0617B58E889</td>\n",
       "      <td>TCGA-3N-A9WB</td>\n",
       "      <td>5/29/14</td>\n",
       "      <td>YES</td>\n",
       "      <td>NO</td>\n",
       "      <td>Male</td>\n",
       "      <td>175</td>\n",
       "      <td>78</td>\n",
       "      <td>WHITE</td>\n",
       "      <td>NOT HISPANIC OR LATINO</td>\n",
       "      <td>...</td>\n",
       "      <td>C44.5</td>\n",
       "      <td>YES</td>\n",
       "      <td>[Not Available]</td>\n",
       "      <td>[Not Available]</td>\n",
       "      <td>3N</td>\n",
       "      <td>[Not Applicable]</td>\n",
       "      <td>1:DECEASED</td>\n",
       "      <td>17.02</td>\n",
       "      <td>1:Recurred/Progressed</td>\n",
       "      <td>16</td>\n",
       "    </tr>\n",
       "    <tr>\n",
       "      <th>1</th>\n",
       "      <td>551E071A-C290-4B48-9000-F64C2A44DFB7</td>\n",
       "      <td>TCGA-3N-A9WC</td>\n",
       "      <td>5/29/14</td>\n",
       "      <td>YES</td>\n",
       "      <td>NO</td>\n",
       "      <td>Male</td>\n",
       "      <td>183</td>\n",
       "      <td>68</td>\n",
       "      <td>WHITE</td>\n",
       "      <td>NOT HISPANIC OR LATINO</td>\n",
       "      <td>...</td>\n",
       "      <td>C77.3</td>\n",
       "      <td>YES</td>\n",
       "      <td>[Not Available]</td>\n",
       "      <td>[Not Available]</td>\n",
       "      <td>3N</td>\n",
       "      <td>[Not Applicable]</td>\n",
       "      <td>0:LIVING</td>\n",
       "      <td>66.43</td>\n",
       "      <td>1:Recurred/Progressed</td>\n",
       "      <td>56.01</td>\n",
       "    </tr>\n",
       "    <tr>\n",
       "      <th>...</th>\n",
       "      <td>...</td>\n",
       "      <td>...</td>\n",
       "      <td>...</td>\n",
       "      <td>...</td>\n",
       "      <td>...</td>\n",
       "      <td>...</td>\n",
       "      <td>...</td>\n",
       "      <td>...</td>\n",
       "      <td>...</td>\n",
       "      <td>...</td>\n",
       "      <td>...</td>\n",
       "      <td>...</td>\n",
       "      <td>...</td>\n",
       "      <td>...</td>\n",
       "      <td>...</td>\n",
       "      <td>...</td>\n",
       "      <td>...</td>\n",
       "      <td>...</td>\n",
       "      <td>...</td>\n",
       "      <td>...</td>\n",
       "      <td>...</td>\n",
       "    </tr>\n",
       "    <tr>\n",
       "      <th>468</th>\n",
       "      <td>71B347AC-6AC6-475D-8E21-754764180948</td>\n",
       "      <td>TCGA-Z2-AA3S</td>\n",
       "      <td>6/30/14</td>\n",
       "      <td>YES</td>\n",
       "      <td>NO</td>\n",
       "      <td>Male</td>\n",
       "      <td>172</td>\n",
       "      <td>78</td>\n",
       "      <td>WHITE</td>\n",
       "      <td>NOT HISPANIC OR LATINO</td>\n",
       "      <td>...</td>\n",
       "      <td>C77.3</td>\n",
       "      <td>YES</td>\n",
       "      <td>[Not Available]</td>\n",
       "      <td>[Not Available]</td>\n",
       "      <td>Z2</td>\n",
       "      <td>[Not Applicable]</td>\n",
       "      <td>0:LIVING</td>\n",
       "      <td>96.91</td>\n",
       "      <td>1:Recurred/Progressed</td>\n",
       "      <td>93.5</td>\n",
       "    </tr>\n",
       "    <tr>\n",
       "      <th>469</th>\n",
       "      <td>5B10234B-6189-449F-8886-D0D44A729CED</td>\n",
       "      <td>TCGA-Z2-AA3V</td>\n",
       "      <td>6/30/14</td>\n",
       "      <td>YES</td>\n",
       "      <td>NO</td>\n",
       "      <td>Female</td>\n",
       "      <td>166</td>\n",
       "      <td>63</td>\n",
       "      <td>WHITE</td>\n",
       "      <td>NOT HISPANIC OR LATINO</td>\n",
       "      <td>...</td>\n",
       "      <td>C77.3</td>\n",
       "      <td>YES</td>\n",
       "      <td>[Not Available]</td>\n",
       "      <td>[Not Available]</td>\n",
       "      <td>Z2</td>\n",
       "      <td>[Not Applicable]</td>\n",
       "      <td>0:LIVING</td>\n",
       "      <td>15.97</td>\n",
       "      <td>0:DiseaseFree</td>\n",
       "      <td>15.97</td>\n",
       "    </tr>\n",
       "  </tbody>\n",
       "</table>\n",
       "<p>470 rows × 60 columns</p>\n",
       "</div>"
      ],
      "text/plain": [
       "                         OTHER_PATIENT_ID    PATIENT_ID FORM_COMPLETION_DATE  \\\n",
       "0    5564E6A7-2195-4B0D-994E-B0617B58E889  TCGA-3N-A9WB              5/29/14   \n",
       "1    551E071A-C290-4B48-9000-F64C2A44DFB7  TCGA-3N-A9WC              5/29/14   \n",
       "..                                    ...           ...                  ...   \n",
       "468  71B347AC-6AC6-475D-8E21-754764180948  TCGA-Z2-AA3S              6/30/14   \n",
       "469  5B10234B-6189-449F-8886-D0D44A729CED  TCGA-Z2-AA3V              6/30/14   \n",
       "\n",
       "    PROSPECTIVE_COLLECTION RETROSPECTIVE_COLLECTION     SEX HEIGHT WEIGHT  \\\n",
       "0                      YES                       NO    Male    175     78   \n",
       "1                      YES                       NO    Male    183     68   \n",
       "..                     ...                      ...     ...    ...    ...   \n",
       "468                    YES                       NO    Male    172     78   \n",
       "469                    YES                       NO  Female    166     63   \n",
       "\n",
       "      RACE               ETHNICITY  ... ICD_O_3_SITE  \\\n",
       "0    WHITE  NOT HISPANIC OR LATINO  ...        C44.5   \n",
       "1    WHITE  NOT HISPANIC OR LATINO  ...        C77.3   \n",
       "..     ...                     ...  ...          ...   \n",
       "468  WHITE  NOT HISPANIC OR LATINO  ...        C77.3   \n",
       "469  WHITE  NOT HISPANIC OR LATINO  ...        C77.3   \n",
       "\n",
       "    INFORMED_CONSENT_VERIFIED     PROJECT_CODE      STAGE_OTHER  \\\n",
       "0                         YES  [Not Available]  [Not Available]   \n",
       "1                         YES  [Not Available]  [Not Available]   \n",
       "..                        ...              ...              ...   \n",
       "468                       YES  [Not Available]  [Not Available]   \n",
       "469                       YES  [Not Available]  [Not Available]   \n",
       "\n",
       "    TISSUE_SOURCE_SITE TUMOR_TISSUE_SITE_OTHER   OS_STATUS OS_MONTHS  \\\n",
       "0                   3N        [Not Applicable]  1:DECEASED     17.02   \n",
       "1                   3N        [Not Applicable]    0:LIVING     66.43   \n",
       "..                 ...                     ...         ...       ...   \n",
       "468                 Z2        [Not Applicable]    0:LIVING     96.91   \n",
       "469                 Z2        [Not Applicable]    0:LIVING     15.97   \n",
       "\n",
       "                DFS_STATUS DFS_MONTHS  \n",
       "0    1:Recurred/Progressed         16  \n",
       "1    1:Recurred/Progressed      56.01  \n",
       "..                     ...        ...  \n",
       "468  1:Recurred/Progressed       93.5  \n",
       "469          0:DiseaseFree      15.97  \n",
       "\n",
       "[470 rows x 60 columns]"
      ]
     },
     "execution_count": 8,
     "metadata": {},
     "output_type": "execute_result"
    }
   ],
   "source": [
    "# information about patients\n",
    "data_clinical_patient = pd.read_csv('skcm_tcga\\data_clinical_patient.txt', sep='\\t', comment='#')\n",
    "data_clinical_patient"
   ]
  },
  {
   "cell_type": "markdown",
   "metadata": {},
   "source": [
    "# Task 1    \n",
    "## Problem: \n",
    "there are [acticle](https://www.ncbi.nlm.nih.gov/pmc/articles/PMC4580370/) that describes the procedure of genomic classification patients with  cutaneous melanoma (329 samples). We have data on new patients and want to classify them too. So, we have two way to do it:   \n",
    "- repeat the clustering procedure from the article again, but for all samples   \n",
    "OR   \n",
    "- use the classification of 329 samples to further classify new ones   \n",
    "   \n",
    "We try both of them   \n",
    "\n",
    "## 1. Repeat prosedure from the article  (for 329 samples)     \n",
    "Firstly, let's try to repeat clusterization from the article for 329 \"old\" samples amd compare results.   \n",
    "We try to devide samples in three group (yes, to be honest, we should assume that we don't know about the number of groups, but it's much more complicagted problem).  \n",
    "Algorithm from the acticle: \n",
    "1. mRNA Seq data   \n",
    "2. RSEM normalization   \n",
    "3. log2 -transformation and median centering across samples   \n",
    "4. selection 1500 most variably expressed genes   \n",
    "5. unsupervised clustering \n",
    "\n",
    "We download data from point 3, select 329 samples, and after that we can start with point 4   \n"
   ]
  },
  {
   "cell_type": "code",
   "execution_count": 9,
   "metadata": {},
   "outputs": [
    {
     "data": {
      "text/html": [
       "<div>\n",
       "<style scoped>\n",
       "    .dataframe tbody tr th:only-of-type {\n",
       "        vertical-align: middle;\n",
       "    }\n",
       "\n",
       "    .dataframe tbody tr th {\n",
       "        vertical-align: top;\n",
       "    }\n",
       "\n",
       "    .dataframe thead th {\n",
       "        text-align: right;\n",
       "    }\n",
       "</style>\n",
       "<table border=\"1\" class=\"dataframe\">\n",
       "  <thead>\n",
       "    <tr style=\"text-align: right;\">\n",
       "      <th></th>\n",
       "      <th>Hugo_Symbol</th>\n",
       "      <th>Entrez_Gene_Id</th>\n",
       "      <th>TCGA-BF-A1PU-01</th>\n",
       "      <th>TCGA-BF-A1PV-01</th>\n",
       "      <th>TCGA-BF-A1PX-01</th>\n",
       "      <th>TCGA-BF-A1PZ-01</th>\n",
       "      <th>TCGA-BF-A1Q0-01</th>\n",
       "      <th>TCGA-BF-A3DJ-01</th>\n",
       "      <th>TCGA-BF-A3DL-01</th>\n",
       "      <th>TCGA-BF-A3DM-01</th>\n",
       "      <th>...</th>\n",
       "      <th>TCGA-GN-A264-06</th>\n",
       "      <th>TCGA-GN-A265-06</th>\n",
       "      <th>TCGA-GN-A266-06</th>\n",
       "      <th>TCGA-GN-A267-06</th>\n",
       "      <th>TCGA-GN-A268-06</th>\n",
       "      <th>TCGA-GN-A26A-06</th>\n",
       "      <th>TCGA-GN-A26C-01</th>\n",
       "      <th>TCGA-GN-A26D-06</th>\n",
       "      <th>TCGA-HR-A5NC-01</th>\n",
       "      <th>TCGA-IH-A3EA-01</th>\n",
       "    </tr>\n",
       "  </thead>\n",
       "  <tbody>\n",
       "    <tr>\n",
       "      <th>0</th>\n",
       "      <td>LOC100130426</td>\n",
       "      <td>100130426</td>\n",
       "      <td>-4.7294</td>\n",
       "      <td>-4.7294</td>\n",
       "      <td>-4.7294</td>\n",
       "      <td>-4.7294</td>\n",
       "      <td>-4.7294</td>\n",
       "      <td>-4.7294</td>\n",
       "      <td>-4.7294</td>\n",
       "      <td>-4.7294</td>\n",
       "      <td>...</td>\n",
       "      <td>-4.7294</td>\n",
       "      <td>-4.7294</td>\n",
       "      <td>-4.7294</td>\n",
       "      <td>-4.7294</td>\n",
       "      <td>-4.7294</td>\n",
       "      <td>-4.7294</td>\n",
       "      <td>-4.7294</td>\n",
       "      <td>-4.7294</td>\n",
       "      <td>-4.7294</td>\n",
       "      <td>-4.7294</td>\n",
       "    </tr>\n",
       "    <tr>\n",
       "      <th>1</th>\n",
       "      <td>UBE2Q2P3</td>\n",
       "      <td>100133144</td>\n",
       "      <td>-1.8924</td>\n",
       "      <td>-0.3805</td>\n",
       "      <td>-1.6986</td>\n",
       "      <td>-1.1376</td>\n",
       "      <td>1.9075</td>\n",
       "      <td>-0.5837</td>\n",
       "      <td>-1.5987</td>\n",
       "      <td>0.0552</td>\n",
       "      <td>...</td>\n",
       "      <td>-0.9677</td>\n",
       "      <td>0.5279</td>\n",
       "      <td>-0.2342</td>\n",
       "      <td>-0.7011</td>\n",
       "      <td>1.3701</td>\n",
       "      <td>-2.2617</td>\n",
       "      <td>1.1338</td>\n",
       "      <td>-0.2261</td>\n",
       "      <td>-0.8385</td>\n",
       "      <td>-2.2617</td>\n",
       "    </tr>\n",
       "    <tr>\n",
       "      <th>...</th>\n",
       "      <td>...</td>\n",
       "      <td>...</td>\n",
       "      <td>...</td>\n",
       "      <td>...</td>\n",
       "      <td>...</td>\n",
       "      <td>...</td>\n",
       "      <td>...</td>\n",
       "      <td>...</td>\n",
       "      <td>...</td>\n",
       "      <td>...</td>\n",
       "      <td>...</td>\n",
       "      <td>...</td>\n",
       "      <td>...</td>\n",
       "      <td>...</td>\n",
       "      <td>...</td>\n",
       "      <td>...</td>\n",
       "      <td>...</td>\n",
       "      <td>...</td>\n",
       "      <td>...</td>\n",
       "      <td>...</td>\n",
       "      <td>...</td>\n",
       "    </tr>\n",
       "    <tr>\n",
       "      <th>20529</th>\n",
       "      <td>TPTEP1</td>\n",
       "      <td>387590</td>\n",
       "      <td>-0.9604</td>\n",
       "      <td>-1.1788</td>\n",
       "      <td>2.9394</td>\n",
       "      <td>-1.5040</td>\n",
       "      <td>-0.4323</td>\n",
       "      <td>-0.5443</td>\n",
       "      <td>-0.2333</td>\n",
       "      <td>-0.8261</td>\n",
       "      <td>...</td>\n",
       "      <td>0.1604</td>\n",
       "      <td>0.9208</td>\n",
       "      <td>0.9611</td>\n",
       "      <td>-0.2901</td>\n",
       "      <td>-1.1494</td>\n",
       "      <td>0.7761</td>\n",
       "      <td>0.6521</td>\n",
       "      <td>-0.7002</td>\n",
       "      <td>2.7166</td>\n",
       "      <td>-1.1176</td>\n",
       "    </tr>\n",
       "    <tr>\n",
       "      <th>20530</th>\n",
       "      <td>AKR1C6P</td>\n",
       "      <td>389932</td>\n",
       "      <td>-2.8387</td>\n",
       "      <td>-2.8387</td>\n",
       "      <td>-2.8387</td>\n",
       "      <td>-2.8387</td>\n",
       "      <td>-2.8387</td>\n",
       "      <td>-0.7742</td>\n",
       "      <td>-2.8387</td>\n",
       "      <td>-2.8387</td>\n",
       "      <td>...</td>\n",
       "      <td>-2.8387</td>\n",
       "      <td>-2.8387</td>\n",
       "      <td>-2.8387</td>\n",
       "      <td>-2.8387</td>\n",
       "      <td>-2.8387</td>\n",
       "      <td>-2.8387</td>\n",
       "      <td>-2.8387</td>\n",
       "      <td>-2.8387</td>\n",
       "      <td>-2.8387</td>\n",
       "      <td>-2.8387</td>\n",
       "    </tr>\n",
       "  </tbody>\n",
       "</table>\n",
       "<p>20184 rows × 331 columns</p>\n",
       "</div>"
      ],
      "text/plain": [
       "        Hugo_Symbol  Entrez_Gene_Id  TCGA-BF-A1PU-01  TCGA-BF-A1PV-01  \\\n",
       "0      LOC100130426       100130426          -4.7294          -4.7294   \n",
       "1          UBE2Q2P3       100133144          -1.8924          -0.3805   \n",
       "...             ...             ...              ...              ...   \n",
       "20529        TPTEP1          387590          -0.9604          -1.1788   \n",
       "20530       AKR1C6P          389932          -2.8387          -2.8387   \n",
       "\n",
       "       TCGA-BF-A1PX-01  TCGA-BF-A1PZ-01  TCGA-BF-A1Q0-01  TCGA-BF-A3DJ-01  \\\n",
       "0              -4.7294          -4.7294          -4.7294          -4.7294   \n",
       "1              -1.6986          -1.1376           1.9075          -0.5837   \n",
       "...                ...              ...              ...              ...   \n",
       "20529           2.9394          -1.5040          -0.4323          -0.5443   \n",
       "20530          -2.8387          -2.8387          -2.8387          -0.7742   \n",
       "\n",
       "       TCGA-BF-A3DL-01  TCGA-BF-A3DM-01  ...  TCGA-GN-A264-06  \\\n",
       "0              -4.7294          -4.7294  ...          -4.7294   \n",
       "1              -1.5987           0.0552  ...          -0.9677   \n",
       "...                ...              ...  ...              ...   \n",
       "20529          -0.2333          -0.8261  ...           0.1604   \n",
       "20530          -2.8387          -2.8387  ...          -2.8387   \n",
       "\n",
       "       TCGA-GN-A265-06  TCGA-GN-A266-06  TCGA-GN-A267-06  TCGA-GN-A268-06  \\\n",
       "0              -4.7294          -4.7294          -4.7294          -4.7294   \n",
       "1               0.5279          -0.2342          -0.7011           1.3701   \n",
       "...                ...              ...              ...              ...   \n",
       "20529           0.9208           0.9611          -0.2901          -1.1494   \n",
       "20530          -2.8387          -2.8387          -2.8387          -2.8387   \n",
       "\n",
       "       TCGA-GN-A26A-06  TCGA-GN-A26C-01  TCGA-GN-A26D-06  TCGA-HR-A5NC-01  \\\n",
       "0              -4.7294          -4.7294          -4.7294          -4.7294   \n",
       "1              -2.2617           1.1338          -0.2261          -0.8385   \n",
       "...                ...              ...              ...              ...   \n",
       "20529           0.7761           0.6521          -0.7002           2.7166   \n",
       "20530          -2.8387          -2.8387          -2.8387          -2.8387   \n",
       "\n",
       "       TCGA-IH-A3EA-01  \n",
       "0              -4.7294  \n",
       "1              -2.2617  \n",
       "...                ...  \n",
       "20529          -1.1176  \n",
       "20530          -2.8387  \n",
       "\n",
       "[20184 rows x 331 columns]"
      ]
     },
     "execution_count": 9,
     "metadata": {},
     "output_type": "execute_result"
    }
   ],
   "source": [
    "# get mRNA Seq data for 329 samples\n",
    "mrna_zcores_329 = pd.concat([mrna_zcores[['Hugo_Symbol', 'Entrez_Gene_Id']], mrna_zcores[clustering_329['Name']]], axis=1)\n",
    "mrna_zcores_329 = mrna_zcores_329.dropna()\n",
    "mrna_zcores_329"
   ]
  },
  {
   "cell_type": "markdown",
   "metadata": {},
   "source": [
    "##### **1.1 Selection of 1500 significant genes**   \n",
    "In the [acticle](https://www.ncbi.nlm.nih.gov/pmc/articles/PMC4580370/) they used 1500 the most variable expressed genes for clustering samples, but they didn't explain how they estimate \"variabulity\". But in a similar [analysis](http://dx.doi.org/10.7908/C1057FCR) the Median Absolute Deviation (MAD) was used. "
   ]
  },
  {
   "cell_type": "code",
   "execution_count": 10,
   "metadata": {},
   "outputs": [
    {
     "data": {
      "text/html": [
       "<div>\n",
       "<style scoped>\n",
       "    .dataframe tbody tr th:only-of-type {\n",
       "        vertical-align: middle;\n",
       "    }\n",
       "\n",
       "    .dataframe tbody tr th {\n",
       "        vertical-align: top;\n",
       "    }\n",
       "\n",
       "    .dataframe thead th {\n",
       "        text-align: right;\n",
       "    }\n",
       "</style>\n",
       "<table border=\"1\" class=\"dataframe\">\n",
       "  <thead>\n",
       "    <tr style=\"text-align: right;\">\n",
       "      <th></th>\n",
       "      <th>TCGA-BF-A1PU-01</th>\n",
       "      <th>TCGA-BF-A1PV-01</th>\n",
       "      <th>TCGA-BF-A1PX-01</th>\n",
       "      <th>TCGA-BF-A1PZ-01</th>\n",
       "      <th>TCGA-BF-A1Q0-01</th>\n",
       "      <th>TCGA-BF-A3DJ-01</th>\n",
       "      <th>TCGA-BF-A3DL-01</th>\n",
       "      <th>TCGA-BF-A3DM-01</th>\n",
       "      <th>TCGA-BF-A3DN-01</th>\n",
       "      <th>TCGA-BF-A5EO-01</th>\n",
       "      <th>...</th>\n",
       "      <th>TCGA-GN-A264-06</th>\n",
       "      <th>TCGA-GN-A265-06</th>\n",
       "      <th>TCGA-GN-A266-06</th>\n",
       "      <th>TCGA-GN-A267-06</th>\n",
       "      <th>TCGA-GN-A268-06</th>\n",
       "      <th>TCGA-GN-A26A-06</th>\n",
       "      <th>TCGA-GN-A26C-01</th>\n",
       "      <th>TCGA-GN-A26D-06</th>\n",
       "      <th>TCGA-HR-A5NC-01</th>\n",
       "      <th>TCGA-IH-A3EA-01</th>\n",
       "    </tr>\n",
       "    <tr>\n",
       "      <th>Hugo_Symbol</th>\n",
       "      <th></th>\n",
       "      <th></th>\n",
       "      <th></th>\n",
       "      <th></th>\n",
       "      <th></th>\n",
       "      <th></th>\n",
       "      <th></th>\n",
       "      <th></th>\n",
       "      <th></th>\n",
       "      <th></th>\n",
       "      <th></th>\n",
       "      <th></th>\n",
       "      <th></th>\n",
       "      <th></th>\n",
       "      <th></th>\n",
       "      <th></th>\n",
       "      <th></th>\n",
       "      <th></th>\n",
       "      <th></th>\n",
       "      <th></th>\n",
       "      <th></th>\n",
       "    </tr>\n",
       "  </thead>\n",
       "  <tbody>\n",
       "    <tr>\n",
       "      <th>TMEM189-UBE2V1</th>\n",
       "      <td>1.3173</td>\n",
       "      <td>-1.1315</td>\n",
       "      <td>-3.8273</td>\n",
       "      <td>-1.0419</td>\n",
       "      <td>3.5824</td>\n",
       "      <td>-3.8273</td>\n",
       "      <td>0.9266</td>\n",
       "      <td>1.0069</td>\n",
       "      <td>-1.1662</td>\n",
       "      <td>-3.8273</td>\n",
       "      <td>...</td>\n",
       "      <td>-0.1300</td>\n",
       "      <td>-3.8273</td>\n",
       "      <td>0.6313</td>\n",
       "      <td>-3.8273</td>\n",
       "      <td>0.5274</td>\n",
       "      <td>-3.8273</td>\n",
       "      <td>-3.8273</td>\n",
       "      <td>-1.2957</td>\n",
       "      <td>-0.1123</td>\n",
       "      <td>-3.8273</td>\n",
       "    </tr>\n",
       "    <tr>\n",
       "      <th>CYorf15B</th>\n",
       "      <td>-2.2316</td>\n",
       "      <td>-2.2316</td>\n",
       "      <td>0.5641</td>\n",
       "      <td>-2.2316</td>\n",
       "      <td>0.2353</td>\n",
       "      <td>-2.2316</td>\n",
       "      <td>-2.2316</td>\n",
       "      <td>0.8000</td>\n",
       "      <td>-2.0918</td>\n",
       "      <td>-0.1006</td>\n",
       "      <td>...</td>\n",
       "      <td>0.8520</td>\n",
       "      <td>0.1948</td>\n",
       "      <td>0.0032</td>\n",
       "      <td>-0.6154</td>\n",
       "      <td>-2.2316</td>\n",
       "      <td>-2.2316</td>\n",
       "      <td>0.5281</td>\n",
       "      <td>-2.2316</td>\n",
       "      <td>-2.2316</td>\n",
       "      <td>-1.6287</td>\n",
       "    </tr>\n",
       "    <tr>\n",
       "      <th>...</th>\n",
       "      <td>...</td>\n",
       "      <td>...</td>\n",
       "      <td>...</td>\n",
       "      <td>...</td>\n",
       "      <td>...</td>\n",
       "      <td>...</td>\n",
       "      <td>...</td>\n",
       "      <td>...</td>\n",
       "      <td>...</td>\n",
       "      <td>...</td>\n",
       "      <td>...</td>\n",
       "      <td>...</td>\n",
       "      <td>...</td>\n",
       "      <td>...</td>\n",
       "      <td>...</td>\n",
       "      <td>...</td>\n",
       "      <td>...</td>\n",
       "      <td>...</td>\n",
       "      <td>...</td>\n",
       "      <td>...</td>\n",
       "      <td>...</td>\n",
       "    </tr>\n",
       "    <tr>\n",
       "      <th>SERTAD4</th>\n",
       "      <td>0.9918</td>\n",
       "      <td>0.6826</td>\n",
       "      <td>1.1860</td>\n",
       "      <td>-0.3027</td>\n",
       "      <td>1.2003</td>\n",
       "      <td>1.3933</td>\n",
       "      <td>0.0014</td>\n",
       "      <td>0.9925</td>\n",
       "      <td>0.5965</td>\n",
       "      <td>-1.4305</td>\n",
       "      <td>...</td>\n",
       "      <td>-0.4893</td>\n",
       "      <td>-0.4973</td>\n",
       "      <td>0.4091</td>\n",
       "      <td>-0.8835</td>\n",
       "      <td>1.5168</td>\n",
       "      <td>1.0256</td>\n",
       "      <td>-1.3169</td>\n",
       "      <td>-1.1854</td>\n",
       "      <td>0.2210</td>\n",
       "      <td>0.2243</td>\n",
       "    </tr>\n",
       "    <tr>\n",
       "      <th>GIMAP4</th>\n",
       "      <td>-1.0059</td>\n",
       "      <td>-1.4986</td>\n",
       "      <td>0.9852</td>\n",
       "      <td>-0.6835</td>\n",
       "      <td>-0.1154</td>\n",
       "      <td>0.1517</td>\n",
       "      <td>-1.0182</td>\n",
       "      <td>-1.2416</td>\n",
       "      <td>-0.4093</td>\n",
       "      <td>-1.0362</td>\n",
       "      <td>...</td>\n",
       "      <td>-0.8567</td>\n",
       "      <td>1.3865</td>\n",
       "      <td>1.1625</td>\n",
       "      <td>0.3741</td>\n",
       "      <td>-1.1848</td>\n",
       "      <td>0.3797</td>\n",
       "      <td>1.3509</td>\n",
       "      <td>-1.1681</td>\n",
       "      <td>-0.6921</td>\n",
       "      <td>-1.4946</td>\n",
       "    </tr>\n",
       "  </tbody>\n",
       "</table>\n",
       "<p>1500 rows × 329 columns</p>\n",
       "</div>"
      ],
      "text/plain": [
       "                TCGA-BF-A1PU-01  TCGA-BF-A1PV-01  TCGA-BF-A1PX-01  \\\n",
       "Hugo_Symbol                                                         \n",
       "TMEM189-UBE2V1           1.3173          -1.1315          -3.8273   \n",
       "CYorf15B                -2.2316          -2.2316           0.5641   \n",
       "...                         ...              ...              ...   \n",
       "SERTAD4                  0.9918           0.6826           1.1860   \n",
       "GIMAP4                  -1.0059          -1.4986           0.9852   \n",
       "\n",
       "                TCGA-BF-A1PZ-01  TCGA-BF-A1Q0-01  TCGA-BF-A3DJ-01  \\\n",
       "Hugo_Symbol                                                         \n",
       "TMEM189-UBE2V1          -1.0419           3.5824          -3.8273   \n",
       "CYorf15B                -2.2316           0.2353          -2.2316   \n",
       "...                         ...              ...              ...   \n",
       "SERTAD4                 -0.3027           1.2003           1.3933   \n",
       "GIMAP4                  -0.6835          -0.1154           0.1517   \n",
       "\n",
       "                TCGA-BF-A3DL-01  TCGA-BF-A3DM-01  TCGA-BF-A3DN-01  \\\n",
       "Hugo_Symbol                                                         \n",
       "TMEM189-UBE2V1           0.9266           1.0069          -1.1662   \n",
       "CYorf15B                -2.2316           0.8000          -2.0918   \n",
       "...                         ...              ...              ...   \n",
       "SERTAD4                  0.0014           0.9925           0.5965   \n",
       "GIMAP4                  -1.0182          -1.2416          -0.4093   \n",
       "\n",
       "                TCGA-BF-A5EO-01  ...  TCGA-GN-A264-06  TCGA-GN-A265-06  \\\n",
       "Hugo_Symbol                      ...                                     \n",
       "TMEM189-UBE2V1          -3.8273  ...          -0.1300          -3.8273   \n",
       "CYorf15B                -0.1006  ...           0.8520           0.1948   \n",
       "...                         ...  ...              ...              ...   \n",
       "SERTAD4                 -1.4305  ...          -0.4893          -0.4973   \n",
       "GIMAP4                  -1.0362  ...          -0.8567           1.3865   \n",
       "\n",
       "                TCGA-GN-A266-06  TCGA-GN-A267-06  TCGA-GN-A268-06  \\\n",
       "Hugo_Symbol                                                         \n",
       "TMEM189-UBE2V1           0.6313          -3.8273           0.5274   \n",
       "CYorf15B                 0.0032          -0.6154          -2.2316   \n",
       "...                         ...              ...              ...   \n",
       "SERTAD4                  0.4091          -0.8835           1.5168   \n",
       "GIMAP4                   1.1625           0.3741          -1.1848   \n",
       "\n",
       "                TCGA-GN-A26A-06  TCGA-GN-A26C-01  TCGA-GN-A26D-06  \\\n",
       "Hugo_Symbol                                                         \n",
       "TMEM189-UBE2V1          -3.8273          -3.8273          -1.2957   \n",
       "CYorf15B                -2.2316           0.5281          -2.2316   \n",
       "...                         ...              ...              ...   \n",
       "SERTAD4                  1.0256          -1.3169          -1.1854   \n",
       "GIMAP4                   0.3797           1.3509          -1.1681   \n",
       "\n",
       "                TCGA-HR-A5NC-01  TCGA-IH-A3EA-01  \n",
       "Hugo_Symbol                                       \n",
       "TMEM189-UBE2V1          -0.1123          -3.8273  \n",
       "CYorf15B                -2.2316          -1.6287  \n",
       "...                         ...              ...  \n",
       "SERTAD4                  0.2210           0.2243  \n",
       "GIMAP4                  -0.6921          -1.4946  \n",
       "\n",
       "[1500 rows x 329 columns]"
      ]
     },
     "execution_count": 10,
     "metadata": {},
     "output_type": "execute_result"
    }
   ],
   "source": [
    "# select 1500 the most variable genes\n",
    "def select_1500_genes(df):\n",
    "    df['MAD'] = df.iloc[:, 2:df.shape[1]].apply(median_abs_deviation, axis=1)\n",
    "    top_1500 = df.sort_values('MAD', ascending=False).iloc[0:1500, :]\n",
    "    top_1500 = top_1500.drop(['Entrez_Gene_Id', 'MAD'], axis=1).set_index('Hugo_Symbol')\n",
    "    return top_1500\n",
    "\n",
    "top_1500 = select_1500_genes(mrna_zcores_329)\n",
    "top_1500"
   ]
  },
  {
   "cell_type": "markdown",
   "metadata": {},
   "source": [
    "##### **1.2 Hierarchical clustering**    \n",
    "In the [acticle](https://www.ncbi.nlm.nih.gov/pmc/articles/PMC4580370/) consensus **average** linkage hierarchical clustering was used, but our dendrogram is awful with this parameter. We try **ward** linkage hierarchical clustering, which was used in the forementioned [analysis](http://dx.doi.org/10.7908/C1057FCR)     \n",
    "In the dendrogram below we can see, that our samples could be divided into three groups:"
   ]
  },
  {
   "cell_type": "code",
   "execution_count": 11,
   "metadata": {},
   "outputs": [
    {
     "data": {
      "image/png": "[encoded data removed]",
      "text/plain": [
       "<Figure size 1000x500 with 1 Axes>"
      ]
     },
     "metadata": {},
     "output_type": "display_data"
    }
   ],
   "source": [
    "# plot dendrogram\n",
    "def plot_dendrogram(df, color_threshold=200, title='Ward linkage hierarchical clustering dendrogram'):\n",
    "    X = np.array(df.T)\n",
    "    distance_mat = pdist(X)\n",
    "    Z = hierarchy.linkage(distance_mat, 'ward') \n",
    "    plt.figure(figsize=(10, 5))\n",
    "    hierarchy.dendrogram(Z, color_threshold=color_threshold, no_labels=True)\n",
    "    plt.axhline(y=color_threshold, c='grey', lw=1, linestyle='dashed')\n",
    "    plt.title(title)\n",
    "\n",
    "plot_dendrogram(top_1500, title='Ward linkage hierarchical clustering dendrogram (329 samples)')"
   ]
  },
  {
   "cell_type": "markdown",
   "metadata": {},
   "source": [
    "For hierarchical clustering we use Agglomerative Clustering algorithm:"
   ]
  },
  {
   "cell_type": "code",
   "execution_count": 12,
   "metadata": {},
   "outputs": [
    {
     "data": {
      "text/plain": [
       "(124, 109, 96)"
      ]
     },
     "execution_count": 12,
     "metadata": {},
     "output_type": "execute_result"
    }
   ],
   "source": [
    "X = np.array(top_1500.T)\n",
    "clustering = AgglomerativeClustering(linkage='ward',\n",
    "                                     n_clusters=3)\n",
    "labels = list(clustering.fit(X).labels_)\n",
    "\n",
    "# write results\n",
    "cluster_top_1500 = top_1500.T\n",
    "cluster_top_1500.insert(0, 'labels', labels)\n",
    "# look at the numbers of samples in each cluster\n",
    "labels.count(0), labels.count(1), labels.count(2)"
   ]
  },
  {
   "cell_type": "markdown",
   "metadata": {},
   "source": [
    "##### **1.3 Сomparison of sample groups**     \n",
    "Now we should find out, which genes distinguish groups of samples from each other. To do this, we will compare gene expression levels in different groups. In indeal case we should use differential expression gene analisis (by using PyDESeq2). But this tool requires gene expression counts as input, but we only have at our disposal only RSEM normalized data.    \n",
    "Next idea is ANOVA, but I'm not sure if this is acceptable for gene expression data. \n",
    "\n",
    "So, we try to compare groups with **Mann-Whitney U test**.  It is not accurate way, because we will have to do pairwise comparisons of the three groups, but I don't know a better decision\n",
    "\n"
   ]
  },
  {
   "cell_type": "code",
   "execution_count": 13,
   "metadata": {},
   "outputs": [],
   "source": [
    "def Mann_Whitney_test(df, index_list):\n",
    "    # run Mann-Whitney test, write p-value\n",
    "    pvalues12, pvalues13, pvalues23 = mannwhitneyu(df.loc[df.labels == 0].drop('labels', axis=1), \n",
    "                                                df.loc[df.labels == 1].drop('labels', axis=1))[1], \\\n",
    "                                        mannwhitneyu(df.loc[df.labels == 0].drop('labels', axis=1), \\\n",
    "                                                df.loc[df.labels == 2].drop('labels', axis=1))[1], \\\n",
    "                                        mannwhitneyu(df.loc[df.labels == 1].drop('labels', axis=1), \\\n",
    "                                                df.loc[df.labels == 2].drop('labels', axis=1))[1]\n",
    "\n",
    "    # multiple testing correction, use Bonferroni, as the strictest\n",
    "    padj12, padj13, padj23 = multipletests(pvalues12, method='bonferroni')[1], multipletests(pvalues13, method='bonferroni')[1], \\\n",
    "        multipletests(pvalues23, method='bonferroni')[1]\n",
    "\n",
    "    # another Bonferroni correction, because of comparison three groups\n",
    "    padj = pd.DataFrame({'padj12': padj12, 'padj13': padj13, 'padj23': padj23}).set_index(index_list) * 3\n",
    "\n",
    "    # selection of genes, the distribution of expression levels in which is significantly different in each group compared to the rest\n",
    "    # get a list of genes specific to each group\n",
    "    return list(padj.loc[(padj['padj12'] < 0.05) & (padj['padj13'] < 0.05)].index), \\\n",
    "            list(padj.loc[(padj['padj12'] < 0.05) & (padj['padj23'] < 0.05)].index), \\\n",
    "            list(padj.loc[(padj['padj13'] < 0.05) & (padj['padj23'] < 0.05)].index)\n",
    "    \n",
    "    \n",
    "group1, group2, group3 = Mann_Whitney_test(cluster_top_1500, top_1500.index)\n",
    "\n",
    "\n"
   ]
  },
  {
   "cell_type": "markdown",
   "metadata": {},
   "source": [
    "##### **1.4 Get information about selected genes**   \n",
    "Get gene ID, description and summary, then combine into a single table:   \n",
    "(Warning: this is a very time-consuming process!!!)"
   ]
  },
  {
   "cell_type": "code",
   "execution_count": 14,
   "metadata": {},
   "outputs": [],
   "source": [
    "def get_id(gene):\n",
    "    try:\n",
    "        handle = Entrez.esearch(db=\"gene\",term=f\"Homo[Orgn] AND {gene}[Gene]\")\n",
    "        result = Entrez.read(handle)\n",
    "        to_return = result['IdList'][0]\n",
    "    except:\n",
    "        to_return = np.nan\n",
    "    return to_return\n",
    "\n",
    "def get_summary(ID):\n",
    "    try:\n",
    "        handle = Entrez.epost(\"gene\", id=ID)\n",
    "        result = Entrez.read(handle)\n",
    "        webEnv = result[\"WebEnv\"]\n",
    "        queryKey = result[\"QueryKey\"]\n",
    "        data = Entrez.esummary(db=\"gene\", webenv=webEnv, query_key=queryKey)\n",
    "        result = Entrez.read(data)\n",
    "        to_return = [result['DocumentSummarySet']['DocumentSummary'][0]['Description'],\n",
    "            result['DocumentSummarySet']['DocumentSummary'][0]['Summary']]\n",
    "    except:\n",
    "        to_return = [np.nan, np.nan]\n",
    "    return to_return\n",
    "\n",
    "def get_genes_table(lst):\n",
    "    # create DF with gene names\n",
    "    genes = pd.DataFrame({'GENE_NAME':lst})\n",
    "\n",
    "    # get ID, description and summary of each gene using Entrez\n",
    "    genes['ID'] = genes['GENE_NAME'].apply(get_id)\n",
    "    tmp = pd.DataFrame(list(map(get_summary, genes['ID'])))\n",
    "    tmp.columns = ['DESCRIPTION', 'SUMMARY']\n",
    "    genes = pd.concat([genes, tmp], axis=1)\n",
    "\n",
    "    return genes\n",
    "\n",
    "\n",
    "group1_genes = get_genes_table(group1)\n",
    "group2_genes = get_genes_table(group2)\n",
    "group3_genes = get_genes_table(group3)"
   ]
  },
  {
   "cell_type": "markdown",
   "metadata": {},
   "source": [
    "Look at the genes:   \n",
    "(for some reason, if you view this report via GitHub, these tables do not display: if you still want to read information about genes, open report.html or tables task1_significant_genes_description_{immune,keratin,MITF-low}_329_samples.csv from folder task1_resilts)"
   ]
  },
  {
   "cell_type": "code",
   "execution_count": 75,
   "metadata": {},
   "outputs": [
    {
     "data": {
      "text/html": [
       "\n",
       "        <iframe\n",
       "            width=\"100%\"\n",
       "            height=\"650\"\n",
       "            src=\"http://127.0.0.1:2223/\"\n",
       "            frameborder=\"0\"\n",
       "            allowfullscreen\n",
       "            \n",
       "        ></iframe>\n",
       "        "
      ],
      "text/plain": [
       "<IPython.lib.display.IFrame at 0x1e79b1ce1a0>"
      ]
     },
     "metadata": {},
     "output_type": "display_data"
    }
   ],
   "source": [
    "table(group1_genes, [12, 8, 15, 90], 'Genes from group 1', port=2223)"
   ]
  },
  {
   "cell_type": "code",
   "execution_count": 76,
   "metadata": {},
   "outputs": [
    {
     "data": {
      "text/html": [
       "\n",
       "        <iframe\n",
       "            width=\"100%\"\n",
       "            height=\"650\"\n",
       "            src=\"http://127.0.0.1:2224/\"\n",
       "            frameborder=\"0\"\n",
       "            allowfullscreen\n",
       "            \n",
       "        ></iframe>\n",
       "        "
      ],
      "text/plain": [
       "<IPython.lib.display.IFrame at 0x1e79bf094b0>"
      ]
     },
     "metadata": {},
     "output_type": "display_data"
    }
   ],
   "source": [
    "table(group2_genes, [12, 8, 15, 90], 'Genes from group 2', port=2224)"
   ]
  },
  {
   "cell_type": "code",
   "execution_count": 77,
   "metadata": {},
   "outputs": [
    {
     "data": {
      "text/html": [
       "\n",
       "        <iframe\n",
       "            width=\"100%\"\n",
       "            height=\"650\"\n",
       "            src=\"http://127.0.0.1:2225/\"\n",
       "            frameborder=\"0\"\n",
       "            allowfullscreen\n",
       "            \n",
       "        ></iframe>\n",
       "        "
      ],
      "text/plain": [
       "<IPython.lib.display.IFrame at 0x1e79d7b42e0>"
      ]
     },
     "metadata": {},
     "output_type": "display_data"
    }
   ],
   "source": [
    "table(group3_genes, [12, 8, 15, 90], 'Genes from group 3', port=2225)"
   ]
  },
  {
   "cell_type": "markdown",
   "metadata": {},
   "source": [
    "Based on the gene functions (and on some genes in Supplementary Tables), we assume names of the clusters: 1 - \"immune\", 2 - 'MITF-low\", 3 - 'keratin\""
   ]
  },
  {
   "cell_type": "code",
   "execution_count": 28,
   "metadata": {},
   "outputs": [],
   "source": [
    "# add cluster's names\n",
    "cluster_top_1500.labels = cluster_top_1500.labels.replace({0: 'immune', 1:'MITF-low', 2:'keratin'})\n",
    "\n",
    "# add information about clusters from the reference article\n",
    "cluster_top_1500 = pd.concat([clustering_329.set_index('Name'), cluster_top_1500], axis=1)\n",
    "cluster_top_1500 = cluster_top_1500.rename(columns={'labels':'clusters_predicted', \n",
    "                                                    'RNASEQ-CLUSTER_CONSENHIER':'clusters_original'})"
   ]
  },
  {
   "cell_type": "markdown",
   "metadata": {},
   "source": [
    "Let's see how many samples have the same results:"
   ]
  },
  {
   "cell_type": "code",
   "execution_count": 29,
   "metadata": {},
   "outputs": [
    {
     "data": {
      "text/plain": [
       "True     226\n",
       "False    103\n",
       "Name: count, dtype: int64"
      ]
     },
     "execution_count": 29,
     "metadata": {},
     "output_type": "execute_result"
    }
   ],
   "source": [
    "(cluster_top_1500.clusters_original == cluster_top_1500.clusters_predicted).value_counts()"
   ]
  },
  {
   "cell_type": "markdown",
   "metadata": {},
   "source": [
    "##### **1.5 Kaplan-Meier curves**\n",
    "The article states that the patient's group influences the prognosis of his survival, so let's plot Kaplan-Meier curves and compare it with original"
   ]
  },
  {
   "cell_type": "code",
   "execution_count": 30,
   "metadata": {},
   "outputs": [
    {
     "data": {
      "image/png": "[encoded data removed]",
      "text/plain": [
       "<Figure size 600x300 with 1 Axes>"
      ]
     },
     "metadata": {},
     "output_type": "display_data"
    }
   ],
   "source": [
    "def plot_KM(df, group, ann = data_clinical_patient, size=(6, 3)): # df - DF with samples as index, group - column with cluster/class/subtype etc\n",
    "    # get patients ID (first 12 symbols in sample ID)\n",
    "    patients = []\n",
    "    for string in df.index:\n",
    "        patients.append(string[:12])\n",
    "    df['PATIENT_ID'] = patients\n",
    "\n",
    "    # list of patients with two samples\n",
    "    double_samples = []\n",
    "    for x in patients:\n",
    "        if patients.count(x) > 1:\n",
    "            double_samples.append(x)\n",
    "    double_samples = list(set(double_samples))\n",
    "\n",
    "    # get information about survival time from annotation\n",
    "    surv = ann[['PATIENT_ID', 'OS_MONTHS', 'OS_STATUS']].set_index('PATIENT_ID')\n",
    "\n",
    "    # remove patients with two samples (three), because I don't know how to analize them - samples belong to different classes\n",
    "    df = df.set_index('PATIENT_ID')\n",
    "    df = df.loc[df.index.drop(double_samples)]\n",
    "    surv_uniq = surv.loc[surv.index.drop(double_samples)]\n",
    "\n",
    "    # drop patients with NA\n",
    "    surv_uniq = surv_uniq[surv_uniq.OS_MONTHS != '[Not Available]']\n",
    "    df = pd.concat([df, surv_uniq], axis=1).dropna()\n",
    "\n",
    "    # chage OS status to int\n",
    "    df = df.replace(['1:DECEASED', '0:LIVING'],[1, 0])\n",
    "    results = km.fit(df.OS_MONTHS, df.OS_STATUS, df[group])\n",
    "\n",
    "    # Plot\n",
    "    km.plot(results, cmap='Set2', width=size[0], height=size[1], title='', methodtype='custom')\n",
    "\n",
    "plot_KM(cluster_top_1500, 'clusters_predicted')"
   ]
  },
  {
   "cell_type": "markdown",
   "metadata": {},
   "source": [
    "The survival curves are similar to the curves in the article: \"immune\" class demonsrate better survival than other, and \"keratin\" - worse.   \n",
    "To sum up, we were able to predict correctly clusters for 226 samples out of 329 (~68.7%).   \n",
    "The result is so-so, but nevertheless we will try to repeat all the steps and cluster all 472 samples   "
   ]
  },
  {
   "cell_type": "markdown",
   "metadata": {},
   "source": [
    "## 2. Repeat all steps for all samples"
   ]
  },
  {
   "cell_type": "code",
   "execution_count": 31,
   "metadata": {},
   "outputs": [
    {
     "data": {
      "text/html": [
       "<div>\n",
       "<style scoped>\n",
       "    .dataframe tbody tr th:only-of-type {\n",
       "        vertical-align: middle;\n",
       "    }\n",
       "\n",
       "    .dataframe tbody tr th {\n",
       "        vertical-align: top;\n",
       "    }\n",
       "\n",
       "    .dataframe thead th {\n",
       "        text-align: right;\n",
       "    }\n",
       "</style>\n",
       "<table border=\"1\" class=\"dataframe\">\n",
       "  <thead>\n",
       "    <tr style=\"text-align: right;\">\n",
       "      <th></th>\n",
       "      <th>TCGA-3N-A9WB-06</th>\n",
       "      <th>TCGA-3N-A9WC-06</th>\n",
       "      <th>TCGA-3N-A9WD-06</th>\n",
       "      <th>TCGA-BF-A1PU-01</th>\n",
       "      <th>TCGA-BF-A1PV-01</th>\n",
       "      <th>TCGA-BF-A1PX-01</th>\n",
       "      <th>TCGA-BF-A1PZ-01</th>\n",
       "      <th>TCGA-BF-A1Q0-01</th>\n",
       "      <th>TCGA-BF-A3DJ-01</th>\n",
       "      <th>TCGA-BF-A3DL-01</th>\n",
       "      <th>...</th>\n",
       "      <th>TCGA-XV-AB01-06</th>\n",
       "      <th>TCGA-YD-A89C-06</th>\n",
       "      <th>TCGA-YD-A9TA-06</th>\n",
       "      <th>TCGA-YD-A9TB-06</th>\n",
       "      <th>TCGA-YG-AA3N-01</th>\n",
       "      <th>TCGA-YG-AA3O-06</th>\n",
       "      <th>TCGA-YG-AA3P-06</th>\n",
       "      <th>TCGA-Z2-A8RT-06</th>\n",
       "      <th>TCGA-Z2-AA3S-06</th>\n",
       "      <th>TCGA-Z2-AA3V-06</th>\n",
       "    </tr>\n",
       "    <tr>\n",
       "      <th>Hugo_Symbol</th>\n",
       "      <th></th>\n",
       "      <th></th>\n",
       "      <th></th>\n",
       "      <th></th>\n",
       "      <th></th>\n",
       "      <th></th>\n",
       "      <th></th>\n",
       "      <th></th>\n",
       "      <th></th>\n",
       "      <th></th>\n",
       "      <th></th>\n",
       "      <th></th>\n",
       "      <th></th>\n",
       "      <th></th>\n",
       "      <th></th>\n",
       "      <th></th>\n",
       "      <th></th>\n",
       "      <th></th>\n",
       "      <th></th>\n",
       "      <th></th>\n",
       "      <th></th>\n",
       "    </tr>\n",
       "  </thead>\n",
       "  <tbody>\n",
       "    <tr>\n",
       "      <th>TMEM189-UBE2V1</th>\n",
       "      <td>-0.8187</td>\n",
       "      <td>-0.7122</td>\n",
       "      <td>-3.8273</td>\n",
       "      <td>1.3173</td>\n",
       "      <td>-1.1315</td>\n",
       "      <td>-3.8273</td>\n",
       "      <td>-1.0419</td>\n",
       "      <td>3.5824</td>\n",
       "      <td>-3.8273</td>\n",
       "      <td>0.9266</td>\n",
       "      <td>...</td>\n",
       "      <td>-3.8273</td>\n",
       "      <td>-3.8273</td>\n",
       "      <td>0.5078</td>\n",
       "      <td>-3.8273</td>\n",
       "      <td>1.4678</td>\n",
       "      <td>-3.8273</td>\n",
       "      <td>-3.8273</td>\n",
       "      <td>1.2392</td>\n",
       "      <td>-1.3505</td>\n",
       "      <td>-0.0449</td>\n",
       "    </tr>\n",
       "    <tr>\n",
       "      <th>CYorf15B</th>\n",
       "      <td>1.0308</td>\n",
       "      <td>0.8722</td>\n",
       "      <td>0.7954</td>\n",
       "      <td>-2.1528</td>\n",
       "      <td>-2.1528</td>\n",
       "      <td>0.2736</td>\n",
       "      <td>-2.1528</td>\n",
       "      <td>0.0463</td>\n",
       "      <td>-2.1528</td>\n",
       "      <td>-2.1528</td>\n",
       "      <td>...</td>\n",
       "      <td>-1.6555</td>\n",
       "      <td>-2.1528</td>\n",
       "      <td>1.5348</td>\n",
       "      <td>-2.1528</td>\n",
       "      <td>-0.3105</td>\n",
       "      <td>0.9675</td>\n",
       "      <td>-1.9076</td>\n",
       "      <td>-2.1528</td>\n",
       "      <td>-0.9057</td>\n",
       "      <td>-2.1528</td>\n",
       "    </tr>\n",
       "    <tr>\n",
       "      <th>CYorf15B</th>\n",
       "      <td>0.6868</td>\n",
       "      <td>0.7617</td>\n",
       "      <td>0.4533</td>\n",
       "      <td>-2.2316</td>\n",
       "      <td>-2.2316</td>\n",
       "      <td>0.5641</td>\n",
       "      <td>-2.2316</td>\n",
       "      <td>0.2353</td>\n",
       "      <td>-2.2316</td>\n",
       "      <td>-2.2316</td>\n",
       "      <td>...</td>\n",
       "      <td>-2.2316</td>\n",
       "      <td>-2.2316</td>\n",
       "      <td>1.3182</td>\n",
       "      <td>-2.2316</td>\n",
       "      <td>0.3082</td>\n",
       "      <td>0.9962</td>\n",
       "      <td>-2.2316</td>\n",
       "      <td>-2.2316</td>\n",
       "      <td>-0.8697</td>\n",
       "      <td>-2.2316</td>\n",
       "    </tr>\n",
       "    <tr>\n",
       "      <th>TTTY15</th>\n",
       "      <td>0.3841</td>\n",
       "      <td>0.8337</td>\n",
       "      <td>0.2062</td>\n",
       "      <td>-2.1327</td>\n",
       "      <td>-2.1327</td>\n",
       "      <td>0.5900</td>\n",
       "      <td>-2.1327</td>\n",
       "      <td>-0.7273</td>\n",
       "      <td>-2.1327</td>\n",
       "      <td>-2.1327</td>\n",
       "      <td>...</td>\n",
       "      <td>-2.1327</td>\n",
       "      <td>-2.1327</td>\n",
       "      <td>1.3886</td>\n",
       "      <td>-2.1327</td>\n",
       "      <td>0.3684</td>\n",
       "      <td>0.7812</td>\n",
       "      <td>-1.8933</td>\n",
       "      <td>-2.1327</td>\n",
       "      <td>1.4473</td>\n",
       "      <td>-2.1327</td>\n",
       "    </tr>\n",
       "    <tr>\n",
       "      <th>CSAG2</th>\n",
       "      <td>-2.9879</td>\n",
       "      <td>0.3141</td>\n",
       "      <td>-2.6129</td>\n",
       "      <td>-2.9879</td>\n",
       "      <td>-2.9879</td>\n",
       "      <td>-2.9879</td>\n",
       "      <td>-0.2063</td>\n",
       "      <td>0.9064</td>\n",
       "      <td>-2.6399</td>\n",
       "      <td>-2.9879</td>\n",
       "      <td>...</td>\n",
       "      <td>-2.9879</td>\n",
       "      <td>-1.3396</td>\n",
       "      <td>-0.5020</td>\n",
       "      <td>-2.2328</td>\n",
       "      <td>-1.2007</td>\n",
       "      <td>-2.9879</td>\n",
       "      <td>-2.9879</td>\n",
       "      <td>-0.8771</td>\n",
       "      <td>-0.0097</td>\n",
       "      <td>-2.9879</td>\n",
       "    </tr>\n",
       "  </tbody>\n",
       "</table>\n",
       "<p>5 rows × 472 columns</p>\n",
       "</div>"
      ],
      "text/plain": [
       "                TCGA-3N-A9WB-06  TCGA-3N-A9WC-06  TCGA-3N-A9WD-06  \\\n",
       "Hugo_Symbol                                                         \n",
       "TMEM189-UBE2V1          -0.8187          -0.7122          -3.8273   \n",
       "CYorf15B                 1.0308           0.8722           0.7954   \n",
       "CYorf15B                 0.6868           0.7617           0.4533   \n",
       "TTTY15                   0.3841           0.8337           0.2062   \n",
       "CSAG2                   -2.9879           0.3141          -2.6129   \n",
       "\n",
       "                TCGA-BF-A1PU-01  TCGA-BF-A1PV-01  TCGA-BF-A1PX-01  \\\n",
       "Hugo_Symbol                                                         \n",
       "TMEM189-UBE2V1           1.3173          -1.1315          -3.8273   \n",
       "CYorf15B                -2.1528          -2.1528           0.2736   \n",
       "CYorf15B                -2.2316          -2.2316           0.5641   \n",
       "TTTY15                  -2.1327          -2.1327           0.5900   \n",
       "CSAG2                   -2.9879          -2.9879          -2.9879   \n",
       "\n",
       "                TCGA-BF-A1PZ-01  TCGA-BF-A1Q0-01  TCGA-BF-A3DJ-01  \\\n",
       "Hugo_Symbol                                                         \n",
       "TMEM189-UBE2V1          -1.0419           3.5824          -3.8273   \n",
       "CYorf15B                -2.1528           0.0463          -2.1528   \n",
       "CYorf15B                -2.2316           0.2353          -2.2316   \n",
       "TTTY15                  -2.1327          -0.7273          -2.1327   \n",
       "CSAG2                   -0.2063           0.9064          -2.6399   \n",
       "\n",
       "                TCGA-BF-A3DL-01  ...  TCGA-XV-AB01-06  TCGA-YD-A89C-06  \\\n",
       "Hugo_Symbol                      ...                                     \n",
       "TMEM189-UBE2V1           0.9266  ...          -3.8273          -3.8273   \n",
       "CYorf15B                -2.1528  ...          -1.6555          -2.1528   \n",
       "CYorf15B                -2.2316  ...          -2.2316          -2.2316   \n",
       "TTTY15                  -2.1327  ...          -2.1327          -2.1327   \n",
       "CSAG2                   -2.9879  ...          -2.9879          -1.3396   \n",
       "\n",
       "                TCGA-YD-A9TA-06  TCGA-YD-A9TB-06  TCGA-YG-AA3N-01  \\\n",
       "Hugo_Symbol                                                         \n",
       "TMEM189-UBE2V1           0.5078          -3.8273           1.4678   \n",
       "CYorf15B                 1.5348          -2.1528          -0.3105   \n",
       "CYorf15B                 1.3182          -2.2316           0.3082   \n",
       "TTTY15                   1.3886          -2.1327           0.3684   \n",
       "CSAG2                   -0.5020          -2.2328          -1.2007   \n",
       "\n",
       "                TCGA-YG-AA3O-06  TCGA-YG-AA3P-06  TCGA-Z2-A8RT-06  \\\n",
       "Hugo_Symbol                                                         \n",
       "TMEM189-UBE2V1          -3.8273          -3.8273           1.2392   \n",
       "CYorf15B                 0.9675          -1.9076          -2.1528   \n",
       "CYorf15B                 0.9962          -2.2316          -2.2316   \n",
       "TTTY15                   0.7812          -1.8933          -2.1327   \n",
       "CSAG2                   -2.9879          -2.9879          -0.8771   \n",
       "\n",
       "                TCGA-Z2-AA3S-06  TCGA-Z2-AA3V-06  \n",
       "Hugo_Symbol                                       \n",
       "TMEM189-UBE2V1          -1.3505          -0.0449  \n",
       "CYorf15B                -0.9057          -2.1528  \n",
       "CYorf15B                -0.8697          -2.2316  \n",
       "TTTY15                   1.4473          -2.1327  \n",
       "CSAG2                   -0.0097          -2.9879  \n",
       "\n",
       "[5 rows x 472 columns]"
      ]
     },
     "execution_count": 31,
     "metadata": {},
     "output_type": "execute_result"
    }
   ],
   "source": [
    "# select 1500 the most variable genes\n",
    "top_1500_all = select_1500_genes(mrna_zcores)\n",
    "top_1500_all.head(5)"
   ]
  },
  {
   "cell_type": "markdown",
   "metadata": {},
   "source": [
    "\"Old\" 1500 genes and \"new\" 1500 genes are not the same:"
   ]
  },
  {
   "cell_type": "code",
   "execution_count": 32,
   "metadata": {},
   "outputs": [
    {
     "data": {
      "text/plain": [
       "1767"
      ]
     },
     "execution_count": 32,
     "metadata": {},
     "output_type": "execute_result"
    }
   ],
   "source": [
    "len(set(list(top_1500.index) + list(top_1500_all.index)))"
   ]
  },
  {
   "cell_type": "code",
   "execution_count": 33,
   "metadata": {},
   "outputs": [
    {
     "data": {
      "image/png": "[encoded data removed]",
      "text/plain": [
       "<Figure size 1000x500 with 1 Axes>"
      ]
     },
     "metadata": {},
     "output_type": "display_data"
    }
   ],
   "source": [
    "# plot dendrogram\n",
    "plot_dendrogram(top_1500_all, title='Ward linkage hierarchical clustering dendrogram (472 samples)')"
   ]
  },
  {
   "cell_type": "code",
   "execution_count": 34,
   "metadata": {},
   "outputs": [
    {
     "data": {
      "text/plain": [
       "(165, 172, 135)"
      ]
     },
     "execution_count": 34,
     "metadata": {},
     "output_type": "execute_result"
    }
   ],
   "source": [
    "# clustering\n",
    "X = np.array(top_1500_all.T)\n",
    "clustering = AgglomerativeClustering(linkage='ward', n_clusters=3)\n",
    "labels = list(clustering.fit(X).labels_)\n",
    "\n",
    "# write results\n",
    "cluster_top_1500_all = top_1500_all.T\n",
    "cluster_top_1500_all.insert(0, 'labels', labels)\n",
    "\n",
    "# look at the numbers of samples in each cluster\n",
    "labels.count(0), labels.count(1), labels.count(2)"
   ]
  },
  {
   "cell_type": "code",
   "execution_count": 35,
   "metadata": {},
   "outputs": [],
   "source": [
    "# Mann-Whitney U test\n",
    "# Warning: this is a very time-consuming process!!!\n",
    "group1, group2, group3 = Mann_Whitney_test(cluster_top_1500_all, top_1500_all.index)\n",
    "\n",
    "group1_genes_all = get_genes_table(group1)\n",
    "group2_genes_all = get_genes_table(group2)\n",
    "group3_genes_all = get_genes_table(group3)"
   ]
  },
  {
   "cell_type": "markdown",
   "metadata": {},
   "source": [
    "Groups are the same: 1 - 'immune', 2 - 'MITF-low', 3 - 'keratin'"
   ]
  },
  {
   "cell_type": "code",
   "execution_count": 36,
   "metadata": {},
   "outputs": [],
   "source": [
    "# add cluster's names\n",
    "cluster_top_1500_all.labels = cluster_top_1500_all.labels.replace({0: 'immune', 1:'MITF-low', 2:'keratin'})\n",
    "\n",
    "# add information about clusters from the reference article\n",
    "cluster_top_1500_all = pd.concat([clustering_329.set_index('Name'), cluster_top_1500_all], axis=1)\n",
    "cluster_top_1500_all = cluster_top_1500_all.rename(columns={'labels':'clusters_predicted', \n",
    "                                                    'RNASEQ-CLUSTER_CONSENHIER':'clusters_original'})"
   ]
  },
  {
   "cell_type": "code",
   "execution_count": 37,
   "metadata": {},
   "outputs": [
    {
     "data": {
      "image/png": "[encoded data removed]",
      "text/plain": [
       "<Figure size 600x300 with 1 Axes>"
      ]
     },
     "metadata": {},
     "output_type": "display_data"
    }
   ],
   "source": [
    "#  Kaplan-Meier curves\n",
    "plot_KM(cluster_top_1500_all, 'clusters_predicted')"
   ]
  },
  {
   "cell_type": "markdown",
   "metadata": {},
   "source": [
    "Now we have 210 out of 329 samples with same cluster as in reference article:"
   ]
  },
  {
   "cell_type": "code",
   "execution_count": 38,
   "metadata": {},
   "outputs": [
    {
     "data": {
      "text/plain": [
       "False    262\n",
       "True     210\n",
       "Name: count, dtype: int64"
      ]
     },
     "execution_count": 38,
     "metadata": {},
     "output_type": "execute_result"
    }
   ],
   "source": [
    "(cluster_top_1500_all.clusters_original == cluster_top_1500_all.clusters_predicted).value_counts()"
   ]
  },
  {
   "cell_type": "markdown",
   "metadata": {},
   "source": [
    "Save main results:"
   ]
  },
  {
   "cell_type": "code",
   "execution_count": 39,
   "metadata": {},
   "outputs": [],
   "source": [
    "group1_genes.to_csv('task1_significant_genes_description_immune_329_samples.csv', index=None)\n",
    "group2_genes.to_csv('task1_significant_genes_description_MITF-low_329_samples.csv', index=None)\n",
    "group3_genes.to_csv('task1_significant_genes_description_keratin_329_samples.csv', index=None)\n",
    "\n",
    "group1_genes_all.to_csv('task1_significant_genes_description_immune_472_samples.csv', index=None)\n",
    "group2_genes_all.to_csv('task1_significant_genes_description_MITF-low_472_samples.csv', index=None)\n",
    "group3_genes_all.to_csv('task1_significant_genes_description_keratin_472_samples.csv', index=None)\n",
    "\n",
    "clustering_472 = cluster_top_1500_all[['clusters_predicted']]\n",
    "clustering_472.to_csv('task_1_clustering_472_samples.csv')"
   ]
  },
  {
   "cell_type": "markdown",
   "metadata": {},
   "source": [
    "## 3. Classification    \n",
    "\n",
    "Now we assume, that 329 samples were classified correctly. We can use information about them to classify rest 143 samples.   \n",
    "There is interesting [study](https://www.ncbi.nlm.nih.gov/pmc/articles/PMC8942277/) compares different algorithms for classification patients based on gene-expression data. They used 50 datasets spanning diverse diseases and tissue types but focused primarily on cancer-related conditions. Generally, kernel- and ensemble-based algorithms outperformed other types of algorithms in this analyses. Based on this, we try two algorithms: logistic regression and random forest.   \n",
    "Note: to be honest, we need to select important genes (feature selections), but let's try to do without it   \n",
    "#### **3.1 Preparing dataset**"
   ]
  },
  {
   "cell_type": "markdown",
   "metadata": {},
   "source": [
    "Split data into train and test; we use Z-score data, so we don't need use StandardScaler()"
   ]
  },
  {
   "cell_type": "code",
   "execution_count": 40,
   "metadata": {},
   "outputs": [],
   "source": [
    "# DF \"sample - cluster - genes\" for 329 samples\n",
    "to_train = pd.concat([clustering_329.set_index('Name').sort_index(), \\\n",
    "           mrna_zcores_329.drop(['Entrez_Gene_Id', 'MAD'], axis=1).set_index('Hugo_Symbol').T.sort_index()], axis=1)\n",
    "\n",
    "# split data into train and test sets, 80% in train and 20% in test. \n",
    "# The \"random_state\" variable can be used to reproduce the split\n",
    "train_data = to_train.sample(frac=0.8, random_state=1).sort_index()\n",
    "test_data = to_train.drop(train_data.index)\n",
    "\n",
    "train_y = train_data.pop('RNASEQ-CLUSTER_CONSENHIER')\n",
    "test_y = test_data.pop('RNASEQ-CLUSTER_CONSENHIER')\n"
   ]
  },
  {
   "cell_type": "code",
   "execution_count": 41,
   "metadata": {},
   "outputs": [],
   "source": [
    "# DF \"sample - genes\" for 143 \"new\" and 472 all samples\n",
    "to_predict_143 = mrna_zcores.dropna().drop(['Entrez_Gene_Id', 'MAD'], axis=1).set_index('Hugo_Symbol').dropna().T.drop(to_train.index)\n",
    "to_predict_472 = mrna_zcores.dropna().drop(['Entrez_Gene_Id', 'MAD'], axis=1).set_index('Hugo_Symbol').dropna().T"
   ]
  },
  {
   "cell_type": "markdown",
   "metadata": {},
   "source": [
    "#### **3.2 Logistic Regression**"
   ]
  },
  {
   "cell_type": "code",
   "execution_count": 42,
   "metadata": {},
   "outputs": [
    {
     "data": {
      "text/html": [
       "<style>#sk-container-id-1 {color: black;}#sk-container-id-1 pre{padding: 0;}#sk-container-id-1 div.sk-toggleable {background-color: white;}#sk-container-id-1 label.sk-toggleable__label {cursor: pointer;display: block;width: 100%;margin-bottom: 0;padding: 0.3em;box-sizing: border-box;text-align: center;}#sk-container-id-1 label.sk-toggleable__label-arrow:before {content: \"▸\";float: left;margin-right: 0.25em;color: #696969;}#sk-container-id-1 label.sk-toggleable__label-arrow:hover:before {color: black;}#sk-container-id-1 div.sk-estimator:hover label.sk-toggleable__label-arrow:before {color: black;}#sk-container-id-1 div.sk-toggleable__content {max-height: 0;max-width: 0;overflow: hidden;text-align: left;background-color: #f0f8ff;}#sk-container-id-1 div.sk-toggleable__content pre {margin: 0.2em;color: black;border-radius: 0.25em;background-color: #f0f8ff;}#sk-container-id-1 input.sk-toggleable__control:checked~div.sk-toggleable__content {max-height: 200px;max-width: 100%;overflow: auto;}#sk-container-id-1 input.sk-toggleable__control:checked~label.sk-toggleable__label-arrow:before {content: \"▾\";}#sk-container-id-1 div.sk-estimator input.sk-toggleable__control:checked~label.sk-toggleable__label {background-color: #d4ebff;}#sk-container-id-1 div.sk-label input.sk-toggleable__control:checked~label.sk-toggleable__label {background-color: #d4ebff;}#sk-container-id-1 input.sk-hidden--visually {border: 0;clip: rect(1px 1px 1px 1px);clip: rect(1px, 1px, 1px, 1px);height: 1px;margin: -1px;overflow: hidden;padding: 0;position: absolute;width: 1px;}#sk-container-id-1 div.sk-estimator {font-family: monospace;background-color: #f0f8ff;border: 1px dotted black;border-radius: 0.25em;box-sizing: border-box;margin-bottom: 0.5em;}#sk-container-id-1 div.sk-estimator:hover {background-color: #d4ebff;}#sk-container-id-1 div.sk-parallel-item::after {content: \"\";width: 100%;border-bottom: 1px solid gray;flex-grow: 1;}#sk-container-id-1 div.sk-label:hover label.sk-toggleable__label {background-color: #d4ebff;}#sk-container-id-1 div.sk-serial::before {content: \"\";position: absolute;border-left: 1px solid gray;box-sizing: border-box;top: 0;bottom: 0;left: 50%;z-index: 0;}#sk-container-id-1 div.sk-serial {display: flex;flex-direction: column;align-items: center;background-color: white;padding-right: 0.2em;padding-left: 0.2em;position: relative;}#sk-container-id-1 div.sk-item {position: relative;z-index: 1;}#sk-container-id-1 div.sk-parallel {display: flex;align-items: stretch;justify-content: center;background-color: white;position: relative;}#sk-container-id-1 div.sk-item::before, #sk-container-id-1 div.sk-parallel-item::before {content: \"\";position: absolute;border-left: 1px solid gray;box-sizing: border-box;top: 0;bottom: 0;left: 50%;z-index: -1;}#sk-container-id-1 div.sk-parallel-item {display: flex;flex-direction: column;z-index: 1;position: relative;background-color: white;}#sk-container-id-1 div.sk-parallel-item:first-child::after {align-self: flex-end;width: 50%;}#sk-container-id-1 div.sk-parallel-item:last-child::after {align-self: flex-start;width: 50%;}#sk-container-id-1 div.sk-parallel-item:only-child::after {width: 0;}#sk-container-id-1 div.sk-dashed-wrapped {border: 1px dashed gray;margin: 0 0.4em 0.5em 0.4em;box-sizing: border-box;padding-bottom: 0.4em;background-color: white;}#sk-container-id-1 div.sk-label label {font-family: monospace;font-weight: bold;display: inline-block;line-height: 1.2em;}#sk-container-id-1 div.sk-label-container {text-align: center;}#sk-container-id-1 div.sk-container {/* jupyter's `normalize.less` sets `[hidden] { display: none; }` but bootstrap.min.css set `[hidden] { display: none !important; }` so we also need the `!important` here to be able to override the default hidden behavior on the sphinx rendered scikit-learn.org. See: https://github.com/scikit-learn/scikit-learn/issues/21755 */display: inline-block !important;position: relative;}#sk-container-id-1 div.sk-text-repr-fallback {display: none;}</style><div id=\"sk-container-id-1\" class=\"sk-top-container\"><div class=\"sk-text-repr-fallback\"><pre>LogisticRegression(C=0.1, max_iter=1000, multi_class=&#x27;multinomial&#x27;,\n",
       "                   solver=&#x27;newton-cg&#x27;)</pre><b>In a Jupyter environment, please rerun this cell to show the HTML representation or trust the notebook. <br />On GitHub, the HTML representation is unable to render, please try loading this page with nbviewer.org.</b></div><div class=\"sk-container\" hidden><div class=\"sk-item\"><div class=\"sk-estimator sk-toggleable\"><input class=\"sk-toggleable__control sk-hidden--visually\" id=\"sk-estimator-id-1\" type=\"checkbox\" checked><label for=\"sk-estimator-id-1\" class=\"sk-toggleable__label sk-toggleable__label-arrow\">LogisticRegression</label><div class=\"sk-toggleable__content\"><pre>LogisticRegression(C=0.1, max_iter=1000, multi_class=&#x27;multinomial&#x27;,\n",
       "                   solver=&#x27;newton-cg&#x27;)</pre></div></div></div></div></div>"
      ],
      "text/plain": [
       "LogisticRegression(C=0.1, max_iter=1000, multi_class='multinomial',\n",
       "                   solver='newton-cg')"
      ]
     },
     "execution_count": 42,
     "metadata": {},
     "output_type": "execute_result"
    }
   ],
   "source": [
    "# train a logistic regression model\n",
    "# we choose solver='newton-cg' for best score and time\n",
    "lr = LogisticRegression(max_iter=1000, solver='newton-cg', multi_class='multinomial', C=0.1)\n",
    "lr.fit(train_data.values, train_y)"
   ]
  },
  {
   "cell_type": "code",
   "execution_count": 43,
   "metadata": {},
   "outputs": [
    {
     "data": {
      "text/plain": [
       "0.9242424242424242"
      ]
     },
     "execution_count": 43,
     "metadata": {},
     "output_type": "execute_result"
    }
   ],
   "source": [
    "lr.score(test_data.values, test_y)"
   ]
  },
  {
   "cell_type": "markdown",
   "metadata": {},
   "source": [
    "Draw ROC curves \"One-vs-Rest\" for three groups (some code was taken from [documentation](https://scikit-learn.org/stable/auto_examples/model_selection/plot_roc.html)):"
   ]
  },
  {
   "cell_type": "code",
   "execution_count": 44,
   "metadata": {},
   "outputs": [
    {
     "data": {
      "image/png": "[encoded data removed]",
      "text/plain": [
       "<Figure size 600x500 with 1 Axes>"
      ]
     },
     "metadata": {},
     "output_type": "display_data"
    }
   ],
   "source": [
    "y_score = lr.fit(train_data, train_y).predict_proba(test_data)\n",
    "\n",
    "def ROC_curves(y_score, train_y, test_y):\n",
    "    label_binarizer = LabelBinarizer().fit(train_y)\n",
    "    y_onehot_test = label_binarizer.transform(test_y)\n",
    "\n",
    "    fig, ax = plt.subplots(figsize=(6, 5))\n",
    "\n",
    "    colors = [\"aqua\", \"darkorange\", \"cornflowerblue\"]\n",
    "    clusters = ['immune', 'MITF-low', 'keratin']\n",
    "    for cluster, color in zip(clusters, colors):\n",
    "        label_binarizer.transform([cluster])\n",
    "        class_of_interest = cluster\n",
    "        class_id = np.flatnonzero(label_binarizer.classes_ == class_of_interest)[0]\n",
    "        RocCurveDisplay.from_predictions(\n",
    "        y_onehot_test[:, class_id],\n",
    "        y_score[:, class_id],\n",
    "        name=f\"{class_of_interest} vs the rest\",\n",
    "        color=color,\n",
    "        ax = ax,\n",
    "        plot_chance_level=(class_id == 2),\n",
    "    )\n",
    "\n",
    "    plt.axis(\"square\")\n",
    "    plt.xlabel(\"False Positive Rate\")\n",
    "    plt.ylabel(\"True Positive Rate\")\n",
    "    plt.title(\"ROC curves One-vs-Rest multiclass\")\n",
    "    plt.legend()\n",
    "    plt.show()\n",
    "\n",
    "ROC_curves(y_score, train_y, test_y)"
   ]
  },
  {
   "cell_type": "markdown",
   "metadata": {},
   "source": [
    "ROC curves looks good. Using lr-model, predict classes of 143 and 472 samples and count, how many classes of 329 samples are same as in reference article:"
   ]
  },
  {
   "cell_type": "code",
   "execution_count": 45,
   "metadata": {},
   "outputs": [],
   "source": [
    "predicted_lr_143 = pd.DataFrame({'predicted': lr.predict(to_predict_143)}).set_index(to_predict_143.index).sort_index()\n",
    "predicted_lr_472 = pd.DataFrame({'predicted': lr.predict(to_predict_472)}).set_index(to_predict_472.index).sort_index()\n",
    "\n",
    "# concat with 329 samples classes from the reference article to compare results\n",
    "predicted_lr_472 = pd.concat([clustering_329.set_index('Name').sort_index(), predicted_lr_472], axis=1)\n",
    "predicted_lr_472 = predicted_lr_472.rename(columns={'predicted':'predicted_lr'})"
   ]
  },
  {
   "cell_type": "markdown",
   "metadata": {},
   "source": [
    "324 samples out of 329 have same classes - it's much more better than using hierarchical clustering:"
   ]
  },
  {
   "cell_type": "code",
   "execution_count": 46,
   "metadata": {},
   "outputs": [
    {
     "data": {
      "text/plain": [
       "True     324\n",
       "False    148\n",
       "Name: count, dtype: int64"
      ]
     },
     "execution_count": 46,
     "metadata": {},
     "output_type": "execute_result"
    }
   ],
   "source": [
    "(predicted_lr_472['RNASEQ-CLUSTER_CONSENHIER'] == predicted_lr_472['predicted_lr']).value_counts()"
   ]
  },
  {
   "cell_type": "markdown",
   "metadata": {},
   "source": [
    "Save results:"
   ]
  },
  {
   "cell_type": "code",
   "execution_count": 47,
   "metadata": {},
   "outputs": [],
   "source": [
    "predicted_lr_472.to_csv('task1_lr_classify_472_samples.csv')\n",
    "predicted_lr_143.to_csv('task1_lr_classify_143_samples.csv')"
   ]
  },
  {
   "cell_type": "markdown",
   "metadata": {},
   "source": [
    "### **3.3 Random Forest**"
   ]
  },
  {
   "cell_type": "code",
   "execution_count": 48,
   "metadata": {},
   "outputs": [
    {
     "data": {
      "text/html": [
       "<style>#sk-container-id-2 {color: black;}#sk-container-id-2 pre{padding: 0;}#sk-container-id-2 div.sk-toggleable {background-color: white;}#sk-container-id-2 label.sk-toggleable__label {cursor: pointer;display: block;width: 100%;margin-bottom: 0;padding: 0.3em;box-sizing: border-box;text-align: center;}#sk-container-id-2 label.sk-toggleable__label-arrow:before {content: \"▸\";float: left;margin-right: 0.25em;color: #696969;}#sk-container-id-2 label.sk-toggleable__label-arrow:hover:before {color: black;}#sk-container-id-2 div.sk-estimator:hover label.sk-toggleable__label-arrow:before {color: black;}#sk-container-id-2 div.sk-toggleable__content {max-height: 0;max-width: 0;overflow: hidden;text-align: left;background-color: #f0f8ff;}#sk-container-id-2 div.sk-toggleable__content pre {margin: 0.2em;color: black;border-radius: 0.25em;background-color: #f0f8ff;}#sk-container-id-2 input.sk-toggleable__control:checked~div.sk-toggleable__content {max-height: 200px;max-width: 100%;overflow: auto;}#sk-container-id-2 input.sk-toggleable__control:checked~label.sk-toggleable__label-arrow:before {content: \"▾\";}#sk-container-id-2 div.sk-estimator input.sk-toggleable__control:checked~label.sk-toggleable__label {background-color: #d4ebff;}#sk-container-id-2 div.sk-label input.sk-toggleable__control:checked~label.sk-toggleable__label {background-color: #d4ebff;}#sk-container-id-2 input.sk-hidden--visually {border: 0;clip: rect(1px 1px 1px 1px);clip: rect(1px, 1px, 1px, 1px);height: 1px;margin: -1px;overflow: hidden;padding: 0;position: absolute;width: 1px;}#sk-container-id-2 div.sk-estimator {font-family: monospace;background-color: #f0f8ff;border: 1px dotted black;border-radius: 0.25em;box-sizing: border-box;margin-bottom: 0.5em;}#sk-container-id-2 div.sk-estimator:hover {background-color: #d4ebff;}#sk-container-id-2 div.sk-parallel-item::after {content: \"\";width: 100%;border-bottom: 1px solid gray;flex-grow: 1;}#sk-container-id-2 div.sk-label:hover label.sk-toggleable__label {background-color: #d4ebff;}#sk-container-id-2 div.sk-serial::before {content: \"\";position: absolute;border-left: 1px solid gray;box-sizing: border-box;top: 0;bottom: 0;left: 50%;z-index: 0;}#sk-container-id-2 div.sk-serial {display: flex;flex-direction: column;align-items: center;background-color: white;padding-right: 0.2em;padding-left: 0.2em;position: relative;}#sk-container-id-2 div.sk-item {position: relative;z-index: 1;}#sk-container-id-2 div.sk-parallel {display: flex;align-items: stretch;justify-content: center;background-color: white;position: relative;}#sk-container-id-2 div.sk-item::before, #sk-container-id-2 div.sk-parallel-item::before {content: \"\";position: absolute;border-left: 1px solid gray;box-sizing: border-box;top: 0;bottom: 0;left: 50%;z-index: -1;}#sk-container-id-2 div.sk-parallel-item {display: flex;flex-direction: column;z-index: 1;position: relative;background-color: white;}#sk-container-id-2 div.sk-parallel-item:first-child::after {align-self: flex-end;width: 50%;}#sk-container-id-2 div.sk-parallel-item:last-child::after {align-self: flex-start;width: 50%;}#sk-container-id-2 div.sk-parallel-item:only-child::after {width: 0;}#sk-container-id-2 div.sk-dashed-wrapped {border: 1px dashed gray;margin: 0 0.4em 0.5em 0.4em;box-sizing: border-box;padding-bottom: 0.4em;background-color: white;}#sk-container-id-2 div.sk-label label {font-family: monospace;font-weight: bold;display: inline-block;line-height: 1.2em;}#sk-container-id-2 div.sk-label-container {text-align: center;}#sk-container-id-2 div.sk-container {/* jupyter's `normalize.less` sets `[hidden] { display: none; }` but bootstrap.min.css set `[hidden] { display: none !important; }` so we also need the `!important` here to be able to override the default hidden behavior on the sphinx rendered scikit-learn.org. See: https://github.com/scikit-learn/scikit-learn/issues/21755 */display: inline-block !important;position: relative;}#sk-container-id-2 div.sk-text-repr-fallback {display: none;}</style><div id=\"sk-container-id-2\" class=\"sk-top-container\"><div class=\"sk-text-repr-fallback\"><pre>RandomForestClassifier(n_jobs=10)</pre><b>In a Jupyter environment, please rerun this cell to show the HTML representation or trust the notebook. <br />On GitHub, the HTML representation is unable to render, please try loading this page with nbviewer.org.</b></div><div class=\"sk-container\" hidden><div class=\"sk-item\"><div class=\"sk-estimator sk-toggleable\"><input class=\"sk-toggleable__control sk-hidden--visually\" id=\"sk-estimator-id-2\" type=\"checkbox\" checked><label for=\"sk-estimator-id-2\" class=\"sk-toggleable__label sk-toggleable__label-arrow\">RandomForestClassifier</label><div class=\"sk-toggleable__content\"><pre>RandomForestClassifier(n_jobs=10)</pre></div></div></div></div></div>"
      ],
      "text/plain": [
       "RandomForestClassifier(n_jobs=10)"
      ]
     },
     "execution_count": 48,
     "metadata": {},
     "output_type": "execute_result"
    }
   ],
   "source": [
    "# we already have test and train data, use RandomForestClassifier with default parameters\n",
    "from sklearn.ensemble import RandomForestClassifier\n",
    "clf = RandomForestClassifier(n_jobs = 10, n_estimators=100)\n",
    "clf.fit(train_data, train_y)"
   ]
  },
  {
   "cell_type": "markdown",
   "metadata": {},
   "source": [
    "Score is lower, and ROC curvers look worse:"
   ]
  },
  {
   "cell_type": "code",
   "execution_count": 49,
   "metadata": {},
   "outputs": [
    {
     "data": {
      "text/plain": [
       "0.803030303030303"
      ]
     },
     "execution_count": 49,
     "metadata": {},
     "output_type": "execute_result"
    }
   ],
   "source": [
    "metrics.accuracy_score(test_y, clf.predict(test_data))"
   ]
  },
  {
   "cell_type": "code",
   "execution_count": 50,
   "metadata": {},
   "outputs": [
    {
     "data": {
      "image/png": "[encoded data removed]",
      "text/plain": [
       "<Figure size 600x500 with 1 Axes>"
      ]
     },
     "metadata": {},
     "output_type": "display_data"
    }
   ],
   "source": [
    "y_score = clf.fit(train_data, train_y).predict_proba(test_data)\n",
    "ROC_curves(y_score, train_y, test_y)"
   ]
  },
  {
   "cell_type": "code",
   "execution_count": 51,
   "metadata": {},
   "outputs": [],
   "source": [
    "predicted_clf_143 = pd.DataFrame({'predicted': clf.predict(to_predict_143)}).set_index(to_predict_143.index).sort_index()\n",
    "predicted_clf_472 = pd.DataFrame({'predicted': clf.predict(to_predict_472)}).set_index(to_predict_472.index).sort_index()\n",
    "\n",
    "# concat with 329 samples classes from the reference article to compare results\n",
    "predicted_clf_472 = pd.concat([clustering_329.set_index('Name').sort_index(), predicted_clf_472], axis=1)\n",
    "predicted_clf_472 = predicted_clf_472.rename(columns={'predicted':'predicted_clf'})"
   ]
  },
  {
   "cell_type": "markdown",
   "metadata": {},
   "source": [
    "318 samples out of 329 have same classes:"
   ]
  },
  {
   "cell_type": "code",
   "execution_count": 52,
   "metadata": {},
   "outputs": [
    {
     "data": {
      "text/plain": [
       "True     318\n",
       "False    154\n",
       "Name: count, dtype: int64"
      ]
     },
     "execution_count": 52,
     "metadata": {},
     "output_type": "execute_result"
    }
   ],
   "source": [
    "(predicted_clf_472['RNASEQ-CLUSTER_CONSENHIER'] == predicted_clf_472['predicted_clf']).value_counts()"
   ]
  },
  {
   "cell_type": "markdown",
   "metadata": {},
   "source": [
    "Save results:"
   ]
  },
  {
   "cell_type": "code",
   "execution_count": 53,
   "metadata": {},
   "outputs": [],
   "source": [
    "predicted_clf_472.to_csv('task1_RF_classify_472_samples.csv')\n",
    "predicted_clf_143.to_csv('taks1_RF_classify_143_samples.csv')"
   ]
  },
  {
   "cell_type": "code",
   "execution_count": 54,
   "metadata": {},
   "outputs": [
    {
     "data": {
      "image/png": "[encoded data removed]",
      "text/plain": [
       "<Figure size 600x300 with 1 Axes>"
      ]
     },
     "metadata": {},
     "output_type": "display_data"
    }
   ],
   "source": [
    "plot_KM(predicted_clf_472, 'predicted_clf')"
   ]
  },
  {
   "cell_type": "markdown",
   "metadata": {},
   "source": [
    "*******************"
   ]
  },
  {
   "cell_type": "markdown",
   "metadata": {},
   "source": [
    "# Task 2   \n",
    "## Problem: \n",
    "there are [acticle](https://aacrjournals.org/clincancerres/article/16/13/3356/11021/Gene-Expression-Profiling-Based-Identification-of) that describes the procedure of genomic classification patients with stage IV melanoma. For gene expression analysis, they selected the 3,000 most variable RefSeq genes and run average linkage agglomerative hierarchical clustering with Pearson correlation distance. Four subgroups were identified by visual inspection of the hierarchical tree, called Pigmentation, Proliferative, Normal-like, High-immune response. The authors also validated the public independent datasets using using nearest centroid correlation. Centroids based on significant genes for each subtype were computed for each of the four classes found in train dataset. For each subtype, the 100 most significant genes were used, except for the normal-like group where all 77 significant genes were used, then computed the Pearson correlation coefficient of each sample in the validation data sets to each of the four centroids. Samples were classified based on the centroid displaying the highest correlation (correlation >0.1). \n",
    "\n",
    "We have centroid's coordinates from Supplementary Table of this article, so we can repeat described for independent datasets procedure for our 472 samples from previous task.   \n",
    "\n",
    "We noticed, that data from the second experiment obtained using microchips, so absolute values of centroids cannot be transferred on NGS data from the first. But:   \n",
    "- all data has been normalized   \n",
    "- gene expression data in the first experiment are presented in Z-scale   \n",
    "- the coordinates of the centroids seem to be also in Z-scale, although the procedure for processing raw data is not described in detail   \n",
    "- we have no any other data in anyo ther formats.   \n",
    "   \n",
    "##### **1. Prepare data**"
   ]
  },
  {
   "cell_type": "code",
   "execution_count": 55,
   "metadata": {},
   "outputs": [],
   "source": [
    "# download coordinates of centroids\n",
    "genes_centroids = pd.read_table('genes_second_article.txt', delimiter=' ', header=None)\n",
    "genes_centroids.columns = ['ProbeID', 'Probe', 'SYMBOL', 'Normal-like', 'Proliferative', \\\n",
    "                           'Pigmentation', 'High-immune responce']"
   ]
  },
  {
   "cell_type": "markdown",
   "metadata": {},
   "source": [
    "Note, that authors saidabot 100 + 100 + 100 + 77 = 377 genes, but we have only 358 unique:"
   ]
  },
  {
   "cell_type": "code",
   "execution_count": 56,
   "metadata": {},
   "outputs": [
    {
     "data": {
      "text/html": [
       "<div>\n",
       "<style scoped>\n",
       "    .dataframe tbody tr th:only-of-type {\n",
       "        vertical-align: middle;\n",
       "    }\n",
       "\n",
       "    .dataframe tbody tr th {\n",
       "        vertical-align: top;\n",
       "    }\n",
       "\n",
       "    .dataframe thead th {\n",
       "        text-align: right;\n",
       "    }\n",
       "</style>\n",
       "<table border=\"1\" class=\"dataframe\">\n",
       "  <thead>\n",
       "    <tr style=\"text-align: right;\">\n",
       "      <th></th>\n",
       "      <th>ProbeID</th>\n",
       "      <th>Probe</th>\n",
       "      <th>SYMBOL</th>\n",
       "      <th>Normal-like</th>\n",
       "      <th>Proliferative</th>\n",
       "      <th>Pigmentation</th>\n",
       "      <th>High-immune responce</th>\n",
       "    </tr>\n",
       "  </thead>\n",
       "  <tbody>\n",
       "    <tr>\n",
       "      <th>0</th>\n",
       "      <td>5890445</td>\n",
       "      <td>ILMN_10232</td>\n",
       "      <td>FCHSD2</td>\n",
       "      <td>-0.179296</td>\n",
       "      <td>-0.233468</td>\n",
       "      <td>-0.348680</td>\n",
       "      <td>0.793797</td>\n",
       "    </tr>\n",
       "    <tr>\n",
       "      <th>1</th>\n",
       "      <td>4730750</td>\n",
       "      <td>ILMN_10292</td>\n",
       "      <td>TBC1D7</td>\n",
       "      <td>-0.471143</td>\n",
       "      <td>-0.661054</td>\n",
       "      <td>1.068625</td>\n",
       "      <td>-0.787198</td>\n",
       "    </tr>\n",
       "    <tr>\n",
       "      <th>...</th>\n",
       "      <td>...</td>\n",
       "      <td>...</td>\n",
       "      <td>...</td>\n",
       "      <td>...</td>\n",
       "      <td>...</td>\n",
       "      <td>...</td>\n",
       "      <td>...</td>\n",
       "    </tr>\n",
       "    <tr>\n",
       "      <th>363</th>\n",
       "      <td>5290537</td>\n",
       "      <td>ILMN_9994</td>\n",
       "      <td>KLF2</td>\n",
       "      <td>0.106593</td>\n",
       "      <td>-0.556403</td>\n",
       "      <td>-0.502153</td>\n",
       "      <td>1.124764</td>\n",
       "    </tr>\n",
       "    <tr>\n",
       "      <th>364</th>\n",
       "      <td>7570196</td>\n",
       "      <td>ILMN_9996</td>\n",
       "      <td>ICOS</td>\n",
       "      <td>-0.349296</td>\n",
       "      <td>-2.208939</td>\n",
       "      <td>0.568610</td>\n",
       "      <td>0.972219</td>\n",
       "    </tr>\n",
       "  </tbody>\n",
       "</table>\n",
       "<p>358 rows × 7 columns</p>\n",
       "</div>"
      ],
      "text/plain": [
       "     ProbeID       Probe  SYMBOL  Normal-like  Proliferative  Pigmentation  \\\n",
       "0    5890445  ILMN_10232  FCHSD2    -0.179296      -0.233468     -0.348680   \n",
       "1    4730750  ILMN_10292  TBC1D7    -0.471143      -0.661054      1.068625   \n",
       "..       ...         ...     ...          ...            ...           ...   \n",
       "363  5290537   ILMN_9994    KLF2     0.106593      -0.556403     -0.502153   \n",
       "364  7570196   ILMN_9996    ICOS    -0.349296      -2.208939      0.568610   \n",
       "\n",
       "     High-immune responce  \n",
       "0                0.793797  \n",
       "1               -0.787198  \n",
       "..                    ...  \n",
       "363              1.124764  \n",
       "364              0.972219  \n",
       "\n",
       "[358 rows x 7 columns]"
      ]
     },
     "execution_count": 56,
     "metadata": {},
     "output_type": "execute_result"
    }
   ],
   "source": [
    "genes_centroids.drop_duplicates('SYMBOL')"
   ]
  },
  {
   "cell_type": "code",
   "execution_count": 57,
   "metadata": {},
   "outputs": [
    {
     "data": {
      "text/html": [
       "<div>\n",
       "<style scoped>\n",
       "    .dataframe tbody tr th:only-of-type {\n",
       "        vertical-align: middle;\n",
       "    }\n",
       "\n",
       "    .dataframe tbody tr th {\n",
       "        vertical-align: top;\n",
       "    }\n",
       "\n",
       "    .dataframe thead th {\n",
       "        text-align: right;\n",
       "    }\n",
       "</style>\n",
       "<table border=\"1\" class=\"dataframe\">\n",
       "  <thead>\n",
       "    <tr style=\"text-align: right;\">\n",
       "      <th></th>\n",
       "      <th>TCGA-3N-A9WB-06</th>\n",
       "      <th>TCGA-3N-A9WC-06</th>\n",
       "      <th>TCGA-3N-A9WD-06</th>\n",
       "      <th>TCGA-BF-A1PU-01</th>\n",
       "      <th>TCGA-BF-A1PV-01</th>\n",
       "      <th>TCGA-BF-A1PX-01</th>\n",
       "      <th>TCGA-BF-A1PZ-01</th>\n",
       "      <th>TCGA-BF-A1Q0-01</th>\n",
       "      <th>TCGA-BF-A3DJ-01</th>\n",
       "      <th>TCGA-BF-A3DL-01</th>\n",
       "      <th>...</th>\n",
       "      <th>TCGA-XV-AB01-06</th>\n",
       "      <th>TCGA-YD-A89C-06</th>\n",
       "      <th>TCGA-YD-A9TA-06</th>\n",
       "      <th>TCGA-YD-A9TB-06</th>\n",
       "      <th>TCGA-YG-AA3N-01</th>\n",
       "      <th>TCGA-YG-AA3O-06</th>\n",
       "      <th>TCGA-YG-AA3P-06</th>\n",
       "      <th>TCGA-Z2-A8RT-06</th>\n",
       "      <th>TCGA-Z2-AA3S-06</th>\n",
       "      <th>TCGA-Z2-AA3V-06</th>\n",
       "    </tr>\n",
       "    <tr>\n",
       "      <th>Hugo_Symbol</th>\n",
       "      <th></th>\n",
       "      <th></th>\n",
       "      <th></th>\n",
       "      <th></th>\n",
       "      <th></th>\n",
       "      <th></th>\n",
       "      <th></th>\n",
       "      <th></th>\n",
       "      <th></th>\n",
       "      <th></th>\n",
       "      <th></th>\n",
       "      <th></th>\n",
       "      <th></th>\n",
       "      <th></th>\n",
       "      <th></th>\n",
       "      <th></th>\n",
       "      <th></th>\n",
       "      <th></th>\n",
       "      <th></th>\n",
       "      <th></th>\n",
       "      <th></th>\n",
       "    </tr>\n",
       "  </thead>\n",
       "  <tbody>\n",
       "    <tr>\n",
       "      <th>AADAT</th>\n",
       "      <td>0.9406</td>\n",
       "      <td>0.7642</td>\n",
       "      <td>-0.8577</td>\n",
       "      <td>0.2626</td>\n",
       "      <td>1.0801</td>\n",
       "      <td>-0.4675</td>\n",
       "      <td>-0.5017</td>\n",
       "      <td>0.0023</td>\n",
       "      <td>0.8158</td>\n",
       "      <td>-0.3659</td>\n",
       "      <td>...</td>\n",
       "      <td>-3.3189</td>\n",
       "      <td>1.5967</td>\n",
       "      <td>0.2884</td>\n",
       "      <td>0.5263</td>\n",
       "      <td>-2.2513</td>\n",
       "      <td>0.5282</td>\n",
       "      <td>-0.8271</td>\n",
       "      <td>0.1289</td>\n",
       "      <td>0.0298</td>\n",
       "      <td>-2.3755</td>\n",
       "    </tr>\n",
       "    <tr>\n",
       "      <th>ACSL5</th>\n",
       "      <td>-1.7575</td>\n",
       "      <td>1.8763</td>\n",
       "      <td>0.4186</td>\n",
       "      <td>-0.6434</td>\n",
       "      <td>-1.6541</td>\n",
       "      <td>0.6010</td>\n",
       "      <td>-1.2259</td>\n",
       "      <td>-0.2609</td>\n",
       "      <td>-0.2736</td>\n",
       "      <td>-1.0435</td>\n",
       "      <td>...</td>\n",
       "      <td>-0.7938</td>\n",
       "      <td>-1.7527</td>\n",
       "      <td>0.4196</td>\n",
       "      <td>0.1066</td>\n",
       "      <td>1.5573</td>\n",
       "      <td>-0.6454</td>\n",
       "      <td>-0.4836</td>\n",
       "      <td>0.4541</td>\n",
       "      <td>1.7642</td>\n",
       "      <td>0.6131</td>\n",
       "    </tr>\n",
       "    <tr>\n",
       "      <th>...</th>\n",
       "      <td>...</td>\n",
       "      <td>...</td>\n",
       "      <td>...</td>\n",
       "      <td>...</td>\n",
       "      <td>...</td>\n",
       "      <td>...</td>\n",
       "      <td>...</td>\n",
       "      <td>...</td>\n",
       "      <td>...</td>\n",
       "      <td>...</td>\n",
       "      <td>...</td>\n",
       "      <td>...</td>\n",
       "      <td>...</td>\n",
       "      <td>...</td>\n",
       "      <td>...</td>\n",
       "      <td>...</td>\n",
       "      <td>...</td>\n",
       "      <td>...</td>\n",
       "      <td>...</td>\n",
       "      <td>...</td>\n",
       "      <td>...</td>\n",
       "    </tr>\n",
       "    <tr>\n",
       "      <th>ZNF366</th>\n",
       "      <td>-2.5676</td>\n",
       "      <td>0.1131</td>\n",
       "      <td>-0.3490</td>\n",
       "      <td>0.0017</td>\n",
       "      <td>-0.7287</td>\n",
       "      <td>0.8746</td>\n",
       "      <td>-1.0876</td>\n",
       "      <td>0.0858</td>\n",
       "      <td>-0.1353</td>\n",
       "      <td>0.4076</td>\n",
       "      <td>...</td>\n",
       "      <td>-0.0465</td>\n",
       "      <td>-2.2491</td>\n",
       "      <td>0.0405</td>\n",
       "      <td>0.9032</td>\n",
       "      <td>0.1061</td>\n",
       "      <td>-0.0949</td>\n",
       "      <td>-1.3438</td>\n",
       "      <td>0.2379</td>\n",
       "      <td>-0.1222</td>\n",
       "      <td>0.4353</td>\n",
       "    </tr>\n",
       "    <tr>\n",
       "      <th>ZNF789</th>\n",
       "      <td>0.4864</td>\n",
       "      <td>-0.2682</td>\n",
       "      <td>-0.2500</td>\n",
       "      <td>-0.2071</td>\n",
       "      <td>-0.3179</td>\n",
       "      <td>-1.5413</td>\n",
       "      <td>-0.4738</td>\n",
       "      <td>-1.0343</td>\n",
       "      <td>-0.7212</td>\n",
       "      <td>-1.2202</td>\n",
       "      <td>...</td>\n",
       "      <td>-0.1217</td>\n",
       "      <td>1.2698</td>\n",
       "      <td>1.5746</td>\n",
       "      <td>0.2134</td>\n",
       "      <td>-0.3399</td>\n",
       "      <td>1.0434</td>\n",
       "      <td>-0.0303</td>\n",
       "      <td>1.9519</td>\n",
       "      <td>0.5865</td>\n",
       "      <td>-2.2333</td>\n",
       "    </tr>\n",
       "  </tbody>\n",
       "</table>\n",
       "<p>288 rows × 472 columns</p>\n",
       "</div>"
      ],
      "text/plain": [
       "             TCGA-3N-A9WB-06  TCGA-3N-A9WC-06  TCGA-3N-A9WD-06  \\\n",
       "Hugo_Symbol                                                      \n",
       "AADAT                 0.9406           0.7642          -0.8577   \n",
       "ACSL5                -1.7575           1.8763           0.4186   \n",
       "...                      ...              ...              ...   \n",
       "ZNF366               -2.5676           0.1131          -0.3490   \n",
       "ZNF789                0.4864          -0.2682          -0.2500   \n",
       "\n",
       "             TCGA-BF-A1PU-01  TCGA-BF-A1PV-01  TCGA-BF-A1PX-01  \\\n",
       "Hugo_Symbol                                                      \n",
       "AADAT                 0.2626           1.0801          -0.4675   \n",
       "ACSL5                -0.6434          -1.6541           0.6010   \n",
       "...                      ...              ...              ...   \n",
       "ZNF366                0.0017          -0.7287           0.8746   \n",
       "ZNF789               -0.2071          -0.3179          -1.5413   \n",
       "\n",
       "             TCGA-BF-A1PZ-01  TCGA-BF-A1Q0-01  TCGA-BF-A3DJ-01  \\\n",
       "Hugo_Symbol                                                      \n",
       "AADAT                -0.5017           0.0023           0.8158   \n",
       "ACSL5                -1.2259          -0.2609          -0.2736   \n",
       "...                      ...              ...              ...   \n",
       "ZNF366               -1.0876           0.0858          -0.1353   \n",
       "ZNF789               -0.4738          -1.0343          -0.7212   \n",
       "\n",
       "             TCGA-BF-A3DL-01  ...  TCGA-XV-AB01-06  TCGA-YD-A89C-06  \\\n",
       "Hugo_Symbol                   ...                                     \n",
       "AADAT                -0.3659  ...          -3.3189           1.5967   \n",
       "ACSL5                -1.0435  ...          -0.7938          -1.7527   \n",
       "...                      ...  ...              ...              ...   \n",
       "ZNF366                0.4076  ...          -0.0465          -2.2491   \n",
       "ZNF789               -1.2202  ...          -0.1217           1.2698   \n",
       "\n",
       "             TCGA-YD-A9TA-06  TCGA-YD-A9TB-06  TCGA-YG-AA3N-01  \\\n",
       "Hugo_Symbol                                                      \n",
       "AADAT                 0.2884           0.5263          -2.2513   \n",
       "ACSL5                 0.4196           0.1066           1.5573   \n",
       "...                      ...              ...              ...   \n",
       "ZNF366                0.0405           0.9032           0.1061   \n",
       "ZNF789                1.5746           0.2134          -0.3399   \n",
       "\n",
       "             TCGA-YG-AA3O-06  TCGA-YG-AA3P-06  TCGA-Z2-A8RT-06  \\\n",
       "Hugo_Symbol                                                      \n",
       "AADAT                 0.5282          -0.8271           0.1289   \n",
       "ACSL5                -0.6454          -0.4836           0.4541   \n",
       "...                      ...              ...              ...   \n",
       "ZNF366               -0.0949          -1.3438           0.2379   \n",
       "ZNF789                1.0434          -0.0303           1.9519   \n",
       "\n",
       "             TCGA-Z2-AA3S-06  TCGA-Z2-AA3V-06  \n",
       "Hugo_Symbol                                    \n",
       "AADAT                 0.0298          -2.3755  \n",
       "ACSL5                 1.7642           0.6131  \n",
       "...                      ...              ...  \n",
       "ZNF366               -0.1222           0.4353  \n",
       "ZNF789                0.5865          -2.2333  \n",
       "\n",
       "[288 rows x 472 columns]"
      ]
     },
     "execution_count": 57,
     "metadata": {},
     "output_type": "execute_result"
    }
   ],
   "source": [
    "# select expression data by genes from genes_centroids\n",
    "df = mrna_zcores[mrna_zcores['Hugo_Symbol'].isin(genes_centroids['SYMBOL'])].drop(['Entrez_Gene_Id', 'MAD'], \\\n",
    "                                                                                  axis=1).set_index('Hugo_Symbol').sort_index()\n",
    "df"
   ]
  },
  {
   "cell_type": "markdown",
   "metadata": {},
   "source": [
    "We have data only by 288 genes, so we will work with this"
   ]
  },
  {
   "cell_type": "code",
   "execution_count": 58,
   "metadata": {},
   "outputs": [
    {
     "data": {
      "text/html": [
       "<div>\n",
       "<style scoped>\n",
       "    .dataframe tbody tr th:only-of-type {\n",
       "        vertical-align: middle;\n",
       "    }\n",
       "\n",
       "    .dataframe tbody tr th {\n",
       "        vertical-align: top;\n",
       "    }\n",
       "\n",
       "    .dataframe thead th {\n",
       "        text-align: right;\n",
       "    }\n",
       "</style>\n",
       "<table border=\"1\" class=\"dataframe\">\n",
       "  <thead>\n",
       "    <tr style=\"text-align: right;\">\n",
       "      <th></th>\n",
       "      <th>Normal-like</th>\n",
       "      <th>Proliferative</th>\n",
       "      <th>Pigmentation</th>\n",
       "      <th>High-immune responce</th>\n",
       "    </tr>\n",
       "    <tr>\n",
       "      <th>SYMBOL</th>\n",
       "      <th></th>\n",
       "      <th></th>\n",
       "      <th></th>\n",
       "      <th></th>\n",
       "    </tr>\n",
       "  </thead>\n",
       "  <tbody>\n",
       "    <tr>\n",
       "      <th>AADAT</th>\n",
       "      <td>-0.508825</td>\n",
       "      <td>1.341210</td>\n",
       "      <td>-0.282566</td>\n",
       "      <td>-0.387165</td>\n",
       "    </tr>\n",
       "    <tr>\n",
       "      <th>ACSL5</th>\n",
       "      <td>-0.023600</td>\n",
       "      <td>-1.426732</td>\n",
       "      <td>-0.174250</td>\n",
       "      <td>1.409539</td>\n",
       "    </tr>\n",
       "    <tr>\n",
       "      <th>...</th>\n",
       "      <td>...</td>\n",
       "      <td>...</td>\n",
       "      <td>...</td>\n",
       "      <td>...</td>\n",
       "    </tr>\n",
       "    <tr>\n",
       "      <th>ZNF366</th>\n",
       "      <td>-0.051903</td>\n",
       "      <td>-0.689680</td>\n",
       "      <td>-0.381466</td>\n",
       "      <td>1.138909</td>\n",
       "    </tr>\n",
       "    <tr>\n",
       "      <th>ZNF789</th>\n",
       "      <td>-0.211305</td>\n",
       "      <td>-0.302034</td>\n",
       "      <td>0.598127</td>\n",
       "      <td>-0.522931</td>\n",
       "    </tr>\n",
       "  </tbody>\n",
       "</table>\n",
       "<p>288 rows × 4 columns</p>\n",
       "</div>"
      ],
      "text/plain": [
       "        Normal-like  Proliferative  Pigmentation  High-immune responce\n",
       "SYMBOL                                                                \n",
       "AADAT     -0.508825       1.341210     -0.282566             -0.387165\n",
       "ACSL5     -0.023600      -1.426732     -0.174250              1.409539\n",
       "...             ...            ...           ...                   ...\n",
       "ZNF366    -0.051903      -0.689680     -0.381466              1.138909\n",
       "ZNF789    -0.211305      -0.302034      0.598127             -0.522931\n",
       "\n",
       "[288 rows x 4 columns]"
      ]
     },
     "execution_count": 58,
     "metadata": {},
     "output_type": "execute_result"
    }
   ],
   "source": [
    "# prepare DF with centroids coordinates, with no additional information\n",
    "centroids = genes_centroids.drop_duplicates('SYMBOL').drop(['ProbeID', 'Probe'], axis=1)\n",
    "centroids = centroids.loc[centroids['SYMBOL'].isin(df.index)].set_index('SYMBOL').sort_index()\n",
    "centroids"
   ]
  },
  {
   "cell_type": "markdown",
   "metadata": {},
   "source": [
    "##### **2. Calculate Pearson corralation for pairs \"sample - centroid\"**"
   ]
  },
  {
   "cell_type": "code",
   "execution_count": 59,
   "metadata": {},
   "outputs": [],
   "source": [
    "def pearson_corr(col):\n",
    "    corr = {}\n",
    "    pvalues = {}\n",
    "    for subtype in centroids.columns:\n",
    "        if subtype not in corr.keys():\n",
    "            corr[subtype] = pearsonr(centroids[subtype], col)[0]\n",
    "            pvalues[subtype] = pearsonr(centroids[subtype], col)[1]\n",
    "        else:\n",
    "            corr[subtype].append(pearsonr(centroids[subtype], col)[0])\n",
    "            pvalues[subtype].append(pearsonr(centroids[subtype], col)[1])\n",
    "    return pd.DataFrame.from_dict(corr, orient='index'), pd.DataFrame.from_dict(pvalues, orient='index')\n",
    "    \n",
    "# get DF with corr coefficients and p-values\n",
    "df_corr, df_pvalues = pd.DataFrame(), pd.DataFrame()\n",
    "for col in df.columns:\n",
    "    corr, pvalues = pearson_corr(df[col])\n",
    "    df_corr = pd.concat([df_corr, corr], axis=1)\n",
    "    df_pvalues = pd.concat([df_pvalues, pvalues], axis=1)\n",
    "\n",
    "df_corr.columns = df.columns\n",
    "df_pvalues.columns = df.columns\n",
    "\n",
    "# if p-value < 0.05, set corr = 0\n",
    "for i in range(df_pvalues.shape[0]):\n",
    "    for j in range(df_pvalues.shape[1]):\n",
    "        if df_pvalues.iloc[i, j] < 0.05:\n",
    "            df_corr.iloc[i, j] = 0"
   ]
  },
  {
   "cell_type": "markdown",
   "metadata": {},
   "source": [
    "In the [article](https://aacrjournals.org/clincancerres/article/16/13/3356/11021/XSLT_Related_Article_Replace_Href) they used correlation coefficient threshold > 0.1. Our correlations are too weak, and we select samples with correlation coefficient threshold > 0:"
   ]
  },
  {
   "cell_type": "code",
   "execution_count": 60,
   "metadata": {},
   "outputs": [],
   "source": [
    "df_corr = df_corr.T\n",
    "df_corr['max_corr'] = df_corr.apply(max, axis=1)\n",
    "df_corr = df_corr.loc[df_corr.max_corr > 0]"
   ]
  },
  {
   "cell_type": "markdown",
   "metadata": {},
   "source": [
    "Correlate the correlation coefficients with the subtypes:"
   ]
  },
  {
   "cell_type": "code",
   "execution_count": 61,
   "metadata": {},
   "outputs": [
    {
     "data": {
      "text/html": [
       "<div>\n",
       "<style scoped>\n",
       "    .dataframe tbody tr th:only-of-type {\n",
       "        vertical-align: middle;\n",
       "    }\n",
       "\n",
       "    .dataframe tbody tr th {\n",
       "        vertical-align: top;\n",
       "    }\n",
       "\n",
       "    .dataframe thead th {\n",
       "        text-align: right;\n",
       "    }\n",
       "</style>\n",
       "<table border=\"1\" class=\"dataframe\">\n",
       "  <thead>\n",
       "    <tr style=\"text-align: right;\">\n",
       "      <th></th>\n",
       "      <th>Normal-like</th>\n",
       "      <th>Proliferative</th>\n",
       "      <th>Pigmentation</th>\n",
       "      <th>High-immune responce</th>\n",
       "      <th>max_corr</th>\n",
       "      <th>subtype</th>\n",
       "    </tr>\n",
       "  </thead>\n",
       "  <tbody>\n",
       "    <tr>\n",
       "      <th>TCGA-BF-A1PU-01</th>\n",
       "      <td>0.105626</td>\n",
       "      <td>0.060759</td>\n",
       "      <td>0.000000</td>\n",
       "      <td>0.0</td>\n",
       "      <td>0.105626</td>\n",
       "      <td>Normal-like</td>\n",
       "    </tr>\n",
       "    <tr>\n",
       "      <th>TCGA-BF-A1PV-01</th>\n",
       "      <td>0.037297</td>\n",
       "      <td>0.000000</td>\n",
       "      <td>0.000000</td>\n",
       "      <td>0.0</td>\n",
       "      <td>0.037297</td>\n",
       "      <td>Normal-like</td>\n",
       "    </tr>\n",
       "    <tr>\n",
       "      <th>...</th>\n",
       "      <td>...</td>\n",
       "      <td>...</td>\n",
       "      <td>...</td>\n",
       "      <td>...</td>\n",
       "      <td>...</td>\n",
       "      <td>...</td>\n",
       "    </tr>\n",
       "    <tr>\n",
       "      <th>TCGA-YG-AA3N-01</th>\n",
       "      <td>0.000000</td>\n",
       "      <td>0.000000</td>\n",
       "      <td>0.040824</td>\n",
       "      <td>0.0</td>\n",
       "      <td>0.040824</td>\n",
       "      <td>Pigmentation</td>\n",
       "    </tr>\n",
       "    <tr>\n",
       "      <th>TCGA-Z2-AA3V-06</th>\n",
       "      <td>0.019345</td>\n",
       "      <td>0.000000</td>\n",
       "      <td>-0.061693</td>\n",
       "      <td>0.0</td>\n",
       "      <td>0.019345</td>\n",
       "      <td>Normal-like</td>\n",
       "    </tr>\n",
       "  </tbody>\n",
       "</table>\n",
       "<p>217 rows × 6 columns</p>\n",
       "</div>"
      ],
      "text/plain": [
       "                 Normal-like  Proliferative  Pigmentation  \\\n",
       "TCGA-BF-A1PU-01     0.105626       0.060759      0.000000   \n",
       "TCGA-BF-A1PV-01     0.037297       0.000000      0.000000   \n",
       "...                      ...            ...           ...   \n",
       "TCGA-YG-AA3N-01     0.000000       0.000000      0.040824   \n",
       "TCGA-Z2-AA3V-06     0.019345       0.000000     -0.061693   \n",
       "\n",
       "                 High-immune responce  max_corr       subtype  \n",
       "TCGA-BF-A1PU-01                   0.0  0.105626   Normal-like  \n",
       "TCGA-BF-A1PV-01                   0.0  0.037297   Normal-like  \n",
       "...                               ...       ...           ...  \n",
       "TCGA-YG-AA3N-01                   0.0  0.040824  Pigmentation  \n",
       "TCGA-Z2-AA3V-06                   0.0  0.019345   Normal-like  \n",
       "\n",
       "[217 rows x 6 columns]"
      ]
     },
     "execution_count": 61,
     "metadata": {},
     "output_type": "execute_result"
    }
   ],
   "source": [
    "def subtypes(row):\n",
    "    d = row.to_dict()\n",
    "    for key in d:\n",
    "        if d[key] == max(d.values()):\n",
    "            return key\n",
    "\n",
    "df_corr['subtype'] = df_corr.drop('max_corr', axis=1).apply(subtypes, axis=1)\n",
    "df_corr"
   ]
  },
  {
   "cell_type": "code",
   "execution_count": 62,
   "metadata": {},
   "outputs": [
    {
     "data": {
      "image/png": "[encoded data removed]",
      "text/plain": [
       "<Figure size 800x300 with 1 Axes>"
      ]
     },
     "metadata": {},
     "output_type": "display_data"
    }
   ],
   "source": [
    "plot_KM(df_corr, 'subtype', size=(8, 3))"
   ]
  },
  {
   "cell_type": "code",
   "execution_count": 63,
   "metadata": {},
   "outputs": [
    {
     "data": {
      "text/plain": [
       "subtype\n",
       "Proliferative           79\n",
       "Normal-like             53\n",
       "Pigmentation            47\n",
       "High-immune responce    38\n",
       "Name: count, dtype: int64"
      ]
     },
     "execution_count": 63,
     "metadata": {},
     "output_type": "execute_result"
    }
   ],
   "source": [
    "df_corr['subtype'].value_counts()"
   ]
  },
  {
   "cell_type": "markdown",
   "metadata": {},
   "source": [
    "We split 217 samplesout of 472 into four groups.   \n",
    "Save the results:"
   ]
  },
  {
   "cell_type": "code",
   "execution_count": 64,
   "metadata": {},
   "outputs": [],
   "source": [
    "df_corr[['subtype']].to_csv('task2_correlation_217_samples.csv')"
   ]
  },
  {
   "cell_type": "markdown",
   "metadata": {},
   "source": [
    "##### **3. Calculate distances from each sample to each centroid**\n",
    "Now we try another way to split samples into four group. Let's calculate distances from each sample to each centroid, and for each sample choose the nearest centroid. As we are not sure, that expression data and centrois coordinates are in the same scale, we will use ```correlation``` distance metric:"
   ]
  },
  {
   "cell_type": "code",
   "execution_count": 65,
   "metadata": {},
   "outputs": [
    {
     "data": {
      "text/html": [
       "<div>\n",
       "<style scoped>\n",
       "    .dataframe tbody tr th:only-of-type {\n",
       "        vertical-align: middle;\n",
       "    }\n",
       "\n",
       "    .dataframe tbody tr th {\n",
       "        vertical-align: top;\n",
       "    }\n",
       "\n",
       "    .dataframe thead th {\n",
       "        text-align: right;\n",
       "    }\n",
       "</style>\n",
       "<table border=\"1\" class=\"dataframe\">\n",
       "  <thead>\n",
       "    <tr style=\"text-align: right;\">\n",
       "      <th></th>\n",
       "      <th>Normal-like</th>\n",
       "      <th>Proliferative</th>\n",
       "      <th>Pigmentation</th>\n",
       "      <th>High-immune responce</th>\n",
       "      <th>subtype</th>\n",
       "    </tr>\n",
       "  </thead>\n",
       "  <tbody>\n",
       "    <tr>\n",
       "      <th>TCGA-3N-A9WB-06</th>\n",
       "      <td>0.817230</td>\n",
       "      <td>0.841250</td>\n",
       "      <td>0.705656</td>\n",
       "      <td>1.666772</td>\n",
       "      <td>Pigmentation</td>\n",
       "    </tr>\n",
       "    <tr>\n",
       "      <th>TCGA-3N-A9WC-06</th>\n",
       "      <td>1.221977</td>\n",
       "      <td>1.251290</td>\n",
       "      <td>0.842360</td>\n",
       "      <td>0.736645</td>\n",
       "      <td>High-immune responce</td>\n",
       "    </tr>\n",
       "    <tr>\n",
       "      <th>...</th>\n",
       "      <td>...</td>\n",
       "      <td>...</td>\n",
       "      <td>...</td>\n",
       "      <td>...</td>\n",
       "      <td>...</td>\n",
       "    </tr>\n",
       "    <tr>\n",
       "      <th>TCGA-Z2-AA3S-06</th>\n",
       "      <td>1.334874</td>\n",
       "      <td>1.135139</td>\n",
       "      <td>0.595725</td>\n",
       "      <td>1.047548</td>\n",
       "      <td>Pigmentation</td>\n",
       "    </tr>\n",
       "    <tr>\n",
       "      <th>TCGA-Z2-AA3V-06</th>\n",
       "      <td>0.980655</td>\n",
       "      <td>1.232235</td>\n",
       "      <td>1.061693</td>\n",
       "      <td>0.748800</td>\n",
       "      <td>High-immune responce</td>\n",
       "    </tr>\n",
       "  </tbody>\n",
       "</table>\n",
       "<p>472 rows × 5 columns</p>\n",
       "</div>"
      ],
      "text/plain": [
       "                 Normal-like  Proliferative  Pigmentation  \\\n",
       "TCGA-3N-A9WB-06     0.817230       0.841250      0.705656   \n",
       "TCGA-3N-A9WC-06     1.221977       1.251290      0.842360   \n",
       "...                      ...            ...           ...   \n",
       "TCGA-Z2-AA3S-06     1.334874       1.135139      0.595725   \n",
       "TCGA-Z2-AA3V-06     0.980655       1.232235      1.061693   \n",
       "\n",
       "                 High-immune responce               subtype  \n",
       "TCGA-3N-A9WB-06              1.666772          Pigmentation  \n",
       "TCGA-3N-A9WC-06              0.736645  High-immune responce  \n",
       "...                               ...                   ...  \n",
       "TCGA-Z2-AA3S-06              1.047548          Pigmentation  \n",
       "TCGA-Z2-AA3V-06              0.748800  High-immune responce  \n",
       "\n",
       "[472 rows x 5 columns]"
      ]
     },
     "execution_count": 65,
     "metadata": {},
     "output_type": "execute_result"
    }
   ],
   "source": [
    "# calculate distances\n",
    "distances = pd.DataFrame.from_dict(distance.cdist(df.T, centroids.T, 'correlation'))\n",
    "distances.columns = centroids.columns\n",
    "distances.index = df.columns\n",
    "\n",
    "# select the nearest centroid\n",
    "def subtypes(row):\n",
    "    d = row.to_dict()\n",
    "    for key in d:\n",
    "        if d[key] == min(d.values()):\n",
    "            return key\n",
    "\n",
    "distances['subtype'] = distances.apply(subtypes, axis=1)\n",
    "distances"
   ]
  },
  {
   "cell_type": "code",
   "execution_count": 66,
   "metadata": {},
   "outputs": [
    {
     "data": {
      "text/plain": [
       "subtype\n",
       "Pigmentation            196\n",
       "High-immune responce    138\n",
       "Proliferative            74\n",
       "Normal-like              64\n",
       "Name: count, dtype: int64"
      ]
     },
     "execution_count": 66,
     "metadata": {},
     "output_type": "execute_result"
    }
   ],
   "source": [
    "distances['subtype'].value_counts()"
   ]
  },
  {
   "cell_type": "markdown",
   "metadata": {},
   "source": [
    "##### **4. Kaplan-Meier curves**"
   ]
  },
  {
   "cell_type": "code",
   "execution_count": 67,
   "metadata": {},
   "outputs": [
    {
     "data": {
      "image/png": "[encoded data removed]",
      "text/plain": [
       "<Figure size 800x300 with 1 Axes>"
      ]
     },
     "metadata": {},
     "output_type": "display_data"
    }
   ],
   "source": [
    "plot_KM(distances, 'subtype', size=(8, 3))"
   ]
  },
  {
   "cell_type": "markdown",
   "metadata": {},
   "source": [
    "If we compare ROC curves from point 2 and 3 with curves from [article](https://aacrjournals.org/clincancerres/article/16/13/3356/11021/XSLT_Related_Article_Replace_Href), we see, that our classification do not reproduce influence of class on patient survival.   \n",
    "It's not a surprise: this classification is far from ideal, and I would definitely not recommend using it for any prognosis"
   ]
  },
  {
   "cell_type": "markdown",
   "metadata": {},
   "source": [
    "Save the reasults:"
   ]
  },
  {
   "cell_type": "code",
   "execution_count": 68,
   "metadata": {},
   "outputs": [],
   "source": [
    "distances[['subtype']].to_csv('task2_distances_472_samples.csv')"
   ]
  },
  {
   "cell_type": "markdown",
   "metadata": {},
   "source": [
    "##### **5. Combine all clusterization and classification results for 472 samples**"
   ]
  },
  {
   "cell_type": "code",
   "execution_count": 69,
   "metadata": {},
   "outputs": [
    {
     "data": {
      "text/html": [
       "<div>\n",
       "<style scoped>\n",
       "    .dataframe tbody tr th:only-of-type {\n",
       "        vertical-align: middle;\n",
       "    }\n",
       "\n",
       "    .dataframe tbody tr th {\n",
       "        vertical-align: top;\n",
       "    }\n",
       "\n",
       "    .dataframe thead th {\n",
       "        text-align: right;\n",
       "    }\n",
       "</style>\n",
       "<table border=\"1\" class=\"dataframe\">\n",
       "  <thead>\n",
       "    <tr style=\"text-align: right;\">\n",
       "      <th></th>\n",
       "      <th>reference</th>\n",
       "      <th>AgglomerativeClustering</th>\n",
       "      <th>LogisticRegression</th>\n",
       "      <th>RandomForest</th>\n",
       "      <th>correlation_subtype</th>\n",
       "      <th>distances_subtype</th>\n",
       "    </tr>\n",
       "  </thead>\n",
       "  <tbody>\n",
       "    <tr>\n",
       "      <th>TCGA-BF-A1PU-01</th>\n",
       "      <td>keratin</td>\n",
       "      <td>keratin</td>\n",
       "      <td>keratin</td>\n",
       "      <td>keratin</td>\n",
       "      <td>Normal-like</td>\n",
       "      <td>Pigmentation</td>\n",
       "    </tr>\n",
       "    <tr>\n",
       "      <th>TCGA-BF-A1PV-01</th>\n",
       "      <td>keratin</td>\n",
       "      <td>keratin</td>\n",
       "      <td>keratin</td>\n",
       "      <td>keratin</td>\n",
       "      <td>Normal-like</td>\n",
       "      <td>Pigmentation</td>\n",
       "    </tr>\n",
       "    <tr>\n",
       "      <th>...</th>\n",
       "      <td>...</td>\n",
       "      <td>...</td>\n",
       "      <td>...</td>\n",
       "      <td>...</td>\n",
       "      <td>...</td>\n",
       "      <td>...</td>\n",
       "    </tr>\n",
       "    <tr>\n",
       "      <th>TCGA-Z2-AA3S-06</th>\n",
       "      <td>NaN</td>\n",
       "      <td>keratin</td>\n",
       "      <td>keratin</td>\n",
       "      <td>keratin</td>\n",
       "      <td>NaN</td>\n",
       "      <td>Pigmentation</td>\n",
       "    </tr>\n",
       "    <tr>\n",
       "      <th>TCGA-Z2-AA3V-06</th>\n",
       "      <td>NaN</td>\n",
       "      <td>keratin</td>\n",
       "      <td>immune</td>\n",
       "      <td>immune</td>\n",
       "      <td>Normal-like</td>\n",
       "      <td>High-immune responce</td>\n",
       "    </tr>\n",
       "  </tbody>\n",
       "</table>\n",
       "<p>472 rows × 6 columns</p>\n",
       "</div>"
      ],
      "text/plain": [
       "                reference AgglomerativeClustering LogisticRegression  \\\n",
       "TCGA-BF-A1PU-01   keratin                 keratin            keratin   \n",
       "TCGA-BF-A1PV-01   keratin                 keratin            keratin   \n",
       "...                   ...                     ...                ...   \n",
       "TCGA-Z2-AA3S-06       NaN                 keratin            keratin   \n",
       "TCGA-Z2-AA3V-06       NaN                 keratin             immune   \n",
       "\n",
       "                RandomForest correlation_subtype     distances_subtype  \n",
       "TCGA-BF-A1PU-01      keratin         Normal-like          Pigmentation  \n",
       "TCGA-BF-A1PV-01      keratin         Normal-like          Pigmentation  \n",
       "...                      ...                 ...                   ...  \n",
       "TCGA-Z2-AA3S-06      keratin                 NaN          Pigmentation  \n",
       "TCGA-Z2-AA3V-06       immune         Normal-like  High-immune responce  \n",
       "\n",
       "[472 rows x 6 columns]"
      ]
     },
     "execution_count": 69,
     "metadata": {},
     "output_type": "execute_result"
    }
   ],
   "source": [
    "all_classifications_472 = pd.concat([cluster_top_1500_all[['clusters_original', 'clusters_predicted']], \\\n",
    "           predicted_lr_472[['predicted_lr']], predicted_clf_472[['predicted_clf']], \\\n",
    "            df_corr[['subtype']], distances[['subtype']]], axis=1)\n",
    "\n",
    "all_classifications_472.columns = ['reference', 'AgglomerativeClustering', 'LogisticRegression', \\\n",
    "                                   'RandomForest', 'correlation_subtype', 'distances_subtype']\n",
    "\n",
    "all_classifications_472"
   ]
  },
  {
   "cell_type": "code",
   "execution_count": 70,
   "metadata": {},
   "outputs": [],
   "source": [
    "all_classifications_472.to_csv('all_classifications_472_samples.csv')"
   ]
  },
  {
   "cell_type": "markdown",
   "metadata": {},
   "source": [
    "***********************"
   ]
  },
  {
   "cell_type": "markdown",
   "metadata": {},
   "source": [
    "# Task 3   \n",
    "\n",
    "##### **1. To compare two types of classifications**,    \n",
    "let's look again at classes description:    \n",
    "   \n",
    "***immune cluster***: genes overexpressed in this subclass were associated with immune cell subsets (T cells, B cells, and NK cells), immune signaling molecules, co-stimulatory and co-inhibitory immune checkpoint proteins, cytokines, chemokines, and corresponding receptors  \n",
    "***keratin cluster***: characterized by high expression of genes associated with keratins, pigmentation, and epithelium, as well as genes associated with neuronal development or other organ-specific embryologic development    \n",
    "***MITF-low cluster***: characterized by low expression of genes associated with pigmentation and epithelial expression, including several MITF target genes and genes involved in immunomodulation, adhesion, migration, and extra-cellular matrix. This cluster was significantly enriched with genes preferentially expressed within the nervous system and/or associated with neuronal development or other organ-specific embryologic development.    \n",
    "    \n",
    "***high-immune response subtype***: high expression of genes such as LCK, IFNGR1, HLA class I II antigen, CXCL12, and IL1R1, all involved in different immunologic processes (but also present also in the pigmentation and normal-like subtypes)   \n",
    "***proliferative subtype***: displayed low expression of the same set of immune response genes as well as an elevated expression of cell cycle–associated genes such as E2F1, BUB1, and CCNA2, suggesting highly proliferative tumors   \n",
    "***pigmentation subtype***: displayed a higher expression of genes (e.g., MITF, TYR, SILV, DCT, and EDNRB) involved in melanin synthesis and melanocyte differentiation as compared with the other subtypes   \n",
    "***normal-like subtype*** expressed genes involved in epidermis and ectoderm development, such as KRT10 and KRT17, and also displayed high expression of KIT, FGFR3, and EGFR     \n",
    "\n",
    "Judging by these descriptions, ***immune cluster*** and ***high-immune response subtype*** are practically the same genes with high expression. Both study show that \"immune\" group is statistically correlated with more favorable prognosis. ***Pigmentation subtype*** reminds ***keratin cluster***, but the last one includes genes associated with neuronal and other organ-specific embryologic development. Patients with keratin cluster exhibited worse outcome when compared with stage-matched samples assigned to the immune or MITF-low cluster, supporting the view that the keratin cluster represents, at least in part, a previously unappreciated but biologically distinct melanoma subtype with adverse prognosis. At the same time, the results of the second study regarding this pigmentation subtype are contradictory: this subgroup of patients had a good prognosis in one data set but a poor outcome in another (in test data set the proliferative group having worst prognosis). May be this set of genes are not enough for analyzing and predicting the condition of patients.   \n",
    "Authors of the second article admit, that tumors with increased expression of immune response–related genes were present also in the pigmentation and normal-like subtypes (not only in high-immune response subtype).   \n",
    "   \n",
    "The cohort size in the first study is several times larger than in the second: 329 samles VS 57. But on the other hand, the authors of the second study used independent datasets for validation (although the results are not always reproducible).   \n",
    "\n",
    "**Considering the above, I believe that the first classification more accurately selects significant genes; this classification better reflects the biology of tumors and divides patients into risk groups.**     \n",
    "\n",
    "   \n",
    "##### **2. What about this analysis?**    \n",
    "I can say that the authors' results were reproduced very partially. Among the main reasons I will name:    \n",
    "1. (the most important) Lack of experience. I'll work on it   \n",
    "2. sometimes incomplete description of procedures in articles   \n",
    "3. perhaps it would be worth repeating the procedures from the very beginning - from raw sequencing data   \n",
    "\n",
    "Below I have provided notes and some thoughts on “how it should have been done”"
   ]
  },
  {
   "cell_type": "markdown",
   "metadata": {},
   "source": [
    "***********************************"
   ]
  },
  {
   "cell_type": "markdown",
   "metadata": {},
   "source": [
    "# Notes \n",
    "##### **What should be improve**  \n",
    "1. We did not take into outliers analysis, and they necessarily influence the classification results    \n",
    "2. In task 1 we choose top 1500 the most variable genes usind MAD. I think, there is much precise way   \n",
    "3. We use Mann-Witney U test to compare three groups. It's not OK, obviously. The best way to use differential gene expression analysis, but this requires non-normalized data. It is possible to get them from raw alignment data (the link there is in Supplementary Materials)   \n",
    "Another way - ANOVA with multiple test adjustment.  \n",
    "4. To classify samples we use logistic regression and random forest algorithm, but with all genes in the dataset. Here we need to select significant genes, check for interactions between genes, in a word - make a normal feature selection. This also introduces bias into the results. Moreover, it is necessary to test another classification algorithms    \n",
    "5. Task 2 requires much more attention: the described in the reference article procedure is failed in our work (correlation between samples and centroids). Maybe I misunderstand this algorithms, or maybe it is just not sutable for data described in the first article. The work in these centroid coordinates remains questionable - in which school are they given? It would be good to take the independent data analyzed in this article and see if the results can be replicated with them.   "
   ]
  },
  {
   "cell_type": "markdown",
   "metadata": {},
   "source": [
    "******************************"
   ]
  }
 ],
 "metadata": {
  "kernelspec": {
   "display_name": "base",
   "language": "python",
   "name": "python3"
  },
  "language_info": {
   "codemirror_mode": {
    "name": "ipython",
    "version": 3
   },
   "file_extension": ".py",
   "mimetype": "text/x-python",
   "name": "python",
   "nbconvert_exporter": "python",
   "pygments_lexer": "ipython3",
   "version": "3.10.13"
  },
  "orig_nbformat": 4
 },
 "nbformat": 4,
 "nbformat_minor": 2
}
